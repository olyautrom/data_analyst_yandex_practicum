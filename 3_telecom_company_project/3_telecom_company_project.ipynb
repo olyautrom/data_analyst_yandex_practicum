{
 "cells": [
  {
   "cell_type": "markdown",
   "metadata": {},
   "source": [
    "# Определение перспективного тарифа для телеком-компании"
   ]
  },
  {
   "cell_type": "markdown",
   "metadata": {},
   "source": [
    "Предмет анализа - компания «Мегалайн», федеральный оператора сотовой связи. Клиентам предлагают два тарифных плана: «Смарт» и «Ультра». Чтобы скорректировать рекламный бюджет, коммерческий департамент хочет понять, какой тариф приносит больше денег.\n",
    "\n",
    "Имеются данные 500 пользователей «Мегалайна»: кто они, откуда, каким тарифом пользуются, сколько звонков и сообщений каждый отправил за 2018 год. Нужно проанализировать поведение клиентов и сделать вывод — какой тариф лучше.\n",
    "\n",
    "**Описание тарифов:**\n",
    "\n",
    "Тариф «Смарт»\n",
    "1.\tЕжемесячная плата: 550 рублей\n",
    "2.\tВключено 500 минут разговора, 50 сообщений и 15 Гб интернет-трафика\n",
    "3.\tСтоимость услуг сверх тарифного пакета: 1. минута разговора: 3 рубля («Мегалайн» всегда округляет вверх значения минут и мегабайтов. Если пользователь проговорил всего 1 секунду, в тарифе засчитывается целая минута); 2. сообщение: 3 рубля; 3. 1 Гб интернет-трафика: 200 рублей.\n",
    "\n",
    "Тариф «Ультра»\n",
    "1.\tЕжемесячная плата: 1950 рублей\n",
    "2.\tВключено 3000 минут разговора, 1000 сообщений и 30 Гб интернет-трафика\n",
    "3.\tСтоимость услуг сверх тарифного пакета: 1. минута разговора: 1 рубль; 2. сообщение: 1 рубль; 3. 1 Гб интернет-трафика: 150 рублей.\n",
    "\n",
    "**Примечание:**\n",
    "\n",
    "«Мегалайн» всегда округляет секунды до минут, а мегабайты — до гигабайт. Каждый звонок округляется отдельно: даже если он длился всего 1 секунду, будет засчитан как 1 минута.\n",
    "Для веб-трафика отдельные сессии не считаются. Вместо этого общая сумма за месяц округляется в бо́льшую сторону. Если абонент использует 1025 мегабайт в этом месяце, с него возьмут плату за 2 гигабайта."
   ]
  },
  {
   "cell_type": "markdown",
   "metadata": {},
   "source": [
    "## Изучение данных из файла"
   ]
  },
  {
   "cell_type": "markdown",
   "metadata": {},
   "source": [
    "### Открытие файлов и просмотр информации"
   ]
  },
  {
   "cell_type": "markdown",
   "metadata": {},
   "source": [
    "Импортируем нужные для проекта библиотеки и откроем файлы с помощью `pd.read_csv()`.\n",
    "\n",
    "Выведем первые 5 строк кажой из таблиц и общую информацию методом `info()`."
   ]
  },
  {
   "cell_type": "code",
   "execution_count": 1,
   "metadata": {},
   "outputs": [],
   "source": [
    "import pandas as pd\n",
    "import numpy as np\n",
    "import math\n",
    "import matplotlib.pyplot as plt\n",
    "from scipy import stats as st\n",
    "import warnings\n",
    "\n",
    "warnings.filterwarnings('ignore')\n",
    "\n",
    "users = pd.read_csv('/datasets/users.csv')\n",
    "calls = pd.read_csv('/datasets/calls.csv')\n",
    "messages = pd.read_csv('/datasets/messages.csv')\n",
    "internet = pd.read_csv('/datasets/internet.csv', index_col=['Unnamed: 0'])\n",
    "tariffs = pd.read_csv('/datasets/tariffs.csv') "
   ]
  },
  {
   "cell_type": "markdown",
   "metadata": {},
   "source": [
    "Рассмотрим каждую таблицу, ведем первые 5 строк и общую инфрмацию методом `info()`."
   ]
  },
  {
   "cell_type": "code",
   "execution_count": 2,
   "metadata": {},
   "outputs": [
    {
     "data": {
      "text/html": [
       "<div>\n",
       "<style scoped>\n",
       "    .dataframe tbody tr th:only-of-type {\n",
       "        vertical-align: middle;\n",
       "    }\n",
       "\n",
       "    .dataframe tbody tr th {\n",
       "        vertical-align: top;\n",
       "    }\n",
       "\n",
       "    .dataframe thead th {\n",
       "        text-align: right;\n",
       "    }\n",
       "</style>\n",
       "<table border=\"1\" class=\"dataframe\">\n",
       "  <thead>\n",
       "    <tr style=\"text-align: right;\">\n",
       "      <th></th>\n",
       "      <th>user_id</th>\n",
       "      <th>age</th>\n",
       "      <th>churn_date</th>\n",
       "      <th>city</th>\n",
       "      <th>first_name</th>\n",
       "      <th>last_name</th>\n",
       "      <th>reg_date</th>\n",
       "      <th>tariff</th>\n",
       "    </tr>\n",
       "  </thead>\n",
       "  <tbody>\n",
       "    <tr>\n",
       "      <th>0</th>\n",
       "      <td>1000</td>\n",
       "      <td>52</td>\n",
       "      <td>NaN</td>\n",
       "      <td>Краснодар</td>\n",
       "      <td>Рафаил</td>\n",
       "      <td>Верещагин</td>\n",
       "      <td>2018-05-25</td>\n",
       "      <td>ultra</td>\n",
       "    </tr>\n",
       "    <tr>\n",
       "      <th>1</th>\n",
       "      <td>1001</td>\n",
       "      <td>41</td>\n",
       "      <td>NaN</td>\n",
       "      <td>Москва</td>\n",
       "      <td>Иван</td>\n",
       "      <td>Ежов</td>\n",
       "      <td>2018-11-01</td>\n",
       "      <td>smart</td>\n",
       "    </tr>\n",
       "    <tr>\n",
       "      <th>2</th>\n",
       "      <td>1002</td>\n",
       "      <td>59</td>\n",
       "      <td>NaN</td>\n",
       "      <td>Стерлитамак</td>\n",
       "      <td>Евгений</td>\n",
       "      <td>Абрамович</td>\n",
       "      <td>2018-06-17</td>\n",
       "      <td>smart</td>\n",
       "    </tr>\n",
       "    <tr>\n",
       "      <th>3</th>\n",
       "      <td>1003</td>\n",
       "      <td>23</td>\n",
       "      <td>NaN</td>\n",
       "      <td>Москва</td>\n",
       "      <td>Белла</td>\n",
       "      <td>Белякова</td>\n",
       "      <td>2018-08-17</td>\n",
       "      <td>ultra</td>\n",
       "    </tr>\n",
       "    <tr>\n",
       "      <th>4</th>\n",
       "      <td>1004</td>\n",
       "      <td>68</td>\n",
       "      <td>NaN</td>\n",
       "      <td>Новокузнецк</td>\n",
       "      <td>Татьяна</td>\n",
       "      <td>Авдеенко</td>\n",
       "      <td>2018-05-14</td>\n",
       "      <td>ultra</td>\n",
       "    </tr>\n",
       "  </tbody>\n",
       "</table>\n",
       "</div>"
      ],
      "text/plain": [
       "   user_id  age churn_date         city first_name  last_name    reg_date  \\\n",
       "0     1000   52        NaN    Краснодар     Рафаил  Верещагин  2018-05-25   \n",
       "1     1001   41        NaN       Москва       Иван       Ежов  2018-11-01   \n",
       "2     1002   59        NaN  Стерлитамак    Евгений  Абрамович  2018-06-17   \n",
       "3     1003   23        NaN       Москва      Белла   Белякова  2018-08-17   \n",
       "4     1004   68        NaN  Новокузнецк    Татьяна   Авдеенко  2018-05-14   \n",
       "\n",
       "  tariff  \n",
       "0  ultra  \n",
       "1  smart  \n",
       "2  smart  \n",
       "3  ultra  \n",
       "4  ultra  "
      ]
     },
     "metadata": {},
     "output_type": "display_data"
    },
    {
     "name": "stdout",
     "output_type": "stream",
     "text": [
      "<class 'pandas.core.frame.DataFrame'>\n",
      "RangeIndex: 500 entries, 0 to 499\n",
      "Data columns (total 8 columns):\n",
      " #   Column      Non-Null Count  Dtype \n",
      "---  ------      --------------  ----- \n",
      " 0   user_id     500 non-null    int64 \n",
      " 1   age         500 non-null    int64 \n",
      " 2   churn_date  38 non-null     object\n",
      " 3   city        500 non-null    object\n",
      " 4   first_name  500 non-null    object\n",
      " 5   last_name   500 non-null    object\n",
      " 6   reg_date    500 non-null    object\n",
      " 7   tariff      500 non-null    object\n",
      "dtypes: int64(2), object(6)\n",
      "memory usage: 31.4+ KB\n"
     ]
    }
   ],
   "source": [
    "# таблица users\n",
    "display(users.head())\n",
    "users.info()"
   ]
  },
  {
   "cell_type": "markdown",
   "metadata": {},
   "source": [
    "Таблица `users` (информация о пользователях):\n",
    "* `user_id` — уникальный идентификатор пользователя\n",
    "* `first_name` — имя пользователя\n",
    "* `last_name` — фамилия пользователя\n",
    "* `age` — возраст пользователя (годы)\n",
    "* `reg_date` — дата подключения тарифа (день, месяц, год)\n",
    "* `churn_date` — дата прекращения пользования тарифом (если значение пропущено, то тариф ещё действовал на момент выгрузки данных)\n",
    "* `city` — город проживания пользователя\n",
    "* `tariff` — название тарифного плана"
   ]
  },
  {
   "cell_type": "code",
   "execution_count": 3,
   "metadata": {},
   "outputs": [
    {
     "data": {
      "text/html": [
       "<div>\n",
       "<style scoped>\n",
       "    .dataframe tbody tr th:only-of-type {\n",
       "        vertical-align: middle;\n",
       "    }\n",
       "\n",
       "    .dataframe tbody tr th {\n",
       "        vertical-align: top;\n",
       "    }\n",
       "\n",
       "    .dataframe thead th {\n",
       "        text-align: right;\n",
       "    }\n",
       "</style>\n",
       "<table border=\"1\" class=\"dataframe\">\n",
       "  <thead>\n",
       "    <tr style=\"text-align: right;\">\n",
       "      <th></th>\n",
       "      <th>id</th>\n",
       "      <th>call_date</th>\n",
       "      <th>duration</th>\n",
       "      <th>user_id</th>\n",
       "    </tr>\n",
       "  </thead>\n",
       "  <tbody>\n",
       "    <tr>\n",
       "      <th>0</th>\n",
       "      <td>1000_0</td>\n",
       "      <td>2018-07-25</td>\n",
       "      <td>0.00</td>\n",
       "      <td>1000</td>\n",
       "    </tr>\n",
       "    <tr>\n",
       "      <th>1</th>\n",
       "      <td>1000_1</td>\n",
       "      <td>2018-08-17</td>\n",
       "      <td>0.00</td>\n",
       "      <td>1000</td>\n",
       "    </tr>\n",
       "    <tr>\n",
       "      <th>2</th>\n",
       "      <td>1000_2</td>\n",
       "      <td>2018-06-11</td>\n",
       "      <td>2.85</td>\n",
       "      <td>1000</td>\n",
       "    </tr>\n",
       "    <tr>\n",
       "      <th>3</th>\n",
       "      <td>1000_3</td>\n",
       "      <td>2018-09-21</td>\n",
       "      <td>13.80</td>\n",
       "      <td>1000</td>\n",
       "    </tr>\n",
       "    <tr>\n",
       "      <th>4</th>\n",
       "      <td>1000_4</td>\n",
       "      <td>2018-12-15</td>\n",
       "      <td>5.18</td>\n",
       "      <td>1000</td>\n",
       "    </tr>\n",
       "  </tbody>\n",
       "</table>\n",
       "</div>"
      ],
      "text/plain": [
       "       id   call_date  duration  user_id\n",
       "0  1000_0  2018-07-25      0.00     1000\n",
       "1  1000_1  2018-08-17      0.00     1000\n",
       "2  1000_2  2018-06-11      2.85     1000\n",
       "3  1000_3  2018-09-21     13.80     1000\n",
       "4  1000_4  2018-12-15      5.18     1000"
      ]
     },
     "metadata": {},
     "output_type": "display_data"
    },
    {
     "name": "stdout",
     "output_type": "stream",
     "text": [
      "<class 'pandas.core.frame.DataFrame'>\n",
      "RangeIndex: 202607 entries, 0 to 202606\n",
      "Data columns (total 4 columns):\n",
      " #   Column     Non-Null Count   Dtype  \n",
      "---  ------     --------------   -----  \n",
      " 0   id         202607 non-null  object \n",
      " 1   call_date  202607 non-null  object \n",
      " 2   duration   202607 non-null  float64\n",
      " 3   user_id    202607 non-null  int64  \n",
      "dtypes: float64(1), int64(1), object(2)\n",
      "memory usage: 6.2+ MB\n"
     ]
    }
   ],
   "source": [
    "# таблица calls\n",
    "display(calls.head())\n",
    "calls.info()"
   ]
  },
  {
   "cell_type": "markdown",
   "metadata": {},
   "source": [
    "Таблица `calls` (информация о звонках):\n",
    "* `id` — уникальный номер звонка\n",
    "* `call_date` — дата звонка\n",
    "* `duration` — длительность звонка в минутах\n",
    "* `user_id` — идентификатор пользователя, сделавшего звонок"
   ]
  },
  {
   "cell_type": "code",
   "execution_count": 4,
   "metadata": {},
   "outputs": [
    {
     "data": {
      "text/html": [
       "<div>\n",
       "<style scoped>\n",
       "    .dataframe tbody tr th:only-of-type {\n",
       "        vertical-align: middle;\n",
       "    }\n",
       "\n",
       "    .dataframe tbody tr th {\n",
       "        vertical-align: top;\n",
       "    }\n",
       "\n",
       "    .dataframe thead th {\n",
       "        text-align: right;\n",
       "    }\n",
       "</style>\n",
       "<table border=\"1\" class=\"dataframe\">\n",
       "  <thead>\n",
       "    <tr style=\"text-align: right;\">\n",
       "      <th></th>\n",
       "      <th>id</th>\n",
       "      <th>message_date</th>\n",
       "      <th>user_id</th>\n",
       "    </tr>\n",
       "  </thead>\n",
       "  <tbody>\n",
       "    <tr>\n",
       "      <th>0</th>\n",
       "      <td>1000_0</td>\n",
       "      <td>2018-06-27</td>\n",
       "      <td>1000</td>\n",
       "    </tr>\n",
       "    <tr>\n",
       "      <th>1</th>\n",
       "      <td>1000_1</td>\n",
       "      <td>2018-10-08</td>\n",
       "      <td>1000</td>\n",
       "    </tr>\n",
       "    <tr>\n",
       "      <th>2</th>\n",
       "      <td>1000_2</td>\n",
       "      <td>2018-08-04</td>\n",
       "      <td>1000</td>\n",
       "    </tr>\n",
       "    <tr>\n",
       "      <th>3</th>\n",
       "      <td>1000_3</td>\n",
       "      <td>2018-06-16</td>\n",
       "      <td>1000</td>\n",
       "    </tr>\n",
       "    <tr>\n",
       "      <th>4</th>\n",
       "      <td>1000_4</td>\n",
       "      <td>2018-12-05</td>\n",
       "      <td>1000</td>\n",
       "    </tr>\n",
       "  </tbody>\n",
       "</table>\n",
       "</div>"
      ],
      "text/plain": [
       "       id message_date  user_id\n",
       "0  1000_0   2018-06-27     1000\n",
       "1  1000_1   2018-10-08     1000\n",
       "2  1000_2   2018-08-04     1000\n",
       "3  1000_3   2018-06-16     1000\n",
       "4  1000_4   2018-12-05     1000"
      ]
     },
     "metadata": {},
     "output_type": "display_data"
    },
    {
     "name": "stdout",
     "output_type": "stream",
     "text": [
      "<class 'pandas.core.frame.DataFrame'>\n",
      "RangeIndex: 123036 entries, 0 to 123035\n",
      "Data columns (total 3 columns):\n",
      " #   Column        Non-Null Count   Dtype \n",
      "---  ------        --------------   ----- \n",
      " 0   id            123036 non-null  object\n",
      " 1   message_date  123036 non-null  object\n",
      " 2   user_id       123036 non-null  int64 \n",
      "dtypes: int64(1), object(2)\n",
      "memory usage: 2.8+ MB\n"
     ]
    }
   ],
   "source": [
    "# таблица messages\n",
    "display(messages.head())\n",
    "messages.info()"
   ]
  },
  {
   "cell_type": "markdown",
   "metadata": {},
   "source": [
    "Таблица `messages` (информация о сообщениях):\n",
    "* `id` — уникальный номер сообщения\n",
    "* `message_date` — дата сообщения\n",
    "* `user_id` — идентификатор пользователя, отправившего сообщение"
   ]
  },
  {
   "cell_type": "code",
   "execution_count": 5,
   "metadata": {},
   "outputs": [
    {
     "data": {
      "text/html": [
       "<div>\n",
       "<style scoped>\n",
       "    .dataframe tbody tr th:only-of-type {\n",
       "        vertical-align: middle;\n",
       "    }\n",
       "\n",
       "    .dataframe tbody tr th {\n",
       "        vertical-align: top;\n",
       "    }\n",
       "\n",
       "    .dataframe thead th {\n",
       "        text-align: right;\n",
       "    }\n",
       "</style>\n",
       "<table border=\"1\" class=\"dataframe\">\n",
       "  <thead>\n",
       "    <tr style=\"text-align: right;\">\n",
       "      <th></th>\n",
       "      <th>id</th>\n",
       "      <th>mb_used</th>\n",
       "      <th>session_date</th>\n",
       "      <th>user_id</th>\n",
       "    </tr>\n",
       "  </thead>\n",
       "  <tbody>\n",
       "    <tr>\n",
       "      <th>0</th>\n",
       "      <td>1000_0</td>\n",
       "      <td>112.95</td>\n",
       "      <td>2018-11-25</td>\n",
       "      <td>1000</td>\n",
       "    </tr>\n",
       "    <tr>\n",
       "      <th>1</th>\n",
       "      <td>1000_1</td>\n",
       "      <td>1052.81</td>\n",
       "      <td>2018-09-07</td>\n",
       "      <td>1000</td>\n",
       "    </tr>\n",
       "    <tr>\n",
       "      <th>2</th>\n",
       "      <td>1000_2</td>\n",
       "      <td>1197.26</td>\n",
       "      <td>2018-06-25</td>\n",
       "      <td>1000</td>\n",
       "    </tr>\n",
       "    <tr>\n",
       "      <th>3</th>\n",
       "      <td>1000_3</td>\n",
       "      <td>550.27</td>\n",
       "      <td>2018-08-22</td>\n",
       "      <td>1000</td>\n",
       "    </tr>\n",
       "    <tr>\n",
       "      <th>4</th>\n",
       "      <td>1000_4</td>\n",
       "      <td>302.56</td>\n",
       "      <td>2018-09-24</td>\n",
       "      <td>1000</td>\n",
       "    </tr>\n",
       "  </tbody>\n",
       "</table>\n",
       "</div>"
      ],
      "text/plain": [
       "       id  mb_used session_date  user_id\n",
       "0  1000_0   112.95   2018-11-25     1000\n",
       "1  1000_1  1052.81   2018-09-07     1000\n",
       "2  1000_2  1197.26   2018-06-25     1000\n",
       "3  1000_3   550.27   2018-08-22     1000\n",
       "4  1000_4   302.56   2018-09-24     1000"
      ]
     },
     "metadata": {},
     "output_type": "display_data"
    },
    {
     "name": "stdout",
     "output_type": "stream",
     "text": [
      "<class 'pandas.core.frame.DataFrame'>\n",
      "Int64Index: 149396 entries, 0 to 149395\n",
      "Data columns (total 4 columns):\n",
      " #   Column        Non-Null Count   Dtype  \n",
      "---  ------        --------------   -----  \n",
      " 0   id            149396 non-null  object \n",
      " 1   mb_used       149396 non-null  float64\n",
      " 2   session_date  149396 non-null  object \n",
      " 3   user_id       149396 non-null  int64  \n",
      "dtypes: float64(1), int64(1), object(2)\n",
      "memory usage: 5.7+ MB\n"
     ]
    }
   ],
   "source": [
    "# таблица internet\n",
    "display(internet.head())\n",
    "internet.info()"
   ]
  },
  {
   "cell_type": "markdown",
   "metadata": {},
   "source": [
    "Таблица `internet` (информация об интернет-сессиях):\n",
    "* `id` — уникальный номер сессии\n",
    "* `mb_used` — объём потраченного за сессию интернет-трафика (в мегабайтах)\n",
    "* `session_date` — дата интернет-сессии\n",
    "* `user_id` — идентификатор пользователя"
   ]
  },
  {
   "cell_type": "code",
   "execution_count": 6,
   "metadata": {},
   "outputs": [
    {
     "data": {
      "text/html": [
       "<div>\n",
       "<style scoped>\n",
       "    .dataframe tbody tr th:only-of-type {\n",
       "        vertical-align: middle;\n",
       "    }\n",
       "\n",
       "    .dataframe tbody tr th {\n",
       "        vertical-align: top;\n",
       "    }\n",
       "\n",
       "    .dataframe thead th {\n",
       "        text-align: right;\n",
       "    }\n",
       "</style>\n",
       "<table border=\"1\" class=\"dataframe\">\n",
       "  <thead>\n",
       "    <tr style=\"text-align: right;\">\n",
       "      <th></th>\n",
       "      <th>messages_included</th>\n",
       "      <th>mb_per_month_included</th>\n",
       "      <th>minutes_included</th>\n",
       "      <th>rub_monthly_fee</th>\n",
       "      <th>rub_per_gb</th>\n",
       "      <th>rub_per_message</th>\n",
       "      <th>rub_per_minute</th>\n",
       "      <th>tariff_name</th>\n",
       "    </tr>\n",
       "  </thead>\n",
       "  <tbody>\n",
       "    <tr>\n",
       "      <th>0</th>\n",
       "      <td>50</td>\n",
       "      <td>15360</td>\n",
       "      <td>500</td>\n",
       "      <td>550</td>\n",
       "      <td>200</td>\n",
       "      <td>3</td>\n",
       "      <td>3</td>\n",
       "      <td>smart</td>\n",
       "    </tr>\n",
       "    <tr>\n",
       "      <th>1</th>\n",
       "      <td>1000</td>\n",
       "      <td>30720</td>\n",
       "      <td>3000</td>\n",
       "      <td>1950</td>\n",
       "      <td>150</td>\n",
       "      <td>1</td>\n",
       "      <td>1</td>\n",
       "      <td>ultra</td>\n",
       "    </tr>\n",
       "  </tbody>\n",
       "</table>\n",
       "</div>"
      ],
      "text/plain": [
       "   messages_included  mb_per_month_included  minutes_included  \\\n",
       "0                 50                  15360               500   \n",
       "1               1000                  30720              3000   \n",
       "\n",
       "   rub_monthly_fee  rub_per_gb  rub_per_message  rub_per_minute tariff_name  \n",
       "0              550         200                3               3       smart  \n",
       "1             1950         150                1               1       ultra  "
      ]
     },
     "metadata": {},
     "output_type": "display_data"
    },
    {
     "name": "stdout",
     "output_type": "stream",
     "text": [
      "<class 'pandas.core.frame.DataFrame'>\n",
      "RangeIndex: 2 entries, 0 to 1\n",
      "Data columns (total 8 columns):\n",
      " #   Column                 Non-Null Count  Dtype \n",
      "---  ------                 --------------  ----- \n",
      " 0   messages_included      2 non-null      int64 \n",
      " 1   mb_per_month_included  2 non-null      int64 \n",
      " 2   minutes_included       2 non-null      int64 \n",
      " 3   rub_monthly_fee        2 non-null      int64 \n",
      " 4   rub_per_gb             2 non-null      int64 \n",
      " 5   rub_per_message        2 non-null      int64 \n",
      " 6   rub_per_minute         2 non-null      int64 \n",
      " 7   tariff_name            2 non-null      object\n",
      "dtypes: int64(7), object(1)\n",
      "memory usage: 256.0+ bytes\n"
     ]
    }
   ],
   "source": [
    "# таблица tariffs\n",
    "display(tariffs.head())\n",
    "tariffs.info()"
   ]
  },
  {
   "cell_type": "markdown",
   "metadata": {},
   "source": [
    "Таблица `tariffs` (информация о тарифах):\n",
    "* `tariff_name` — название тарифа\n",
    "* `rub_monthly_fee` — ежемесячная абонентская плата в рублях\n",
    "* `minutes_included` — количество минут разговора в месяц, включённых в абонентскую плату\n",
    "* `messages_included` — количество сообщений в месяц, включённых в абонентскую плату\n",
    "* `mb_per_month_included` — объём интернет-трафика, включённого в абонентскую плату (в мегабайтах)\n",
    "* `rub_per_minute` — стоимость минуты разговора сверх тарифного пакета (например, если в тарифе 100 минут разговора в месяц, то со 101 минуты будет взиматься плата)\n",
    "* `rub_per_message` — стоимость отправки сообщения сверх тарифного пакета\n",
    "* `rub_per_gb` — стоимость дополнительного гигабайта интернет-трафика сверх тарифного пакета (1 гигабайт = 1024 мегабайта)"
   ]
  },
  {
   "cell_type": "markdown",
   "metadata": {},
   "source": [
    "### Вывод"
   ]
  },
  {
   "cell_type": "markdown",
   "metadata": {},
   "source": [
    "Имеется пять таблиц:\n",
    "* `users` - информация о пользователях,\n",
    "* `calls` - информация о звонках,\n",
    "* `messages` - информация о сообщениях,\n",
    "* `internet` - информация об интернет-сессиях,\n",
    "* `tariffs` - информация о тарифах.\n",
    "\n",
    "В таблице `users` 8 столбцов и 500 строк, при этом дата прекращения пользования тарифом `churn_date` есть только в 38 строках. Пропуски заполнять не будем, это означает, что пользователь еще пользуется услугами.\n",
    "\n",
    "В таблице `calls` 4 столбца и 202607 строк, пропущенных значений нет. Есть столбец `user_id` по которому можно будет соеденить данные о звонках с таблицей `users`.\n",
    "\n",
    "Таблица `messages` состоит из 3 столбцов и 23036 строк, пропущенных значений нет. Также присутвует столбец `user_id` для связи с пользователем.\n",
    "\n",
    "В таблице `internet` 5 столбцов и 149396 строк без пропущенных значений. Есть столбец `user_id` для связки с таблтцей пользователей.\n",
    "\n",
    "Таблица `tariffs` состоит из 8 столбцов и 2 строк - тарифов `smart` и `ultra`.\n",
    "\n",
    "На этапе преобработки соеденим все таблицы в одну общую."
   ]
  },
  {
   "cell_type": "markdown",
   "metadata": {},
   "source": [
    "## Предобработка данных"
   ]
  },
  {
   "cell_type": "markdown",
   "metadata": {},
   "source": [
    "### Обработка пропусков"
   ]
  },
  {
   "cell_type": "markdown",
   "metadata": {},
   "source": [
    "Мы уже отметили пропуски в столбце `churn_date` таблицы `users`. Они означают, что пользователи не закончили пользоваться пакетом на момент выгрузки данных. Оставим их пустыми.\n",
    "\n",
    "Для выявления аномалий используем метод `value_counts()` для категориальных переменных и `describe()` для численных."
   ]
  },
  {
   "cell_type": "code",
   "execution_count": 7,
   "metadata": {
    "scrolled": true
   },
   "outputs": [
    {
     "name": "stdout",
     "output_type": "stream",
     "text": [
      "user_id\n",
      "1024    1\n",
      "1353    1\n",
      "1366    1\n",
      "1365    1\n",
      "1364    1\n",
      "       ..\n",
      "1185    1\n",
      "1184    1\n",
      "1183    1\n",
      "1182    1\n",
      "1023    1\n",
      "Name: user_id, Length: 500, dtype: int64 \n",
      "\n",
      "first_name\n",
      "Радим       6\n",
      "Леонид      5\n",
      "Пётр        5\n",
      "Андрей      4\n",
      "Адам        4\n",
      "           ..\n",
      "Дебора      1\n",
      "Фаддей      1\n",
      "Эльза       1\n",
      "Олеся       1\n",
      "Мальвина    1\n",
      "Name: first_name, Length: 246, dtype: int64 \n",
      "\n",
      "last_name\n",
      "Андреенко    5\n",
      "Абашкина     3\n",
      "Анищенко     3\n",
      "Соловьев     3\n",
      "Березина     3\n",
      "            ..\n",
      "Алёшкова     1\n",
      "Фадеева      1\n",
      "Семина       1\n",
      "Рябов        1\n",
      "Нестерова    1\n",
      "Name: last_name, Length: 419, dtype: int64 \n",
      "\n",
      "city\n",
      "Москва             99\n",
      "Санкт-Петербург    39\n",
      "Новосибирск        16\n",
      "Омск               14\n",
      "Казань             14\n",
      "                   ..\n",
      "Архангельск         1\n",
      "Подольск            1\n",
      "Химки               1\n",
      "Иваново             1\n",
      "Нижневартовск       1\n",
      "Name: city, Length: 76, dtype: int64 \n",
      "\n",
      "tariff\n",
      "smart    351\n",
      "ultra    149\n",
      "Name: tariff, dtype: int64 \n",
      "\n"
     ]
    }
   ],
   "source": [
    "for column in ['user_id', 'first_name', 'last_name', 'city', 'tariff']:\n",
    "    print(column)\n",
    "    print(users[column].value_counts(), '\\n')"
   ]
  },
  {
   "cell_type": "markdown",
   "metadata": {},
   "source": [
    "Все 500 id пользователей уникальны, самое частое имя Радим, фамилия - Андреенко, город - Москва. Тариф smart используют в 2 раза больше людей. \n",
    "\n",
    "С категориальными переменными все в порядке. Теперь рассмотрим количественные."
   ]
  },
  {
   "cell_type": "code",
   "execution_count": 8,
   "metadata": {
    "scrolled": true
   },
   "outputs": [
    {
     "data": {
      "text/plain": [
       "count    500.00000\n",
       "mean      46.58800\n",
       "std       16.66763\n",
       "min       18.00000\n",
       "25%       32.00000\n",
       "50%       46.00000\n",
       "75%       62.00000\n",
       "max       75.00000\n",
       "Name: age, dtype: float64"
      ]
     },
     "execution_count": 8,
     "metadata": {},
     "output_type": "execute_result"
    }
   ],
   "source": [
    "# возраст пользователя\n",
    "users['age'].describe()"
   ]
  },
  {
   "cell_type": "markdown",
   "metadata": {},
   "source": [
    "Возраст клиентов от 18 до 75 лет, средний - 46. Никаких аномалий нет."
   ]
  },
  {
   "cell_type": "code",
   "execution_count": 9,
   "metadata": {
    "scrolled": false
   },
   "outputs": [
    {
     "name": "stdout",
     "output_type": "stream",
     "text": [
      "count    202607.000000\n",
      "mean          6.755887\n",
      "std           5.843365\n",
      "min           0.000000\n",
      "25%           1.300000\n",
      "50%           6.000000\n",
      "75%          10.700000\n",
      "max          38.000000\n",
      "Name: duration, dtype: float64\n",
      "Процент нулевых сессий 19.55%\n"
     ]
    }
   ],
   "source": [
    "# длительность звонков\n",
    "print(calls['duration'].describe())\n",
    "print(f'Процент нулевых сессий {len(calls.query(\"duration == 0\"))/len(calls):.2%}')"
   ]
  },
  {
   "cell_type": "markdown",
   "metadata": {},
   "source": [
    "Много звонков с 0 продолжительностью, это непринятые звонки. Средняя длина разговора 6 минут."
   ]
  },
  {
   "cell_type": "code",
   "execution_count": 10,
   "metadata": {
    "scrolled": true
   },
   "outputs": [
    {
     "name": "stdout",
     "output_type": "stream",
     "text": [
      "count    149396.000000\n",
      "mean        370.192426\n",
      "std         278.300951\n",
      "min           0.000000\n",
      "25%         138.187500\n",
      "50%         348.015000\n",
      "75%         559.552500\n",
      "max        1724.830000\n",
      "Name: mb_used, dtype: float64\n",
      "Процент нулевых сессий 13.12%\n"
     ]
    }
   ],
   "source": [
    "# объём мегабайт потраченного интернета за сессию\n",
    "print(internet['mb_used'].describe())\n",
    "print(f'Процент нулевых сессий {len(internet.query(\"mb_used == 0\"))/len(internet):.2%}')"
   ]
  },
  {
   "cell_type": "markdown",
   "metadata": {},
   "source": [
    "В таблице `internet` средний объем интернаета за сессию равен 370mb. При этом 13% данных - ошибочные сессии, которые имеют значение 0.\n",
    "\n",
    "Отфильтруем нулевые звонки и интернет-сессии для расчета корректного среднего в дальнейшем."
   ]
  },
  {
   "cell_type": "code",
   "execution_count": 11,
   "metadata": {},
   "outputs": [],
   "source": [
    "# фильтр звоков\n",
    "calls = calls.query('duration != 0')\n",
    "# фильтр интернет-сессий\n",
    "internet = internet.query('mb_used != 0')"
   ]
  },
  {
   "cell_type": "markdown",
   "metadata": {},
   "source": [
    "### Изменение типов данных"
   ]
  },
  {
   "cell_type": "markdown",
   "metadata": {},
   "source": [
    "Изменим даты в таблицых на соответсвующий тип данных с помощью `to_datetime` с форматом `%Y-%m-%d`."
   ]
  },
  {
   "cell_type": "code",
   "execution_count": 12,
   "metadata": {},
   "outputs": [],
   "source": [
    "users['reg_date'] = pd.to_datetime(users['reg_date'], format='%Y-%m-%d')\n",
    "calls['call_date'] = pd.to_datetime(calls['call_date'], format='%Y-%m-%d')\n",
    "messages['message_date'] = pd.to_datetime(messages['message_date'], format='%Y-%m-%d')\n",
    "internet['session_date'] = pd.to_datetime(internet['session_date'], format='%Y-%m-%d')"
   ]
  },
  {
   "cell_type": "markdown",
   "metadata": {},
   "source": [
    "Каждый звонок округляется отдельно: даже если он длился всего 1 секунду, будет засчитан как 1 минута. Для веб-трафика отдельные сессии не считаются. Вместо этого общая сумма за месяц округляется в бо́льшую сторону.\n",
    "\n",
    "Поэтому веб-трафик округлим после группировки по месяцам. А минуты звонков нужно округлить до целого числа в большую сторону. \n",
    "\n",
    "Для округления вверх используем функцию `ceil` и приведем значения к целым числам с помощью метода `astype('int')`."
   ]
  },
  {
   "cell_type": "code",
   "execution_count": 13,
   "metadata": {},
   "outputs": [
    {
     "data": {
      "text/html": [
       "<div>\n",
       "<style scoped>\n",
       "    .dataframe tbody tr th:only-of-type {\n",
       "        vertical-align: middle;\n",
       "    }\n",
       "\n",
       "    .dataframe tbody tr th {\n",
       "        vertical-align: top;\n",
       "    }\n",
       "\n",
       "    .dataframe thead th {\n",
       "        text-align: right;\n",
       "    }\n",
       "</style>\n",
       "<table border=\"1\" class=\"dataframe\">\n",
       "  <thead>\n",
       "    <tr style=\"text-align: right;\">\n",
       "      <th></th>\n",
       "      <th>id</th>\n",
       "      <th>call_date</th>\n",
       "      <th>duration</th>\n",
       "      <th>user_id</th>\n",
       "    </tr>\n",
       "  </thead>\n",
       "  <tbody>\n",
       "    <tr>\n",
       "      <th>2</th>\n",
       "      <td>1000_2</td>\n",
       "      <td>2018-06-11</td>\n",
       "      <td>3</td>\n",
       "      <td>1000</td>\n",
       "    </tr>\n",
       "    <tr>\n",
       "      <th>3</th>\n",
       "      <td>1000_3</td>\n",
       "      <td>2018-09-21</td>\n",
       "      <td>14</td>\n",
       "      <td>1000</td>\n",
       "    </tr>\n",
       "    <tr>\n",
       "      <th>4</th>\n",
       "      <td>1000_4</td>\n",
       "      <td>2018-12-15</td>\n",
       "      <td>6</td>\n",
       "      <td>1000</td>\n",
       "    </tr>\n",
       "    <tr>\n",
       "      <th>7</th>\n",
       "      <td>1000_7</td>\n",
       "      <td>2018-08-22</td>\n",
       "      <td>19</td>\n",
       "      <td>1000</td>\n",
       "    </tr>\n",
       "    <tr>\n",
       "      <th>8</th>\n",
       "      <td>1000_8</td>\n",
       "      <td>2018-09-15</td>\n",
       "      <td>19</td>\n",
       "      <td>1000</td>\n",
       "    </tr>\n",
       "  </tbody>\n",
       "</table>\n",
       "</div>"
      ],
      "text/plain": [
       "       id  call_date  duration  user_id\n",
       "2  1000_2 2018-06-11         3     1000\n",
       "3  1000_3 2018-09-21        14     1000\n",
       "4  1000_4 2018-12-15         6     1000\n",
       "7  1000_7 2018-08-22        19     1000\n",
       "8  1000_8 2018-09-15        19     1000"
      ]
     },
     "execution_count": 13,
     "metadata": {},
     "output_type": "execute_result"
    }
   ],
   "source": [
    "calls['duration'] = calls['duration'].apply(np.ceil).astype('int')\n",
    "# выведем первые 5 строк таблицы calls\n",
    "calls.head()"
   ]
  },
  {
   "cell_type": "markdown",
   "metadata": {},
   "source": [
    "### Расчеты по месяцам и объединение таблиц"
   ]
  },
  {
   "cell_type": "markdown",
   "metadata": {},
   "source": [
    "Посчитаем для каждого пользователя:\n",
    "* количество сделанных звонков и израсходованных минут разговора по месяцам;\n",
    "* количество отправленных сообщений по месяцам;\n",
    "* объем израсходованного интернет-трафика по месяцам;\n",
    "* помесячную выручку с каждого пользователя (вычтем бесплатный лимит из суммарного количества звонков, сообщений и интернет-трафика; остаток умножим на значение из тарифного плана; прибавим абонентскую плату, соответствующую тарифному плану)."
   ]
  },
  {
   "cell_type": "markdown",
   "metadata": {},
   "source": [
    "Создадим в таблице `calls` столбец `month` с месяцем звонка. Сгруппируем данные по месяцу и id пользователя, сохраним результаты длительности и количества звонков в новую таблицу `calls_per_month`."
   ]
  },
  {
   "cell_type": "code",
   "execution_count": 14,
   "metadata": {},
   "outputs": [
    {
     "data": {
      "text/html": [
       "<div>\n",
       "<style scoped>\n",
       "    .dataframe tbody tr th:only-of-type {\n",
       "        vertical-align: middle;\n",
       "    }\n",
       "\n",
       "    .dataframe tbody tr th {\n",
       "        vertical-align: top;\n",
       "    }\n",
       "\n",
       "    .dataframe thead th {\n",
       "        text-align: right;\n",
       "    }\n",
       "</style>\n",
       "<table border=\"1\" class=\"dataframe\">\n",
       "  <thead>\n",
       "    <tr style=\"text-align: right;\">\n",
       "      <th></th>\n",
       "      <th>user_id</th>\n",
       "      <th>month</th>\n",
       "      <th>call_duration</th>\n",
       "      <th>call_quantity</th>\n",
       "    </tr>\n",
       "  </thead>\n",
       "  <tbody>\n",
       "    <tr>\n",
       "      <th>0</th>\n",
       "      <td>1000</td>\n",
       "      <td>5</td>\n",
       "      <td>159</td>\n",
       "      <td>17</td>\n",
       "    </tr>\n",
       "    <tr>\n",
       "      <th>1</th>\n",
       "      <td>1000</td>\n",
       "      <td>6</td>\n",
       "      <td>172</td>\n",
       "      <td>28</td>\n",
       "    </tr>\n",
       "    <tr>\n",
       "      <th>2</th>\n",
       "      <td>1000</td>\n",
       "      <td>7</td>\n",
       "      <td>340</td>\n",
       "      <td>41</td>\n",
       "    </tr>\n",
       "    <tr>\n",
       "      <th>3</th>\n",
       "      <td>1000</td>\n",
       "      <td>8</td>\n",
       "      <td>408</td>\n",
       "      <td>42</td>\n",
       "    </tr>\n",
       "    <tr>\n",
       "      <th>4</th>\n",
       "      <td>1000</td>\n",
       "      <td>9</td>\n",
       "      <td>466</td>\n",
       "      <td>46</td>\n",
       "    </tr>\n",
       "    <tr>\n",
       "      <th>...</th>\n",
       "      <td>...</td>\n",
       "      <td>...</td>\n",
       "      <td>...</td>\n",
       "      <td>...</td>\n",
       "    </tr>\n",
       "    <tr>\n",
       "      <th>3163</th>\n",
       "      <td>1498</td>\n",
       "      <td>10</td>\n",
       "      <td>247</td>\n",
       "      <td>30</td>\n",
       "    </tr>\n",
       "    <tr>\n",
       "      <th>3164</th>\n",
       "      <td>1499</td>\n",
       "      <td>9</td>\n",
       "      <td>70</td>\n",
       "      <td>8</td>\n",
       "    </tr>\n",
       "    <tr>\n",
       "      <th>3165</th>\n",
       "      <td>1499</td>\n",
       "      <td>10</td>\n",
       "      <td>449</td>\n",
       "      <td>44</td>\n",
       "    </tr>\n",
       "    <tr>\n",
       "      <th>3166</th>\n",
       "      <td>1499</td>\n",
       "      <td>11</td>\n",
       "      <td>612</td>\n",
       "      <td>62</td>\n",
       "    </tr>\n",
       "    <tr>\n",
       "      <th>3167</th>\n",
       "      <td>1499</td>\n",
       "      <td>12</td>\n",
       "      <td>492</td>\n",
       "      <td>56</td>\n",
       "    </tr>\n",
       "  </tbody>\n",
       "</table>\n",
       "<p>3168 rows × 4 columns</p>\n",
       "</div>"
      ],
      "text/plain": [
       "      user_id  month  call_duration  call_quantity\n",
       "0        1000      5            159             17\n",
       "1        1000      6            172             28\n",
       "2        1000      7            340             41\n",
       "3        1000      8            408             42\n",
       "4        1000      9            466             46\n",
       "...       ...    ...            ...            ...\n",
       "3163     1498     10            247             30\n",
       "3164     1499      9             70              8\n",
       "3165     1499     10            449             44\n",
       "3166     1499     11            612             62\n",
       "3167     1499     12            492             56\n",
       "\n",
       "[3168 rows x 4 columns]"
      ]
     },
     "execution_count": 14,
     "metadata": {},
     "output_type": "execute_result"
    }
   ],
   "source": [
    "# месяц звонка\n",
    "calls['month'] = calls['call_date'].dt.month\n",
    "# создание сводной таблицы и применение sum, count к duration\n",
    "calls_per_month = calls.pivot_table(index=['user_id', 'month'], values='duration', aggfunc=['sum', 'count'])\n",
    "# переименование столбцов\n",
    "calls_per_month.columns = ['call_duration', 'call_quantity']\n",
    "# сброс индексов и вывод таблицы\n",
    "calls_per_month = calls_per_month.reset_index()\n",
    "calls_per_month"
   ]
  },
  {
   "cell_type": "markdown",
   "metadata": {},
   "source": [
    "Создадим в таблице `messages` столбец `month` с месяцем звонка. Для количесва отправленных сообщений сгруппируем таблицу `messages` по месяцам и id пользователя, применим функцию `count`."
   ]
  },
  {
   "cell_type": "code",
   "execution_count": 15,
   "metadata": {},
   "outputs": [
    {
     "data": {
      "text/html": [
       "<div>\n",
       "<style scoped>\n",
       "    .dataframe tbody tr th:only-of-type {\n",
       "        vertical-align: middle;\n",
       "    }\n",
       "\n",
       "    .dataframe tbody tr th {\n",
       "        vertical-align: top;\n",
       "    }\n",
       "\n",
       "    .dataframe thead th {\n",
       "        text-align: right;\n",
       "    }\n",
       "</style>\n",
       "<table border=\"1\" class=\"dataframe\">\n",
       "  <thead>\n",
       "    <tr style=\"text-align: right;\">\n",
       "      <th></th>\n",
       "      <th>user_id</th>\n",
       "      <th>month</th>\n",
       "      <th>message_quantity</th>\n",
       "    </tr>\n",
       "  </thead>\n",
       "  <tbody>\n",
       "    <tr>\n",
       "      <th>0</th>\n",
       "      <td>1000</td>\n",
       "      <td>5</td>\n",
       "      <td>22</td>\n",
       "    </tr>\n",
       "    <tr>\n",
       "      <th>1</th>\n",
       "      <td>1000</td>\n",
       "      <td>6</td>\n",
       "      <td>60</td>\n",
       "    </tr>\n",
       "    <tr>\n",
       "      <th>2</th>\n",
       "      <td>1000</td>\n",
       "      <td>7</td>\n",
       "      <td>75</td>\n",
       "    </tr>\n",
       "    <tr>\n",
       "      <th>3</th>\n",
       "      <td>1000</td>\n",
       "      <td>8</td>\n",
       "      <td>81</td>\n",
       "    </tr>\n",
       "    <tr>\n",
       "      <th>4</th>\n",
       "      <td>1000</td>\n",
       "      <td>9</td>\n",
       "      <td>57</td>\n",
       "    </tr>\n",
       "    <tr>\n",
       "      <th>...</th>\n",
       "      <td>...</td>\n",
       "      <td>...</td>\n",
       "      <td>...</td>\n",
       "    </tr>\n",
       "    <tr>\n",
       "      <th>2712</th>\n",
       "      <td>1498</td>\n",
       "      <td>10</td>\n",
       "      <td>42</td>\n",
       "    </tr>\n",
       "    <tr>\n",
       "      <th>2713</th>\n",
       "      <td>1499</td>\n",
       "      <td>9</td>\n",
       "      <td>11</td>\n",
       "    </tr>\n",
       "    <tr>\n",
       "      <th>2714</th>\n",
       "      <td>1499</td>\n",
       "      <td>10</td>\n",
       "      <td>48</td>\n",
       "    </tr>\n",
       "    <tr>\n",
       "      <th>2715</th>\n",
       "      <td>1499</td>\n",
       "      <td>11</td>\n",
       "      <td>59</td>\n",
       "    </tr>\n",
       "    <tr>\n",
       "      <th>2716</th>\n",
       "      <td>1499</td>\n",
       "      <td>12</td>\n",
       "      <td>66</td>\n",
       "    </tr>\n",
       "  </tbody>\n",
       "</table>\n",
       "<p>2717 rows × 3 columns</p>\n",
       "</div>"
      ],
      "text/plain": [
       "      user_id  month  message_quantity\n",
       "0        1000      5                22\n",
       "1        1000      6                60\n",
       "2        1000      7                75\n",
       "3        1000      8                81\n",
       "4        1000      9                57\n",
       "...       ...    ...               ...\n",
       "2712     1498     10                42\n",
       "2713     1499      9                11\n",
       "2714     1499     10                48\n",
       "2715     1499     11                59\n",
       "2716     1499     12                66\n",
       "\n",
       "[2717 rows x 3 columns]"
      ]
     },
     "execution_count": 15,
     "metadata": {},
     "output_type": "execute_result"
    }
   ],
   "source": [
    "# месяц отправки сообщения\n",
    "messages['month'] = messages['message_date'].dt.month\n",
    "# создание сводной таблицы и применение count\n",
    "messages_per_month = messages.pivot_table(index=['user_id', 'month'], values='id', aggfunc='count')\n",
    "# переименование столбца\n",
    "messages_per_month.columns = ['message_quantity']\n",
    "# сброс индексов и вывод таблицы\n",
    "messages_per_month = messages_per_month.reset_index()\n",
    "messages_per_month"
   ]
  },
  {
   "cell_type": "markdown",
   "metadata": {},
   "source": [
    "Создадим в таблице `internet` столбец `month` с месяцем звонка. Сгруппируем данные по месяцу и id пользователя, сохраним сумму мб и количества инстернет-сессий в новую таблицу `internet_per_month`.\n",
    "\n",
    "Интернет в мегабайтах приведем к гигабайтам. Для этого разделим на 1024 и сделаем округление в большую сторону, приведем значения к целому типу данных."
   ]
  },
  {
   "cell_type": "code",
   "execution_count": 16,
   "metadata": {},
   "outputs": [
    {
     "data": {
      "text/html": [
       "<div>\n",
       "<style scoped>\n",
       "    .dataframe tbody tr th:only-of-type {\n",
       "        vertical-align: middle;\n",
       "    }\n",
       "\n",
       "    .dataframe tbody tr th {\n",
       "        vertical-align: top;\n",
       "    }\n",
       "\n",
       "    .dataframe thead th {\n",
       "        text-align: right;\n",
       "    }\n",
       "</style>\n",
       "<table border=\"1\" class=\"dataframe\">\n",
       "  <thead>\n",
       "    <tr style=\"text-align: right;\">\n",
       "      <th></th>\n",
       "      <th>user_id</th>\n",
       "      <th>month</th>\n",
       "      <th>internet_mb_used</th>\n",
       "      <th>internet_gb_used</th>\n",
       "    </tr>\n",
       "  </thead>\n",
       "  <tbody>\n",
       "    <tr>\n",
       "      <th>0</th>\n",
       "      <td>1000</td>\n",
       "      <td>5</td>\n",
       "      <td>2253.49</td>\n",
       "      <td>3</td>\n",
       "    </tr>\n",
       "    <tr>\n",
       "      <th>1</th>\n",
       "      <td>1000</td>\n",
       "      <td>6</td>\n",
       "      <td>23233.77</td>\n",
       "      <td>23</td>\n",
       "    </tr>\n",
       "    <tr>\n",
       "      <th>2</th>\n",
       "      <td>1000</td>\n",
       "      <td>7</td>\n",
       "      <td>14003.64</td>\n",
       "      <td>14</td>\n",
       "    </tr>\n",
       "    <tr>\n",
       "      <th>3</th>\n",
       "      <td>1000</td>\n",
       "      <td>8</td>\n",
       "      <td>14055.93</td>\n",
       "      <td>14</td>\n",
       "    </tr>\n",
       "    <tr>\n",
       "      <th>4</th>\n",
       "      <td>1000</td>\n",
       "      <td>9</td>\n",
       "      <td>14568.91</td>\n",
       "      <td>15</td>\n",
       "    </tr>\n",
       "    <tr>\n",
       "      <th>...</th>\n",
       "      <td>...</td>\n",
       "      <td>...</td>\n",
       "      <td>...</td>\n",
       "      <td>...</td>\n",
       "    </tr>\n",
       "    <tr>\n",
       "      <th>3196</th>\n",
       "      <td>1498</td>\n",
       "      <td>10</td>\n",
       "      <td>20579.36</td>\n",
       "      <td>21</td>\n",
       "    </tr>\n",
       "    <tr>\n",
       "      <th>3197</th>\n",
       "      <td>1499</td>\n",
       "      <td>9</td>\n",
       "      <td>1845.75</td>\n",
       "      <td>2</td>\n",
       "    </tr>\n",
       "    <tr>\n",
       "      <th>3198</th>\n",
       "      <td>1499</td>\n",
       "      <td>10</td>\n",
       "      <td>17788.51</td>\n",
       "      <td>18</td>\n",
       "    </tr>\n",
       "    <tr>\n",
       "      <th>3199</th>\n",
       "      <td>1499</td>\n",
       "      <td>11</td>\n",
       "      <td>17963.31</td>\n",
       "      <td>18</td>\n",
       "    </tr>\n",
       "    <tr>\n",
       "      <th>3200</th>\n",
       "      <td>1499</td>\n",
       "      <td>12</td>\n",
       "      <td>13055.58</td>\n",
       "      <td>13</td>\n",
       "    </tr>\n",
       "  </tbody>\n",
       "</table>\n",
       "<p>3201 rows × 4 columns</p>\n",
       "</div>"
      ],
      "text/plain": [
       "      user_id  month  internet_mb_used  internet_gb_used\n",
       "0        1000      5           2253.49                 3\n",
       "1        1000      6          23233.77                23\n",
       "2        1000      7          14003.64                14\n",
       "3        1000      8          14055.93                14\n",
       "4        1000      9          14568.91                15\n",
       "...       ...    ...               ...               ...\n",
       "3196     1498     10          20579.36                21\n",
       "3197     1499      9           1845.75                 2\n",
       "3198     1499     10          17788.51                18\n",
       "3199     1499     11          17963.31                18\n",
       "3200     1499     12          13055.58                13\n",
       "\n",
       "[3201 rows x 4 columns]"
      ]
     },
     "execution_count": 16,
     "metadata": {},
     "output_type": "execute_result"
    }
   ],
   "source": [
    "# в какой месяц была интернет-сессия\n",
    "internet['month'] = internet['session_date'].dt.month\n",
    "# групировка и применение count\n",
    "internet_per_month = internet.pivot_table(index=['user_id', 'month'], values='mb_used', aggfunc='sum')\n",
    "# переименование столбца\n",
    "internet_per_month.columns = ['internet_mb_used']\n",
    "# перевод mb в gb\n",
    "internet_per_month['internet_gb_used'] = (internet_per_month['internet_mb_used'] / 1024).apply(np.ceil).astype('int')\n",
    "# сброс индексов и вывод таблицы\n",
    "internet_per_month = internet_per_month.reset_index()\n",
    "internet_per_month"
   ]
  },
  {
   "cell_type": "markdown",
   "metadata": {},
   "source": [
    "Для дальнейших расчетов соеденим полученные таблицы методом `merge` по столбцам `user_id` и `month`, c параметром `how='outer'`(потому что нам нужны все данные) в едуную таблицу `stat_per_month`.\n",
    "\n",
    "Пропуски заполними нулями с помошью `fillna`. Они появляются когда, например, пользователь не отправлял смс за месяц, совершая звонки и используя интернет. Это очевидно, ведь у нас разное количество строк в таблицах: calls_per_month 3174, messages_per_month 2717, internet_per_month 3203. Так что пропущенные знаения заполним нулями."
   ]
  },
  {
   "cell_type": "code",
   "execution_count": 17,
   "metadata": {},
   "outputs": [
    {
     "data": {
      "text/html": [
       "<div>\n",
       "<style scoped>\n",
       "    .dataframe tbody tr th:only-of-type {\n",
       "        vertical-align: middle;\n",
       "    }\n",
       "\n",
       "    .dataframe tbody tr th {\n",
       "        vertical-align: top;\n",
       "    }\n",
       "\n",
       "    .dataframe thead th {\n",
       "        text-align: right;\n",
       "    }\n",
       "</style>\n",
       "<table border=\"1\" class=\"dataframe\">\n",
       "  <thead>\n",
       "    <tr style=\"text-align: right;\">\n",
       "      <th></th>\n",
       "      <th>user_id</th>\n",
       "      <th>month</th>\n",
       "      <th>call_duration</th>\n",
       "      <th>call_quantity</th>\n",
       "      <th>message_quantity</th>\n",
       "      <th>internet_mb_used</th>\n",
       "      <th>internet_gb_used</th>\n",
       "    </tr>\n",
       "  </thead>\n",
       "  <tbody>\n",
       "    <tr>\n",
       "      <th>0</th>\n",
       "      <td>1000</td>\n",
       "      <td>5</td>\n",
       "      <td>159.0</td>\n",
       "      <td>17.0</td>\n",
       "      <td>22.0</td>\n",
       "      <td>2253.49</td>\n",
       "      <td>3.0</td>\n",
       "    </tr>\n",
       "    <tr>\n",
       "      <th>1</th>\n",
       "      <td>1000</td>\n",
       "      <td>6</td>\n",
       "      <td>172.0</td>\n",
       "      <td>28.0</td>\n",
       "      <td>60.0</td>\n",
       "      <td>23233.77</td>\n",
       "      <td>23.0</td>\n",
       "    </tr>\n",
       "    <tr>\n",
       "      <th>2</th>\n",
       "      <td>1000</td>\n",
       "      <td>7</td>\n",
       "      <td>340.0</td>\n",
       "      <td>41.0</td>\n",
       "      <td>75.0</td>\n",
       "      <td>14003.64</td>\n",
       "      <td>14.0</td>\n",
       "    </tr>\n",
       "    <tr>\n",
       "      <th>3</th>\n",
       "      <td>1000</td>\n",
       "      <td>8</td>\n",
       "      <td>408.0</td>\n",
       "      <td>42.0</td>\n",
       "      <td>81.0</td>\n",
       "      <td>14055.93</td>\n",
       "      <td>14.0</td>\n",
       "    </tr>\n",
       "    <tr>\n",
       "      <th>4</th>\n",
       "      <td>1000</td>\n",
       "      <td>9</td>\n",
       "      <td>466.0</td>\n",
       "      <td>46.0</td>\n",
       "      <td>57.0</td>\n",
       "      <td>14568.91</td>\n",
       "      <td>15.0</td>\n",
       "    </tr>\n",
       "    <tr>\n",
       "      <th>...</th>\n",
       "      <td>...</td>\n",
       "      <td>...</td>\n",
       "      <td>...</td>\n",
       "      <td>...</td>\n",
       "      <td>...</td>\n",
       "      <td>...</td>\n",
       "      <td>...</td>\n",
       "    </tr>\n",
       "    <tr>\n",
       "      <th>3209</th>\n",
       "      <td>1489</td>\n",
       "      <td>10</td>\n",
       "      <td>0.0</td>\n",
       "      <td>0.0</td>\n",
       "      <td>21.0</td>\n",
       "      <td>19559.44</td>\n",
       "      <td>20.0</td>\n",
       "    </tr>\n",
       "    <tr>\n",
       "      <th>3210</th>\n",
       "      <td>1489</td>\n",
       "      <td>11</td>\n",
       "      <td>0.0</td>\n",
       "      <td>0.0</td>\n",
       "      <td>20.0</td>\n",
       "      <td>17491.56</td>\n",
       "      <td>18.0</td>\n",
       "    </tr>\n",
       "    <tr>\n",
       "      <th>3211</th>\n",
       "      <td>1489</td>\n",
       "      <td>12</td>\n",
       "      <td>0.0</td>\n",
       "      <td>0.0</td>\n",
       "      <td>35.0</td>\n",
       "      <td>17322.51</td>\n",
       "      <td>17.0</td>\n",
       "    </tr>\n",
       "    <tr>\n",
       "      <th>3212</th>\n",
       "      <td>1240</td>\n",
       "      <td>2</td>\n",
       "      <td>0.0</td>\n",
       "      <td>0.0</td>\n",
       "      <td>0.0</td>\n",
       "      <td>959.51</td>\n",
       "      <td>1.0</td>\n",
       "    </tr>\n",
       "    <tr>\n",
       "      <th>3213</th>\n",
       "      <td>1476</td>\n",
       "      <td>4</td>\n",
       "      <td>0.0</td>\n",
       "      <td>0.0</td>\n",
       "      <td>0.0</td>\n",
       "      <td>530.78</td>\n",
       "      <td>1.0</td>\n",
       "    </tr>\n",
       "  </tbody>\n",
       "</table>\n",
       "<p>3214 rows × 7 columns</p>\n",
       "</div>"
      ],
      "text/plain": [
       "      user_id  month  call_duration  call_quantity  message_quantity  \\\n",
       "0        1000      5          159.0           17.0              22.0   \n",
       "1        1000      6          172.0           28.0              60.0   \n",
       "2        1000      7          340.0           41.0              75.0   \n",
       "3        1000      8          408.0           42.0              81.0   \n",
       "4        1000      9          466.0           46.0              57.0   \n",
       "...       ...    ...            ...            ...               ...   \n",
       "3209     1489     10            0.0            0.0              21.0   \n",
       "3210     1489     11            0.0            0.0              20.0   \n",
       "3211     1489     12            0.0            0.0              35.0   \n",
       "3212     1240      2            0.0            0.0               0.0   \n",
       "3213     1476      4            0.0            0.0               0.0   \n",
       "\n",
       "      internet_mb_used  internet_gb_used  \n",
       "0              2253.49               3.0  \n",
       "1             23233.77              23.0  \n",
       "2             14003.64              14.0  \n",
       "3             14055.93              14.0  \n",
       "4             14568.91              15.0  \n",
       "...                ...               ...  \n",
       "3209          19559.44              20.0  \n",
       "3210          17491.56              18.0  \n",
       "3211          17322.51              17.0  \n",
       "3212            959.51               1.0  \n",
       "3213            530.78               1.0  \n",
       "\n",
       "[3214 rows x 7 columns]"
      ]
     },
     "execution_count": 17,
     "metadata": {},
     "output_type": "execute_result"
    }
   ],
   "source": [
    "stat_per_month = calls_per_month.merge(messages_per_month, on=['user_id', 'month'], how='outer')\\\n",
    "    .merge(internet_per_month, on=['user_id', 'month'], how='outer')\\\n",
    "    .reset_index(drop=True).fillna(0)\n",
    "\n",
    "# вывод таблицы \n",
    "stat_per_month"
   ]
  },
  {
   "cell_type": "markdown",
   "metadata": {},
   "source": [
    "Присоеденим к полученнную таблице с расчетами по месяцам `stat_per_month` таблицу `users` с информацией о пользователях по столбцу `user_id`.\n",
    "\n",
    "Для объединения общей таблицы с таблицей `tariffs`, переименуем в ней столбец `tariff_name` на `tariff`. По этому столбцу и объеденим талицы в одну единую - `data`."
   ]
  },
  {
   "cell_type": "code",
   "execution_count": 18,
   "metadata": {},
   "outputs": [],
   "source": [
    "# объединение stat_per_month и users\n",
    "data = stat_per_month.merge(users[['user_id','city','tariff']], on='user_id', how='left')\n",
    "# переименование столбца в таблице tariffs\n",
    "tariffs = tariffs.rename({'tariff_name': 'tariff'}, axis='columns')\n",
    "# присоединение tariffs\n",
    "data = data.merge(tariffs, on='tariff', how='left')\n",
    "\n",
    "# преобразование к целочисленным значениям\n",
    "columns = ['call_duration', 'call_quantity', 'message_quantity', 'internet_gb_used']\n",
    "data[columns] = data[columns].astype('int')"
   ]
  },
  {
   "cell_type": "markdown",
   "metadata": {},
   "source": [
    "Выведем первые строки полученной таблицы и информацию о ней методом `info`."
   ]
  },
  {
   "cell_type": "code",
   "execution_count": 19,
   "metadata": {},
   "outputs": [
    {
     "name": "stdout",
     "output_type": "stream",
     "text": [
      "<class 'pandas.core.frame.DataFrame'>\n",
      "Int64Index: 3214 entries, 0 to 3213\n",
      "Data columns (total 16 columns):\n",
      " #   Column                 Non-Null Count  Dtype  \n",
      "---  ------                 --------------  -----  \n",
      " 0   user_id                3214 non-null   int64  \n",
      " 1   month                  3214 non-null   int64  \n",
      " 2   call_duration          3214 non-null   int64  \n",
      " 3   call_quantity          3214 non-null   int64  \n",
      " 4   message_quantity       3214 non-null   int64  \n",
      " 5   internet_mb_used       3214 non-null   float64\n",
      " 6   internet_gb_used       3214 non-null   int64  \n",
      " 7   city                   3214 non-null   object \n",
      " 8   tariff                 3214 non-null   object \n",
      " 9   messages_included      3214 non-null   int64  \n",
      " 10  mb_per_month_included  3214 non-null   int64  \n",
      " 11  minutes_included       3214 non-null   int64  \n",
      " 12  rub_monthly_fee        3214 non-null   int64  \n",
      " 13  rub_per_gb             3214 non-null   int64  \n",
      " 14  rub_per_message        3214 non-null   int64  \n",
      " 15  rub_per_minute         3214 non-null   int64  \n",
      "dtypes: float64(1), int64(13), object(2)\n",
      "memory usage: 426.9+ KB\n"
     ]
    },
    {
     "data": {
      "text/html": [
       "<div>\n",
       "<style scoped>\n",
       "    .dataframe tbody tr th:only-of-type {\n",
       "        vertical-align: middle;\n",
       "    }\n",
       "\n",
       "    .dataframe tbody tr th {\n",
       "        vertical-align: top;\n",
       "    }\n",
       "\n",
       "    .dataframe thead th {\n",
       "        text-align: right;\n",
       "    }\n",
       "</style>\n",
       "<table border=\"1\" class=\"dataframe\">\n",
       "  <thead>\n",
       "    <tr style=\"text-align: right;\">\n",
       "      <th></th>\n",
       "      <th>user_id</th>\n",
       "      <th>month</th>\n",
       "      <th>call_duration</th>\n",
       "      <th>call_quantity</th>\n",
       "      <th>message_quantity</th>\n",
       "      <th>internet_mb_used</th>\n",
       "      <th>internet_gb_used</th>\n",
       "      <th>city</th>\n",
       "      <th>tariff</th>\n",
       "      <th>messages_included</th>\n",
       "      <th>mb_per_month_included</th>\n",
       "      <th>minutes_included</th>\n",
       "      <th>rub_monthly_fee</th>\n",
       "      <th>rub_per_gb</th>\n",
       "      <th>rub_per_message</th>\n",
       "      <th>rub_per_minute</th>\n",
       "    </tr>\n",
       "  </thead>\n",
       "  <tbody>\n",
       "    <tr>\n",
       "      <th>0</th>\n",
       "      <td>1000</td>\n",
       "      <td>5</td>\n",
       "      <td>159</td>\n",
       "      <td>17</td>\n",
       "      <td>22</td>\n",
       "      <td>2253.49</td>\n",
       "      <td>3</td>\n",
       "      <td>Краснодар</td>\n",
       "      <td>ultra</td>\n",
       "      <td>1000</td>\n",
       "      <td>30720</td>\n",
       "      <td>3000</td>\n",
       "      <td>1950</td>\n",
       "      <td>150</td>\n",
       "      <td>1</td>\n",
       "      <td>1</td>\n",
       "    </tr>\n",
       "    <tr>\n",
       "      <th>1</th>\n",
       "      <td>1000</td>\n",
       "      <td>6</td>\n",
       "      <td>172</td>\n",
       "      <td>28</td>\n",
       "      <td>60</td>\n",
       "      <td>23233.77</td>\n",
       "      <td>23</td>\n",
       "      <td>Краснодар</td>\n",
       "      <td>ultra</td>\n",
       "      <td>1000</td>\n",
       "      <td>30720</td>\n",
       "      <td>3000</td>\n",
       "      <td>1950</td>\n",
       "      <td>150</td>\n",
       "      <td>1</td>\n",
       "      <td>1</td>\n",
       "    </tr>\n",
       "    <tr>\n",
       "      <th>2</th>\n",
       "      <td>1000</td>\n",
       "      <td>7</td>\n",
       "      <td>340</td>\n",
       "      <td>41</td>\n",
       "      <td>75</td>\n",
       "      <td>14003.64</td>\n",
       "      <td>14</td>\n",
       "      <td>Краснодар</td>\n",
       "      <td>ultra</td>\n",
       "      <td>1000</td>\n",
       "      <td>30720</td>\n",
       "      <td>3000</td>\n",
       "      <td>1950</td>\n",
       "      <td>150</td>\n",
       "      <td>1</td>\n",
       "      <td>1</td>\n",
       "    </tr>\n",
       "    <tr>\n",
       "      <th>3</th>\n",
       "      <td>1000</td>\n",
       "      <td>8</td>\n",
       "      <td>408</td>\n",
       "      <td>42</td>\n",
       "      <td>81</td>\n",
       "      <td>14055.93</td>\n",
       "      <td>14</td>\n",
       "      <td>Краснодар</td>\n",
       "      <td>ultra</td>\n",
       "      <td>1000</td>\n",
       "      <td>30720</td>\n",
       "      <td>3000</td>\n",
       "      <td>1950</td>\n",
       "      <td>150</td>\n",
       "      <td>1</td>\n",
       "      <td>1</td>\n",
       "    </tr>\n",
       "    <tr>\n",
       "      <th>4</th>\n",
       "      <td>1000</td>\n",
       "      <td>9</td>\n",
       "      <td>466</td>\n",
       "      <td>46</td>\n",
       "      <td>57</td>\n",
       "      <td>14568.91</td>\n",
       "      <td>15</td>\n",
       "      <td>Краснодар</td>\n",
       "      <td>ultra</td>\n",
       "      <td>1000</td>\n",
       "      <td>30720</td>\n",
       "      <td>3000</td>\n",
       "      <td>1950</td>\n",
       "      <td>150</td>\n",
       "      <td>1</td>\n",
       "      <td>1</td>\n",
       "    </tr>\n",
       "    <tr>\n",
       "      <th>5</th>\n",
       "      <td>1000</td>\n",
       "      <td>10</td>\n",
       "      <td>350</td>\n",
       "      <td>44</td>\n",
       "      <td>73</td>\n",
       "      <td>14702.49</td>\n",
       "      <td>15</td>\n",
       "      <td>Краснодар</td>\n",
       "      <td>ultra</td>\n",
       "      <td>1000</td>\n",
       "      <td>30720</td>\n",
       "      <td>3000</td>\n",
       "      <td>1950</td>\n",
       "      <td>150</td>\n",
       "      <td>1</td>\n",
       "      <td>1</td>\n",
       "    </tr>\n",
       "    <tr>\n",
       "      <th>6</th>\n",
       "      <td>1000</td>\n",
       "      <td>11</td>\n",
       "      <td>338</td>\n",
       "      <td>37</td>\n",
       "      <td>58</td>\n",
       "      <td>14756.47</td>\n",
       "      <td>15</td>\n",
       "      <td>Краснодар</td>\n",
       "      <td>ultra</td>\n",
       "      <td>1000</td>\n",
       "      <td>30720</td>\n",
       "      <td>3000</td>\n",
       "      <td>1950</td>\n",
       "      <td>150</td>\n",
       "      <td>1</td>\n",
       "      <td>1</td>\n",
       "    </tr>\n",
       "    <tr>\n",
       "      <th>7</th>\n",
       "      <td>1000</td>\n",
       "      <td>12</td>\n",
       "      <td>333</td>\n",
       "      <td>38</td>\n",
       "      <td>70</td>\n",
       "      <td>9817.61</td>\n",
       "      <td>10</td>\n",
       "      <td>Краснодар</td>\n",
       "      <td>ultra</td>\n",
       "      <td>1000</td>\n",
       "      <td>30720</td>\n",
       "      <td>3000</td>\n",
       "      <td>1950</td>\n",
       "      <td>150</td>\n",
       "      <td>1</td>\n",
       "      <td>1</td>\n",
       "    </tr>\n",
       "    <tr>\n",
       "      <th>8</th>\n",
       "      <td>1001</td>\n",
       "      <td>11</td>\n",
       "      <td>430</td>\n",
       "      <td>45</td>\n",
       "      <td>0</td>\n",
       "      <td>18429.34</td>\n",
       "      <td>18</td>\n",
       "      <td>Москва</td>\n",
       "      <td>smart</td>\n",
       "      <td>50</td>\n",
       "      <td>15360</td>\n",
       "      <td>500</td>\n",
       "      <td>550</td>\n",
       "      <td>200</td>\n",
       "      <td>3</td>\n",
       "      <td>3</td>\n",
       "    </tr>\n",
       "    <tr>\n",
       "      <th>9</th>\n",
       "      <td>1001</td>\n",
       "      <td>12</td>\n",
       "      <td>414</td>\n",
       "      <td>47</td>\n",
       "      <td>0</td>\n",
       "      <td>14036.66</td>\n",
       "      <td>14</td>\n",
       "      <td>Москва</td>\n",
       "      <td>smart</td>\n",
       "      <td>50</td>\n",
       "      <td>15360</td>\n",
       "      <td>500</td>\n",
       "      <td>550</td>\n",
       "      <td>200</td>\n",
       "      <td>3</td>\n",
       "      <td>3</td>\n",
       "    </tr>\n",
       "  </tbody>\n",
       "</table>\n",
       "</div>"
      ],
      "text/plain": [
       "   user_id  month  call_duration  call_quantity  message_quantity  \\\n",
       "0     1000      5            159             17                22   \n",
       "1     1000      6            172             28                60   \n",
       "2     1000      7            340             41                75   \n",
       "3     1000      8            408             42                81   \n",
       "4     1000      9            466             46                57   \n",
       "5     1000     10            350             44                73   \n",
       "6     1000     11            338             37                58   \n",
       "7     1000     12            333             38                70   \n",
       "8     1001     11            430             45                 0   \n",
       "9     1001     12            414             47                 0   \n",
       "\n",
       "   internet_mb_used  internet_gb_used       city tariff  messages_included  \\\n",
       "0           2253.49                 3  Краснодар  ultra               1000   \n",
       "1          23233.77                23  Краснодар  ultra               1000   \n",
       "2          14003.64                14  Краснодар  ultra               1000   \n",
       "3          14055.93                14  Краснодар  ultra               1000   \n",
       "4          14568.91                15  Краснодар  ultra               1000   \n",
       "5          14702.49                15  Краснодар  ultra               1000   \n",
       "6          14756.47                15  Краснодар  ultra               1000   \n",
       "7           9817.61                10  Краснодар  ultra               1000   \n",
       "8          18429.34                18     Москва  smart                 50   \n",
       "9          14036.66                14     Москва  smart                 50   \n",
       "\n",
       "   mb_per_month_included  minutes_included  rub_monthly_fee  rub_per_gb  \\\n",
       "0                  30720              3000             1950         150   \n",
       "1                  30720              3000             1950         150   \n",
       "2                  30720              3000             1950         150   \n",
       "3                  30720              3000             1950         150   \n",
       "4                  30720              3000             1950         150   \n",
       "5                  30720              3000             1950         150   \n",
       "6                  30720              3000             1950         150   \n",
       "7                  30720              3000             1950         150   \n",
       "8                  15360               500              550         200   \n",
       "9                  15360               500              550         200   \n",
       "\n",
       "   rub_per_message  rub_per_minute  \n",
       "0                1               1  \n",
       "1                1               1  \n",
       "2                1               1  \n",
       "3                1               1  \n",
       "4                1               1  \n",
       "5                1               1  \n",
       "6                1               1  \n",
       "7                1               1  \n",
       "8                3               3  \n",
       "9                3               3  "
      ]
     },
     "execution_count": 19,
     "metadata": {},
     "output_type": "execute_result"
    }
   ],
   "source": [
    "data.info()\n",
    "data.head(10)"
   ]
  },
  {
   "cell_type": "markdown",
   "metadata": {},
   "source": [
    "Расчитаем помесячную выручку с каждого пользователя за каждый месяц.\n",
    "\n",
    "Для этого помесячную выручку с каждого пользователя вычтем бесплатный лимит из суммарного количества звонков, сообщений и интернет-трафика, остаток умножим на значение из тарифного плана, прибавим абонентскую плату, соответствующую тарифному плану.\n",
    "\n",
    "Для расчетов напишем функцию `get_income`. Создадим столбец `income`, который заполним значением, возвращаемым данной функцией с помощью метода `apply` с указанием параемтра `axis = 1` (построчно)."
   ]
  },
  {
   "cell_type": "code",
   "execution_count": 20,
   "metadata": {},
   "outputs": [
    {
     "data": {
      "text/html": [
       "<div>\n",
       "<style scoped>\n",
       "    .dataframe tbody tr th:only-of-type {\n",
       "        vertical-align: middle;\n",
       "    }\n",
       "\n",
       "    .dataframe tbody tr th {\n",
       "        vertical-align: top;\n",
       "    }\n",
       "\n",
       "    .dataframe thead th {\n",
       "        text-align: right;\n",
       "    }\n",
       "</style>\n",
       "<table border=\"1\" class=\"dataframe\">\n",
       "  <thead>\n",
       "    <tr style=\"text-align: right;\">\n",
       "      <th></th>\n",
       "      <th>user_id</th>\n",
       "      <th>month</th>\n",
       "      <th>call_duration</th>\n",
       "      <th>call_quantity</th>\n",
       "      <th>message_quantity</th>\n",
       "      <th>internet_mb_used</th>\n",
       "      <th>internet_gb_used</th>\n",
       "      <th>city</th>\n",
       "      <th>tariff</th>\n",
       "      <th>messages_included</th>\n",
       "      <th>mb_per_month_included</th>\n",
       "      <th>minutes_included</th>\n",
       "      <th>rub_monthly_fee</th>\n",
       "      <th>rub_per_gb</th>\n",
       "      <th>rub_per_message</th>\n",
       "      <th>rub_per_minute</th>\n",
       "      <th>income</th>\n",
       "    </tr>\n",
       "  </thead>\n",
       "  <tbody>\n",
       "    <tr>\n",
       "      <th>0</th>\n",
       "      <td>1000</td>\n",
       "      <td>5</td>\n",
       "      <td>159</td>\n",
       "      <td>17</td>\n",
       "      <td>22</td>\n",
       "      <td>2253.49</td>\n",
       "      <td>3</td>\n",
       "      <td>Краснодар</td>\n",
       "      <td>ultra</td>\n",
       "      <td>1000</td>\n",
       "      <td>30720</td>\n",
       "      <td>3000</td>\n",
       "      <td>1950</td>\n",
       "      <td>150</td>\n",
       "      <td>1</td>\n",
       "      <td>1</td>\n",
       "      <td>1950</td>\n",
       "    </tr>\n",
       "    <tr>\n",
       "      <th>1</th>\n",
       "      <td>1000</td>\n",
       "      <td>6</td>\n",
       "      <td>172</td>\n",
       "      <td>28</td>\n",
       "      <td>60</td>\n",
       "      <td>23233.77</td>\n",
       "      <td>23</td>\n",
       "      <td>Краснодар</td>\n",
       "      <td>ultra</td>\n",
       "      <td>1000</td>\n",
       "      <td>30720</td>\n",
       "      <td>3000</td>\n",
       "      <td>1950</td>\n",
       "      <td>150</td>\n",
       "      <td>1</td>\n",
       "      <td>1</td>\n",
       "      <td>1950</td>\n",
       "    </tr>\n",
       "    <tr>\n",
       "      <th>2</th>\n",
       "      <td>1000</td>\n",
       "      <td>7</td>\n",
       "      <td>340</td>\n",
       "      <td>41</td>\n",
       "      <td>75</td>\n",
       "      <td>14003.64</td>\n",
       "      <td>14</td>\n",
       "      <td>Краснодар</td>\n",
       "      <td>ultra</td>\n",
       "      <td>1000</td>\n",
       "      <td>30720</td>\n",
       "      <td>3000</td>\n",
       "      <td>1950</td>\n",
       "      <td>150</td>\n",
       "      <td>1</td>\n",
       "      <td>1</td>\n",
       "      <td>1950</td>\n",
       "    </tr>\n",
       "    <tr>\n",
       "      <th>3</th>\n",
       "      <td>1000</td>\n",
       "      <td>8</td>\n",
       "      <td>408</td>\n",
       "      <td>42</td>\n",
       "      <td>81</td>\n",
       "      <td>14055.93</td>\n",
       "      <td>14</td>\n",
       "      <td>Краснодар</td>\n",
       "      <td>ultra</td>\n",
       "      <td>1000</td>\n",
       "      <td>30720</td>\n",
       "      <td>3000</td>\n",
       "      <td>1950</td>\n",
       "      <td>150</td>\n",
       "      <td>1</td>\n",
       "      <td>1</td>\n",
       "      <td>1950</td>\n",
       "    </tr>\n",
       "    <tr>\n",
       "      <th>4</th>\n",
       "      <td>1000</td>\n",
       "      <td>9</td>\n",
       "      <td>466</td>\n",
       "      <td>46</td>\n",
       "      <td>57</td>\n",
       "      <td>14568.91</td>\n",
       "      <td>15</td>\n",
       "      <td>Краснодар</td>\n",
       "      <td>ultra</td>\n",
       "      <td>1000</td>\n",
       "      <td>30720</td>\n",
       "      <td>3000</td>\n",
       "      <td>1950</td>\n",
       "      <td>150</td>\n",
       "      <td>1</td>\n",
       "      <td>1</td>\n",
       "      <td>1950</td>\n",
       "    </tr>\n",
       "    <tr>\n",
       "      <th>5</th>\n",
       "      <td>1000</td>\n",
       "      <td>10</td>\n",
       "      <td>350</td>\n",
       "      <td>44</td>\n",
       "      <td>73</td>\n",
       "      <td>14702.49</td>\n",
       "      <td>15</td>\n",
       "      <td>Краснодар</td>\n",
       "      <td>ultra</td>\n",
       "      <td>1000</td>\n",
       "      <td>30720</td>\n",
       "      <td>3000</td>\n",
       "      <td>1950</td>\n",
       "      <td>150</td>\n",
       "      <td>1</td>\n",
       "      <td>1</td>\n",
       "      <td>1950</td>\n",
       "    </tr>\n",
       "    <tr>\n",
       "      <th>6</th>\n",
       "      <td>1000</td>\n",
       "      <td>11</td>\n",
       "      <td>338</td>\n",
       "      <td>37</td>\n",
       "      <td>58</td>\n",
       "      <td>14756.47</td>\n",
       "      <td>15</td>\n",
       "      <td>Краснодар</td>\n",
       "      <td>ultra</td>\n",
       "      <td>1000</td>\n",
       "      <td>30720</td>\n",
       "      <td>3000</td>\n",
       "      <td>1950</td>\n",
       "      <td>150</td>\n",
       "      <td>1</td>\n",
       "      <td>1</td>\n",
       "      <td>1950</td>\n",
       "    </tr>\n",
       "    <tr>\n",
       "      <th>7</th>\n",
       "      <td>1000</td>\n",
       "      <td>12</td>\n",
       "      <td>333</td>\n",
       "      <td>38</td>\n",
       "      <td>70</td>\n",
       "      <td>9817.61</td>\n",
       "      <td>10</td>\n",
       "      <td>Краснодар</td>\n",
       "      <td>ultra</td>\n",
       "      <td>1000</td>\n",
       "      <td>30720</td>\n",
       "      <td>3000</td>\n",
       "      <td>1950</td>\n",
       "      <td>150</td>\n",
       "      <td>1</td>\n",
       "      <td>1</td>\n",
       "      <td>1950</td>\n",
       "    </tr>\n",
       "    <tr>\n",
       "      <th>8</th>\n",
       "      <td>1001</td>\n",
       "      <td>11</td>\n",
       "      <td>430</td>\n",
       "      <td>45</td>\n",
       "      <td>0</td>\n",
       "      <td>18429.34</td>\n",
       "      <td>18</td>\n",
       "      <td>Москва</td>\n",
       "      <td>smart</td>\n",
       "      <td>50</td>\n",
       "      <td>15360</td>\n",
       "      <td>500</td>\n",
       "      <td>550</td>\n",
       "      <td>200</td>\n",
       "      <td>3</td>\n",
       "      <td>3</td>\n",
       "      <td>1150</td>\n",
       "    </tr>\n",
       "    <tr>\n",
       "      <th>9</th>\n",
       "      <td>1001</td>\n",
       "      <td>12</td>\n",
       "      <td>414</td>\n",
       "      <td>47</td>\n",
       "      <td>0</td>\n",
       "      <td>14036.66</td>\n",
       "      <td>14</td>\n",
       "      <td>Москва</td>\n",
       "      <td>smart</td>\n",
       "      <td>50</td>\n",
       "      <td>15360</td>\n",
       "      <td>500</td>\n",
       "      <td>550</td>\n",
       "      <td>200</td>\n",
       "      <td>3</td>\n",
       "      <td>3</td>\n",
       "      <td>550</td>\n",
       "    </tr>\n",
       "  </tbody>\n",
       "</table>\n",
       "</div>"
      ],
      "text/plain": [
       "   user_id  month  call_duration  call_quantity  message_quantity  \\\n",
       "0     1000      5            159             17                22   \n",
       "1     1000      6            172             28                60   \n",
       "2     1000      7            340             41                75   \n",
       "3     1000      8            408             42                81   \n",
       "4     1000      9            466             46                57   \n",
       "5     1000     10            350             44                73   \n",
       "6     1000     11            338             37                58   \n",
       "7     1000     12            333             38                70   \n",
       "8     1001     11            430             45                 0   \n",
       "9     1001     12            414             47                 0   \n",
       "\n",
       "   internet_mb_used  internet_gb_used       city tariff  messages_included  \\\n",
       "0           2253.49                 3  Краснодар  ultra               1000   \n",
       "1          23233.77                23  Краснодар  ultra               1000   \n",
       "2          14003.64                14  Краснодар  ultra               1000   \n",
       "3          14055.93                14  Краснодар  ultra               1000   \n",
       "4          14568.91                15  Краснодар  ultra               1000   \n",
       "5          14702.49                15  Краснодар  ultra               1000   \n",
       "6          14756.47                15  Краснодар  ultra               1000   \n",
       "7           9817.61                10  Краснодар  ultra               1000   \n",
       "8          18429.34                18     Москва  smart                 50   \n",
       "9          14036.66                14     Москва  smart                 50   \n",
       "\n",
       "   mb_per_month_included  minutes_included  rub_monthly_fee  rub_per_gb  \\\n",
       "0                  30720              3000             1950         150   \n",
       "1                  30720              3000             1950         150   \n",
       "2                  30720              3000             1950         150   \n",
       "3                  30720              3000             1950         150   \n",
       "4                  30720              3000             1950         150   \n",
       "5                  30720              3000             1950         150   \n",
       "6                  30720              3000             1950         150   \n",
       "7                  30720              3000             1950         150   \n",
       "8                  15360               500              550         200   \n",
       "9                  15360               500              550         200   \n",
       "\n",
       "   rub_per_message  rub_per_minute  income  \n",
       "0                1               1    1950  \n",
       "1                1               1    1950  \n",
       "2                1               1    1950  \n",
       "3                1               1    1950  \n",
       "4                1               1    1950  \n",
       "5                1               1    1950  \n",
       "6                1               1    1950  \n",
       "7                1               1    1950  \n",
       "8                3               3    1150  \n",
       "9                3               3     550  "
      ]
     },
     "execution_count": 20,
     "metadata": {},
     "output_type": "execute_result"
    }
   ],
   "source": [
    "# функция подсчета выручки\n",
    "def get_income(row):\n",
    "    total = 0\n",
    "    # перерасход звонков\n",
    "    if row['call_duration'] > row['minutes_included']:\n",
    "        total += (row['call_duration'] - row['minutes_included']) * row['rub_per_minute']\n",
    "    # перерасход собщений\n",
    "    if row['message_quantity'] > row['messages_included']:\n",
    "        total += (row['message_quantity'] - row['messages_included']) * row['rub_per_message']\n",
    "    # перерасход интернета\n",
    "    if row['internet_mb_used'] > row['mb_per_month_included']:\n",
    "        total += math.ceil((row['internet_mb_used'] - row['mb_per_month_included']) / 1024)\\\n",
    "        * row['rub_per_gb']\n",
    "    # тарифный план\n",
    "    total += row['rub_monthly_fee']\n",
    "    return total\n",
    "    \n",
    "    \n",
    "data['income'] = data.apply(get_income, axis = 1).astype('int')\n",
    "# вывод первых 10 строк полученной таблицы\n",
    "data.head(10)"
   ]
  },
  {
   "cell_type": "markdown",
   "metadata": {},
   "source": [
    "### Проверка дубликатов"
   ]
  },
  {
   "cell_type": "markdown",
   "metadata": {},
   "source": [
    "Проверим количесвто строк-дубликатов методом `duplicated`."
   ]
  },
  {
   "cell_type": "code",
   "execution_count": 21,
   "metadata": {
    "scrolled": true
   },
   "outputs": [
    {
     "data": {
      "text/plain": [
       "0"
      ]
     },
     "execution_count": 21,
     "metadata": {},
     "output_type": "execute_result"
    }
   ],
   "source": [
    "data.duplicated().sum()"
   ]
  },
  {
   "cell_type": "markdown",
   "metadata": {},
   "source": [
    "### Вывод"
   ]
  },
  {
   "cell_type": "markdown",
   "metadata": {},
   "source": [
    "При обработке пропусков, были найдены пропуски в столбце `churn_date` таблицы `users`. Они означают, что пользователи не закончили пользоваться пакетом на момент выгрузки данных. Оставили эти значения бе зизменений. Также присутвуют нулевые звонки (пропущенные) и ошибочные интернет-сессии. Строки с нулевыми щначениями не удалялись, так как при дальнейшей работе мы считали месячный расход по каждому пользователю.\n",
    "\n",
    "Были изменены типы данных у столбцоы с датой. Минуты округлили до целых значений в большую сторону, а мегабайты переведены в гигабайты делением на 1024 тоже с округлением вверх, согласно условиям тарифов.\n",
    "\n",
    "Для каждого пользователя расчитаны:\n",
    "* количество сделанных звонков и израсходованных минут разговора по месяцам `call_quantity` и `call_duration`;\n",
    "* количество отправленных сообщений по месяцам `message_quantity`;\n",
    "* объем израсходованного интернет-трафика по месяцам `internet_gb_used`;\n",
    "* помесячная выручка с каждого пользователя по месяцам `income`.\n",
    "\n",
    "По итогу предобратоботки данных все данные собраны в одну таблицу, в которой 21 столбец и 3214 строк. Дубликатов нет."
   ]
  },
  {
   "cell_type": "markdown",
   "metadata": {},
   "source": [
    "## Анализ данных"
   ]
  },
  {
   "cell_type": "markdown",
   "metadata": {},
   "source": [
    "### Анализ пользователей каждого тарифа"
   ]
  },
  {
   "cell_type": "markdown",
   "metadata": {},
   "source": [
    "Разделим данные по тарифам Смарт и Ультра. Посмотрим с помощью метода `describe()` на характеристики слудующих значений:\n",
    "* длительность звонков `call_duration`,\n",
    "* количество сообщений `message_quantity`,\n",
    "* объем интернет-трафика `internet_gb_used`."
   ]
  },
  {
   "cell_type": "code",
   "execution_count": 22,
   "metadata": {},
   "outputs": [
    {
     "name": "stdout",
     "output_type": "stream",
     "text": [
      "Тариф Смарт\n"
     ]
    },
    {
     "data": {
      "text/html": [
       "<div>\n",
       "<style scoped>\n",
       "    .dataframe tbody tr th:only-of-type {\n",
       "        vertical-align: middle;\n",
       "    }\n",
       "\n",
       "    .dataframe tbody tr th {\n",
       "        vertical-align: top;\n",
       "    }\n",
       "\n",
       "    .dataframe thead th {\n",
       "        text-align: right;\n",
       "    }\n",
       "</style>\n",
       "<table border=\"1\" class=\"dataframe\">\n",
       "  <thead>\n",
       "    <tr style=\"text-align: right;\">\n",
       "      <th></th>\n",
       "      <th>call_duration</th>\n",
       "      <th>message_quantity</th>\n",
       "      <th>internet_gb_used</th>\n",
       "    </tr>\n",
       "  </thead>\n",
       "  <tbody>\n",
       "    <tr>\n",
       "      <th>count</th>\n",
       "      <td>2229.000000</td>\n",
       "      <td>2229.000000</td>\n",
       "      <td>2229.000000</td>\n",
       "    </tr>\n",
       "    <tr>\n",
       "      <th>mean</th>\n",
       "      <td>417.934948</td>\n",
       "      <td>33.384029</td>\n",
       "      <td>16.328847</td>\n",
       "    </tr>\n",
       "    <tr>\n",
       "      <th>std</th>\n",
       "      <td>190.313730</td>\n",
       "      <td>28.227876</td>\n",
       "      <td>5.747061</td>\n",
       "    </tr>\n",
       "    <tr>\n",
       "      <th>min</th>\n",
       "      <td>0.000000</td>\n",
       "      <td>0.000000</td>\n",
       "      <td>0.000000</td>\n",
       "    </tr>\n",
       "    <tr>\n",
       "      <th>25%</th>\n",
       "      <td>282.000000</td>\n",
       "      <td>10.000000</td>\n",
       "      <td>13.000000</td>\n",
       "    </tr>\n",
       "    <tr>\n",
       "      <th>50%</th>\n",
       "      <td>422.000000</td>\n",
       "      <td>28.000000</td>\n",
       "      <td>17.000000</td>\n",
       "    </tr>\n",
       "    <tr>\n",
       "      <th>75%</th>\n",
       "      <td>545.000000</td>\n",
       "      <td>51.000000</td>\n",
       "      <td>20.000000</td>\n",
       "    </tr>\n",
       "    <tr>\n",
       "      <th>max</th>\n",
       "      <td>1435.000000</td>\n",
       "      <td>143.000000</td>\n",
       "      <td>38.000000</td>\n",
       "    </tr>\n",
       "  </tbody>\n",
       "</table>\n",
       "</div>"
      ],
      "text/plain": [
       "       call_duration  message_quantity  internet_gb_used\n",
       "count    2229.000000       2229.000000       2229.000000\n",
       "mean      417.934948         33.384029         16.328847\n",
       "std       190.313730         28.227876          5.747061\n",
       "min         0.000000          0.000000          0.000000\n",
       "25%       282.000000         10.000000         13.000000\n",
       "50%       422.000000         28.000000         17.000000\n",
       "75%       545.000000         51.000000         20.000000\n",
       "max      1435.000000        143.000000         38.000000"
      ]
     },
     "metadata": {},
     "output_type": "display_data"
    },
    {
     "name": "stdout",
     "output_type": "stream",
     "text": [
      "Тариф Ультра\n"
     ]
    },
    {
     "data": {
      "text/html": [
       "<div>\n",
       "<style scoped>\n",
       "    .dataframe tbody tr th:only-of-type {\n",
       "        vertical-align: middle;\n",
       "    }\n",
       "\n",
       "    .dataframe tbody tr th {\n",
       "        vertical-align: top;\n",
       "    }\n",
       "\n",
       "    .dataframe thead th {\n",
       "        text-align: right;\n",
       "    }\n",
       "</style>\n",
       "<table border=\"1\" class=\"dataframe\">\n",
       "  <thead>\n",
       "    <tr style=\"text-align: right;\">\n",
       "      <th></th>\n",
       "      <th>call_duration</th>\n",
       "      <th>message_quantity</th>\n",
       "      <th>internet_gb_used</th>\n",
       "    </tr>\n",
       "  </thead>\n",
       "  <tbody>\n",
       "    <tr>\n",
       "      <th>count</th>\n",
       "      <td>985.000000</td>\n",
       "      <td>985.000000</td>\n",
       "      <td>985.000000</td>\n",
       "    </tr>\n",
       "    <tr>\n",
       "      <th>mean</th>\n",
       "      <td>526.623350</td>\n",
       "      <td>49.363452</td>\n",
       "      <td>19.494416</td>\n",
       "    </tr>\n",
       "    <tr>\n",
       "      <th>std</th>\n",
       "      <td>317.606098</td>\n",
       "      <td>47.804457</td>\n",
       "      <td>9.853511</td>\n",
       "    </tr>\n",
       "    <tr>\n",
       "      <th>min</th>\n",
       "      <td>0.000000</td>\n",
       "      <td>0.000000</td>\n",
       "      <td>0.000000</td>\n",
       "    </tr>\n",
       "    <tr>\n",
       "      <th>25%</th>\n",
       "      <td>284.000000</td>\n",
       "      <td>6.000000</td>\n",
       "      <td>12.000000</td>\n",
       "    </tr>\n",
       "    <tr>\n",
       "      <th>50%</th>\n",
       "      <td>518.000000</td>\n",
       "      <td>38.000000</td>\n",
       "      <td>19.000000</td>\n",
       "    </tr>\n",
       "    <tr>\n",
       "      <th>75%</th>\n",
       "      <td>752.000000</td>\n",
       "      <td>79.000000</td>\n",
       "      <td>27.000000</td>\n",
       "    </tr>\n",
       "    <tr>\n",
       "      <th>max</th>\n",
       "      <td>1673.000000</td>\n",
       "      <td>224.000000</td>\n",
       "      <td>49.000000</td>\n",
       "    </tr>\n",
       "  </tbody>\n",
       "</table>\n",
       "</div>"
      ],
      "text/plain": [
       "       call_duration  message_quantity  internet_gb_used\n",
       "count     985.000000        985.000000        985.000000\n",
       "mean      526.623350         49.363452         19.494416\n",
       "std       317.606098         47.804457          9.853511\n",
       "min         0.000000          0.000000          0.000000\n",
       "25%       284.000000          6.000000         12.000000\n",
       "50%       518.000000         38.000000         19.000000\n",
       "75%       752.000000         79.000000         27.000000\n",
       "max      1673.000000        224.000000         49.000000"
      ]
     },
     "metadata": {},
     "output_type": "display_data"
    }
   ],
   "source": [
    "# разделим данные по тарифам\n",
    "data_smart = data.query('tariff == \"smart\"')\n",
    "data_ultra = data.query('tariff == \"ultra\"')\n",
    "\n",
    "print('Тариф Смарт')\n",
    "display(data_smart[['call_duration', 'message_quantity', 'internet_gb_used']].describe())\n",
    "print('Тариф Ультра')\n",
    "display(data_ultra[['call_duration', 'message_quantity', 'internet_gb_used']].describe())\n",
    "#print(np.var(data_smart['call_duration']), np.std(data_smart['call_duration']))"
   ]
  },
  {
   "cell_type": "markdown",
   "metadata": {},
   "source": [
    "В среднем пользователи тарифа Смарт осуществляют звонки длительностью 422 минуты, отправляют 28 сообщения и искользуют 17гб интернета в месяц.\n",
    "\n",
    "Пользователи тарифа Ультра в среднем осуществляют звонки длительностью 518 минуты, отправляют 38 сообщения и искользуют 19гб интернета в месяц.\n",
    "\n",
    "Средние значения по расходам в тарифе Ультра не сильно больше, чем в Смарт, хотя возможности пакета гораздо больше."
   ]
  },
  {
   "cell_type": "markdown",
   "metadata": {},
   "source": [
    "Посчитаем дисперсию и стандартное отклонение тех же значений по тарифам и построим графики распределения."
   ]
  },
  {
   "cell_type": "code",
   "execution_count": 23,
   "metadata": {},
   "outputs": [
    {
     "data": {
      "image/png": "[encoded data removed]",
      "text/plain": [
       "<Figure size 432x288 with 1 Axes>"
      ]
     },
     "metadata": {
      "needs_background": "light"
     },
     "output_type": "display_data"
    },
    {
     "data": {
      "text/html": [
       "<div>\n",
       "<style scoped>\n",
       "    .dataframe tbody tr th:only-of-type {\n",
       "        vertical-align: middle;\n",
       "    }\n",
       "\n",
       "    .dataframe tbody tr th {\n",
       "        vertical-align: top;\n",
       "    }\n",
       "\n",
       "    .dataframe thead th {\n",
       "        text-align: right;\n",
       "    }\n",
       "</style>\n",
       "<table border=\"1\" class=\"dataframe\">\n",
       "  <thead>\n",
       "    <tr style=\"text-align: right;\">\n",
       "      <th></th>\n",
       "      <th>var</th>\n",
       "      <th>std</th>\n",
       "    </tr>\n",
       "    <tr>\n",
       "      <th>tariff</th>\n",
       "      <th></th>\n",
       "      <th></th>\n",
       "    </tr>\n",
       "  </thead>\n",
       "  <tbody>\n",
       "    <tr>\n",
       "      <th>smart</th>\n",
       "      <td>36219.32</td>\n",
       "      <td>190.31</td>\n",
       "    </tr>\n",
       "    <tr>\n",
       "      <th>ultra</th>\n",
       "      <td>100873.63</td>\n",
       "      <td>317.61</td>\n",
       "    </tr>\n",
       "  </tbody>\n",
       "</table>\n",
       "</div>"
      ],
      "text/plain": [
       "              var     std\n",
       "tariff                   \n",
       "smart    36219.32  190.31\n",
       "ultra   100873.63  317.61"
      ]
     },
     "metadata": {},
     "output_type": "display_data"
    },
    {
     "data": {
      "image/png": "[encoded data removed]",
      "text/plain": [
       "<Figure size 432x288 with 1 Axes>"
      ]
     },
     "metadata": {
      "needs_background": "light"
     },
     "output_type": "display_data"
    },
    {
     "data": {
      "text/html": [
       "<div>\n",
       "<style scoped>\n",
       "    .dataframe tbody tr th:only-of-type {\n",
       "        vertical-align: middle;\n",
       "    }\n",
       "\n",
       "    .dataframe tbody tr th {\n",
       "        vertical-align: top;\n",
       "    }\n",
       "\n",
       "    .dataframe thead th {\n",
       "        text-align: right;\n",
       "    }\n",
       "</style>\n",
       "<table border=\"1\" class=\"dataframe\">\n",
       "  <thead>\n",
       "    <tr style=\"text-align: right;\">\n",
       "      <th></th>\n",
       "      <th>var</th>\n",
       "      <th>std</th>\n",
       "    </tr>\n",
       "    <tr>\n",
       "      <th>tariff</th>\n",
       "      <th></th>\n",
       "      <th></th>\n",
       "    </tr>\n",
       "  </thead>\n",
       "  <tbody>\n",
       "    <tr>\n",
       "      <th>smart</th>\n",
       "      <td>796.81</td>\n",
       "      <td>28.23</td>\n",
       "    </tr>\n",
       "    <tr>\n",
       "      <th>ultra</th>\n",
       "      <td>2285.27</td>\n",
       "      <td>47.80</td>\n",
       "    </tr>\n",
       "  </tbody>\n",
       "</table>\n",
       "</div>"
      ],
      "text/plain": [
       "            var    std\n",
       "tariff                \n",
       "smart    796.81  28.23\n",
       "ultra   2285.27  47.80"
      ]
     },
     "metadata": {},
     "output_type": "display_data"
    },
    {
     "data": {
      "image/png": "[encoded data removed]",
      "text/plain": [
       "<Figure size 432x288 with 1 Axes>"
      ]
     },
     "metadata": {
      "needs_background": "light"
     },
     "output_type": "display_data"
    },
    {
     "data": {
      "text/html": [
       "<div>\n",
       "<style scoped>\n",
       "    .dataframe tbody tr th:only-of-type {\n",
       "        vertical-align: middle;\n",
       "    }\n",
       "\n",
       "    .dataframe tbody tr th {\n",
       "        vertical-align: top;\n",
       "    }\n",
       "\n",
       "    .dataframe thead th {\n",
       "        text-align: right;\n",
       "    }\n",
       "</style>\n",
       "<table border=\"1\" class=\"dataframe\">\n",
       "  <thead>\n",
       "    <tr style=\"text-align: right;\">\n",
       "      <th></th>\n",
       "      <th>var</th>\n",
       "      <th>std</th>\n",
       "    </tr>\n",
       "    <tr>\n",
       "      <th>tariff</th>\n",
       "      <th></th>\n",
       "      <th></th>\n",
       "    </tr>\n",
       "  </thead>\n",
       "  <tbody>\n",
       "    <tr>\n",
       "      <th>smart</th>\n",
       "      <td>33.03</td>\n",
       "      <td>5.75</td>\n",
       "    </tr>\n",
       "    <tr>\n",
       "      <th>ultra</th>\n",
       "      <td>97.09</td>\n",
       "      <td>9.85</td>\n",
       "    </tr>\n",
       "  </tbody>\n",
       "</table>\n",
       "</div>"
      ],
      "text/plain": [
       "          var   std\n",
       "tariff             \n",
       "smart   33.03  5.75\n",
       "ultra   97.09  9.85"
      ]
     },
     "metadata": {},
     "output_type": "display_data"
    }
   ],
   "source": [
    "for column in ['call_duration', 'message_quantity', 'internet_gb_used']:\n",
    "    data_smart[column].plot(kind='hist', bins=50, grid=True, density=True, label=\"Смарт\", alpha=0.7)\n",
    "    data_ultra[column].plot(kind='hist', bins=50, grid=True, density=True, label=\"Ультра\", alpha=0.7)\n",
    "    plt.title(column)\n",
    "    plt.legend(loc=\"upper right\")\n",
    "    plt.show()\n",
    "    # расчет дисперсии и стандартного отклонения\n",
    "    display(data.groupby('tariff')[column].agg(['var','std']).round(2))"
   ]
  },
  {
   "cell_type": "markdown",
   "metadata": {},
   "source": [
    "Дисперсия характеризует разброс случайной величины вокруг ее математического ожидания. Дисперсия и стандартное отклонение всех значений больше в тарифе Ультра."
   ]
  },
  {
   "cell_type": "markdown",
   "metadata": {},
   "source": [
    "### Вывод"
   ]
  },
  {
   "cell_type": "markdown",
   "metadata": {},
   "source": [
    "Были свормированы две таблицы по тарифам Смарт и Ультра.\n",
    "\n",
    "В среднем пользователи тарифа Смарт осуществляют звонки длительностью 422 минуты, отправляют 28 сообщения и искользуют 17гб интернета в месяц. Пользователи тарифа Ультра в среднем осуществляют звонки длительностью 518 минуты, отправляют 38 сообщения и искользуют 19гб интернета в месяц. То есть средние значения по тарифам не очень сильно отличаются. \n",
    "\n",
    "Для характеристики разброса значений были посчитаны дисперсия и среднее отклонение для всех значений по двум тарифам. Также посмроены гистограммы с наложением на друг друга для наглядности. \n",
    "\n",
    "Распределения тарифа Смарт больше похожи на нормальные, в то время как у тарифа Ультра больший разброс, скачки графика, как следсвие и дисперсия, и стандартное отклонение больше."
   ]
  },
  {
   "cell_type": "markdown",
   "metadata": {},
   "source": [
    "## Проверка гипотез"
   ]
  },
  {
   "cell_type": "markdown",
   "metadata": {},
   "source": [
    "### Гипотеза средняя выручка пользователей тарифов «Ультра» и «Смарт» различаются"
   ]
  },
  {
   "cell_type": "markdown",
   "metadata": {},
   "source": [
    "Проверим гипотезу о том, что средняя выручка пользователей тарифов «Ультра» и «Смарт» различаются.\n",
    "\n",
    "Для проверки импользуем  t-тест для следующих статистических гипотез:\n",
    "* H0: средняя выручка пользователей тарифов «Ультра» и «Смарт» равна\n",
    "* H1: средняя выручка пользователей тарифов «Ультра» и «Смарт» не равна\n",
    "\n",
    "Используем метод для проверки гипотезы о равенстве среднего двух генеральных совокупностей по взятым из них выборкам `scipy.stats.ttest_ind` с параметрами выручки `data_smart['income']` и `data_ultra['income']`."
   ]
  },
  {
   "cell_type": "code",
   "execution_count": 24,
   "metadata": {},
   "outputs": [
    {
     "name": "stdout",
     "output_type": "stream",
     "text": [
      "p-значение:  4.2606313931076085e-250\n",
      "Отвергаем нулевую гипотезу\n"
     ]
    }
   ],
   "source": [
    "alpha = .05 # критический уровень статистической значимости\n",
    "# если p-value окажется меньше него - отвегнем гипотезу\n",
    "\n",
    "results = st.ttest_ind(data_smart['income'], data_ultra['income'], equal_var = False)\n",
    "\n",
    "print('p-значение: ', results.pvalue)\n",
    "\n",
    "if results.pvalue < alpha:\n",
    "    print(\"Отвергаем нулевую гипотезу\")\n",
    "else:\n",
    "    print(\"Не получилось отвергнуть нулевую гипотезу\")"
   ]
  },
  {
   "cell_type": "markdown",
   "metadata": {},
   "source": [
    "Нулевую гипотезу в ходе t-теста мы отвергаем, вероятность почти равна 0, следовательно H1 мы отвергнуть не можем.\n",
    "\n",
    "Для наглядности построим графики распределения выручки по каждому тарифу."
   ]
  },
  {
   "cell_type": "code",
   "execution_count": 25,
   "metadata": {},
   "outputs": [
    {
     "data": {
      "image/png": "[encoded data removed]",
      "text/plain": [
       "<Figure size 720x360 with 1 Axes>"
      ]
     },
     "metadata": {
      "needs_background": "light"
     },
     "output_type": "display_data"
    }
   ],
   "source": [
    "data_smart['income'].plot(kind='kde', figsize=(10,5), label=\"Смарт\")\n",
    "data_ultra['income'].plot(kind='kde', figsize=(10,5), label=\"Ультра\")\n",
    "plt.title('Выручка по тарифам')\n",
    "plt.legend(loc=\"upper right\")\n",
    "plt.show()"
   ]
  },
  {
   "cell_type": "markdown",
   "metadata": {},
   "source": [
    "### Гипотеза выручка пользователей из Москвы отличается от выручки пользователей из других регионов"
   ]
  },
  {
   "cell_type": "markdown",
   "metadata": {},
   "source": [
    "Проверим гипотезу о том, что выручка пользователей Москвы и других регионов различаются.\n",
    "\n",
    "Для проверки импользуем  t-тест для следующих статистических гипотез:\n",
    "* H0: средняя выручка пользователей Москвы и других регионов равна\n",
    "* H1: средняя выручка пользователей Москвы и других регионов не равна\n",
    "\n",
    "Для исследования выделим данные в две таблицы `data_msk` и `data_not_msk`, исходя из значения столбца `city`. Используем для этих таблиц метод для проверки гипотезы о равенстве среднего двух генеральных совокупностей по взятым из них выборкам `scipy.stats.ttest_ind`."
   ]
  },
  {
   "cell_type": "code",
   "execution_count": 26,
   "metadata": {},
   "outputs": [
    {
     "name": "stdout",
     "output_type": "stream",
     "text": [
      "p-значение:  0.5257376663729298\n",
      "Не получилось отвергнуть нулевую гипотезу\n"
     ]
    }
   ],
   "source": [
    "data_msk = data.query('city == \"Москва\"')\n",
    "data_not_msk = data.query('city != \"Москва\"')\n",
    "\n",
    "alpha = .05 # критический уровень статистической значимости\n",
    "# если p-value окажется меньше него - отвегнем гипотезу\n",
    "\n",
    "results = st.ttest_ind(data_msk['income'], data_not_msk['income'], equal_var = False)\n",
    "\n",
    "print('p-значение: ', results.pvalue)\n",
    "\n",
    "if results.pvalue < alpha:\n",
    "    print(\"Отвергаем нулевую гипотезу\")\n",
    "else:\n",
    "    print(\"Не получилось отвергнуть нулевую гипотезу\")"
   ]
  },
  {
   "cell_type": "markdown",
   "metadata": {},
   "source": [
    "Нулевую гипотезу отвергуть не получилось, то есть вероятность того, что выручка в Москве и других регионах равна, не достаточно мала.\n",
    "\n",
    "Для наглядности построим графики распределения выручки по Москве и остальным регионам."
   ]
  },
  {
   "cell_type": "code",
   "execution_count": 27,
   "metadata": {
    "scrolled": false
   },
   "outputs": [
    {
     "data": {
      "image/png": "[encoded data removed]",
      "text/plain": [
       "<Figure size 720x360 with 1 Axes>"
      ]
     },
     "metadata": {
      "needs_background": "light"
     },
     "output_type": "display_data"
    }
   ],
   "source": [
    "data_msk['income'].plot(kind='kde', figsize=(10,5), label=\"Москва\")\n",
    "data_not_msk['income'].plot(kind='kde', figsize=(10,5), label=\"Другие регионы\")\n",
    "plt.title('Выручка по Москве и другим регионам')\n",
    "plt.legend(loc=\"upper right\")\n",
    "plt.show()"
   ]
  },
  {
   "cell_type": "markdown",
   "metadata": {},
   "source": [
    "Видна схожесть графиков распределения по Москве и другим регионам."
   ]
  },
  {
   "cell_type": "markdown",
   "metadata": {},
   "source": [
    "### Вывод"
   ]
  },
  {
   "cell_type": "markdown",
   "metadata": {},
   "source": [
    "Были проведены t-тесты и построены графики распреления для двух гипотез.\n",
    "\n",
    "Гипотезу о неравенстве средней выручки пользователей тарифов «Ультра» и «Смарт» не удалось отвергуть, она верноятна.\n",
    "\n",
    "Гепотезу о том, что выручка пользователей из Москвы отличается от выручки пользователей из других регионов, отвергли в ходе исследования."
   ]
  },
  {
   "cell_type": "markdown",
   "metadata": {},
   "source": [
    "## Общий вывод"
   ]
  },
  {
   "cell_type": "markdown",
   "metadata": {},
   "source": [
    "В ходе проекта были осуществлены следующие этапы:\n",
    "* Изучение данных файла;\n",
    "* Предобратотка данных (включающая в себя обработку пропусков, расчеты параметров по месяцам, объединение данных в одну таблицу, изменение типов данных и проверка на дубликаты);\n",
    "* Анализ поведения пользователей в зависимости от тарифа (по минутам звонков, количесву сообщений и расходу интернет-тарфика);\n",
    "* Проверка гипотез\n",
    "\n",
    "В ходе анализа данных выявили, что расходы минут, сообщений и интернета пользователей разных тарифов имеют близкое среднее. При этом у тарифа Смарт распределение более походит на нормальное, а у тарифа Ультра есть скачки и разбросы.\n",
    "\n",
    "В результате проверки гипотезу о неравенстве выручки в зависимости от тарифа не удаось отвергнуть, гипотезу о неравенсве выручки в замисимоти от Москвы и др. регионов отвергли.\n",
    "\n",
    "Выручка по тарифу Ультра почти всегда 1950р - это стоимость пакета, очень небольшое количество пользователей за нее выходят. Пользователи тарифа Смарт тоже чаще платят по стоимости пакета, но очень много большей выручки - переплат. Иногда расход пользователей этого тарифа превышает и месячную плату за тариф Ультра."
   ]
  },
  {
   "cell_type": "markdown",
   "metadata": {},
   "source": [
    "Сравним доходы комапнии от тарифов Смарт и Ультра с помощью метода `describe()`. Объеденим результат в одну таблицу для наглядности."
   ]
  },
  {
   "cell_type": "code",
   "execution_count": 28,
   "metadata": {
    "scrolled": false
   },
   "outputs": [
    {
     "data": {
      "text/html": [
       "<div>\n",
       "<style scoped>\n",
       "    .dataframe tbody tr th:only-of-type {\n",
       "        vertical-align: middle;\n",
       "    }\n",
       "\n",
       "    .dataframe tbody tr th {\n",
       "        vertical-align: top;\n",
       "    }\n",
       "\n",
       "    .dataframe thead th {\n",
       "        text-align: right;\n",
       "    }\n",
       "</style>\n",
       "<table border=\"1\" class=\"dataframe\">\n",
       "  <thead>\n",
       "    <tr style=\"text-align: right;\">\n",
       "      <th></th>\n",
       "      <th>income_smart</th>\n",
       "      <th>income_ultra</th>\n",
       "    </tr>\n",
       "  </thead>\n",
       "  <tbody>\n",
       "    <tr>\n",
       "      <th>count</th>\n",
       "      <td>2229.000000</td>\n",
       "      <td>985.000000</td>\n",
       "    </tr>\n",
       "    <tr>\n",
       "      <th>mean</th>\n",
       "      <td>1289.973531</td>\n",
       "      <td>2070.152284</td>\n",
       "    </tr>\n",
       "    <tr>\n",
       "      <th>std</th>\n",
       "      <td>818.404367</td>\n",
       "      <td>376.187114</td>\n",
       "    </tr>\n",
       "    <tr>\n",
       "      <th>min</th>\n",
       "      <td>550.000000</td>\n",
       "      <td>1950.000000</td>\n",
       "    </tr>\n",
       "    <tr>\n",
       "      <th>25%</th>\n",
       "      <td>550.000000</td>\n",
       "      <td>1950.000000</td>\n",
       "    </tr>\n",
       "    <tr>\n",
       "      <th>50%</th>\n",
       "      <td>1023.000000</td>\n",
       "      <td>1950.000000</td>\n",
       "    </tr>\n",
       "    <tr>\n",
       "      <th>75%</th>\n",
       "      <td>1750.000000</td>\n",
       "      <td>1950.000000</td>\n",
       "    </tr>\n",
       "    <tr>\n",
       "      <th>max</th>\n",
       "      <td>6770.000000</td>\n",
       "      <td>4800.000000</td>\n",
       "    </tr>\n",
       "  </tbody>\n",
       "</table>\n",
       "</div>"
      ],
      "text/plain": [
       "       income_smart  income_ultra\n",
       "count   2229.000000    985.000000\n",
       "mean    1289.973531   2070.152284\n",
       "std      818.404367    376.187114\n",
       "min      550.000000   1950.000000\n",
       "25%      550.000000   1950.000000\n",
       "50%     1023.000000   1950.000000\n",
       "75%     1750.000000   1950.000000\n",
       "max     6770.000000   4800.000000"
      ]
     },
     "metadata": {},
     "output_type": "display_data"
    }
   ],
   "source": [
    "smart = data_smart[['income']].describe()\n",
    "ultra = data_ultra[['income']].describe()\n",
    "display(smart.join(ultra, how='left', lsuffix='_smart', rsuffix='_ultra'))"
   ]
  },
  {
   "cell_type": "markdown",
   "metadata": {},
   "source": [
    "Тариф Ультра приносит больше денег компании на всех значениях (и минимальном, и среднем, и максимальном). То есть коммерчески тариф Ульра более выгодный для компании. Следовательно рекламу стоит направить именно на данный тариф, тем более что клиентов, использующих тариф Смарт в 2 раза больше."
   ]
  },
  {
   "cell_type": "code",
   "execution_count": null,
   "metadata": {},
   "outputs": [],
   "source": []
  }
 ],
 "metadata": {
  "ExecuteTimeLog": [
   {
    "duration": 765,
    "start_time": "2022-01-14T10:09:46.467Z"
   },
   {
    "duration": 223,
    "start_time": "2022-01-14T10:10:46.073Z"
   },
   {
    "duration": 961,
    "start_time": "2022-01-14T10:11:23.703Z"
   },
   {
    "duration": 848,
    "start_time": "2022-01-14T10:11:41.806Z"
   },
   {
    "duration": 693,
    "start_time": "2022-01-14T10:12:01.547Z"
   },
   {
    "duration": 529,
    "start_time": "2022-01-14T10:12:21.226Z"
   },
   {
    "duration": 502,
    "start_time": "2022-01-14T10:13:09.883Z"
   },
   {
    "duration": 562,
    "start_time": "2022-01-14T10:26:48.854Z"
   },
   {
    "duration": 831,
    "start_time": "2022-01-14T10:27:15.389Z"
   },
   {
    "duration": 776,
    "start_time": "2022-01-14T10:27:23.898Z"
   },
   {
    "duration": 1029,
    "start_time": "2022-01-14T10:30:33.231Z"
   },
   {
    "duration": 578,
    "start_time": "2022-01-14T10:34:53.450Z"
   },
   {
    "duration": 620,
    "start_time": "2022-01-14T10:41:07.799Z"
   },
   {
    "duration": 660,
    "start_time": "2022-01-14T10:41:58.018Z"
   },
   {
    "duration": 674,
    "start_time": "2022-01-14T10:42:55.406Z"
   },
   {
    "duration": 1620,
    "start_time": "2022-01-14T10:43:11.647Z"
   },
   {
    "duration": 650,
    "start_time": "2022-01-14T10:44:49.017Z"
   },
   {
    "duration": 925,
    "start_time": "2022-01-14T10:46:57.526Z"
   },
   {
    "duration": 844,
    "start_time": "2022-01-14T10:47:39.250Z"
   },
   {
    "duration": 626,
    "start_time": "2022-01-14T10:48:40.349Z"
   },
   {
    "duration": 651,
    "start_time": "2022-01-14T10:55:03.769Z"
   },
   {
    "duration": 624,
    "start_time": "2022-01-14T10:55:40.462Z"
   },
   {
    "duration": 647,
    "start_time": "2022-01-14T10:59:38.949Z"
   },
   {
    "duration": 643,
    "start_time": "2022-01-14T11:01:51.903Z"
   },
   {
    "duration": 1368,
    "start_time": "2022-01-18T05:46:43.996Z"
   },
   {
    "duration": 18,
    "start_time": "2022-01-18T05:48:15.575Z"
   },
   {
    "duration": 23,
    "start_time": "2022-01-18T05:53:19.898Z"
   },
   {
    "duration": 17,
    "start_time": "2022-01-18T05:54:33.999Z"
   },
   {
    "duration": 26,
    "start_time": "2022-01-18T05:55:36.619Z"
   },
   {
    "duration": 11,
    "start_time": "2022-01-18T05:56:02.591Z"
   },
   {
    "duration": 20,
    "start_time": "2022-01-18T06:02:46.133Z"
   },
   {
    "duration": 1302,
    "start_time": "2022-01-18T06:03:10.565Z"
   },
   {
    "duration": 16,
    "start_time": "2022-01-18T06:03:11.869Z"
   },
   {
    "duration": 22,
    "start_time": "2022-01-18T06:03:11.889Z"
   },
   {
    "duration": 25,
    "start_time": "2022-01-18T06:03:11.912Z"
   },
   {
    "duration": 22,
    "start_time": "2022-01-18T06:03:11.939Z"
   },
   {
    "duration": 9,
    "start_time": "2022-01-18T06:03:11.962Z"
   },
   {
    "duration": 15,
    "start_time": "2022-01-18T06:03:11.973Z"
   },
   {
    "duration": 18,
    "start_time": "2022-01-18T06:03:33.071Z"
   },
   {
    "duration": 1387,
    "start_time": "2022-01-18T08:07:50.495Z"
   },
   {
    "duration": 17,
    "start_time": "2022-01-18T08:07:51.883Z"
   },
   {
    "duration": 46,
    "start_time": "2022-01-18T08:07:51.902Z"
   },
   {
    "duration": 16,
    "start_time": "2022-01-18T08:07:51.950Z"
   },
   {
    "duration": 44,
    "start_time": "2022-01-18T08:07:51.968Z"
   },
   {
    "duration": 9,
    "start_time": "2022-01-18T08:07:52.014Z"
   },
   {
    "duration": 40,
    "start_time": "2022-01-18T08:07:52.025Z"
   },
   {
    "duration": 1361,
    "start_time": "2022-01-18T08:13:35.069Z"
   },
   {
    "duration": 25,
    "start_time": "2022-01-18T08:13:36.433Z"
   },
   {
    "duration": 25,
    "start_time": "2022-01-18T08:13:36.460Z"
   },
   {
    "duration": 18,
    "start_time": "2022-01-18T08:13:36.486Z"
   },
   {
    "duration": 42,
    "start_time": "2022-01-18T08:13:36.506Z"
   },
   {
    "duration": 13,
    "start_time": "2022-01-18T08:13:36.550Z"
   },
   {
    "duration": 24,
    "start_time": "2022-01-18T08:16:56.697Z"
   },
   {
    "duration": 27,
    "start_time": "2022-01-18T08:17:08.600Z"
   },
   {
    "duration": 27,
    "start_time": "2022-01-18T08:17:14.477Z"
   },
   {
    "duration": 23,
    "start_time": "2022-01-18T08:17:27.756Z"
   },
   {
    "duration": 25,
    "start_time": "2022-01-18T08:17:38.267Z"
   },
   {
    "duration": 302,
    "start_time": "2022-01-18T10:25:09.795Z"
   },
   {
    "duration": 1364,
    "start_time": "2022-01-18T10:25:16.954Z"
   },
   {
    "duration": 17,
    "start_time": "2022-01-18T10:25:18.320Z"
   },
   {
    "duration": 29,
    "start_time": "2022-01-18T10:25:18.339Z"
   },
   {
    "duration": 16,
    "start_time": "2022-01-18T10:25:18.370Z"
   },
   {
    "duration": 19,
    "start_time": "2022-01-18T10:25:18.388Z"
   },
   {
    "duration": 10,
    "start_time": "2022-01-18T10:25:18.408Z"
   },
   {
    "duration": 378,
    "start_time": "2022-01-18T10:25:18.419Z"
   },
   {
    "duration": 6709,
    "start_time": "2022-01-18T10:25:39.023Z"
   },
   {
    "duration": 7755,
    "start_time": "2022-01-18T10:25:55.277Z"
   },
   {
    "duration": 6405,
    "start_time": "2022-01-18T10:26:07.195Z"
   },
   {
    "duration": 13,
    "start_time": "2022-01-18T10:27:29.044Z"
   },
   {
    "duration": 13,
    "start_time": "2022-01-18T10:30:59.665Z"
   },
   {
    "duration": 13,
    "start_time": "2022-01-18T10:31:15.236Z"
   },
   {
    "duration": 12,
    "start_time": "2022-01-18T10:31:33.935Z"
   },
   {
    "duration": 13,
    "start_time": "2022-01-18T10:31:50.025Z"
   },
   {
    "duration": 8,
    "start_time": "2022-01-18T10:32:50.583Z"
   },
   {
    "duration": 15,
    "start_time": "2022-01-18T10:34:51.187Z"
   },
   {
    "duration": 12,
    "start_time": "2022-01-18T10:36:46.676Z"
   },
   {
    "duration": 139,
    "start_time": "2022-01-18T10:46:55.012Z"
   },
   {
    "duration": 12,
    "start_time": "2022-01-18T10:47:18.762Z"
   },
   {
    "duration": 145,
    "start_time": "2022-01-18T10:47:32.071Z"
   },
   {
    "duration": 14,
    "start_time": "2022-01-18T10:48:33.313Z"
   },
   {
    "duration": 16,
    "start_time": "2022-01-18T10:49:10.830Z"
   },
   {
    "duration": 23,
    "start_time": "2022-01-18T10:49:27.411Z"
   },
   {
    "duration": 128,
    "start_time": "2022-01-18T10:49:36.278Z"
   },
   {
    "duration": 128,
    "start_time": "2022-01-18T10:49:42.021Z"
   },
   {
    "duration": 19,
    "start_time": "2022-01-18T10:49:50.452Z"
   },
   {
    "duration": 14,
    "start_time": "2022-01-18T10:49:58.821Z"
   },
   {
    "duration": 96,
    "start_time": "2022-01-18T10:51:29.224Z"
   },
   {
    "duration": 14,
    "start_time": "2022-01-18T10:51:37.970Z"
   },
   {
    "duration": 92,
    "start_time": "2022-01-18T10:52:14.071Z"
   },
   {
    "duration": 94,
    "start_time": "2022-01-18T10:52:49.690Z"
   },
   {
    "duration": 83,
    "start_time": "2022-01-18T10:53:08.193Z"
   },
   {
    "duration": 15,
    "start_time": "2022-01-18T10:53:16.737Z"
   },
   {
    "duration": 262,
    "start_time": "2022-01-18T10:53:27.548Z"
   },
   {
    "duration": 311,
    "start_time": "2022-01-18T10:53:39.522Z"
   },
   {
    "duration": 90,
    "start_time": "2022-01-18T10:56:02.715Z"
   },
   {
    "duration": 98,
    "start_time": "2022-01-18T10:56:09.531Z"
   },
   {
    "duration": 84,
    "start_time": "2022-01-18T10:56:18.396Z"
   },
   {
    "duration": 91,
    "start_time": "2022-01-18T10:56:52.402Z"
   },
   {
    "duration": 636,
    "start_time": "2022-01-18T10:57:10.928Z"
   },
   {
    "duration": 18,
    "start_time": "2022-01-18T10:58:26.269Z"
   },
   {
    "duration": 66,
    "start_time": "2022-01-18T12:38:52.177Z"
   },
   {
    "duration": 18,
    "start_time": "2022-01-18T12:38:56.374Z"
   },
   {
    "duration": 24,
    "start_time": "2022-01-18T12:39:01.865Z"
   },
   {
    "duration": 1313,
    "start_time": "2022-01-19T08:04:28.824Z"
   },
   {
    "duration": 60,
    "start_time": "2022-01-19T08:04:30.139Z"
   },
   {
    "duration": 26,
    "start_time": "2022-01-19T08:04:30.201Z"
   },
   {
    "duration": 70,
    "start_time": "2022-01-19T08:04:30.229Z"
   },
   {
    "duration": 23,
    "start_time": "2022-01-19T08:04:30.300Z"
   },
   {
    "duration": 13,
    "start_time": "2022-01-19T08:04:30.325Z"
   },
   {
    "duration": 69,
    "start_time": "2022-01-19T08:04:30.339Z"
   },
   {
    "duration": 7,
    "start_time": "2022-01-19T08:04:30.410Z"
   },
   {
    "duration": 20,
    "start_time": "2022-01-19T08:04:30.419Z"
   },
   {
    "duration": 72,
    "start_time": "2022-01-19T08:04:30.441Z"
   },
   {
    "duration": 137,
    "start_time": "2022-01-19T08:04:30.515Z"
   },
   {
    "duration": 29,
    "start_time": "2022-01-19T08:04:39.614Z"
   },
   {
    "duration": 19,
    "start_time": "2022-01-19T08:05:10.660Z"
   },
   {
    "duration": 1336,
    "start_time": "2022-01-19T08:05:42.391Z"
   },
   {
    "duration": 19,
    "start_time": "2022-01-19T08:05:43.729Z"
   },
   {
    "duration": 24,
    "start_time": "2022-01-19T08:05:43.750Z"
   },
   {
    "duration": 22,
    "start_time": "2022-01-19T08:05:43.776Z"
   },
   {
    "duration": 21,
    "start_time": "2022-01-19T08:05:43.800Z"
   },
   {
    "duration": 10,
    "start_time": "2022-01-19T08:05:43.822Z"
   },
   {
    "duration": 18,
    "start_time": "2022-01-19T08:05:43.834Z"
   },
   {
    "duration": 7,
    "start_time": "2022-01-19T08:05:43.853Z"
   },
   {
    "duration": 47,
    "start_time": "2022-01-19T08:05:43.861Z"
   },
   {
    "duration": 17,
    "start_time": "2022-01-19T08:05:43.910Z"
   },
   {
    "duration": 4,
    "start_time": "2022-01-19T08:05:43.929Z"
   },
   {
    "duration": 94,
    "start_time": "2022-01-19T08:05:43.935Z"
   },
   {
    "duration": 14,
    "start_time": "2022-01-19T08:07:07.701Z"
   },
   {
    "duration": 11,
    "start_time": "2022-01-19T08:07:17.438Z"
   },
   {
    "duration": 217,
    "start_time": "2022-01-19T14:24:43.221Z"
   },
   {
    "duration": 1289,
    "start_time": "2022-01-19T14:24:48.654Z"
   },
   {
    "duration": 19,
    "start_time": "2022-01-19T14:24:49.945Z"
   },
   {
    "duration": 31,
    "start_time": "2022-01-19T14:24:49.966Z"
   },
   {
    "duration": 20,
    "start_time": "2022-01-19T14:24:49.999Z"
   },
   {
    "duration": 39,
    "start_time": "2022-01-19T14:24:50.021Z"
   },
   {
    "duration": 10,
    "start_time": "2022-01-19T14:24:50.062Z"
   },
   {
    "duration": 14,
    "start_time": "2022-01-19T14:24:50.073Z"
   },
   {
    "duration": 9,
    "start_time": "2022-01-19T14:24:50.089Z"
   },
   {
    "duration": 43,
    "start_time": "2022-01-19T14:24:50.099Z"
   },
   {
    "duration": 20,
    "start_time": "2022-01-19T14:24:50.143Z"
   },
   {
    "duration": 77,
    "start_time": "2022-01-19T14:24:50.164Z"
   },
   {
    "duration": 265,
    "start_time": "2022-01-19T14:24:50.243Z"
   },
   {
    "duration": 230,
    "start_time": "2022-01-19T14:26:36.226Z"
   },
   {
    "duration": 206,
    "start_time": "2022-01-19T14:26:42.472Z"
   },
   {
    "duration": 15,
    "start_time": "2022-01-19T14:27:04.514Z"
   },
   {
    "duration": 181,
    "start_time": "2022-01-19T14:27:34.222Z"
   },
   {
    "duration": 190,
    "start_time": "2022-01-19T14:27:48.125Z"
   },
   {
    "duration": 12,
    "start_time": "2022-01-19T14:28:09.438Z"
   },
   {
    "duration": 8,
    "start_time": "2022-01-19T14:28:23.736Z"
   },
   {
    "duration": 10,
    "start_time": "2022-01-19T14:28:34.968Z"
   },
   {
    "duration": 10,
    "start_time": "2022-01-19T14:30:00.076Z"
   },
   {
    "duration": 11,
    "start_time": "2022-01-19T14:30:14.463Z"
   },
   {
    "duration": 11,
    "start_time": "2022-01-19T14:34:00.901Z"
   },
   {
    "duration": 190,
    "start_time": "2022-01-19T14:38:29.691Z"
   },
   {
    "duration": 4,
    "start_time": "2022-01-19T14:39:21.651Z"
   },
   {
    "duration": 14,
    "start_time": "2022-01-19T14:41:09.358Z"
   },
   {
    "duration": 15,
    "start_time": "2022-01-19T14:41:27.883Z"
   },
   {
    "duration": 18,
    "start_time": "2022-01-19T15:44:52.076Z"
   },
   {
    "duration": 13,
    "start_time": "2022-01-19T15:45:15.522Z"
   },
   {
    "duration": 23,
    "start_time": "2022-01-19T16:31:46.044Z"
   },
   {
    "duration": 12,
    "start_time": "2022-01-19T16:31:49.918Z"
   },
   {
    "duration": 30,
    "start_time": "2022-01-19T16:34:49.534Z"
   },
   {
    "duration": 11,
    "start_time": "2022-01-19T16:34:58.253Z"
   },
   {
    "duration": 21,
    "start_time": "2022-01-19T16:36:15.542Z"
   },
   {
    "duration": 23,
    "start_time": "2022-01-19T16:36:26.606Z"
   },
   {
    "duration": 23,
    "start_time": "2022-01-19T16:36:31.294Z"
   },
   {
    "duration": 22,
    "start_time": "2022-01-19T16:36:38.607Z"
   },
   {
    "duration": 627,
    "start_time": "2022-01-20T10:49:13.198Z"
   },
   {
    "duration": 1912,
    "start_time": "2022-01-20T10:49:21.138Z"
   },
   {
    "duration": 33,
    "start_time": "2022-01-20T10:49:23.053Z"
   },
   {
    "duration": 56,
    "start_time": "2022-01-20T10:49:23.091Z"
   },
   {
    "duration": 34,
    "start_time": "2022-01-20T10:49:23.151Z"
   },
   {
    "duration": 31,
    "start_time": "2022-01-20T10:49:23.188Z"
   },
   {
    "duration": 50,
    "start_time": "2022-01-20T10:49:23.221Z"
   },
   {
    "duration": 32,
    "start_time": "2022-01-20T10:49:23.274Z"
   },
   {
    "duration": 31,
    "start_time": "2022-01-20T10:49:23.310Z"
   },
   {
    "duration": 42,
    "start_time": "2022-01-20T10:49:23.344Z"
   },
   {
    "duration": 37,
    "start_time": "2022-01-20T10:49:23.388Z"
   },
   {
    "duration": 21,
    "start_time": "2022-01-20T10:49:23.428Z"
   },
   {
    "duration": 123,
    "start_time": "2022-01-20T10:49:23.452Z"
   },
   {
    "duration": 19,
    "start_time": "2022-01-20T10:49:23.578Z"
   },
   {
    "duration": 65,
    "start_time": "2022-01-20T10:49:23.600Z"
   },
   {
    "duration": 46,
    "start_time": "2022-01-20T10:49:23.668Z"
   },
   {
    "duration": 34,
    "start_time": "2022-01-20T10:51:24.819Z"
   },
   {
    "duration": 28,
    "start_time": "2022-01-20T10:55:36.192Z"
   },
   {
    "duration": 64,
    "start_time": "2022-01-20T11:19:51.186Z"
   },
   {
    "duration": 40,
    "start_time": "2022-01-20T11:42:16.765Z"
   },
   {
    "duration": 51,
    "start_time": "2022-01-20T11:42:21.930Z"
   },
   {
    "duration": 115,
    "start_time": "2022-01-20T11:42:56.160Z"
   },
   {
    "duration": 46,
    "start_time": "2022-01-20T11:43:04.296Z"
   },
   {
    "duration": 47,
    "start_time": "2022-01-20T11:43:40.106Z"
   },
   {
    "duration": 1672,
    "start_time": "2022-01-20T14:03:14.518Z"
   },
   {
    "duration": 29,
    "start_time": "2022-01-20T14:03:16.192Z"
   },
   {
    "duration": 45,
    "start_time": "2022-01-20T14:03:16.224Z"
   },
   {
    "duration": 26,
    "start_time": "2022-01-20T14:03:16.272Z"
   },
   {
    "duration": 32,
    "start_time": "2022-01-20T14:03:16.301Z"
   },
   {
    "duration": 17,
    "start_time": "2022-01-20T14:03:16.366Z"
   },
   {
    "duration": 23,
    "start_time": "2022-01-20T14:03:16.385Z"
   },
   {
    "duration": 10,
    "start_time": "2022-01-20T14:03:16.411Z"
   },
   {
    "duration": 58,
    "start_time": "2022-01-20T14:03:16.424Z"
   },
   {
    "duration": 356,
    "start_time": "2022-01-20T14:03:16.484Z"
   },
   {
    "duration": 229,
    "start_time": "2022-01-20T14:03:16.843Z"
   },
   {
    "duration": 106,
    "start_time": "2022-01-20T14:03:17.075Z"
   },
   {
    "duration": 15,
    "start_time": "2022-01-20T14:03:17.183Z"
   },
   {
    "duration": 95,
    "start_time": "2022-01-20T14:03:17.201Z"
   },
   {
    "duration": 47,
    "start_time": "2022-01-20T14:03:17.299Z"
   },
   {
    "duration": 72,
    "start_time": "2022-01-20T14:03:17.348Z"
   },
   {
    "duration": 56,
    "start_time": "2022-01-20T14:05:19.129Z"
   },
   {
    "duration": 6753,
    "start_time": "2022-01-20T14:06:07.651Z"
   },
   {
    "duration": 56,
    "start_time": "2022-01-20T14:06:34.787Z"
   },
   {
    "duration": 55,
    "start_time": "2022-01-20T14:07:06.647Z"
   },
   {
    "duration": 104,
    "start_time": "2022-01-20T14:18:26.584Z"
   },
   {
    "duration": 60,
    "start_time": "2022-01-20T14:20:12.760Z"
   },
   {
    "duration": 105,
    "start_time": "2022-01-20T14:20:46.261Z"
   },
   {
    "duration": 45,
    "start_time": "2022-01-20T14:30:02.770Z"
   },
   {
    "duration": 45,
    "start_time": "2022-01-20T14:30:59.883Z"
   },
   {
    "duration": 98,
    "start_time": "2022-01-20T14:31:51.476Z"
   },
   {
    "duration": 45,
    "start_time": "2022-01-20T14:31:56.876Z"
   },
   {
    "duration": 123,
    "start_time": "2022-01-20T14:32:12.834Z"
   },
   {
    "duration": 10,
    "start_time": "2022-01-20T14:33:48.777Z"
   },
   {
    "duration": 45,
    "start_time": "2022-01-20T14:33:51.936Z"
   },
   {
    "duration": 270,
    "start_time": "2022-01-20T14:34:05.821Z"
   },
   {
    "duration": 63,
    "start_time": "2022-01-20T14:34:20.853Z"
   },
   {
    "duration": 3006,
    "start_time": "2022-01-20T14:34:25.843Z"
   },
   {
    "duration": 1754,
    "start_time": "2022-01-20T14:38:56.635Z"
   },
   {
    "duration": 29,
    "start_time": "2022-01-20T14:38:58.392Z"
   },
   {
    "duration": 45,
    "start_time": "2022-01-20T14:38:58.425Z"
   },
   {
    "duration": 27,
    "start_time": "2022-01-20T14:38:58.474Z"
   },
   {
    "duration": 61,
    "start_time": "2022-01-20T14:38:58.504Z"
   },
   {
    "duration": 17,
    "start_time": "2022-01-20T14:38:58.568Z"
   },
   {
    "duration": 26,
    "start_time": "2022-01-20T14:38:58.587Z"
   },
   {
    "duration": 10,
    "start_time": "2022-01-20T14:38:58.615Z"
   },
   {
    "duration": 56,
    "start_time": "2022-01-20T14:38:58.628Z"
   },
   {
    "duration": 29,
    "start_time": "2022-01-20T14:38:58.686Z"
   },
   {
    "duration": 47,
    "start_time": "2022-01-20T14:38:58.718Z"
   },
   {
    "duration": 117,
    "start_time": "2022-01-20T14:38:58.768Z"
   },
   {
    "duration": 15,
    "start_time": "2022-01-20T14:38:58.887Z"
   },
   {
    "duration": 131,
    "start_time": "2022-01-20T14:38:58.904Z"
   },
   {
    "duration": 79,
    "start_time": "2022-01-20T14:38:59.039Z"
   },
   {
    "duration": 114,
    "start_time": "2022-01-20T14:38:59.122Z"
   },
   {
    "duration": 59,
    "start_time": "2022-01-20T14:38:59.238Z"
   },
   {
    "duration": 40,
    "start_time": "2022-01-20T14:38:59.299Z"
   },
   {
    "duration": 1251,
    "start_time": "2022-01-20T14:40:05.515Z"
   },
   {
    "duration": 71,
    "start_time": "2022-01-20T14:40:13.441Z"
   },
   {
    "duration": 63,
    "start_time": "2022-01-20T14:40:37.366Z"
   },
   {
    "duration": 62,
    "start_time": "2022-01-20T14:40:54.516Z"
   },
   {
    "duration": 57,
    "start_time": "2022-01-20T14:41:29.947Z"
   },
   {
    "duration": 317,
    "start_time": "2022-01-20T14:45:38.178Z"
   },
   {
    "duration": 352,
    "start_time": "2022-01-20T14:45:50.776Z"
   },
   {
    "duration": 3193,
    "start_time": "2022-01-20T14:45:58.913Z"
   },
   {
    "duration": 378,
    "start_time": "2022-01-20T14:49:06.480Z"
   },
   {
    "duration": 250,
    "start_time": "2022-01-20T14:49:52.167Z"
   },
   {
    "duration": 1865,
    "start_time": "2022-01-20T14:50:02.335Z"
   },
   {
    "duration": 33,
    "start_time": "2022-01-20T14:50:04.202Z"
   },
   {
    "duration": 46,
    "start_time": "2022-01-20T14:50:04.239Z"
   },
   {
    "duration": 26,
    "start_time": "2022-01-20T14:50:04.288Z"
   },
   {
    "duration": 83,
    "start_time": "2022-01-20T14:50:04.318Z"
   },
   {
    "duration": 17,
    "start_time": "2022-01-20T14:50:04.404Z"
   },
   {
    "duration": 60,
    "start_time": "2022-01-20T14:50:04.424Z"
   },
   {
    "duration": 14,
    "start_time": "2022-01-20T14:50:04.489Z"
   },
   {
    "duration": 57,
    "start_time": "2022-01-20T14:50:04.507Z"
   },
   {
    "duration": 32,
    "start_time": "2022-01-20T14:50:04.567Z"
   },
   {
    "duration": 30,
    "start_time": "2022-01-20T14:50:04.603Z"
   },
   {
    "duration": 133,
    "start_time": "2022-01-20T14:50:04.636Z"
   },
   {
    "duration": 14,
    "start_time": "2022-01-20T14:50:04.772Z"
   },
   {
    "duration": 134,
    "start_time": "2022-01-20T14:50:04.788Z"
   },
   {
    "duration": 80,
    "start_time": "2022-01-20T14:50:04.924Z"
   },
   {
    "duration": 88,
    "start_time": "2022-01-20T14:50:05.007Z"
   },
   {
    "duration": 67,
    "start_time": "2022-01-20T14:50:05.098Z"
   },
   {
    "duration": 422,
    "start_time": "2022-01-20T14:50:05.167Z"
   },
   {
    "duration": 26,
    "start_time": "2022-01-20T14:50:46.421Z"
   },
   {
    "duration": 404,
    "start_time": "2022-01-20T14:51:02.529Z"
   },
   {
    "duration": 32,
    "start_time": "2022-01-20T14:52:19.431Z"
   },
   {
    "duration": 35,
    "start_time": "2022-01-20T14:52:40.384Z"
   },
   {
    "duration": 265,
    "start_time": "2022-01-20T15:02:29.478Z"
   },
   {
    "duration": 349,
    "start_time": "2022-01-20T15:02:46.007Z"
   },
   {
    "duration": 27,
    "start_time": "2022-01-20T15:03:07.756Z"
   },
   {
    "duration": 56,
    "start_time": "2022-01-20T15:06:19.476Z"
   },
   {
    "duration": 9,
    "start_time": "2022-01-20T15:09:06.915Z"
   },
   {
    "duration": 9,
    "start_time": "2022-01-20T15:09:30.289Z"
   },
   {
    "duration": 1597,
    "start_time": "2022-01-20T15:11:04.023Z"
   },
   {
    "duration": 115,
    "start_time": "2022-01-20T15:12:26.361Z"
   },
   {
    "duration": 83,
    "start_time": "2022-01-20T15:13:19.677Z"
   },
   {
    "duration": 83,
    "start_time": "2022-01-20T15:13:52.332Z"
   },
   {
    "duration": 45,
    "start_time": "2022-01-20T15:13:56.749Z"
   },
   {
    "duration": 40,
    "start_time": "2022-01-20T15:14:12.457Z"
   },
   {
    "duration": 42,
    "start_time": "2022-01-20T15:15:43.811Z"
   },
   {
    "duration": 41,
    "start_time": "2022-01-20T15:16:35.508Z"
   },
   {
    "duration": 40,
    "start_time": "2022-01-20T15:16:41.890Z"
   },
   {
    "duration": 43,
    "start_time": "2022-01-20T15:17:04.009Z"
   },
   {
    "duration": 46,
    "start_time": "2022-01-20T15:17:15.262Z"
   },
   {
    "duration": 1073,
    "start_time": "2022-01-20T15:17:50.949Z"
   },
   {
    "duration": 141,
    "start_time": "2022-01-20T15:18:16.189Z"
   },
   {
    "duration": 112,
    "start_time": "2022-01-20T15:18:21.740Z"
   },
   {
    "duration": 102,
    "start_time": "2022-01-20T15:19:07.268Z"
   },
   {
    "duration": 503,
    "start_time": "2022-01-20T15:19:54.020Z"
   },
   {
    "duration": 123,
    "start_time": "2022-01-20T15:20:40.067Z"
   },
   {
    "duration": 98,
    "start_time": "2022-01-20T15:20:49.514Z"
   },
   {
    "duration": 105,
    "start_time": "2022-01-20T15:20:54.795Z"
   },
   {
    "duration": 64,
    "start_time": "2022-01-20T15:21:19.689Z"
   },
   {
    "duration": 89,
    "start_time": "2022-01-20T15:21:52.672Z"
   },
   {
    "duration": 477,
    "start_time": "2022-01-20T15:21:59.772Z"
   },
   {
    "duration": 273,
    "start_time": "2022-01-20T15:22:20.427Z"
   },
   {
    "duration": 291,
    "start_time": "2022-01-20T15:22:49.904Z"
   },
   {
    "duration": 274,
    "start_time": "2022-01-20T15:22:55.817Z"
   },
   {
    "duration": 1770,
    "start_time": "2022-01-20T15:24:41.138Z"
   },
   {
    "duration": 31,
    "start_time": "2022-01-20T15:24:42.910Z"
   },
   {
    "duration": 43,
    "start_time": "2022-01-20T15:24:42.945Z"
   },
   {
    "duration": 25,
    "start_time": "2022-01-20T15:24:42.991Z"
   },
   {
    "duration": 63,
    "start_time": "2022-01-20T15:24:43.019Z"
   },
   {
    "duration": 17,
    "start_time": "2022-01-20T15:24:43.085Z"
   },
   {
    "duration": 20,
    "start_time": "2022-01-20T15:24:43.104Z"
   },
   {
    "duration": 43,
    "start_time": "2022-01-20T15:24:43.129Z"
   },
   {
    "duration": 25,
    "start_time": "2022-01-20T15:24:43.175Z"
   },
   {
    "duration": 28,
    "start_time": "2022-01-20T15:24:43.202Z"
   },
   {
    "duration": 45,
    "start_time": "2022-01-20T15:24:43.233Z"
   },
   {
    "duration": 112,
    "start_time": "2022-01-20T15:24:43.281Z"
   },
   {
    "duration": 14,
    "start_time": "2022-01-20T15:24:43.396Z"
   },
   {
    "duration": 124,
    "start_time": "2022-01-20T15:24:43.412Z"
   },
   {
    "duration": 75,
    "start_time": "2022-01-20T15:24:43.540Z"
   },
   {
    "duration": 85,
    "start_time": "2022-01-20T15:24:43.618Z"
   },
   {
    "duration": 390,
    "start_time": "2022-01-20T15:24:43.707Z"
   },
   {
    "duration": 55,
    "start_time": "2022-01-20T15:24:44.044Z"
   },
   {
    "duration": 36,
    "start_time": "2022-01-20T15:24:44.065Z"
   },
   {
    "duration": 380,
    "start_time": "2022-01-20T15:25:21.876Z"
   },
   {
    "duration": 36,
    "start_time": "2022-01-20T15:25:37.594Z"
   },
   {
    "duration": 128,
    "start_time": "2022-01-20T15:26:20.083Z"
   },
   {
    "duration": 42,
    "start_time": "2022-01-20T15:26:24.691Z"
   },
   {
    "duration": 37,
    "start_time": "2022-01-20T15:26:48.076Z"
   },
   {
    "duration": 58,
    "start_time": "2022-01-20T15:28:32.684Z"
   },
   {
    "duration": 66,
    "start_time": "2022-01-20T15:29:08.784Z"
   },
   {
    "duration": 59,
    "start_time": "2022-01-20T15:29:16.614Z"
   },
   {
    "duration": 18,
    "start_time": "2022-01-20T15:29:19.670Z"
   },
   {
    "duration": 21,
    "start_time": "2022-01-20T15:29:35.076Z"
   },
   {
    "duration": 30,
    "start_time": "2022-01-20T15:29:47.512Z"
   },
   {
    "duration": 1611,
    "start_time": "2022-01-20T20:20:06.194Z"
   },
   {
    "duration": 68,
    "start_time": "2022-01-20T20:20:07.807Z"
   },
   {
    "duration": 25,
    "start_time": "2022-01-20T20:20:07.877Z"
   },
   {
    "duration": 71,
    "start_time": "2022-01-20T20:20:07.904Z"
   },
   {
    "duration": 21,
    "start_time": "2022-01-20T20:20:07.977Z"
   },
   {
    "duration": 10,
    "start_time": "2022-01-20T20:20:07.999Z"
   },
   {
    "duration": 64,
    "start_time": "2022-01-20T20:20:08.011Z"
   },
   {
    "duration": 8,
    "start_time": "2022-01-20T20:20:08.077Z"
   },
   {
    "duration": 19,
    "start_time": "2022-01-20T20:20:08.086Z"
   },
   {
    "duration": 17,
    "start_time": "2022-01-20T20:20:08.107Z"
   },
   {
    "duration": 13,
    "start_time": "2022-01-20T20:20:08.125Z"
   },
   {
    "duration": 93,
    "start_time": "2022-01-20T20:20:08.140Z"
   },
   {
    "duration": 11,
    "start_time": "2022-01-20T20:20:08.235Z"
   },
   {
    "duration": 97,
    "start_time": "2022-01-20T20:20:08.248Z"
   },
   {
    "duration": 52,
    "start_time": "2022-01-20T20:20:08.347Z"
   },
   {
    "duration": 47,
    "start_time": "2022-01-20T20:20:08.401Z"
   },
   {
    "duration": 34,
    "start_time": "2022-01-20T20:20:08.450Z"
   },
   {
    "duration": 13,
    "start_time": "2022-01-20T20:20:08.485Z"
   },
   {
    "duration": 5,
    "start_time": "2022-01-20T20:20:08.499Z"
   },
   {
    "duration": 1753,
    "start_time": "2022-01-20T20:24:04.074Z"
   },
   {
    "duration": 27,
    "start_time": "2022-01-20T20:24:05.829Z"
   },
   {
    "duration": 38,
    "start_time": "2022-01-20T20:24:05.859Z"
   },
   {
    "duration": 22,
    "start_time": "2022-01-20T20:24:05.899Z"
   },
   {
    "duration": 23,
    "start_time": "2022-01-20T20:24:05.923Z"
   },
   {
    "duration": 13,
    "start_time": "2022-01-20T20:24:05.971Z"
   },
   {
    "duration": 25,
    "start_time": "2022-01-20T20:24:05.986Z"
   },
   {
    "duration": 6,
    "start_time": "2022-01-20T20:24:06.014Z"
   },
   {
    "duration": 16,
    "start_time": "2022-01-20T20:24:06.022Z"
   },
   {
    "duration": 44,
    "start_time": "2022-01-20T20:24:06.040Z"
   },
   {
    "duration": 14,
    "start_time": "2022-01-20T20:24:06.086Z"
   },
   {
    "duration": 83,
    "start_time": "2022-01-20T20:24:06.102Z"
   },
   {
    "duration": 12,
    "start_time": "2022-01-20T20:24:06.187Z"
   },
   {
    "duration": 89,
    "start_time": "2022-01-20T20:24:06.201Z"
   },
   {
    "duration": 43,
    "start_time": "2022-01-20T20:24:06.292Z"
   },
   {
    "duration": 62,
    "start_time": "2022-01-20T20:24:06.336Z"
   },
   {
    "duration": 23,
    "start_time": "2022-01-20T20:24:06.400Z"
   },
   {
    "duration": 12,
    "start_time": "2022-01-20T20:24:06.424Z"
   },
   {
    "duration": 5,
    "start_time": "2022-01-20T20:24:06.437Z"
   },
   {
    "duration": 23,
    "start_time": "2022-01-20T20:25:25.392Z"
   },
   {
    "duration": 23,
    "start_time": "2022-01-20T20:25:51.359Z"
   },
   {
    "duration": 309,
    "start_time": "2022-01-20T20:26:57.723Z"
   },
   {
    "duration": 9,
    "start_time": "2022-01-20T20:27:16.923Z"
   },
   {
    "duration": 10,
    "start_time": "2022-01-20T20:40:28.845Z"
   },
   {
    "duration": 246,
    "start_time": "2022-01-20T20:51:49.750Z"
   },
   {
    "duration": 274,
    "start_time": "2022-01-20T20:51:54.841Z"
   },
   {
    "duration": 271,
    "start_time": "2022-01-20T20:52:01.143Z"
   },
   {
    "duration": 625,
    "start_time": "2022-01-20T20:52:20.657Z"
   },
   {
    "duration": 270,
    "start_time": "2022-01-20T20:52:25.366Z"
   },
   {
    "duration": 236,
    "start_time": "2022-01-20T20:52:33.127Z"
   },
   {
    "duration": 254,
    "start_time": "2022-01-20T20:53:08.416Z"
   },
   {
    "duration": 391,
    "start_time": "2022-01-20T20:54:12.258Z"
   },
   {
    "duration": 1900,
    "start_time": "2022-01-20T20:54:34.775Z"
   },
   {
    "duration": 28,
    "start_time": "2022-01-20T20:54:36.678Z"
   },
   {
    "duration": 40,
    "start_time": "2022-01-20T20:54:36.709Z"
   },
   {
    "duration": 36,
    "start_time": "2022-01-20T20:54:36.751Z"
   },
   {
    "duration": 22,
    "start_time": "2022-01-20T20:54:36.789Z"
   },
   {
    "duration": 11,
    "start_time": "2022-01-20T20:54:36.813Z"
   },
   {
    "duration": 46,
    "start_time": "2022-01-20T20:54:36.826Z"
   },
   {
    "duration": 7,
    "start_time": "2022-01-20T20:54:36.875Z"
   },
   {
    "duration": 16,
    "start_time": "2022-01-20T20:54:36.885Z"
   },
   {
    "duration": 20,
    "start_time": "2022-01-20T20:54:36.903Z"
   },
   {
    "duration": 47,
    "start_time": "2022-01-20T20:54:36.925Z"
   },
   {
    "duration": 64,
    "start_time": "2022-01-20T20:54:36.974Z"
   },
   {
    "duration": 11,
    "start_time": "2022-01-20T20:54:37.039Z"
   },
   {
    "duration": 94,
    "start_time": "2022-01-20T20:54:37.052Z"
   },
   {
    "duration": 53,
    "start_time": "2022-01-20T20:54:37.148Z"
   },
   {
    "duration": 46,
    "start_time": "2022-01-20T20:54:37.203Z"
   },
   {
    "duration": 39,
    "start_time": "2022-01-20T20:54:37.250Z"
   },
   {
    "duration": 13,
    "start_time": "2022-01-20T20:54:37.291Z"
   },
   {
    "duration": 26,
    "start_time": "2022-01-20T20:54:37.306Z"
   },
   {
    "duration": 4,
    "start_time": "2022-01-20T20:54:37.335Z"
   },
   {
    "duration": 31,
    "start_time": "2022-01-20T20:54:37.341Z"
   },
   {
    "duration": 10,
    "start_time": "2022-01-20T20:54:37.374Z"
   },
   {
    "duration": 5,
    "start_time": "2022-01-20T20:54:46.571Z"
   },
   {
    "duration": 4,
    "start_time": "2022-01-20T20:55:49.068Z"
   },
   {
    "duration": 344,
    "start_time": "2022-01-20T20:55:54.964Z"
   },
   {
    "duration": 88,
    "start_time": "2022-01-20T20:56:02.037Z"
   },
   {
    "duration": 4,
    "start_time": "2022-01-20T20:56:05.378Z"
   },
   {
    "duration": 88,
    "start_time": "2022-01-20T20:56:17.555Z"
   },
   {
    "duration": 580,
    "start_time": "2022-01-20T20:59:54.110Z"
   },
   {
    "duration": 209,
    "start_time": "2022-01-20T21:00:04.920Z"
   },
   {
    "duration": 271,
    "start_time": "2022-01-20T21:00:11.210Z"
   },
   {
    "duration": 213,
    "start_time": "2022-01-20T21:03:46.085Z"
   },
   {
    "duration": 219,
    "start_time": "2022-01-20T21:04:24.493Z"
   },
   {
    "duration": 364,
    "start_time": "2022-01-20T21:05:11.491Z"
   },
   {
    "duration": 11,
    "start_time": "2022-01-20T21:05:22.331Z"
   },
   {
    "duration": 1197,
    "start_time": "2022-01-21T06:09:44.348Z"
   },
   {
    "duration": 17,
    "start_time": "2022-01-21T06:09:45.547Z"
   },
   {
    "duration": 68,
    "start_time": "2022-01-21T06:09:45.565Z"
   },
   {
    "duration": 16,
    "start_time": "2022-01-21T06:09:45.634Z"
   },
   {
    "duration": 72,
    "start_time": "2022-01-21T06:09:45.651Z"
   },
   {
    "duration": 9,
    "start_time": "2022-01-21T06:09:45.724Z"
   },
   {
    "duration": 12,
    "start_time": "2022-01-21T06:09:45.735Z"
   },
   {
    "duration": 64,
    "start_time": "2022-01-21T06:09:45.748Z"
   },
   {
    "duration": 14,
    "start_time": "2022-01-21T06:09:45.814Z"
   },
   {
    "duration": 16,
    "start_time": "2022-01-21T06:09:45.829Z"
   },
   {
    "duration": 13,
    "start_time": "2022-01-21T06:09:45.846Z"
   },
   {
    "duration": 92,
    "start_time": "2022-01-21T06:09:45.861Z"
   },
   {
    "duration": 10,
    "start_time": "2022-01-21T06:09:45.954Z"
   },
   {
    "duration": 80,
    "start_time": "2022-01-21T06:09:45.965Z"
   },
   {
    "duration": 38,
    "start_time": "2022-01-21T06:09:46.047Z"
   },
   {
    "duration": 59,
    "start_time": "2022-01-21T06:09:46.087Z"
   },
   {
    "duration": 21,
    "start_time": "2022-01-21T06:09:46.147Z"
   },
   {
    "duration": 5963,
    "start_time": "2022-01-21T06:09:46.169Z"
   },
   {
    "duration": -30,
    "start_time": "2022-01-21T06:09:52.164Z"
   },
   {
    "duration": -38,
    "start_time": "2022-01-21T06:09:52.173Z"
   },
   {
    "duration": -41,
    "start_time": "2022-01-21T06:09:52.177Z"
   },
   {
    "duration": 18,
    "start_time": "2022-01-21T06:11:08.064Z"
   },
   {
    "duration": 27,
    "start_time": "2022-01-21T06:11:16.262Z"
   },
   {
    "duration": 13,
    "start_time": "2022-01-21T06:11:27.494Z"
   },
   {
    "duration": 25,
    "start_time": "2022-01-21T06:11:29.884Z"
   },
   {
    "duration": 15,
    "start_time": "2022-01-21T06:13:08.483Z"
   },
   {
    "duration": 24,
    "start_time": "2022-01-21T06:13:16.762Z"
   },
   {
    "duration": 194,
    "start_time": "2022-01-21T06:13:30.774Z"
   },
   {
    "duration": 12,
    "start_time": "2022-01-21T06:13:42.699Z"
   },
   {
    "duration": 6153,
    "start_time": "2022-01-21T06:37:40.182Z"
   },
   {
    "duration": 20,
    "start_time": "2022-01-21T06:38:13.557Z"
   },
   {
    "duration": 35,
    "start_time": "2022-01-21T06:44:08.325Z"
   },
   {
    "duration": 5,
    "start_time": "2022-01-21T06:50:49.469Z"
   },
   {
    "duration": 4,
    "start_time": "2022-01-21T06:53:58.205Z"
   },
   {
    "duration": 76,
    "start_time": "2022-01-21T06:58:42.151Z"
   },
   {
    "duration": 867,
    "start_time": "2022-01-21T06:58:47.407Z"
   },
   {
    "duration": 1325,
    "start_time": "2022-01-21T06:59:32.726Z"
   },
   {
    "duration": 15,
    "start_time": "2022-01-21T06:59:34.054Z"
   },
   {
    "duration": 24,
    "start_time": "2022-01-21T06:59:34.071Z"
   },
   {
    "duration": 20,
    "start_time": "2022-01-21T06:59:34.097Z"
   },
   {
    "duration": 20,
    "start_time": "2022-01-21T06:59:34.119Z"
   },
   {
    "duration": 9,
    "start_time": "2022-01-21T06:59:34.141Z"
   },
   {
    "duration": 13,
    "start_time": "2022-01-21T06:59:34.151Z"
   },
   {
    "duration": 6,
    "start_time": "2022-01-21T06:59:34.166Z"
   },
   {
    "duration": 50,
    "start_time": "2022-01-21T06:59:34.174Z"
   },
   {
    "duration": 17,
    "start_time": "2022-01-21T06:59:34.225Z"
   },
   {
    "duration": 13,
    "start_time": "2022-01-21T06:59:34.244Z"
   },
   {
    "duration": 84,
    "start_time": "2022-01-21T06:59:34.259Z"
   },
   {
    "duration": 10,
    "start_time": "2022-01-21T06:59:34.345Z"
   },
   {
    "duration": 88,
    "start_time": "2022-01-21T06:59:34.357Z"
   },
   {
    "duration": 46,
    "start_time": "2022-01-21T06:59:34.447Z"
   },
   {
    "duration": 63,
    "start_time": "2022-01-21T06:59:34.494Z"
   },
   {
    "duration": 22,
    "start_time": "2022-01-21T06:59:34.558Z"
   },
   {
    "duration": 30,
    "start_time": "2022-01-21T06:59:34.582Z"
   },
   {
    "duration": 24,
    "start_time": "2022-01-21T06:59:34.613Z"
   },
   {
    "duration": 226,
    "start_time": "2022-01-21T06:59:34.639Z"
   },
   {
    "duration": 10,
    "start_time": "2022-01-21T06:59:34.867Z"
   },
   {
    "duration": 49,
    "start_time": "2022-01-21T06:59:34.878Z"
   },
   {
    "duration": 1803,
    "start_time": "2022-01-21T06:59:34.929Z"
   },
   {
    "duration": 1624,
    "start_time": "2022-01-21T06:59:49.920Z"
   },
   {
    "duration": 1587,
    "start_time": "2022-01-21T07:01:17.611Z"
   },
   {
    "duration": 678,
    "start_time": "2022-01-21T07:10:53.925Z"
   },
   {
    "duration": 1199,
    "start_time": "2022-01-21T07:11:13.976Z"
   },
   {
    "duration": 2,
    "start_time": "2022-01-21T07:13:28.552Z"
   },
   {
    "duration": 5,
    "start_time": "2022-01-21T08:37:44.655Z"
   },
   {
    "duration": 5,
    "start_time": "2022-01-21T08:38:35.751Z"
   },
   {
    "duration": 6,
    "start_time": "2022-01-21T08:49:35.061Z"
   },
   {
    "duration": 6,
    "start_time": "2022-01-21T09:01:52.333Z"
   },
   {
    "duration": 6,
    "start_time": "2022-01-21T09:02:04.477Z"
   },
   {
    "duration": 5,
    "start_time": "2022-01-21T09:02:08.760Z"
   },
   {
    "duration": 5,
    "start_time": "2022-01-21T09:02:19.233Z"
   },
   {
    "duration": 194,
    "start_time": "2022-01-21T09:04:13.595Z"
   },
   {
    "duration": 82,
    "start_time": "2022-01-21T09:05:55.344Z"
   },
   {
    "duration": 614,
    "start_time": "2022-01-21T09:06:03.416Z"
   },
   {
    "duration": 84,
    "start_time": "2022-01-21T09:06:19.155Z"
   },
   {
    "duration": 411,
    "start_time": "2022-01-21T09:06:25.202Z"
   },
   {
    "duration": 257,
    "start_time": "2022-01-21T09:06:36.131Z"
   },
   {
    "duration": 454,
    "start_time": "2022-01-21T09:06:56.737Z"
   },
   {
    "duration": 362,
    "start_time": "2022-01-21T09:07:43.973Z"
   },
   {
    "duration": 286,
    "start_time": "2022-01-21T09:08:04.964Z"
   },
   {
    "duration": 307,
    "start_time": "2022-01-21T09:08:07.188Z"
   },
   {
    "duration": 293,
    "start_time": "2022-01-21T09:09:22.137Z"
   },
   {
    "duration": 73,
    "start_time": "2022-01-21T09:09:43.245Z"
   },
   {
    "duration": 268,
    "start_time": "2022-01-21T09:09:53.495Z"
   },
   {
    "duration": 272,
    "start_time": "2022-01-21T09:13:09.529Z"
   },
   {
    "duration": 12,
    "start_time": "2022-01-21T09:13:25.317Z"
   },
   {
    "duration": 14,
    "start_time": "2022-01-21T09:13:32.892Z"
   },
   {
    "duration": 436,
    "start_time": "2022-01-21T09:15:27.894Z"
   },
   {
    "duration": 11,
    "start_time": "2022-01-21T09:15:51.600Z"
   },
   {
    "duration": 11,
    "start_time": "2022-01-21T09:17:05.604Z"
   },
   {
    "duration": 6,
    "start_time": "2022-01-21T09:17:24.366Z"
   },
   {
    "duration": 298,
    "start_time": "2022-01-21T09:19:19.015Z"
   },
   {
    "duration": 229,
    "start_time": "2022-01-21T09:19:29.935Z"
   },
   {
    "duration": 302,
    "start_time": "2022-01-21T09:19:50.913Z"
   },
   {
    "duration": 259,
    "start_time": "2022-01-21T09:20:07.192Z"
   },
   {
    "duration": 1799,
    "start_time": "2022-01-25T19:36:15.978Z"
   },
   {
    "duration": 20,
    "start_time": "2022-01-25T19:36:17.780Z"
   },
   {
    "duration": 31,
    "start_time": "2022-01-25T19:36:17.803Z"
   },
   {
    "duration": 22,
    "start_time": "2022-01-25T19:36:17.836Z"
   },
   {
    "duration": 50,
    "start_time": "2022-01-25T19:36:17.861Z"
   },
   {
    "duration": 14,
    "start_time": "2022-01-25T19:36:17.913Z"
   },
   {
    "duration": 18,
    "start_time": "2022-01-25T19:36:17.929Z"
   },
   {
    "duration": 8,
    "start_time": "2022-01-25T19:36:17.950Z"
   },
   {
    "duration": 55,
    "start_time": "2022-01-25T19:36:17.960Z"
   },
   {
    "duration": 24,
    "start_time": "2022-01-25T19:36:18.017Z"
   },
   {
    "duration": 17,
    "start_time": "2022-01-25T19:36:18.043Z"
   },
   {
    "duration": 106,
    "start_time": "2022-01-25T19:36:18.062Z"
   },
   {
    "duration": 12,
    "start_time": "2022-01-25T19:36:18.170Z"
   },
   {
    "duration": 107,
    "start_time": "2022-01-25T19:36:18.183Z"
   },
   {
    "duration": 56,
    "start_time": "2022-01-25T19:36:18.292Z"
   },
   {
    "duration": 66,
    "start_time": "2022-01-25T19:36:18.350Z"
   },
   {
    "duration": 24,
    "start_time": "2022-01-25T19:36:18.418Z"
   },
   {
    "duration": 17,
    "start_time": "2022-01-25T19:36:18.445Z"
   },
   {
    "duration": 58,
    "start_time": "2022-01-25T19:36:18.463Z"
   },
   {
    "duration": 251,
    "start_time": "2022-01-25T19:36:18.523Z"
   },
   {
    "duration": 13,
    "start_time": "2022-01-25T19:36:18.776Z"
   },
   {
    "duration": 54,
    "start_time": "2022-01-25T19:36:18.791Z"
   },
   {
    "duration": 1230,
    "start_time": "2022-01-25T19:36:18.848Z"
   },
   {
    "duration": 6,
    "start_time": "2022-01-25T19:36:20.080Z"
   },
   {
    "duration": 382,
    "start_time": "2022-01-25T19:36:20.088Z"
   },
   {
    "duration": 13,
    "start_time": "2022-01-25T19:36:20.472Z"
   },
   {
    "duration": 523,
    "start_time": "2022-01-25T19:36:20.487Z"
   },
   {
    "duration": 30,
    "start_time": "2022-01-25T19:43:36.946Z"
   },
   {
    "duration": 8,
    "start_time": "2022-01-25T19:49:00.605Z"
   },
   {
    "duration": 26,
    "start_time": "2022-01-25T19:52:39.806Z"
   },
   {
    "duration": 27,
    "start_time": "2022-01-25T19:52:44.576Z"
   },
   {
    "duration": 101,
    "start_time": "2022-01-25T19:52:49.550Z"
   },
   {
    "duration": 37,
    "start_time": "2022-01-25T19:53:04.039Z"
   },
   {
    "duration": 420,
    "start_time": "2022-01-25T20:41:07.920Z"
   },
   {
    "duration": 2059,
    "start_time": "2022-01-25T20:41:15.249Z"
   },
   {
    "duration": 32,
    "start_time": "2022-01-25T20:41:17.310Z"
   },
   {
    "duration": 41,
    "start_time": "2022-01-25T20:41:17.345Z"
   },
   {
    "duration": 26,
    "start_time": "2022-01-25T20:41:17.389Z"
   },
   {
    "duration": 55,
    "start_time": "2022-01-25T20:41:17.418Z"
   },
   {
    "duration": 18,
    "start_time": "2022-01-25T20:41:17.476Z"
   },
   {
    "duration": 24,
    "start_time": "2022-01-25T20:41:17.496Z"
   },
   {
    "duration": 47,
    "start_time": "2022-01-25T20:41:17.522Z"
   },
   {
    "duration": 20,
    "start_time": "2022-01-25T20:41:17.574Z"
   },
   {
    "duration": 34,
    "start_time": "2022-01-25T20:41:17.598Z"
   },
   {
    "duration": 43,
    "start_time": "2022-01-25T20:41:17.634Z"
   },
   {
    "duration": 20,
    "start_time": "2022-01-25T20:41:17.680Z"
   },
   {
    "duration": 123,
    "start_time": "2022-01-25T20:41:17.702Z"
   },
   {
    "duration": 15,
    "start_time": "2022-01-25T20:41:17.827Z"
   },
   {
    "duration": 131,
    "start_time": "2022-01-25T20:41:17.844Z"
   },
   {
    "duration": 61,
    "start_time": "2022-01-25T20:41:17.977Z"
   },
   {
    "duration": 85,
    "start_time": "2022-01-25T20:41:18.041Z"
   },
   {
    "duration": 53,
    "start_time": "2022-01-25T20:41:18.128Z"
   },
   {
    "duration": 22,
    "start_time": "2022-01-25T20:41:18.183Z"
   },
   {
    "duration": 57,
    "start_time": "2022-01-25T20:41:18.207Z"
   },
   {
    "duration": 393,
    "start_time": "2022-01-25T20:41:18.266Z"
   },
   {
    "duration": 16,
    "start_time": "2022-01-25T20:41:18.662Z"
   },
   {
    "duration": 112,
    "start_time": "2022-01-25T20:41:18.681Z"
   },
   {
    "duration": 3092,
    "start_time": "2022-01-25T20:41:18.796Z"
   },
   {
    "duration": 9,
    "start_time": "2022-01-25T20:41:21.892Z"
   },
   {
    "duration": 801,
    "start_time": "2022-01-25T20:41:21.904Z"
   },
   {
    "duration": 16,
    "start_time": "2022-01-25T20:41:22.712Z"
   },
   {
    "duration": 508,
    "start_time": "2022-01-25T20:41:22.730Z"
   },
   {
    "duration": 105,
    "start_time": "2022-01-25T20:44:19.873Z"
   },
   {
    "duration": 1979,
    "start_time": "2022-01-25T20:44:35.009Z"
   },
   {
    "duration": 33,
    "start_time": "2022-01-25T20:44:36.992Z"
   },
   {
    "duration": 56,
    "start_time": "2022-01-25T20:44:37.028Z"
   },
   {
    "duration": 26,
    "start_time": "2022-01-25T20:44:37.087Z"
   },
   {
    "duration": 65,
    "start_time": "2022-01-25T20:44:37.115Z"
   },
   {
    "duration": 16,
    "start_time": "2022-01-25T20:44:37.183Z"
   },
   {
    "duration": 20,
    "start_time": "2022-01-25T20:44:37.201Z"
   },
   {
    "duration": 14,
    "start_time": "2022-01-25T20:44:37.260Z"
   },
   {
    "duration": 23,
    "start_time": "2022-01-25T20:44:37.278Z"
   },
   {
    "duration": 104,
    "start_time": "2022-01-25T20:44:37.303Z"
   },
   {
    "duration": 8,
    "start_time": "2022-01-25T20:44:37.402Z"
   },
   {
    "duration": 4,
    "start_time": "2022-01-25T20:44:37.408Z"
   },
   {
    "duration": 3,
    "start_time": "2022-01-25T20:44:37.411Z"
   },
   {
    "duration": 2,
    "start_time": "2022-01-25T20:44:37.414Z"
   },
   {
    "duration": 0,
    "start_time": "2022-01-25T20:44:37.417Z"
   },
   {
    "duration": 0,
    "start_time": "2022-01-25T20:44:37.419Z"
   },
   {
    "duration": -2,
    "start_time": "2022-01-25T20:44:37.423Z"
   },
   {
    "duration": -4,
    "start_time": "2022-01-25T20:44:37.426Z"
   },
   {
    "duration": -7,
    "start_time": "2022-01-25T20:44:37.431Z"
   },
   {
    "duration": -9,
    "start_time": "2022-01-25T20:44:37.434Z"
   },
   {
    "duration": -11,
    "start_time": "2022-01-25T20:44:37.437Z"
   },
   {
    "duration": -11,
    "start_time": "2022-01-25T20:44:37.439Z"
   },
   {
    "duration": -14,
    "start_time": "2022-01-25T20:44:37.443Z"
   },
   {
    "duration": -29,
    "start_time": "2022-01-25T20:44:37.459Z"
   },
   {
    "duration": -33,
    "start_time": "2022-01-25T20:44:37.464Z"
   },
   {
    "duration": -34,
    "start_time": "2022-01-25T20:44:37.467Z"
   },
   {
    "duration": -36,
    "start_time": "2022-01-25T20:44:37.470Z"
   },
   {
    "duration": -39,
    "start_time": "2022-01-25T20:44:37.474Z"
   },
   {
    "duration": 171,
    "start_time": "2022-01-25T20:45:17.408Z"
   },
   {
    "duration": 105,
    "start_time": "2022-01-25T20:47:35.428Z"
   },
   {
    "duration": 49,
    "start_time": "2022-01-25T20:47:49.561Z"
   },
   {
    "duration": 33,
    "start_time": "2022-01-25T20:48:12.322Z"
   },
   {
    "duration": 25,
    "start_time": "2022-01-25T20:48:48.953Z"
   },
   {
    "duration": 22,
    "start_time": "2022-01-25T20:50:36.851Z"
   },
   {
    "duration": 31,
    "start_time": "2022-01-25T20:53:04.737Z"
   },
   {
    "duration": 1994,
    "start_time": "2022-01-25T20:54:56.822Z"
   },
   {
    "duration": 28,
    "start_time": "2022-01-25T20:54:58.820Z"
   },
   {
    "duration": 49,
    "start_time": "2022-01-25T20:54:58.859Z"
   },
   {
    "duration": 51,
    "start_time": "2022-01-25T20:54:58.911Z"
   },
   {
    "duration": 33,
    "start_time": "2022-01-25T20:54:58.964Z"
   },
   {
    "duration": 21,
    "start_time": "2022-01-25T20:54:59.000Z"
   },
   {
    "duration": 54,
    "start_time": "2022-01-25T20:54:59.023Z"
   },
   {
    "duration": 10,
    "start_time": "2022-01-25T20:54:59.081Z"
   },
   {
    "duration": 68,
    "start_time": "2022-01-25T20:54:59.094Z"
   },
   {
    "duration": 24,
    "start_time": "2022-01-25T20:54:59.164Z"
   },
   {
    "duration": 69,
    "start_time": "2022-01-25T20:54:59.190Z"
   },
   {
    "duration": 19,
    "start_time": "2022-01-25T20:54:59.261Z"
   },
   {
    "duration": 107,
    "start_time": "2022-01-25T20:54:59.283Z"
   },
   {
    "duration": 15,
    "start_time": "2022-01-25T20:54:59.393Z"
   },
   {
    "duration": 130,
    "start_time": "2022-01-25T20:54:59.410Z"
   },
   {
    "duration": 72,
    "start_time": "2022-01-25T20:54:59.542Z"
   },
   {
    "duration": 75,
    "start_time": "2022-01-25T20:54:59.616Z"
   },
   {
    "duration": 37,
    "start_time": "2022-01-25T20:54:59.693Z"
   },
   {
    "duration": 45,
    "start_time": "2022-01-25T20:54:59.732Z"
   },
   {
    "duration": 39,
    "start_time": "2022-01-25T20:54:59.779Z"
   },
   {
    "duration": 409,
    "start_time": "2022-01-25T20:54:59.821Z"
   },
   {
    "duration": 36,
    "start_time": "2022-01-25T20:55:00.233Z"
   },
   {
    "duration": 86,
    "start_time": "2022-01-25T20:55:00.275Z"
   },
   {
    "duration": 1862,
    "start_time": "2022-01-25T20:55:00.364Z"
   },
   {
    "duration": 7,
    "start_time": "2022-01-25T20:55:02.229Z"
   },
   {
    "duration": 624,
    "start_time": "2022-01-25T20:55:02.239Z"
   },
   {
    "duration": 17,
    "start_time": "2022-01-25T20:55:02.866Z"
   },
   {
    "duration": 530,
    "start_time": "2022-01-25T20:55:02.886Z"
   },
   {
    "duration": 17,
    "start_time": "2022-01-25T20:58:27.792Z"
   },
   {
    "duration": 517,
    "start_time": "2022-01-25T21:00:51.013Z"
   },
   {
    "duration": 520,
    "start_time": "2022-01-25T21:01:30.298Z"
   },
   {
    "duration": 16,
    "start_time": "2022-01-25T21:02:05.054Z"
   },
   {
    "duration": 19,
    "start_time": "2022-01-25T21:02:16.730Z"
   },
   {
    "duration": 110,
    "start_time": "2022-01-25T21:02:23.977Z"
   },
   {
    "duration": 20,
    "start_time": "2022-01-25T21:02:54.713Z"
   },
   {
    "duration": 345,
    "start_time": "2022-01-25T21:03:12.893Z"
   },
   {
    "duration": 371,
    "start_time": "2022-01-25T21:03:25.109Z"
   },
   {
    "duration": 354,
    "start_time": "2022-01-25T21:04:15.371Z"
   },
   {
    "duration": 35,
    "start_time": "2022-01-25T21:05:18.037Z"
   },
   {
    "duration": 29,
    "start_time": "2022-01-25T21:05:41.627Z"
   },
   {
    "duration": 20,
    "start_time": "2022-01-25T21:05:51.089Z"
   },
   {
    "duration": 29,
    "start_time": "2022-01-25T21:06:58.593Z"
   },
   {
    "duration": 1931,
    "start_time": "2022-01-25T21:13:43.848Z"
   },
   {
    "duration": 26,
    "start_time": "2022-01-25T21:13:45.782Z"
   },
   {
    "duration": 49,
    "start_time": "2022-01-25T21:13:45.811Z"
   },
   {
    "duration": 28,
    "start_time": "2022-01-25T21:13:45.864Z"
   },
   {
    "duration": 30,
    "start_time": "2022-01-25T21:13:45.894Z"
   },
   {
    "duration": 45,
    "start_time": "2022-01-25T21:13:45.927Z"
   },
   {
    "duration": 23,
    "start_time": "2022-01-25T21:13:45.974Z"
   },
   {
    "duration": 10,
    "start_time": "2022-01-25T21:13:45.999Z"
   },
   {
    "duration": 85,
    "start_time": "2022-01-25T21:13:46.013Z"
   },
   {
    "duration": 23,
    "start_time": "2022-01-25T21:13:46.103Z"
   },
   {
    "duration": 57,
    "start_time": "2022-01-25T21:13:46.129Z"
   },
   {
    "duration": 18,
    "start_time": "2022-01-25T21:13:46.188Z"
   },
   {
    "duration": 116,
    "start_time": "2022-01-25T21:13:46.209Z"
   },
   {
    "duration": 15,
    "start_time": "2022-01-25T21:13:46.327Z"
   },
   {
    "duration": 114,
    "start_time": "2022-01-25T21:13:46.358Z"
   },
   {
    "duration": 85,
    "start_time": "2022-01-25T21:13:46.475Z"
   },
   {
    "duration": 64,
    "start_time": "2022-01-25T21:13:46.563Z"
   },
   {
    "duration": 58,
    "start_time": "2022-01-25T21:13:46.630Z"
   },
   {
    "duration": 23,
    "start_time": "2022-01-25T21:13:46.690Z"
   },
   {
    "duration": 70,
    "start_time": "2022-01-25T21:13:46.716Z"
   },
   {
    "duration": 410,
    "start_time": "2022-01-25T21:13:46.789Z"
   },
   {
    "duration": 26,
    "start_time": "2022-01-25T21:13:47.202Z"
   },
   {
    "duration": 104,
    "start_time": "2022-01-25T21:13:47.232Z"
   },
   {
    "duration": 1824,
    "start_time": "2022-01-25T21:13:47.338Z"
   },
   {
    "duration": 8,
    "start_time": "2022-01-25T21:13:49.164Z"
   },
   {
    "duration": 522,
    "start_time": "2022-01-25T21:13:49.174Z"
   },
   {
    "duration": 15,
    "start_time": "2022-01-25T21:13:49.701Z"
   },
   {
    "duration": 527,
    "start_time": "2022-01-25T21:13:49.719Z"
   },
   {
    "duration": 35,
    "start_time": "2022-01-25T21:13:50.249Z"
   },
   {
    "duration": 1928,
    "start_time": "2022-01-25T21:15:43.040Z"
   },
   {
    "duration": 25,
    "start_time": "2022-01-25T21:15:44.971Z"
   },
   {
    "duration": 36,
    "start_time": "2022-01-25T21:15:44.999Z"
   },
   {
    "duration": 45,
    "start_time": "2022-01-25T21:15:45.038Z"
   },
   {
    "duration": 30,
    "start_time": "2022-01-25T21:15:45.086Z"
   },
   {
    "duration": 50,
    "start_time": "2022-01-25T21:15:45.118Z"
   },
   {
    "duration": 21,
    "start_time": "2022-01-25T21:15:45.170Z"
   },
   {
    "duration": 10,
    "start_time": "2022-01-25T21:15:45.195Z"
   },
   {
    "duration": 78,
    "start_time": "2022-01-25T21:15:45.208Z"
   },
   {
    "duration": 22,
    "start_time": "2022-01-25T21:15:45.289Z"
   },
   {
    "duration": 69,
    "start_time": "2022-01-25T21:15:45.314Z"
   },
   {
    "duration": 17,
    "start_time": "2022-01-25T21:15:45.386Z"
   },
   {
    "duration": 105,
    "start_time": "2022-01-25T21:15:45.405Z"
   },
   {
    "duration": 15,
    "start_time": "2022-01-25T21:15:45.512Z"
   },
   {
    "duration": 130,
    "start_time": "2022-01-25T21:15:45.530Z"
   },
   {
    "duration": 63,
    "start_time": "2022-01-25T21:15:45.663Z"
   },
   {
    "duration": 84,
    "start_time": "2022-01-25T21:15:45.729Z"
   },
   {
    "duration": 53,
    "start_time": "2022-01-25T21:15:45.815Z"
   },
   {
    "duration": 23,
    "start_time": "2022-01-25T21:15:45.870Z"
   },
   {
    "duration": 65,
    "start_time": "2022-01-25T21:15:45.895Z"
   },
   {
    "duration": 396,
    "start_time": "2022-01-25T21:15:45.963Z"
   },
   {
    "duration": 17,
    "start_time": "2022-01-25T21:15:46.361Z"
   },
   {
    "duration": 85,
    "start_time": "2022-01-25T21:15:46.382Z"
   },
   {
    "duration": 2289,
    "start_time": "2022-01-25T21:15:46.471Z"
   },
   {
    "duration": 8,
    "start_time": "2022-01-25T21:15:48.763Z"
   },
   {
    "duration": 496,
    "start_time": "2022-01-25T21:15:48.774Z"
   },
   {
    "duration": 15,
    "start_time": "2022-01-25T21:15:49.273Z"
   },
   {
    "duration": 499,
    "start_time": "2022-01-25T21:15:49.290Z"
   },
   {
    "duration": 31,
    "start_time": "2022-01-25T21:15:49.792Z"
   },
   {
    "duration": 1470,
    "start_time": "2022-01-26T15:08:06.627Z"
   },
   {
    "duration": 16,
    "start_time": "2022-01-26T15:08:08.099Z"
   },
   {
    "duration": 49,
    "start_time": "2022-01-26T15:08:08.117Z"
   },
   {
    "duration": 18,
    "start_time": "2022-01-26T15:08:08.168Z"
   },
   {
    "duration": 29,
    "start_time": "2022-01-26T15:08:08.188Z"
   },
   {
    "duration": 11,
    "start_time": "2022-01-26T15:08:08.219Z"
   },
   {
    "duration": 14,
    "start_time": "2022-01-26T15:08:08.231Z"
   },
   {
    "duration": 7,
    "start_time": "2022-01-26T15:08:08.248Z"
   },
   {
    "duration": 64,
    "start_time": "2022-01-26T15:08:08.257Z"
   },
   {
    "duration": 17,
    "start_time": "2022-01-26T15:08:08.323Z"
   },
   {
    "duration": 24,
    "start_time": "2022-01-26T15:08:08.342Z"
   },
   {
    "duration": 12,
    "start_time": "2022-01-26T15:08:08.367Z"
   },
   {
    "duration": 55,
    "start_time": "2022-01-26T15:08:08.412Z"
   },
   {
    "duration": 10,
    "start_time": "2022-01-26T15:08:08.469Z"
   },
   {
    "duration": 85,
    "start_time": "2022-01-26T15:08:08.480Z"
   },
   {
    "duration": 51,
    "start_time": "2022-01-26T15:08:08.567Z"
   },
   {
    "duration": 42,
    "start_time": "2022-01-26T15:08:08.620Z"
   },
   {
    "duration": 25,
    "start_time": "2022-01-26T15:08:08.663Z"
   },
   {
    "duration": 35,
    "start_time": "2022-01-26T15:08:08.689Z"
   },
   {
    "duration": 24,
    "start_time": "2022-01-26T15:08:08.726Z"
   },
   {
    "duration": 244,
    "start_time": "2022-01-26T15:08:08.751Z"
   },
   {
    "duration": 18,
    "start_time": "2022-01-26T15:08:08.996Z"
   },
   {
    "duration": 39,
    "start_time": "2022-01-26T15:08:09.018Z"
   },
   {
    "duration": 1170,
    "start_time": "2022-01-26T15:08:09.058Z"
   },
   {
    "duration": 5,
    "start_time": "2022-01-26T15:08:10.230Z"
   },
   {
    "duration": 331,
    "start_time": "2022-01-26T15:08:10.237Z"
   },
   {
    "duration": 10,
    "start_time": "2022-01-26T15:08:10.570Z"
   },
   {
    "duration": 297,
    "start_time": "2022-01-26T15:08:10.582Z"
   },
   {
    "duration": 18,
    "start_time": "2022-01-26T15:08:10.880Z"
   },
   {
    "duration": 1929,
    "start_time": "2022-05-17T13:44:33.353Z"
   },
   {
    "duration": 30,
    "start_time": "2022-05-17T13:44:37.472Z"
   },
   {
    "duration": 81,
    "start_time": "2022-05-17T13:44:38.307Z"
   },
   {
    "duration": 66,
    "start_time": "2022-05-17T13:44:39.054Z"
   },
   {
    "duration": 42,
    "start_time": "2022-05-17T13:44:42.738Z"
   },
   {
    "duration": 59,
    "start_time": "2022-05-17T13:45:17.555Z"
   },
   {
    "duration": 221,
    "start_time": "2022-05-17T13:47:23.435Z"
   },
   {
    "duration": 2032,
    "start_time": "2022-05-17T13:47:29.824Z"
   },
   {
    "duration": 88,
    "start_time": "2022-05-17T13:47:31.859Z"
   },
   {
    "duration": 161,
    "start_time": "2022-05-17T13:47:31.951Z"
   },
   {
    "duration": 113,
    "start_time": "2022-05-17T13:47:32.116Z"
   },
   {
    "duration": 123,
    "start_time": "2022-05-17T13:47:32.232Z"
   },
   {
    "duration": 98,
    "start_time": "2022-05-17T13:47:32.358Z"
   },
   {
    "duration": 33,
    "start_time": "2022-05-17T13:47:32.517Z"
   },
   {
    "duration": 66,
    "start_time": "2022-05-17T13:47:32.554Z"
   },
   {
    "duration": 84,
    "start_time": "2022-05-17T13:47:32.625Z"
   },
   {
    "duration": 27,
    "start_time": "2022-05-17T13:47:32.714Z"
   },
   {
    "duration": 171,
    "start_time": "2022-05-17T13:47:32.745Z"
   },
   {
    "duration": 213,
    "start_time": "2022-05-17T13:47:32.920Z"
   },
   {
    "duration": 13,
    "start_time": "2022-05-17T13:47:33.135Z"
   },
   {
    "duration": 279,
    "start_time": "2022-05-17T13:47:33.150Z"
   },
   {
    "duration": 120,
    "start_time": "2022-05-17T13:47:33.431Z"
   },
   {
    "duration": 171,
    "start_time": "2022-05-17T13:47:33.553Z"
   },
   {
    "duration": 95,
    "start_time": "2022-05-17T13:47:33.730Z"
   },
   {
    "duration": 20,
    "start_time": "2022-05-17T13:47:33.831Z"
   },
   {
    "duration": 90,
    "start_time": "2022-05-17T13:47:33.853Z"
   },
   {
    "duration": 465,
    "start_time": "2022-05-17T13:47:33.945Z"
   },
   {
    "duration": 23,
    "start_time": "2022-05-17T13:47:34.414Z"
   },
   {
    "duration": 109,
    "start_time": "2022-05-17T13:47:34.439Z"
   },
   {
    "duration": 1751,
    "start_time": "2022-05-17T13:47:34.550Z"
   },
   {
    "duration": 14,
    "start_time": "2022-05-17T13:47:36.303Z"
   },
   {
    "duration": 375,
    "start_time": "2022-05-17T13:47:36.319Z"
   },
   {
    "duration": 24,
    "start_time": "2022-05-17T13:47:36.696Z"
   },
   {
    "duration": 389,
    "start_time": "2022-05-17T13:47:36.723Z"
   },
   {
    "duration": 33,
    "start_time": "2022-05-17T13:47:37.117Z"
   },
   {
    "duration": 2287,
    "start_time": "2022-05-17T13:50:16.059Z"
   },
   {
    "duration": 1386,
    "start_time": "2022-05-17T13:50:30.954Z"
   },
   {
    "duration": 1474,
    "start_time": "2022-05-17T13:51:11.702Z"
   },
   {
    "duration": 1538,
    "start_time": "2022-05-17T13:51:58.259Z"
   },
   {
    "duration": 170,
    "start_time": "2022-05-17T13:52:38.167Z"
   },
   {
    "duration": 1847,
    "start_time": "2022-05-17T13:52:49.326Z"
   },
   {
    "duration": 1475,
    "start_time": "2022-05-17T13:53:01.792Z"
   },
   {
    "duration": 1975,
    "start_time": "2022-05-17T13:53:53.712Z"
   },
   {
    "duration": 39,
    "start_time": "2022-05-17T13:53:55.689Z"
   },
   {
    "duration": 44,
    "start_time": "2022-05-17T13:53:55.730Z"
   },
   {
    "duration": 66,
    "start_time": "2022-05-17T13:53:55.777Z"
   },
   {
    "duration": 65,
    "start_time": "2022-05-17T13:53:55.847Z"
   },
   {
    "duration": 26,
    "start_time": "2022-05-17T13:53:55.916Z"
   },
   {
    "duration": 19,
    "start_time": "2022-05-17T13:53:55.945Z"
   },
   {
    "duration": 51,
    "start_time": "2022-05-17T13:53:55.966Z"
   },
   {
    "duration": 37,
    "start_time": "2022-05-17T13:53:56.019Z"
   },
   {
    "duration": 21,
    "start_time": "2022-05-17T13:53:56.059Z"
   },
   {
    "duration": 63,
    "start_time": "2022-05-17T13:53:56.082Z"
   },
   {
    "duration": 117,
    "start_time": "2022-05-17T13:53:56.147Z"
   },
   {
    "duration": 14,
    "start_time": "2022-05-17T13:53:56.266Z"
   },
   {
    "duration": 133,
    "start_time": "2022-05-17T13:53:56.284Z"
   },
   {
    "duration": 64,
    "start_time": "2022-05-17T13:53:56.420Z"
   },
   {
    "duration": 76,
    "start_time": "2022-05-17T13:53:56.486Z"
   },
   {
    "duration": 70,
    "start_time": "2022-05-17T13:53:56.564Z"
   },
   {
    "duration": 19,
    "start_time": "2022-05-17T13:53:56.636Z"
   },
   {
    "duration": 86,
    "start_time": "2022-05-17T13:53:56.658Z"
   },
   {
    "duration": 220,
    "start_time": "2022-05-17T13:53:56.748Z"
   },
   {
    "duration": 13,
    "start_time": "2022-05-17T13:53:56.971Z"
   },
   {
    "duration": 78,
    "start_time": "2022-05-17T13:53:56.986Z"
   },
   {
    "duration": 2059,
    "start_time": "2022-05-17T13:53:57.067Z"
   },
   {
    "duration": 7,
    "start_time": "2022-05-17T13:53:59.129Z"
   },
   {
    "duration": 393,
    "start_time": "2022-05-17T13:53:59.138Z"
   },
   {
    "duration": 15,
    "start_time": "2022-05-17T13:53:59.533Z"
   },
   {
    "duration": 463,
    "start_time": "2022-05-17T13:53:59.551Z"
   },
   {
    "duration": 44,
    "start_time": "2022-05-17T13:54:00.017Z"
   }
  ],
  "kernelspec": {
   "display_name": "Python 3 (ipykernel)",
   "language": "python",
   "name": "python3"
  },
  "language_info": {
   "codemirror_mode": {
    "name": "ipython",
    "version": 3
   },
   "file_extension": ".py",
   "mimetype": "text/x-python",
   "name": "python",
   "nbconvert_exporter": "python",
   "pygments_lexer": "ipython3",
   "version": "3.9.12"
  },
  "toc": {
   "base_numbering": 1,
   "nav_menu": {},
   "number_sections": true,
   "sideBar": true,
   "skip_h1_title": true,
   "title_cell": "Table of Contents",
   "title_sidebar": "Contents",
   "toc_cell": false,
   "toc_position": {
    "height": "calc(100% - 180px)",
    "left": "10px",
    "top": "150px",
    "width": "270.391px"
   },
   "toc_section_display": true,
   "toc_window_display": true
  }
 },
 "nbformat": 4,
 "nbformat_minor": 2
}
