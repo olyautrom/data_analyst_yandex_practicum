{
 "cells": [
  {
   "cell_type": "markdown",
   "metadata": {
    "toc": true
   },
   "source": [
    "<h1>Содержание<span class=\"tocSkip\"></span></h1>\n",
    "<div class=\"toc\"><ul class=\"toc-item\"><li><span><a href=\"#Загрузка-и-предобработка-данных\" data-toc-modified-id=\"Загрузка-и-предобработка-данных-1\"><span class=\"toc-item-num\">1&nbsp;&nbsp;</span>Загрузка и предобработка данных</a></span><ul class=\"toc-item\"><li><span><a href=\"#Загрузка-данных-в-переменные\" data-toc-modified-id=\"Загрузка-данных-в-переменные-1.1\"><span class=\"toc-item-num\">1.1&nbsp;&nbsp;</span>Загрузка данных в переменные</a></span></li><li><span><a href=\"#Переименование-и-изменение-типов-данных-столбцов\" data-toc-modified-id=\"Переименование-и-изменение-типов-данных-столбцов-1.2\"><span class=\"toc-item-num\">1.2&nbsp;&nbsp;</span>Переименование и изменение типов данных столбцов</a></span></li><li><span><a href=\"#Проверка-на-дубликаты\" data-toc-modified-id=\"Проверка-на-дубликаты-1.3\"><span class=\"toc-item-num\">1.3&nbsp;&nbsp;</span>Проверка на дубликаты</a></span></li><li><span><a href=\"#Проверка-разбиения-на-группы\" data-toc-modified-id=\"Проверка-разбиения-на-группы-1.4\"><span class=\"toc-item-num\">1.4&nbsp;&nbsp;</span>Проверка разбиения на группы</a></span></li><li><span><a href=\"#Вывод\" data-toc-modified-id=\"Вывод-1.5\"><span class=\"toc-item-num\">1.5&nbsp;&nbsp;</span>Вывод</a></span></li></ul></li><li><span><a href=\"#Часть-1.-Приоритизация-гипотез\" data-toc-modified-id=\"Часть-1.-Приоритизация-гипотез-2\"><span class=\"toc-item-num\">2&nbsp;&nbsp;</span>Часть 1. Приоритизация гипотез</a></span><ul class=\"toc-item\"><li><span><a href=\"#Фреймворк-ICE\" data-toc-modified-id=\"Фреймворк-ICE-2.1\"><span class=\"toc-item-num\">2.1&nbsp;&nbsp;</span>Фреймворк ICE</a></span></li><li><span><a href=\"#Фреймворк-RICE\" data-toc-modified-id=\"Фреймворк-RICE-2.2\"><span class=\"toc-item-num\">2.2&nbsp;&nbsp;</span>Фреймворк RICE</a></span></li><li><span><a href=\"#Вывод\" data-toc-modified-id=\"Вывод-2.3\"><span class=\"toc-item-num\">2.3&nbsp;&nbsp;</span>Вывод</a></span></li></ul></li><li><span><a href=\"#Часть-2.-Анализ-A/B-теста\" data-toc-modified-id=\"Часть-2.-Анализ-A/B-теста-3\"><span class=\"toc-item-num\">3&nbsp;&nbsp;</span>Часть 2. Анализ A/B-теста</a></span><ul class=\"toc-item\"><li><span><a href=\"#Кумулятивная-выручка-по-группам\" data-toc-modified-id=\"Кумулятивная-выручка-по-группам-3.1\"><span class=\"toc-item-num\">3.1&nbsp;&nbsp;</span>Кумулятивная выручка по группам</a></span></li><li><span><a href=\"#Кумулятивный-средний-чек-по-группам\" data-toc-modified-id=\"Кумулятивный-средний-чек-по-группам-3.2\"><span class=\"toc-item-num\">3.2&nbsp;&nbsp;</span>Кумулятивный средний чек по группам</a></span></li><li><span><a href=\"#Кумулятивная-конверсия-по-группам\" data-toc-modified-id=\"Кумулятивная-конверсия-по-группам-3.3\"><span class=\"toc-item-num\">3.3&nbsp;&nbsp;</span>Кумулятивная конверсия по группам</a></span></li><li><span><a href=\"#Количество-заказов-по-пользователям\" data-toc-modified-id=\"Количество-заказов-по-пользователям-3.4\"><span class=\"toc-item-num\">3.4&nbsp;&nbsp;</span>Количество заказов по пользователям</a></span></li><li><span><a href=\"#Стоимость-заказов\" data-toc-modified-id=\"Стоимость-заказов-3.5\"><span class=\"toc-item-num\">3.5&nbsp;&nbsp;</span>Стоимость заказов</a></span></li><li><span><a href=\"#Cтатистическая-значимость-различий-между-группами-по-«сырым»-данным\" data-toc-modified-id=\"Cтатистическая-значимость-различий-между-группами-по-«сырым»-данным-3.6\"><span class=\"toc-item-num\">3.6&nbsp;&nbsp;</span>Cтатистическая значимость различий между группами по «сырым» данным</a></span></li><li><span><a href=\"#Cтатистическая-значимость-различий-между-группами-по-«очищенным»-данным\" data-toc-modified-id=\"Cтатистическая-значимость-различий-между-группами-по-«очищенным»-данным-3.7\"><span class=\"toc-item-num\">3.7&nbsp;&nbsp;</span>Cтатистическая значимость различий между группами по «очищенным» данным</a></span></li><li><span><a href=\"#Вывод\" data-toc-modified-id=\"Вывод-3.8\"><span class=\"toc-item-num\">3.8&nbsp;&nbsp;</span>Вывод</a></span></li></ul></li><li><span><a href=\"#Решение-по-результу-теста\" data-toc-modified-id=\"Решение-по-результу-теста-4\"><span class=\"toc-item-num\">4&nbsp;&nbsp;</span>Решение по результу теста</a></span></li></ul></div>"
   ]
  },
  {
   "cell_type": "markdown",
   "metadata": {},
   "source": [
    "# Проверка гипотез по увеличению выручки в интернет-магазине — оценить результаты A/B теста\n",
    "\n",
    "**Описание проекта**\n",
    "\n",
    "Вместе с отделом маркетинга подготовлен список гипотез для увеличения выручки крупного интернет-магазина.\n",
    "Приоритизируем гипотезы, запустим A/B-тест и проанализируем результаты.\n",
    "\n",
    "**Описание данных**\n",
    "\n",
    "Файл `/datasets/hypothesis.csv`:\n",
    "* `Hypothesis` — краткое описание гипотезы;\n",
    "* `Reach` — охват пользователей по 10-балльной шкале;\n",
    "* `Impact` — влияние на пользователей по 10-балльной шкале;\n",
    "* `Confidence` — уверенность в гипотезе по 10-балльной шкале;\n",
    "* `Efforts` — затраты ресурсов на проверку гипотезы по 10-балльной шкале. Чем больше значение `Efforts`, тем дороже проверка гипотезы.\n",
    "\n",
    "Файл `/datasets/orders.csv`:\n",
    "* `transactionId` — идентификатор заказа;\n",
    "* `visitorId` — идентификатор пользователя, совершившего заказ;\n",
    "* `date` — дата, когда был совершён заказ;\n",
    "* `revenue` — выручка заказа;\n",
    "* `group` — группа A/B-теста, в которую попал заказ.\n",
    "\n",
    "Файл `/datasets/visitors.csv`:\n",
    "* `date` — дата;\n",
    "* `group` — группа A/B-теста;\n",
    "* `visitors` — количество пользователей в указанную дату в указанной группе A/B-теста.\n",
    "\n",
    "## Загрузка и предобработка данных\n",
    "\n",
    "### Загрузка данных в переменные\n",
    "\n",
    "Загрузим данные о гипотезах, заказах и визитах в переменные. Выведем таблицы на экран. Пути к файлам:\n",
    "* `/datasets/hypothesis.csv` \n",
    "* `/datasets/orders.csv`\n",
    "* `/datasets/visitors.csv`"
   ]
  },
  {
   "cell_type": "code",
   "execution_count": 1,
   "metadata": {
    "scrolled": true
   },
   "outputs": [
    {
     "data": {
      "text/html": [
       "<div>\n",
       "<style scoped>\n",
       "    .dataframe tbody tr th:only-of-type {\n",
       "        vertical-align: middle;\n",
       "    }\n",
       "\n",
       "    .dataframe tbody tr th {\n",
       "        vertical-align: top;\n",
       "    }\n",
       "\n",
       "    .dataframe thead th {\n",
       "        text-align: right;\n",
       "    }\n",
       "</style>\n",
       "<table border=\"1\" class=\"dataframe\">\n",
       "  <thead>\n",
       "    <tr style=\"text-align: right;\">\n",
       "      <th></th>\n",
       "      <th>Hypothesis</th>\n",
       "      <th>Reach</th>\n",
       "      <th>Impact</th>\n",
       "      <th>Confidence</th>\n",
       "      <th>Efforts</th>\n",
       "    </tr>\n",
       "  </thead>\n",
       "  <tbody>\n",
       "    <tr>\n",
       "      <th>0</th>\n",
       "      <td>Добавить два новых канала привлечения трафика, что позволит привлекать на 30% больше пользователей</td>\n",
       "      <td>3</td>\n",
       "      <td>10</td>\n",
       "      <td>8</td>\n",
       "      <td>6</td>\n",
       "    </tr>\n",
       "    <tr>\n",
       "      <th>1</th>\n",
       "      <td>Запустить собственную службу доставки, что сократит срок доставки заказов</td>\n",
       "      <td>2</td>\n",
       "      <td>5</td>\n",
       "      <td>4</td>\n",
       "      <td>10</td>\n",
       "    </tr>\n",
       "    <tr>\n",
       "      <th>2</th>\n",
       "      <td>Добавить блоки рекомендаций товаров на сайт интернет магазина, чтобы повысить конверсию и средний чек заказа</td>\n",
       "      <td>8</td>\n",
       "      <td>3</td>\n",
       "      <td>7</td>\n",
       "      <td>3</td>\n",
       "    </tr>\n",
       "    <tr>\n",
       "      <th>3</th>\n",
       "      <td>Изменить структура категорий, что увеличит конверсию, т.к. пользователи быстрее найдут нужный товар</td>\n",
       "      <td>8</td>\n",
       "      <td>3</td>\n",
       "      <td>3</td>\n",
       "      <td>8</td>\n",
       "    </tr>\n",
       "    <tr>\n",
       "      <th>4</th>\n",
       "      <td>Изменить цвет фона главной страницы, чтобы увеличить вовлеченность пользователей</td>\n",
       "      <td>3</td>\n",
       "      <td>1</td>\n",
       "      <td>1</td>\n",
       "      <td>1</td>\n",
       "    </tr>\n",
       "    <tr>\n",
       "      <th>5</th>\n",
       "      <td>Добавить страницу отзывов клиентов о магазине, что позволит увеличить количество заказов</td>\n",
       "      <td>3</td>\n",
       "      <td>2</td>\n",
       "      <td>2</td>\n",
       "      <td>3</td>\n",
       "    </tr>\n",
       "    <tr>\n",
       "      <th>6</th>\n",
       "      <td>Показать на главной странице баннеры с актуальными акциями и распродажами, чтобы увеличить конверсию</td>\n",
       "      <td>5</td>\n",
       "      <td>3</td>\n",
       "      <td>8</td>\n",
       "      <td>3</td>\n",
       "    </tr>\n",
       "    <tr>\n",
       "      <th>7</th>\n",
       "      <td>Добавить форму подписки на все основные страницы, чтобы собрать базу клиентов для email-рассылок</td>\n",
       "      <td>10</td>\n",
       "      <td>7</td>\n",
       "      <td>8</td>\n",
       "      <td>5</td>\n",
       "    </tr>\n",
       "    <tr>\n",
       "      <th>8</th>\n",
       "      <td>Запустить акцию, дающую скидку на товар в день рождения</td>\n",
       "      <td>1</td>\n",
       "      <td>9</td>\n",
       "      <td>9</td>\n",
       "      <td>5</td>\n",
       "    </tr>\n",
       "  </tbody>\n",
       "</table>\n",
       "</div>"
      ],
      "text/plain": [
       "                                                                                                     Hypothesis  \\\n",
       "0            Добавить два новых канала привлечения трафика, что позволит привлекать на 30% больше пользователей   \n",
       "1                                     Запустить собственную службу доставки, что сократит срок доставки заказов   \n",
       "2  Добавить блоки рекомендаций товаров на сайт интернет магазина, чтобы повысить конверсию и средний чек заказа   \n",
       "3           Изменить структура категорий, что увеличит конверсию, т.к. пользователи быстрее найдут нужный товар   \n",
       "4                              Изменить цвет фона главной страницы, чтобы увеличить вовлеченность пользователей   \n",
       "5                      Добавить страницу отзывов клиентов о магазине, что позволит увеличить количество заказов   \n",
       "6          Показать на главной странице баннеры с актуальными акциями и распродажами, чтобы увеличить конверсию   \n",
       "7              Добавить форму подписки на все основные страницы, чтобы собрать базу клиентов для email-рассылок   \n",
       "8                                                       Запустить акцию, дающую скидку на товар в день рождения   \n",
       "\n",
       "   Reach  Impact  Confidence  Efforts  \n",
       "0      3      10           8        6  \n",
       "1      2       5           4       10  \n",
       "2      8       3           7        3  \n",
       "3      8       3           3        8  \n",
       "4      3       1           1        1  \n",
       "5      3       2           2        3  \n",
       "6      5       3           8        3  \n",
       "7     10       7           8        5  \n",
       "8      1       9           9        5  "
      ]
     },
     "metadata": {},
     "output_type": "display_data"
    },
    {
     "data": {
      "text/html": [
       "<div>\n",
       "<style scoped>\n",
       "    .dataframe tbody tr th:only-of-type {\n",
       "        vertical-align: middle;\n",
       "    }\n",
       "\n",
       "    .dataframe tbody tr th {\n",
       "        vertical-align: top;\n",
       "    }\n",
       "\n",
       "    .dataframe thead th {\n",
       "        text-align: right;\n",
       "    }\n",
       "</style>\n",
       "<table border=\"1\" class=\"dataframe\">\n",
       "  <thead>\n",
       "    <tr style=\"text-align: right;\">\n",
       "      <th></th>\n",
       "      <th>transactionId</th>\n",
       "      <th>visitorId</th>\n",
       "      <th>date</th>\n",
       "      <th>revenue</th>\n",
       "      <th>group</th>\n",
       "    </tr>\n",
       "  </thead>\n",
       "  <tbody>\n",
       "    <tr>\n",
       "      <th>0</th>\n",
       "      <td>3667963787</td>\n",
       "      <td>3312258926</td>\n",
       "      <td>2019-08-15</td>\n",
       "      <td>1650</td>\n",
       "      <td>B</td>\n",
       "    </tr>\n",
       "    <tr>\n",
       "      <th>1</th>\n",
       "      <td>2804400009</td>\n",
       "      <td>3642806036</td>\n",
       "      <td>2019-08-15</td>\n",
       "      <td>730</td>\n",
       "      <td>B</td>\n",
       "    </tr>\n",
       "    <tr>\n",
       "      <th>2</th>\n",
       "      <td>2961555356</td>\n",
       "      <td>4069496402</td>\n",
       "      <td>2019-08-15</td>\n",
       "      <td>400</td>\n",
       "      <td>A</td>\n",
       "    </tr>\n",
       "    <tr>\n",
       "      <th>3</th>\n",
       "      <td>3797467345</td>\n",
       "      <td>1196621759</td>\n",
       "      <td>2019-08-15</td>\n",
       "      <td>9759</td>\n",
       "      <td>B</td>\n",
       "    </tr>\n",
       "    <tr>\n",
       "      <th>4</th>\n",
       "      <td>2282983706</td>\n",
       "      <td>2322279887</td>\n",
       "      <td>2019-08-15</td>\n",
       "      <td>2308</td>\n",
       "      <td>B</td>\n",
       "    </tr>\n",
       "    <tr>\n",
       "      <th>...</th>\n",
       "      <td>...</td>\n",
       "      <td>...</td>\n",
       "      <td>...</td>\n",
       "      <td>...</td>\n",
       "      <td>...</td>\n",
       "    </tr>\n",
       "    <tr>\n",
       "      <th>1192</th>\n",
       "      <td>2662137336</td>\n",
       "      <td>3733762160</td>\n",
       "      <td>2019-08-14</td>\n",
       "      <td>6490</td>\n",
       "      <td>B</td>\n",
       "    </tr>\n",
       "    <tr>\n",
       "      <th>1193</th>\n",
       "      <td>2203539145</td>\n",
       "      <td>370388673</td>\n",
       "      <td>2019-08-14</td>\n",
       "      <td>3190</td>\n",
       "      <td>A</td>\n",
       "    </tr>\n",
       "    <tr>\n",
       "      <th>1194</th>\n",
       "      <td>1807773912</td>\n",
       "      <td>573423106</td>\n",
       "      <td>2019-08-14</td>\n",
       "      <td>10550</td>\n",
       "      <td>A</td>\n",
       "    </tr>\n",
       "    <tr>\n",
       "      <th>1195</th>\n",
       "      <td>1947021204</td>\n",
       "      <td>1614305549</td>\n",
       "      <td>2019-08-14</td>\n",
       "      <td>100</td>\n",
       "      <td>A</td>\n",
       "    </tr>\n",
       "    <tr>\n",
       "      <th>1196</th>\n",
       "      <td>3936777065</td>\n",
       "      <td>2108080724</td>\n",
       "      <td>2019-08-15</td>\n",
       "      <td>202740</td>\n",
       "      <td>B</td>\n",
       "    </tr>\n",
       "  </tbody>\n",
       "</table>\n",
       "<p>1197 rows × 5 columns</p>\n",
       "</div>"
      ],
      "text/plain": [
       "      transactionId   visitorId        date  revenue group\n",
       "0        3667963787  3312258926  2019-08-15     1650     B\n",
       "1        2804400009  3642806036  2019-08-15      730     B\n",
       "2        2961555356  4069496402  2019-08-15      400     A\n",
       "3        3797467345  1196621759  2019-08-15     9759     B\n",
       "4        2282983706  2322279887  2019-08-15     2308     B\n",
       "...             ...         ...         ...      ...   ...\n",
       "1192     2662137336  3733762160  2019-08-14     6490     B\n",
       "1193     2203539145   370388673  2019-08-14     3190     A\n",
       "1194     1807773912   573423106  2019-08-14    10550     A\n",
       "1195     1947021204  1614305549  2019-08-14      100     A\n",
       "1196     3936777065  2108080724  2019-08-15   202740     B\n",
       "\n",
       "[1197 rows x 5 columns]"
      ]
     },
     "metadata": {},
     "output_type": "display_data"
    },
    {
     "data": {
      "text/html": [
       "<div>\n",
       "<style scoped>\n",
       "    .dataframe tbody tr th:only-of-type {\n",
       "        vertical-align: middle;\n",
       "    }\n",
       "\n",
       "    .dataframe tbody tr th {\n",
       "        vertical-align: top;\n",
       "    }\n",
       "\n",
       "    .dataframe thead th {\n",
       "        text-align: right;\n",
       "    }\n",
       "</style>\n",
       "<table border=\"1\" class=\"dataframe\">\n",
       "  <thead>\n",
       "    <tr style=\"text-align: right;\">\n",
       "      <th></th>\n",
       "      <th>date</th>\n",
       "      <th>group</th>\n",
       "      <th>visitors</th>\n",
       "    </tr>\n",
       "  </thead>\n",
       "  <tbody>\n",
       "    <tr>\n",
       "      <th>0</th>\n",
       "      <td>2019-08-01</td>\n",
       "      <td>A</td>\n",
       "      <td>719</td>\n",
       "    </tr>\n",
       "    <tr>\n",
       "      <th>1</th>\n",
       "      <td>2019-08-02</td>\n",
       "      <td>A</td>\n",
       "      <td>619</td>\n",
       "    </tr>\n",
       "    <tr>\n",
       "      <th>2</th>\n",
       "      <td>2019-08-03</td>\n",
       "      <td>A</td>\n",
       "      <td>507</td>\n",
       "    </tr>\n",
       "    <tr>\n",
       "      <th>3</th>\n",
       "      <td>2019-08-04</td>\n",
       "      <td>A</td>\n",
       "      <td>717</td>\n",
       "    </tr>\n",
       "    <tr>\n",
       "      <th>4</th>\n",
       "      <td>2019-08-05</td>\n",
       "      <td>A</td>\n",
       "      <td>756</td>\n",
       "    </tr>\n",
       "    <tr>\n",
       "      <th>...</th>\n",
       "      <td>...</td>\n",
       "      <td>...</td>\n",
       "      <td>...</td>\n",
       "    </tr>\n",
       "    <tr>\n",
       "      <th>57</th>\n",
       "      <td>2019-08-27</td>\n",
       "      <td>B</td>\n",
       "      <td>720</td>\n",
       "    </tr>\n",
       "    <tr>\n",
       "      <th>58</th>\n",
       "      <td>2019-08-28</td>\n",
       "      <td>B</td>\n",
       "      <td>654</td>\n",
       "    </tr>\n",
       "    <tr>\n",
       "      <th>59</th>\n",
       "      <td>2019-08-29</td>\n",
       "      <td>B</td>\n",
       "      <td>531</td>\n",
       "    </tr>\n",
       "    <tr>\n",
       "      <th>60</th>\n",
       "      <td>2019-08-30</td>\n",
       "      <td>B</td>\n",
       "      <td>490</td>\n",
       "    </tr>\n",
       "    <tr>\n",
       "      <th>61</th>\n",
       "      <td>2019-08-31</td>\n",
       "      <td>B</td>\n",
       "      <td>718</td>\n",
       "    </tr>\n",
       "  </tbody>\n",
       "</table>\n",
       "<p>62 rows × 3 columns</p>\n",
       "</div>"
      ],
      "text/plain": [
       "          date group  visitors\n",
       "0   2019-08-01     A       719\n",
       "1   2019-08-02     A       619\n",
       "2   2019-08-03     A       507\n",
       "3   2019-08-04     A       717\n",
       "4   2019-08-05     A       756\n",
       "..         ...   ...       ...\n",
       "57  2019-08-27     B       720\n",
       "58  2019-08-28     B       654\n",
       "59  2019-08-29     B       531\n",
       "60  2019-08-30     B       490\n",
       "61  2019-08-31     B       718\n",
       "\n",
       "[62 rows x 3 columns]"
      ]
     },
     "metadata": {},
     "output_type": "display_data"
    }
   ],
   "source": [
    "import pandas as pd\n",
    "import numpy as np\n",
    "import datetime as dt\n",
    "import scipy.stats as stats\n",
    "import matplotlib.pyplot as plt\n",
    "import warnings\n",
    "\n",
    "# отключение предупреждений об ошибках\n",
    "warnings.filterwarnings('ignore')\n",
    "# установка максимальной длины ячейки\n",
    "pd.set_option(\"max_colwidth\", 150)\n",
    "hypothesis = pd.read_csv('/datasets/hypothesis.csv', sep=',')\n",
    "orders = pd.read_csv('/datasets/orders.csv', sep=',') \n",
    "visitors = pd.read_csv('/datasets/visitors.csv', sep=',')\n",
    "display(hypothesis)\n",
    "display(orders)\n",
    "display(visitors)"
   ]
  },
  {
   "cell_type": "markdown",
   "metadata": {},
   "source": [
    "### Переименование и изменение типов данных столбцов \n",
    "\n",
    "Приведем названия столбцов таблиц к стилю Snake case. Приведем столбцы `hypothesis` к нижнему регистру, а в `orders` сделаем замены. "
   ]
  },
  {
   "cell_type": "code",
   "execution_count": 2,
   "metadata": {},
   "outputs": [],
   "source": [
    "# приведение названия столбцов к нижнему регистру\n",
    "hypothesis.columns = hypothesis.columns.str.lower()\n",
    "# замена имен столбцов с пробелами\n",
    "orders = orders.rename({'transactionId': 'transaction_id', 'visitorId': 'visitor_id'\n",
    "                       }, axis='columns')"
   ]
  },
  {
   "cell_type": "markdown",
   "metadata": {},
   "source": [
    "Проверим типы данных, размер таблиц, есть ли в них пропуски, вызвав метод `info()`."
   ]
  },
  {
   "cell_type": "code",
   "execution_count": 3,
   "metadata": {},
   "outputs": [
    {
     "name": "stdout",
     "output_type": "stream",
     "text": [
      "<class 'pandas.core.frame.DataFrame'>\n",
      "RangeIndex: 9 entries, 0 to 8\n",
      "Data columns (total 5 columns):\n",
      " #   Column      Non-Null Count  Dtype \n",
      "---  ------      --------------  ----- \n",
      " 0   hypothesis  9 non-null      object\n",
      " 1   reach       9 non-null      int64 \n",
      " 2   impact      9 non-null      int64 \n",
      " 3   confidence  9 non-null      int64 \n",
      " 4   efforts     9 non-null      int64 \n",
      "dtypes: int64(4), object(1)\n",
      "memory usage: 488.0+ bytes\n",
      "None \n",
      "\n",
      "<class 'pandas.core.frame.DataFrame'>\n",
      "RangeIndex: 1197 entries, 0 to 1196\n",
      "Data columns (total 5 columns):\n",
      " #   Column          Non-Null Count  Dtype \n",
      "---  ------          --------------  ----- \n",
      " 0   transaction_id  1197 non-null   int64 \n",
      " 1   visitor_id      1197 non-null   int64 \n",
      " 2   date            1197 non-null   object\n",
      " 3   revenue         1197 non-null   int64 \n",
      " 4   group           1197 non-null   object\n",
      "dtypes: int64(3), object(2)\n",
      "memory usage: 46.9+ KB\n",
      "None \n",
      "\n",
      "<class 'pandas.core.frame.DataFrame'>\n",
      "RangeIndex: 62 entries, 0 to 61\n",
      "Data columns (total 3 columns):\n",
      " #   Column    Non-Null Count  Dtype \n",
      "---  ------    --------------  ----- \n",
      " 0   date      62 non-null     object\n",
      " 1   group     62 non-null     object\n",
      " 2   visitors  62 non-null     int64 \n",
      "dtypes: int64(1), object(2)\n",
      "memory usage: 1.6+ KB\n",
      "None \n",
      "\n"
     ]
    }
   ],
   "source": [
    "for table in [hypothesis, orders, visitors]:\n",
    "    print(table.info(), '\\n')"
   ]
  },
  {
   "cell_type": "markdown",
   "metadata": {},
   "source": [
    "В таблице `hypothesis` 9 строк, то есть у нас всего 9 гипотез, в `orders`  1197, а в `visitors` 62. Названия гипотез, групп тестов (A и B) и даты являютя типом object, все остальные знаяения целые - int. Пропущенных значений нет ни в одной таблице.\n",
    "\n",
    "Приведем `orders['date']` и `visitors['date']` к типу данных дата."
   ]
  },
  {
   "cell_type": "code",
   "execution_count": 4,
   "metadata": {},
   "outputs": [],
   "source": [
    "orders['date'] = orders['date'].map(\n",
    "    lambda x: dt.datetime.strptime(x, '%Y-%m-%d')\n",
    ")\n",
    "\n",
    "visitors['date'] = visitors['date'].map(\n",
    "    lambda x: dt.datetime.strptime(x, '%Y-%m-%d')\n",
    ")"
   ]
  },
  {
   "cell_type": "markdown",
   "metadata": {},
   "source": [
    "### Проверка на дубликаты\n",
    "\n",
    "Проверим таблицы на наличие дубликатов:"
   ]
  },
  {
   "cell_type": "code",
   "execution_count": 5,
   "metadata": {
    "scrolled": true
   },
   "outputs": [
    {
     "name": "stdout",
     "output_type": "stream",
     "text": [
      "0\n",
      "0\n",
      "0\n"
     ]
    }
   ],
   "source": [
    "for table in [hypothesis, orders, visitors]:\n",
    "    print(table.duplicated().sum())"
   ]
  },
  {
   "cell_type": "markdown",
   "metadata": {},
   "source": [
    "### Проверка разбиения на группы\n",
    "\n",
    "<a id='duplicates_users'></a>\n",
    "Нужно удостовериться в том, что пользователи были правильно распределены по группам. Сгруппируем таблицу `orders` по пользователям и посмотрим все ли из них находятся только в одной группе. С помощью метода `shape` получим размер полученной таблицы."
   ]
  },
  {
   "cell_type": "code",
   "execution_count": 6,
   "metadata": {},
   "outputs": [
    {
     "data": {
      "text/html": [
       "<div>\n",
       "<style scoped>\n",
       "    .dataframe tbody tr th:only-of-type {\n",
       "        vertical-align: middle;\n",
       "    }\n",
       "\n",
       "    .dataframe tbody tr th {\n",
       "        vertical-align: top;\n",
       "    }\n",
       "\n",
       "    .dataframe thead th {\n",
       "        text-align: right;\n",
       "    }\n",
       "</style>\n",
       "<table border=\"1\" class=\"dataframe\">\n",
       "  <thead>\n",
       "    <tr style=\"text-align: right;\">\n",
       "      <th></th>\n",
       "      <th>groups</th>\n",
       "      <th>group_names</th>\n",
       "      <th>transactions</th>\n",
       "    </tr>\n",
       "    <tr>\n",
       "      <th>visitor_id</th>\n",
       "      <th></th>\n",
       "      <th></th>\n",
       "      <th></th>\n",
       "    </tr>\n",
       "  </thead>\n",
       "  <tbody>\n",
       "    <tr>\n",
       "      <th>4256040402</th>\n",
       "      <td>2</td>\n",
       "      <td>[B, A]</td>\n",
       "      <td>11</td>\n",
       "    </tr>\n",
       "    <tr>\n",
       "      <th>2458001652</th>\n",
       "      <td>2</td>\n",
       "      <td>[A, B]</td>\n",
       "      <td>11</td>\n",
       "    </tr>\n",
       "    <tr>\n",
       "      <th>2378935119</th>\n",
       "      <td>2</td>\n",
       "      <td>[A, B]</td>\n",
       "      <td>9</td>\n",
       "    </tr>\n",
       "    <tr>\n",
       "      <th>2038680547</th>\n",
       "      <td>2</td>\n",
       "      <td>[B, A]</td>\n",
       "      <td>8</td>\n",
       "    </tr>\n",
       "    <tr>\n",
       "      <th>1230306981</th>\n",
       "      <td>2</td>\n",
       "      <td>[A, B]</td>\n",
       "      <td>5</td>\n",
       "    </tr>\n",
       "    <tr>\n",
       "      <th>237748145</th>\n",
       "      <td>2</td>\n",
       "      <td>[B, A]</td>\n",
       "      <td>5</td>\n",
       "    </tr>\n",
       "    <tr>\n",
       "      <th>3062433592</th>\n",
       "      <td>2</td>\n",
       "      <td>[B, A]</td>\n",
       "      <td>5</td>\n",
       "    </tr>\n",
       "    <tr>\n",
       "      <th>199603092</th>\n",
       "      <td>2</td>\n",
       "      <td>[A, B]</td>\n",
       "      <td>5</td>\n",
       "    </tr>\n",
       "    <tr>\n",
       "      <th>3717692402</th>\n",
       "      <td>2</td>\n",
       "      <td>[B, A]</td>\n",
       "      <td>5</td>\n",
       "    </tr>\n",
       "    <tr>\n",
       "      <th>3803269165</th>\n",
       "      <td>2</td>\n",
       "      <td>[A, B]</td>\n",
       "      <td>5</td>\n",
       "    </tr>\n",
       "  </tbody>\n",
       "</table>\n",
       "</div>"
      ],
      "text/plain": [
       "            groups group_names  transactions\n",
       "visitor_id                                  \n",
       "4256040402       2      [B, A]            11\n",
       "2458001652       2      [A, B]            11\n",
       "2378935119       2      [A, B]             9\n",
       "2038680547       2      [B, A]             8\n",
       "1230306981       2      [A, B]             5\n",
       "237748145        2      [B, A]             5\n",
       "3062433592       2      [B, A]             5\n",
       "199603092        2      [A, B]             5\n",
       "3717692402       2      [B, A]             5\n",
       "3803269165       2      [A, B]             5"
      ]
     },
     "metadata": {},
     "output_type": "display_data"
    },
    {
     "data": {
      "text/plain": [
       "(58, 3)"
      ]
     },
     "execution_count": 6,
     "metadata": {},
     "output_type": "execute_result"
    }
   ],
   "source": [
    "users = (\n",
    "    orders\n",
    "    .groupby('visitor_id')\n",
    "    .agg({'group': ['nunique', 'unique'], 'transaction_id': 'nunique'})\n",
    ")\n",
    "users.columns = ['groups', 'group_names', 'transactions']\n",
    "duplicates_users = users.query('groups > 1')\n",
    "display(duplicates_users.sort_values(by='transactions', ascending=False).head(10))\n",
    "duplicates_users.shape"
   ]
  },
  {
   "cell_type": "markdown",
   "metadata": {},
   "source": [
    "Мы видим, что есть пользователи, которые находятся и в группе A, и в группе B одновременно. При этом у них большое количество заказов. Какие-то заказы попали в группу A, какие-то в группу B. Возможно разбиение на A/B-тест было не по пользователям, а по id транзакций или произошла ошибка при делении. \n",
    "\n",
    "Всего пользователей, попавших в обе группы 58. Посмотрим какую долю они занимают."
   ]
  },
  {
   "cell_type": "code",
   "execution_count": 7,
   "metadata": {},
   "outputs": [
    {
     "data": {
      "text/plain": [
       "'5.63%'"
      ]
     },
     "execution_count": 7,
     "metadata": {},
     "output_type": "execute_result"
    }
   ],
   "source": [
    "'{:.2%}'.format(len(duplicates_users) / len(users))"
   ]
  },
  {
   "cell_type": "markdown",
   "metadata": {},
   "source": [
    "5.63 - процент достаточно большой. Пересечение групп сильно влияет на результаты теста. \n",
    "\n",
    "Сохраним очищенные данные без двойных пользователей в таблицу `clear_orders`. Таблицу `visitors` оставим без изменений, так как в ней нет идентификаторов пользователей."
   ]
  },
  {
   "cell_type": "code",
   "execution_count": 8,
   "metadata": {},
   "outputs": [
    {
     "name": "stdout",
     "output_type": "stream",
     "text": [
      "<class 'pandas.core.frame.DataFrame'>\n",
      "Int64Index: 1016 entries, 0 to 1196\n",
      "Data columns (total 5 columns):\n",
      " #   Column          Non-Null Count  Dtype         \n",
      "---  ------          --------------  -----         \n",
      " 0   transaction_id  1016 non-null   int64         \n",
      " 1   visitor_id      1016 non-null   int64         \n",
      " 2   date            1016 non-null   datetime64[ns]\n",
      " 3   revenue         1016 non-null   int64         \n",
      " 4   group           1016 non-null   object        \n",
      "dtypes: datetime64[ns](1), int64(3), object(1)\n",
      "memory usage: 47.6+ KB\n"
     ]
    }
   ],
   "source": [
    "clear_orders = orders.query('visitor_id not in @duplicates_users.index')\n",
    "clear_orders.info()"
   ]
  },
  {
   "cell_type": "markdown",
   "metadata": {},
   "source": [
    "После чистки пользоватей, которые находятся в обеих группах, в таблице `clear_orders` осталось 1016 строк. Далее будем работать с очищенными данными."
   ]
  },
  {
   "cell_type": "markdown",
   "metadata": {},
   "source": [
    "### Вывод\n",
    "\n",
    "Мы загрузили данные и подготовили их к анализу: привели названия столбцов к стилю snake case, привели данные к нужным типам, проверили таблицы на пропуски и дубликаты.\n",
    "\n",
    "Создана таблица `clear_orders` в которой данные `orders` были очищены от 5% пользователей, которые входили в группы A и B одновременно.\n",
    "\n",
    "**Описание данных:**\n",
    "\n",
    "Таблица hypothesis (информация о гипотезах):\n",
    "* `hypothesis` — краткое описание гипотезы;\n",
    "* `reach` — охват пользователей по 10-балльной шкале;\n",
    "* `impact` — влияние на пользователей по 10-балльной шкале;\n",
    "* `confidence` — уверенность в гипотезе по 10-балльной шкале;\n",
    "* `efforts` — затраты ресурсов на проверку гипотезы по 10-балльной шкале. Чем больше значение `Efforts`, тем дороже проверка гипотезы.\n",
    "\n",
    "Таблица orders (информация о заказах):\n",
    "* `transaction_id` — идентификатор заказа;\n",
    "* `visitor_id` — идентификатор пользователя, совершившего заказ;\n",
    "* `date` — дата, когда был совершён заказ;\n",
    "* `revenue` — выручка заказа;\n",
    "* `group` — группа A/B-теста, в которую попал заказ.\n",
    "\n",
    "Таблица visitors (информация о посещениях):\n",
    "* `date` — дата;\n",
    "* `group` — группа A/B-теста;\n",
    "* `visitors` — количество пользователей в указанную дату в указанной группе A/B-теста.\n",
    "\n",
    "\n",
    "## Часть 1. Приоритизация гипотез\n",
    "\n",
    "### Фреймворк ICE\n",
    "\n",
    "ICE (от англ. impact, confidence, effort / ease «влияние, уверенность, усилия / простота») — один из самых популярных способов приоритизации задач. Рассчитаем ICE и отсортируем их по убыванию приоритета."
   ]
  },
  {
   "cell_type": "code",
   "execution_count": 9,
   "metadata": {},
   "outputs": [
    {
     "data": {
      "text/html": [
       "<div>\n",
       "<style scoped>\n",
       "    .dataframe tbody tr th:only-of-type {\n",
       "        vertical-align: middle;\n",
       "    }\n",
       "\n",
       "    .dataframe tbody tr th {\n",
       "        vertical-align: top;\n",
       "    }\n",
       "\n",
       "    .dataframe thead th {\n",
       "        text-align: right;\n",
       "    }\n",
       "</style>\n",
       "<table border=\"1\" class=\"dataframe\">\n",
       "  <thead>\n",
       "    <tr style=\"text-align: right;\">\n",
       "      <th></th>\n",
       "      <th>hypothesis</th>\n",
       "      <th>reach</th>\n",
       "      <th>impact</th>\n",
       "      <th>confidence</th>\n",
       "      <th>efforts</th>\n",
       "      <th>ICE</th>\n",
       "    </tr>\n",
       "  </thead>\n",
       "  <tbody>\n",
       "    <tr>\n",
       "      <th>8</th>\n",
       "      <td>Запустить акцию, дающую скидку на товар в день рождения</td>\n",
       "      <td>1</td>\n",
       "      <td>9</td>\n",
       "      <td>9</td>\n",
       "      <td>5</td>\n",
       "      <td>16.20</td>\n",
       "    </tr>\n",
       "    <tr>\n",
       "      <th>0</th>\n",
       "      <td>Добавить два новых канала привлечения трафика, что позволит привлекать на 30% больше пользователей</td>\n",
       "      <td>3</td>\n",
       "      <td>10</td>\n",
       "      <td>8</td>\n",
       "      <td>6</td>\n",
       "      <td>13.33</td>\n",
       "    </tr>\n",
       "    <tr>\n",
       "      <th>7</th>\n",
       "      <td>Добавить форму подписки на все основные страницы, чтобы собрать базу клиентов для email-рассылок</td>\n",
       "      <td>10</td>\n",
       "      <td>7</td>\n",
       "      <td>8</td>\n",
       "      <td>5</td>\n",
       "      <td>11.20</td>\n",
       "    </tr>\n",
       "    <tr>\n",
       "      <th>6</th>\n",
       "      <td>Показать на главной странице баннеры с актуальными акциями и распродажами, чтобы увеличить конверсию</td>\n",
       "      <td>5</td>\n",
       "      <td>3</td>\n",
       "      <td>8</td>\n",
       "      <td>3</td>\n",
       "      <td>8.00</td>\n",
       "    </tr>\n",
       "    <tr>\n",
       "      <th>2</th>\n",
       "      <td>Добавить блоки рекомендаций товаров на сайт интернет магазина, чтобы повысить конверсию и средний чек заказа</td>\n",
       "      <td>8</td>\n",
       "      <td>3</td>\n",
       "      <td>7</td>\n",
       "      <td>3</td>\n",
       "      <td>7.00</td>\n",
       "    </tr>\n",
       "    <tr>\n",
       "      <th>1</th>\n",
       "      <td>Запустить собственную службу доставки, что сократит срок доставки заказов</td>\n",
       "      <td>2</td>\n",
       "      <td>5</td>\n",
       "      <td>4</td>\n",
       "      <td>10</td>\n",
       "      <td>2.00</td>\n",
       "    </tr>\n",
       "    <tr>\n",
       "      <th>5</th>\n",
       "      <td>Добавить страницу отзывов клиентов о магазине, что позволит увеличить количество заказов</td>\n",
       "      <td>3</td>\n",
       "      <td>2</td>\n",
       "      <td>2</td>\n",
       "      <td>3</td>\n",
       "      <td>1.33</td>\n",
       "    </tr>\n",
       "    <tr>\n",
       "      <th>3</th>\n",
       "      <td>Изменить структура категорий, что увеличит конверсию, т.к. пользователи быстрее найдут нужный товар</td>\n",
       "      <td>8</td>\n",
       "      <td>3</td>\n",
       "      <td>3</td>\n",
       "      <td>8</td>\n",
       "      <td>1.12</td>\n",
       "    </tr>\n",
       "    <tr>\n",
       "      <th>4</th>\n",
       "      <td>Изменить цвет фона главной страницы, чтобы увеличить вовлеченность пользователей</td>\n",
       "      <td>3</td>\n",
       "      <td>1</td>\n",
       "      <td>1</td>\n",
       "      <td>1</td>\n",
       "      <td>1.00</td>\n",
       "    </tr>\n",
       "  </tbody>\n",
       "</table>\n",
       "</div>"
      ],
      "text/plain": [
       "                                                                                                     hypothesis  \\\n",
       "8                                                       Запустить акцию, дающую скидку на товар в день рождения   \n",
       "0            Добавить два новых канала привлечения трафика, что позволит привлекать на 30% больше пользователей   \n",
       "7              Добавить форму подписки на все основные страницы, чтобы собрать базу клиентов для email-рассылок   \n",
       "6          Показать на главной странице баннеры с актуальными акциями и распродажами, чтобы увеличить конверсию   \n",
       "2  Добавить блоки рекомендаций товаров на сайт интернет магазина, чтобы повысить конверсию и средний чек заказа   \n",
       "1                                     Запустить собственную службу доставки, что сократит срок доставки заказов   \n",
       "5                      Добавить страницу отзывов клиентов о магазине, что позволит увеличить количество заказов   \n",
       "3           Изменить структура категорий, что увеличит конверсию, т.к. пользователи быстрее найдут нужный товар   \n",
       "4                              Изменить цвет фона главной страницы, чтобы увеличить вовлеченность пользователей   \n",
       "\n",
       "   reach  impact  confidence  efforts    ICE  \n",
       "8      1       9           9        5  16.20  \n",
       "0      3      10           8        6  13.33  \n",
       "7     10       7           8        5  11.20  \n",
       "6      5       3           8        3   8.00  \n",
       "2      8       3           7        3   7.00  \n",
       "1      2       5           4       10   2.00  \n",
       "5      3       2           2        3   1.33  \n",
       "3      8       3           3        8   1.12  \n",
       "4      3       1           1        1   1.00  "
      ]
     },
     "execution_count": 9,
     "metadata": {},
     "output_type": "execute_result"
    }
   ],
   "source": [
    "hypothesis['ICE'] = (\n",
    "    hypothesis['impact'] * hypothesis['confidence'] / hypothesis['efforts']\n",
    ").round(2)\n",
    "hypothesis.sort_values(by='ICE', ascending=False)"
   ]
  },
  {
   "cell_type": "markdown",
   "metadata": {},
   "source": [
    "Самыми приоритетными по ICE являются 8, 0 и 7 гипотезы.\n",
    "\n",
    "### Фреймворк RICE\n",
    "\n",
    "Расчитаем приоритезацию задач по модификации RICE (R от англ. reach, «охват»). Остортируем также по убыванию приоритета."
   ]
  },
  {
   "cell_type": "code",
   "execution_count": 10,
   "metadata": {},
   "outputs": [
    {
     "data": {
      "text/html": [
       "<div>\n",
       "<style scoped>\n",
       "    .dataframe tbody tr th:only-of-type {\n",
       "        vertical-align: middle;\n",
       "    }\n",
       "\n",
       "    .dataframe tbody tr th {\n",
       "        vertical-align: top;\n",
       "    }\n",
       "\n",
       "    .dataframe thead th {\n",
       "        text-align: right;\n",
       "    }\n",
       "</style>\n",
       "<table border=\"1\" class=\"dataframe\">\n",
       "  <thead>\n",
       "    <tr style=\"text-align: right;\">\n",
       "      <th></th>\n",
       "      <th>hypothesis</th>\n",
       "      <th>reach</th>\n",
       "      <th>impact</th>\n",
       "      <th>confidence</th>\n",
       "      <th>efforts</th>\n",
       "      <th>ICE</th>\n",
       "      <th>RICE</th>\n",
       "    </tr>\n",
       "  </thead>\n",
       "  <tbody>\n",
       "    <tr>\n",
       "      <th>7</th>\n",
       "      <td>Добавить форму подписки на все основные страницы, чтобы собрать базу клиентов для email-рассылок</td>\n",
       "      <td>10</td>\n",
       "      <td>7</td>\n",
       "      <td>8</td>\n",
       "      <td>5</td>\n",
       "      <td>11.20</td>\n",
       "      <td>112.0</td>\n",
       "    </tr>\n",
       "    <tr>\n",
       "      <th>2</th>\n",
       "      <td>Добавить блоки рекомендаций товаров на сайт интернет магазина, чтобы повысить конверсию и средний чек заказа</td>\n",
       "      <td>8</td>\n",
       "      <td>3</td>\n",
       "      <td>7</td>\n",
       "      <td>3</td>\n",
       "      <td>7.00</td>\n",
       "      <td>56.0</td>\n",
       "    </tr>\n",
       "    <tr>\n",
       "      <th>0</th>\n",
       "      <td>Добавить два новых канала привлечения трафика, что позволит привлекать на 30% больше пользователей</td>\n",
       "      <td>3</td>\n",
       "      <td>10</td>\n",
       "      <td>8</td>\n",
       "      <td>6</td>\n",
       "      <td>13.33</td>\n",
       "      <td>40.0</td>\n",
       "    </tr>\n",
       "    <tr>\n",
       "      <th>6</th>\n",
       "      <td>Показать на главной странице баннеры с актуальными акциями и распродажами, чтобы увеличить конверсию</td>\n",
       "      <td>5</td>\n",
       "      <td>3</td>\n",
       "      <td>8</td>\n",
       "      <td>3</td>\n",
       "      <td>8.00</td>\n",
       "      <td>40.0</td>\n",
       "    </tr>\n",
       "    <tr>\n",
       "      <th>8</th>\n",
       "      <td>Запустить акцию, дающую скидку на товар в день рождения</td>\n",
       "      <td>1</td>\n",
       "      <td>9</td>\n",
       "      <td>9</td>\n",
       "      <td>5</td>\n",
       "      <td>16.20</td>\n",
       "      <td>16.2</td>\n",
       "    </tr>\n",
       "    <tr>\n",
       "      <th>3</th>\n",
       "      <td>Изменить структура категорий, что увеличит конверсию, т.к. пользователи быстрее найдут нужный товар</td>\n",
       "      <td>8</td>\n",
       "      <td>3</td>\n",
       "      <td>3</td>\n",
       "      <td>8</td>\n",
       "      <td>1.12</td>\n",
       "      <td>9.0</td>\n",
       "    </tr>\n",
       "    <tr>\n",
       "      <th>1</th>\n",
       "      <td>Запустить собственную службу доставки, что сократит срок доставки заказов</td>\n",
       "      <td>2</td>\n",
       "      <td>5</td>\n",
       "      <td>4</td>\n",
       "      <td>10</td>\n",
       "      <td>2.00</td>\n",
       "      <td>4.0</td>\n",
       "    </tr>\n",
       "    <tr>\n",
       "      <th>5</th>\n",
       "      <td>Добавить страницу отзывов клиентов о магазине, что позволит увеличить количество заказов</td>\n",
       "      <td>3</td>\n",
       "      <td>2</td>\n",
       "      <td>2</td>\n",
       "      <td>3</td>\n",
       "      <td>1.33</td>\n",
       "      <td>4.0</td>\n",
       "    </tr>\n",
       "    <tr>\n",
       "      <th>4</th>\n",
       "      <td>Изменить цвет фона главной страницы, чтобы увеличить вовлеченность пользователей</td>\n",
       "      <td>3</td>\n",
       "      <td>1</td>\n",
       "      <td>1</td>\n",
       "      <td>1</td>\n",
       "      <td>1.00</td>\n",
       "      <td>3.0</td>\n",
       "    </tr>\n",
       "  </tbody>\n",
       "</table>\n",
       "</div>"
      ],
      "text/plain": [
       "                                                                                                     hypothesis  \\\n",
       "7              Добавить форму подписки на все основные страницы, чтобы собрать базу клиентов для email-рассылок   \n",
       "2  Добавить блоки рекомендаций товаров на сайт интернет магазина, чтобы повысить конверсию и средний чек заказа   \n",
       "0            Добавить два новых канала привлечения трафика, что позволит привлекать на 30% больше пользователей   \n",
       "6          Показать на главной странице баннеры с актуальными акциями и распродажами, чтобы увеличить конверсию   \n",
       "8                                                       Запустить акцию, дающую скидку на товар в день рождения   \n",
       "3           Изменить структура категорий, что увеличит конверсию, т.к. пользователи быстрее найдут нужный товар   \n",
       "1                                     Запустить собственную службу доставки, что сократит срок доставки заказов   \n",
       "5                      Добавить страницу отзывов клиентов о магазине, что позволит увеличить количество заказов   \n",
       "4                              Изменить цвет фона главной страницы, чтобы увеличить вовлеченность пользователей   \n",
       "\n",
       "   reach  impact  confidence  efforts    ICE   RICE  \n",
       "7     10       7           8        5  11.20  112.0  \n",
       "2      8       3           7        3   7.00   56.0  \n",
       "0      3      10           8        6  13.33   40.0  \n",
       "6      5       3           8        3   8.00   40.0  \n",
       "8      1       9           9        5  16.20   16.2  \n",
       "3      8       3           3        8   1.12    9.0  \n",
       "1      2       5           4       10   2.00    4.0  \n",
       "5      3       2           2        3   1.33    4.0  \n",
       "4      3       1           1        1   1.00    3.0  "
      ]
     },
     "execution_count": 10,
     "metadata": {},
     "output_type": "execute_result"
    }
   ],
   "source": [
    "hypothesis['RICE'] = (\n",
    "    hypothesis['reach'] * hypothesis['impact'] * hypothesis['confidence']\n",
    "    / hypothesis['efforts']\n",
    ")\n",
    "hypothesis.sort_values(by='RICE', ascending=False)"
   ]
  },
  {
   "cell_type": "markdown",
   "metadata": {},
   "source": [
    "Приоритет гипотез уже другой, по RICE приоритетными являются 7, 2, 0 и 6 гипотезы.\n",
    "\n",
    "### Вывод\n",
    "\n",
    "По расчету ICE наиболее приоритетными задачами являются 8, 0 7 и 6. По RICE на первые места в приоритете выходят 7 и 2 гипотезы, так как параметр reach у них больше всех, равен 10 и 8 соответственно.\n",
    "\n",
    "По результату расчетов ICE и RICE наиболее приоритетными выберем гипотезы 0, 2, 6, 7, 8.\n",
    "\n",
    "Гипотезы 1, 3, 4, 5 имеют очень низкий приоритет по расчету обоими способами.\n",
    "\n",
    "\n",
    "## Часть 2. Анализ A/B-теста\n",
    "\n",
    "### Кумулятивная выручка по группам"
   ]
  },
  {
   "cell_type": "markdown",
   "metadata": {},
   "source": [
    "Создадим массив уникальных пар значений дат и групп теста методом `drop_duplicates()`:"
   ]
  },
  {
   "cell_type": "code",
   "execution_count": 11,
   "metadata": {},
   "outputs": [
    {
     "data": {
      "text/html": [
       "<div>\n",
       "<style scoped>\n",
       "    .dataframe tbody tr th:only-of-type {\n",
       "        vertical-align: middle;\n",
       "    }\n",
       "\n",
       "    .dataframe tbody tr th {\n",
       "        vertical-align: top;\n",
       "    }\n",
       "\n",
       "    .dataframe thead th {\n",
       "        text-align: right;\n",
       "    }\n",
       "</style>\n",
       "<table border=\"1\" class=\"dataframe\">\n",
       "  <thead>\n",
       "    <tr style=\"text-align: right;\">\n",
       "      <th></th>\n",
       "      <th>date</th>\n",
       "      <th>group</th>\n",
       "    </tr>\n",
       "  </thead>\n",
       "  <tbody>\n",
       "    <tr>\n",
       "      <th>0</th>\n",
       "      <td>2019-08-15</td>\n",
       "      <td>B</td>\n",
       "    </tr>\n",
       "    <tr>\n",
       "      <th>7</th>\n",
       "      <td>2019-08-15</td>\n",
       "      <td>A</td>\n",
       "    </tr>\n",
       "    <tr>\n",
       "      <th>45</th>\n",
       "      <td>2019-08-16</td>\n",
       "      <td>A</td>\n",
       "    </tr>\n",
       "    <tr>\n",
       "      <th>47</th>\n",
       "      <td>2019-08-16</td>\n",
       "      <td>B</td>\n",
       "    </tr>\n",
       "    <tr>\n",
       "      <th>55</th>\n",
       "      <td>2019-08-01</td>\n",
       "      <td>A</td>\n",
       "    </tr>\n",
       "    <tr>\n",
       "      <th>...</th>\n",
       "      <td>...</td>\n",
       "      <td>...</td>\n",
       "    </tr>\n",
       "    <tr>\n",
       "      <th>1068</th>\n",
       "      <td>2019-08-12</td>\n",
       "      <td>A</td>\n",
       "    </tr>\n",
       "    <tr>\n",
       "      <th>1114</th>\n",
       "      <td>2019-08-13</td>\n",
       "      <td>B</td>\n",
       "    </tr>\n",
       "    <tr>\n",
       "      <th>1116</th>\n",
       "      <td>2019-08-13</td>\n",
       "      <td>A</td>\n",
       "    </tr>\n",
       "    <tr>\n",
       "      <th>1149</th>\n",
       "      <td>2019-08-14</td>\n",
       "      <td>B</td>\n",
       "    </tr>\n",
       "    <tr>\n",
       "      <th>1150</th>\n",
       "      <td>2019-08-14</td>\n",
       "      <td>A</td>\n",
       "    </tr>\n",
       "  </tbody>\n",
       "</table>\n",
       "<p>62 rows × 2 columns</p>\n",
       "</div>"
      ],
      "text/plain": [
       "           date group\n",
       "0    2019-08-15     B\n",
       "7    2019-08-15     A\n",
       "45   2019-08-16     A\n",
       "47   2019-08-16     B\n",
       "55   2019-08-01     A\n",
       "...         ...   ...\n",
       "1068 2019-08-12     A\n",
       "1114 2019-08-13     B\n",
       "1116 2019-08-13     A\n",
       "1149 2019-08-14     B\n",
       "1150 2019-08-14     A\n",
       "\n",
       "[62 rows x 2 columns]"
      ]
     },
     "execution_count": 11,
     "metadata": {},
     "output_type": "execute_result"
    }
   ],
   "source": [
    "# создаем массив уникальных пар значений дат и групп теста\n",
    "datesGroups = clear_orders[['date','group']].drop_duplicates()\n",
    "datesGroups"
   ]
  },
  {
   "cell_type": "markdown",
   "metadata": {},
   "source": [
    "Соберём агрегированные кумулятивные по дням данные о заказах.\n",
    "\n",
    "Получим строки таблицы `clear_orders`, дата которых меньше или равна дате элемента из `datesGroups`, а группа теста равна группе из `datesGroups`:\n",
    "\n",
    "`clear_orders[np.logical_and(orders['date'] <= x['date'], clear_orders['group'] == x['group'])]`.\n",
    "\n",
    "Агрегируем значения, вычислим максимальную дату. Для группы тоже рассчитаем максимум, и хотя она будет определённой, сделаем это, чтобы столбец `group` не пропал из итогового вывода. Найдём число уникальных ID заказов и пользователей. Подсчитаем сумму средних чеков:\n",
    "`.agg({'date' : 'max', 'group' : 'max', 'transaction_id': 'nunique', 'visitor_id' : 'nunique', 'revenue' : 'sum'}), axis=1)`. Отсортируем результаты по столбцам `date` и `group`.\n",
    "\n",
    "Этот код работает так, будто мы ежедневно считали результаты тестирования до выбранного дня включительно и сохраняли их в строках таблицы `ordersAggregated`.\n",
    "\n",
    "Аналогично получим агрегированные кумулятивные по дням данные о посетителях интернет-магазина, сохраним их в `visitorsAggregated`."
   ]
  },
  {
   "cell_type": "code",
   "execution_count": 12,
   "metadata": {},
   "outputs": [
    {
     "name": "stdout",
     "output_type": "stream",
     "text": [
      "        date group  orders  buyers  revenue  visitors\n",
      "0 2019-08-01     A      23      19   142779       719\n",
      "1 2019-08-01     B      17      17    59758       713\n",
      "2 2019-08-02     A      42      36   234381      1338\n",
      "3 2019-08-02     B      40      39   221801      1294\n",
      "4 2019-08-03     A      66      60   346854      1845\n"
     ]
    }
   ],
   "source": [
    "# получаем агрегированные кумулятивные по дням данные о заказах \n",
    "ordersAggregated = datesGroups.apply(lambda x: clear_orders[np.logical_and(clear_orders['date'] <= x['date'], clear_orders['group'] == x['group'])].agg({'date' : 'max', 'group' : 'max', 'transaction_id': 'nunique', 'visitor_id' : 'nunique', 'revenue' : 'sum'}), axis=1).sort_values(by=['date','group'])\n",
    "\n",
    "# получаем агрегированные кумулятивные по дням данные о посетителях интернет-магазина \n",
    "visitorsAggregated = datesGroups.apply(lambda x: visitors[np.logical_and(visitors['date'] <= x['date'], visitors['group'] == x['group'])].agg({'date' : 'max', 'group' : 'max', 'visitors' : 'sum'}), axis=1).sort_values(by=['date','group'])\n",
    "\n",
    "# объединяем кумулятивные данные в одной таблице и присваиваем ее столбцам понятные названия\n",
    "cumulativeData = ordersAggregated.merge(visitorsAggregated, left_on=['date', 'group'], right_on=['date', 'group'])\n",
    "cumulativeData.columns = ['date', 'group', 'orders', 'buyers', 'revenue', 'visitors']\n",
    "\n",
    "print(cumulativeData.head())"
   ]
  },
  {
   "cell_type": "markdown",
   "metadata": {},
   "source": [
    "Построим графики кумулятивной выручки по дням и группам A/B-тестирования:"
   ]
  },
  {
   "cell_type": "code",
   "execution_count": 13,
   "metadata": {},
   "outputs": [
    {
     "data": {
      "image/png": "[encoded data removed]",
      "text/plain": [
       "<Figure size 864x432 with 1 Axes>"
      ]
     },
     "metadata": {
      "needs_background": "light"
     },
     "output_type": "display_data"
    }
   ],
   "source": [
    "# датафрейм с кумулятивным количеством заказов и кумулятивной выручкой по дням в группе А\n",
    "cumulativeRevenueA = cumulativeData.query('group == \"A\"')[['date','revenue', 'orders']]\n",
    "\n",
    "# датафрейм с кумулятивным количеством заказов и кумулятивной выручкой по дням в группе B\n",
    "cumulativeRevenueB = cumulativeData.query('group == \"B\"')[['date','revenue', 'orders']]\n",
    "\n",
    "# строим графики выручки группы А и B\n",
    "plt.figure(figsize=(12, 6))\n",
    "plt.title('Кумулятивная выручка по дням и группам A и B')\n",
    "plt.plot(cumulativeRevenueA['date'], cumulativeRevenueA['revenue'], label='A')\n",
    "plt.plot(cumulativeRevenueB['date'], cumulativeRevenueB['revenue'], label='B')\n",
    "plt.legend()\n",
    "plt.grid()\n",
    "plt.show()"
   ]
  },
  {
   "cell_type": "markdown",
   "metadata": {},
   "source": [
    "Выручка увеличивается в течение всего теста, что хорошо. \n",
    "\n",
    "График выручки группы В растет почти равномерно. Однако график выручки для группы А резко взлетает наверх. Скачек наблюдается с 18 на 19 августа 2019г. Это может сигнализировать о всплесках числа заказов, либо о появлении очень дорогих заказов в выборке.\n",
    "\n",
    "### Кумулятивный средний чек по группам\n",
    "\n",
    "Построим графики среднего чека по группам — разделим кумулятивную выручку на кумулятивное число заказов."
   ]
  },
  {
   "cell_type": "code",
   "execution_count": 14,
   "metadata": {},
   "outputs": [
    {
     "data": {
      "image/png": "[encoded data removed]",
      "text/plain": [
       "<Figure size 864x432 with 1 Axes>"
      ]
     },
     "metadata": {
      "needs_background": "light"
     },
     "output_type": "display_data"
    }
   ],
   "source": [
    "plt.figure(figsize=(12, 6))\n",
    "plt.title('Кумулятивный средний чек по дням и группам A и B')\n",
    "plt.plot(cumulativeRevenueA['date'], \n",
    "         cumulativeRevenueA['revenue']/cumulativeRevenueA['orders'], \n",
    "         label='A')\n",
    "plt.plot(cumulativeRevenueB['date'], \n",
    "         cumulativeRevenueB['revenue']/cumulativeRevenueB['orders'], \n",
    "         label='B')\n",
    "plt.legend() \n",
    "plt.grid()\n",
    "plt.show()"
   ]
  },
  {
   "cell_type": "markdown",
   "metadata": {},
   "source": [
    "Средний чек становится равномерным ближе к концу теста: установился для группы A и продолжает падать для группы B. Скорее всего в группу B во второй половине теста попали крупные заказы (резкий всплеск на графике). Тогда ей нужно больше данных, чтобы прийти к реальному среднему чеку и установиться на его уровне.\n",
    "\n",
    "<a id=\"cumulative_revenue\"></a>\n",
    "Построим график относительного различия для среднего чека. Для этого соберем все данные в `mergedCumulativeRevenue`, разделим средний чек группы A на средний чек B и вычтем единицу. Добавим горизонтальную ось методом `axhline()`."
   ]
  },
  {
   "cell_type": "code",
   "execution_count": 15,
   "metadata": {
    "scrolled": true
   },
   "outputs": [
    {
     "data": {
      "image/png": "[encoded data removed]",
      "text/plain": [
       "<Figure size 720x432 with 1 Axes>"
      ]
     },
     "metadata": {
      "needs_background": "light"
     },
     "output_type": "display_data"
    }
   ],
   "source": [
    "# собираем данные в одном датафрейме\n",
    "mergedCumulativeRevenue = cumulativeRevenueA.merge(\n",
    "    cumulativeRevenueB, left_on='date', right_on='date', how='left', suffixes=['A', 'B']\n",
    ")\n",
    "\n",
    "# cтроим отношение средних чеков\n",
    "plt.figure(figsize=(10, 6))\n",
    "plt.title('Относительный прирост среднего чека группы B относительно группы A')\n",
    "plt.plot(mergedCumulativeRevenue['date'], \n",
    "         (mergedCumulativeRevenue['revenueB']/mergedCumulativeRevenue['ordersB'])\n",
    "         /(mergedCumulativeRevenue['revenueA']/mergedCumulativeRevenue['ordersA'])-1)\n",
    "# добавляем ось X\n",
    "plt.axhline(y=0, color='red', linestyle='--')\n",
    "plt.grid()\n",
    "plt.show()"
   ]
  },
  {
   "cell_type": "markdown",
   "metadata": {},
   "source": [
    "График различия между сегментами резко «скачет», сначала увеличивается, с 8 августа резко падает, с 18 августа взлетает наверх. Точно есть крупные заказы и выбросы. Средний чек группы B в среднем сильно больше, чем в группе A. \n",
    "\n",
    "### Кумулятивная конверсия по группам\n",
    "\n",
    "Аналогично проанализируем график кумулятивной конверсии. Для этого в таблице `cumulativeData` создадим колонку `conversion`, в которой посчитаем отношение количества заказов к количеству посещений."
   ]
  },
  {
   "cell_type": "code",
   "execution_count": 16,
   "metadata": {},
   "outputs": [
    {
     "data": {
      "image/png": "[encoded data removed]",
      "text/plain": [
       "<Figure size 864x432 with 1 Axes>"
      ]
     },
     "metadata": {
      "needs_background": "light"
     },
     "output_type": "display_data"
    }
   ],
   "source": [
    "# считаем кумулятивную конверсию\n",
    "cumulativeData['conversion'] = cumulativeData['orders']/cumulativeData['visitors']\n",
    "\n",
    "# отделяем данные по группе A\n",
    "cumulativeDataA = cumulativeData.query('group == \"A\"')\n",
    "\n",
    "# отделяем данные по группе B\n",
    "cumulativeDataB = cumulativeData.query('group == \"B\"')\n",
    "\n",
    "# строим графики\n",
    "plt.figure(figsize=(12, 6))\n",
    "plt.title('Кумулятивная конверсия по дням и группам A и B')\n",
    "plt.plot(cumulativeDataA['date'], cumulativeDataA['conversion'], label='A')\n",
    "plt.plot(cumulativeDataB['date'], cumulativeDataB['conversion'], label='B')\n",
    "plt.legend()\n",
    "plt.grid()\n",
    "plt.show()"
   ]
  },
  {
   "cell_type": "markdown",
   "metadata": {},
   "source": [
    "Графики сильно колеблются. Вначале у обоих групп наблюдается пик, затем после пересечения 6 августа, конверсия группы B становится выше группы A. Далее графики колеблятся в своих пределах. Конверсии немного зафиксировались, но все же не до конца.\n",
    "\n",
    "<a id=\"cumulative_conversion\"></a>\n",
    "Построим график относительного различия кумулятивных конверсий."
   ]
  },
  {
   "cell_type": "code",
   "execution_count": 17,
   "metadata": {},
   "outputs": [
    {
     "data": {
      "image/png": "[encoded data removed]",
      "text/plain": [
       "<Figure size 720x432 with 1 Axes>"
      ]
     },
     "metadata": {
      "needs_background": "light"
     },
     "output_type": "display_data"
    }
   ],
   "source": [
    "mergedCumulativeConversions = (\n",
    "    cumulativeDataA[['date','conversion']]\n",
    "    .merge(cumulativeDataB[['date','conversion']], left_on='date', right_on='date', \n",
    "           how='left', suffixes=['A', 'B'])\n",
    ")\n",
    "# построение графика\n",
    "plt.figure(figsize=(10, 6))\n",
    "plt.title('Относительный прирост конверсии группы B относительно группы A')\n",
    "plt.plot(\n",
    "    mergedCumulativeConversions['date'], \n",
    "    mergedCumulativeConversions['conversionB']/mergedCumulativeConversions['conversionA']-1\n",
    ")\n",
    "plt.axhline(y=0, color='black', linestyle='--')\n",
    "plt.axhline(y=0.12, color='grey', linestyle='--')\n",
    "plt.grid()\n",
    "plt.show()"
   ]
  },
  {
   "cell_type": "markdown",
   "metadata": {},
   "source": [
    "В начале теста группа B проигрывала группе A. Затем конверсия группы B стремительно возрастает, колеблется, но находится выше 0, значит лучше группы A. \n",
    "\n",
    "В целом отношение конверсии ещё не установилось, и сейчас делать какие-либо выводы по тесту нельзя. Возможно исключив аномелии, картина изменится.\n",
    "\n",
    "### Количество заказов по пользователям\n",
    "\n",
    "Пользователи, совершившие много заказов, влияют на числитель формулы конверсии. Скорее всего, их поведение отличается от нормального. \n",
    "\n",
    "Подсчитаем количество заказов по пользователям и посмотрим на результат. Но надо помнить, что часть данных мы уже отчистили при [проверке разбиения пользователей на группы](#duplicates_users). Там были пользователи, которые совершали 8, 9 и 11 заказов.\n",
    "\n",
    "Cгруппируем таблицы `orders` и `clear_orders` по пользователям и посчитаем уникальные заказы с помощью `pd.Series.nunique`."
   ]
  },
  {
   "cell_type": "code",
   "execution_count": 18,
   "metadata": {},
   "outputs": [],
   "source": [
    "# очищенные пользователи\n",
    "clearOrdersByUsers = (\n",
    "    clear_orders.groupby('visitor_id', as_index=False)\n",
    "    .agg({'transaction_id': pd.Series.nunique})\n",
    ")\n",
    "clearOrdersByUsers.columns = ['user_id', 'orders']\n",
    "\n",
    "# все пользователи\n",
    "ordersByUsers = (\n",
    "    orders.groupby('visitor_id', as_index=False)\n",
    "    .agg({'transaction_id': pd.Series.nunique})\n",
    ")\n",
    "ordersByUsers.columns = ['user_id', 'orders']"
   ]
  },
  {
   "cell_type": "markdown",
   "metadata": {},
   "source": [
    "Построим точечную диаграмму числа заказов на одного пользователя для `clear_orders` и исходной таблицы `orders`."
   ]
  },
  {
   "cell_type": "code",
   "execution_count": 19,
   "metadata": {
    "scrolled": true
   },
   "outputs": [
    {
     "data": {
      "image/png": "[encoded data removed]",
      "text/plain": [
       "<Figure size 864x288 with 2 Axes>"
      ]
     },
     "metadata": {
      "needs_background": "light"
     },
     "output_type": "display_data"
    }
   ],
   "source": [
    "fig, axes = plt.subplots(1, 2)\n",
    "\n",
    "x_values = pd.Series(range(0,len(clearOrdersByUsers)))\n",
    "axes[0].scatter(x_values, clearOrdersByUsers['orders'])\n",
    "axes[0].set_title('Число заказов на пользователя по очищенным данным')\n",
    "\n",
    "x_values = pd.Series(range(0,len(ordersByUsers)))\n",
    "axes[1].scatter(x_values, ordersByUsers['orders'])\n",
    "axes[1].set_title('Число заказов на пользователя по исходным данным')\n",
    "\n",
    "fig.set_figwidth(12)\n",
    "fig.set_figheight(4)  \n",
    "\n",
    "plt.show()"
   ]
  },
  {
   "cell_type": "markdown",
   "metadata": {},
   "source": [
    "По очищенным данным пользователи совершали не более 3 заказов. В исходных были пользователи, которые совершали 8, 9 и 11 заказов. \n",
    "\n",
    "В `clear_orders` как раз нет всех выбросов, которые присутствовали в исходных данных, что видно на графике. Вообще отсутвуют выбросы от 4 заказов.\n",
    "\n",
    "Для определения границы аномальных пользователей посчитаем выборочные перцентили (95 и 99) количества заказов на одного пользователя по исходным данным."
   ]
  },
  {
   "cell_type": "code",
   "execution_count": 20,
   "metadata": {
    "scrolled": false
   },
   "outputs": [
    {
     "name": "stdout",
     "output_type": "stream",
     "text": [
      "[2. 4.]\n"
     ]
    }
   ],
   "source": [
    "# print(np.percentile(clearOrdersByUsers['orders'], [95, 99]))\n",
    "print(np.percentile(ordersByUsers['orders'], [95, 99]))"
   ]
  },
  {
   "cell_type": "markdown",
   "metadata": {},
   "source": [
    "По исходным данным более 5% пользователей оформляли больше чем 2 заказа. Только 1% пользоватеелй оформляли от 4 заказов.\n",
    "\n",
    "При [проверке разбиения пользователей на группы](#duplicates_users), мы очистили данные от пользователей, которые были в группах и А и В одновременно. Как раз эти пользователи совершали аномально больщое количество заказов, больше 3, это среднее между 95 и 99 перцентилем. \n",
    "\n",
    "Таким образом для исследования статистической значимости в следующих этапах таблица `clear_orders` уже очищена от аномальных значений количества заказов.\n",
    "\n",
    "Сохраним значение 99 перцентиля в переменную `orders_limit`"
   ]
  },
  {
   "cell_type": "code",
   "execution_count": 21,
   "metadata": {},
   "outputs": [],
   "source": [
    "orders_limit = 53904"
   ]
  },
  {
   "cell_type": "markdown",
   "metadata": {},
   "source": [
    "### Стоимость заказов\n",
    "\n",
    "Посомтрим есть ли заказы с аномально высокой стоимостью. Если такой дорогой заказ попадёт в одну из групп теста, он сразу же исказит результаты и сделает победителем ту группу, где оказался. При этом такие покупки — редкость, исключение, которое проявилось не из-за тестирования гипотезы, а случайно.\n",
    "\n",
    "Можно провести и анализ самых дешёвых заказов. Однако из-за маленькой стоимости они слабо влияют на средний чек.\n",
    "\n",
    "Построим точечные диаграммы стоимости заказов для `orders` и `clear_orders` по полю `revenue`."
   ]
  },
  {
   "cell_type": "code",
   "execution_count": 22,
   "metadata": {},
   "outputs": [
    {
     "data": {
      "image/png": "[encoded data removed]",
      "text/plain": [
       "<Figure size 864x288 with 2 Axes>"
      ]
     },
     "metadata": {
      "needs_background": "light"
     },
     "output_type": "display_data"
    }
   ],
   "source": [
    "fig, axes = plt.subplots(1, 2)\n",
    "\n",
    "x_values = pd.Series(range(0,len(clear_orders['revenue'])))\n",
    "axes[0].scatter(x_values, clear_orders['revenue'])\n",
    "axes[0].set_title('Стоимость заказов по очищенным данным')\n",
    "\n",
    "x_values = pd.Series(range(0,len(orders['revenue'])))\n",
    "axes[1].scatter(x_values, orders['revenue'])\n",
    "axes[1].set_title('Стоимость заказов по очищенным данным')\n",
    "\n",
    "fig.set_figwidth(12)\n",
    "fig.set_figheight(4)  \n",
    "\n",
    "plt.show()"
   ]
  },
  {
   "cell_type": "markdown",
   "metadata": {},
   "source": [
    "Наше предположение о том, что на скачек среднего чека повлияли очень дорогие заказы подтвердилось. Есть всего два заказа, которые выбиваются от остальных по стоимости. Посмотрим на стоимомость самого дорогого заказа:"
   ]
  },
  {
   "cell_type": "code",
   "execution_count": 23,
   "metadata": {},
   "outputs": [
    {
     "data": {
      "text/plain": [
       "1294500"
      ]
     },
     "execution_count": 23,
     "metadata": {},
     "output_type": "execute_result"
    }
   ],
   "source": [
    "orders['revenue'].max()"
   ]
  },
  {
   "cell_type": "markdown",
   "metadata": {},
   "source": [
    "Заказ больше 1 млн рублей, именно из-за него и наблюдается скачек на графике среднего чека. \n",
    "\n",
    "При расчетах статистической значимости далее, мы не будем учитывать этот заказ. Графики получились идентичными, значит аномально дорогие заказы есть и в `clear_orders`.\n",
    "\n",
    "Для расчета порогового значения посчитаем 95 и 99 перцентили с помощью метода `percentile()`."
   ]
  },
  {
   "cell_type": "code",
   "execution_count": 24,
   "metadata": {},
   "outputs": [
    {
     "name": "stdout",
     "output_type": "stream",
     "text": [
      "[26785. 53904.]\n"
     ]
    }
   ],
   "source": [
    "print(np.percentile(clear_orders['revenue'], [95, 99]))"
   ]
  },
  {
   "cell_type": "markdown",
   "metadata": {},
   "source": [
    "Не более 5% заказов по очищенным данным дороже 26785 рублей и не более 1% дороже 53904 рублей.\n",
    "\n",
    "За нижнюю границу стоимости заказа возьмем 99 прецентиль. Сохраним это значение в переменную `revenue_limit`. Отсекать аномальные заказы для исследования статистической значимости будем по этому значению."
   ]
  },
  {
   "cell_type": "code",
   "execution_count": 25,
   "metadata": {},
   "outputs": [],
   "source": [
    "revenue_limit = 53904"
   ]
  },
  {
   "cell_type": "markdown",
   "metadata": {},
   "source": [
    "### Cтатистическая значимость различий между группами по «сырым» данным\n",
    "\n",
    "Посчитаем статистическую значимость различий в количестве заказов и среднем чеке между группами по «сырым» данным — без удаления аномальных пользователей.\n",
    "\n",
    "Начнём с подготовки данных из таблиц `visitors` и `orders`. Создадим таблицу `data`, в которой расчитаем следующие данные отдельно для групп A и B:\n",
    "* количество посещений по дням;\n",
    "* кумулятивные посещения по дням;\n",
    "* количество уникальных заказов по дням;\n",
    "* кумулятивные данные о количестве заказов по дням;\n",
    "* сумма заказов по дням для групп;\n",
    "* кумулятивные данные о сумме заказов по дням;"
   ]
  },
  {
   "cell_type": "code",
   "execution_count": 26,
   "metadata": {},
   "outputs": [
    {
     "data": {
      "text/html": [
       "<div>\n",
       "<style scoped>\n",
       "    .dataframe tbody tr th:only-of-type {\n",
       "        vertical-align: middle;\n",
       "    }\n",
       "\n",
       "    .dataframe tbody tr th {\n",
       "        vertical-align: top;\n",
       "    }\n",
       "\n",
       "    .dataframe thead th {\n",
       "        text-align: right;\n",
       "    }\n",
       "</style>\n",
       "<table border=\"1\" class=\"dataframe\">\n",
       "  <thead>\n",
       "    <tr style=\"text-align: right;\">\n",
       "      <th></th>\n",
       "      <th>date</th>\n",
       "      <th>ordersPerDateA</th>\n",
       "      <th>revenuePerDateA</th>\n",
       "      <th>ordersPerDateB</th>\n",
       "      <th>revenuePerDateB</th>\n",
       "      <th>ordersCummulativeA</th>\n",
       "      <th>revenueCummulativeA</th>\n",
       "      <th>ordersCummulativeB</th>\n",
       "      <th>revenueCummulativeB</th>\n",
       "      <th>visitorsPerDateA</th>\n",
       "      <th>visitorsPerDateB</th>\n",
       "      <th>visitorsCummulativeA</th>\n",
       "      <th>visitorsCummulativeB</th>\n",
       "    </tr>\n",
       "  </thead>\n",
       "  <tbody>\n",
       "    <tr>\n",
       "      <th>0</th>\n",
       "      <td>2019-08-01</td>\n",
       "      <td>23</td>\n",
       "      <td>142779</td>\n",
       "      <td>17</td>\n",
       "      <td>59758</td>\n",
       "      <td>23</td>\n",
       "      <td>142779</td>\n",
       "      <td>17</td>\n",
       "      <td>59758</td>\n",
       "      <td>719</td>\n",
       "      <td>713</td>\n",
       "      <td>719</td>\n",
       "      <td>713</td>\n",
       "    </tr>\n",
       "    <tr>\n",
       "      <th>1</th>\n",
       "      <td>2019-08-02</td>\n",
       "      <td>19</td>\n",
       "      <td>91602</td>\n",
       "      <td>23</td>\n",
       "      <td>162043</td>\n",
       "      <td>42</td>\n",
       "      <td>234381</td>\n",
       "      <td>40</td>\n",
       "      <td>221801</td>\n",
       "      <td>619</td>\n",
       "      <td>581</td>\n",
       "      <td>1338</td>\n",
       "      <td>1294</td>\n",
       "    </tr>\n",
       "    <tr>\n",
       "      <th>2</th>\n",
       "      <td>2019-08-03</td>\n",
       "      <td>24</td>\n",
       "      <td>112473</td>\n",
       "      <td>14</td>\n",
       "      <td>67049</td>\n",
       "      <td>66</td>\n",
       "      <td>346854</td>\n",
       "      <td>54</td>\n",
       "      <td>288850</td>\n",
       "      <td>507</td>\n",
       "      <td>509</td>\n",
       "      <td>1845</td>\n",
       "      <td>1803</td>\n",
       "    </tr>\n",
       "    <tr>\n",
       "      <th>3</th>\n",
       "      <td>2019-08-04</td>\n",
       "      <td>11</td>\n",
       "      <td>41176</td>\n",
       "      <td>14</td>\n",
       "      <td>96890</td>\n",
       "      <td>77</td>\n",
       "      <td>388030</td>\n",
       "      <td>68</td>\n",
       "      <td>385740</td>\n",
       "      <td>717</td>\n",
       "      <td>770</td>\n",
       "      <td>2562</td>\n",
       "      <td>2573</td>\n",
       "    </tr>\n",
       "    <tr>\n",
       "      <th>4</th>\n",
       "      <td>2019-08-05</td>\n",
       "      <td>22</td>\n",
       "      <td>86383</td>\n",
       "      <td>21</td>\n",
       "      <td>89908</td>\n",
       "      <td>99</td>\n",
       "      <td>474413</td>\n",
       "      <td>89</td>\n",
       "      <td>475648</td>\n",
       "      <td>756</td>\n",
       "      <td>707</td>\n",
       "      <td>3318</td>\n",
       "      <td>3280</td>\n",
       "    </tr>\n",
       "  </tbody>\n",
       "</table>\n",
       "</div>"
      ],
      "text/plain": [
       "        date  ordersPerDateA  revenuePerDateA  ordersPerDateB  \\\n",
       "0 2019-08-01              23           142779              17   \n",
       "1 2019-08-02              19            91602              23   \n",
       "2 2019-08-03              24           112473              14   \n",
       "3 2019-08-04              11            41176              14   \n",
       "4 2019-08-05              22            86383              21   \n",
       "\n",
       "   revenuePerDateB  ordersCummulativeA  revenueCummulativeA  \\\n",
       "0            59758                  23               142779   \n",
       "1           162043                  42               234381   \n",
       "2            67049                  66               346854   \n",
       "3            96890                  77               388030   \n",
       "4            89908                  99               474413   \n",
       "\n",
       "   ordersCummulativeB  revenueCummulativeB  visitorsPerDateA  \\\n",
       "0                  17                59758               719   \n",
       "1                  40               221801               619   \n",
       "2                  54               288850               507   \n",
       "3                  68               385740               717   \n",
       "4                  89               475648               756   \n",
       "\n",
       "   visitorsPerDateB  visitorsCummulativeA  visitorsCummulativeB  \n",
       "0               713                   719                   713  \n",
       "1               581                  1338                  1294  \n",
       "2               509                  1845                  1803  \n",
       "3               770                  2562                  2573  \n",
       "4               707                  3318                  3280  "
      ]
     },
     "metadata": {},
     "output_type": "display_data"
    }
   ],
   "source": [
    "# создаем массив пар значений для группы A: дату и количество посещений\n",
    "visitorsADaily = visitors.query('group == \"A\"')[['date', 'visitors']]\n",
    "visitorsADaily.columns = ['date', 'visitorsPerDateA']\n",
    "\n",
    "# получаем агрегированные кумулятивные по дням данные о посещениях группы A\n",
    "visitorsACummulative = visitorsADaily.apply(\n",
    "    lambda x: visitorsADaily[visitorsADaily['date'] <= x['date']].agg(\n",
    "        {'date': 'max', 'visitorsPerDateA': 'sum'}\n",
    "    ),\n",
    "    axis=1,\n",
    ")\n",
    "visitorsACummulative.columns = ['date', 'visitorsCummulativeA']\n",
    "\n",
    "# создаем массив пар значений для группы B: дату и количество посещений\n",
    "visitorsBDaily = visitors.query('group == \"B\"')[['date', 'visitors']]\n",
    "visitorsBDaily.columns = ['date', 'visitorsPerDateB']\n",
    "\n",
    "# получаем агрегированные кумулятивные по дням данные о посещениях группы B\n",
    "visitorsBCummulative = visitorsBDaily.apply(\n",
    "    lambda x: visitorsBDaily[visitorsBDaily['date'] <= x['date']].agg(\n",
    "        {'date': 'max', 'visitorsPerDateB': 'sum'}\n",
    "    ),\n",
    "    axis=1,\n",
    ")\n",
    "visitorsBCummulative.columns = ['date', 'visitorsCummulativeB']\n",
    "\n",
    "# получаем количество и сумму заказов по дням для группы A\n",
    "ordersADaily = (\n",
    "    clear_orders.query('group == \"A\"')[['date', 'transaction_id', 'visitor_id', 'revenue']]\n",
    "    .groupby('date', as_index=False)\n",
    "    .agg({'transaction_id': pd.Series.nunique, 'revenue': 'sum'})\n",
    ")\n",
    "ordersADaily.columns = ['date', 'ordersPerDateA', 'revenuePerDateA']\n",
    "\n",
    "# получаем агрегированные кумулятивные по дням данные о количестве и сумме заказов группы A\n",
    "ordersACummulative = ordersADaily.apply(\n",
    "    lambda x: ordersADaily[ordersADaily['date'] <= x['date']].agg(\n",
    "        {'date': 'max', 'ordersPerDateA': 'sum', 'revenuePerDateA': 'sum'}\n",
    "    ),\n",
    "    axis=1,\n",
    ").sort_values(by=['date'])\n",
    "ordersACummulative.columns = [\n",
    "    'date',\n",
    "    'ordersCummulativeA',\n",
    "    'revenueCummulativeA',\n",
    "]\n",
    "\n",
    "# получаем количество и сумму заказов по дням для группы B\n",
    "ordersBDaily = (\n",
    "    clear_orders.query('group == \"B\"')[['date', 'transaction_id', 'visitor_id', 'revenue']]\n",
    "    .groupby('date', as_index=False)\n",
    "    .agg({'transaction_id': pd.Series.nunique, 'revenue': 'sum'})\n",
    ")\n",
    "ordersBDaily.columns = ['date', 'ordersPerDateB', 'revenuePerDateB']\n",
    "\n",
    "# получаем агрегированные кумулятивные по дням данные о количестве и сумме заказов группы B\n",
    "ordersBCummulative = ordersBDaily.apply(\n",
    "    lambda x: ordersBDaily[ordersBDaily['date'] <= x['date']].agg(\n",
    "        {'date': 'max', 'ordersPerDateB': 'sum', 'revenuePerDateB': 'sum'}\n",
    "    ),\n",
    "    axis=1,\n",
    ").sort_values(by=['date'])\n",
    "ordersBCummulative.columns = [\n",
    "    'date',\n",
    "    'ordersCummulativeB',\n",
    "    'revenueCummulativeB',\n",
    "]\n",
    "\n",
    "# соединяем полученные данные\n",
    "data = (\n",
    "    ordersADaily\n",
    "    .merge(ordersBDaily, left_on='date', right_on='date', how='left')\n",
    "    .merge(ordersACummulative, left_on='date', right_on='date', how='left')\n",
    "    .merge(ordersBCummulative, left_on='date', right_on='date', how='left')\n",
    "    .merge(visitorsADaily, left_on='date', right_on='date', how='left')\n",
    "    .merge(visitorsBDaily, left_on='date', right_on='date', how='left')\n",
    "    .merge(visitorsACummulative, left_on='date', right_on='date', how='left')\n",
    "    .merge(visitorsBCummulative, left_on='date', right_on='date', how='left')\n",
    ")\n",
    "\n",
    "display(data.head(5))"
   ]
  },
  {
   "cell_type": "markdown",
   "metadata": {},
   "source": [
    "Столбцы данных:\n",
    "* `date` — дата;\n",
    "* `ordersPerDateA` — количество заказов в выбранную дату в группе A;\n",
    "* `revenuePerDateA` — суммарная выручка в выбранную дату в группе A;\n",
    "* `ordersPerDateB` — количество заказов в выбранную дату в группе B;\n",
    "* `revenuePerDateB` — суммарная выручка в выбранную дату в группе B;\n",
    "* `ordersCummulativeA` — суммарное число заказов до выбранной даты включительно в группе A;\n",
    "* `revenueCummulativeA` — суммарная выручка до выбранной даты включительно в группе A;\n",
    "* `ordersCummulativeB` — суммарное количество заказов до выбранной даты включительно в группе B;\n",
    "* `revenueCummulativeB` — суммарная выручка до выбранной даты включительно в группе B;\n",
    "* `visitorsPerDateA` — количество пользователей в выбранную дату в группе A;\n",
    "* `visitorsPerDateB` — количество пользователей в выбранную дату в группе B;\n",
    "* `visitorsCummulativeA` — количество пользователей до выбранной даты включительно в группе A;\n",
    "* `visitorsCummulativeB` — количество пользователей до выбранной даты включительно в группе B.\n",
    "\n",
    "Посчитаем статистическую значимость различия в конверсии между группами.\n",
    "\n",
    "Создадим переменные `ordersByUsersA` и `ordersByUsersB` со столбцами `['userId', 'orders']`. В них для пользователей, которые заказывали хотя бы 1 раз, укажем число совершённых заказов."
   ]
  },
  {
   "cell_type": "code",
   "execution_count": 27,
   "metadata": {},
   "outputs": [
    {
     "data": {
      "text/html": [
       "<div>\n",
       "<style scoped>\n",
       "    .dataframe tbody tr th:only-of-type {\n",
       "        vertical-align: middle;\n",
       "    }\n",
       "\n",
       "    .dataframe tbody tr th {\n",
       "        vertical-align: top;\n",
       "    }\n",
       "\n",
       "    .dataframe thead th {\n",
       "        text-align: right;\n",
       "    }\n",
       "</style>\n",
       "<table border=\"1\" class=\"dataframe\">\n",
       "  <thead>\n",
       "    <tr style=\"text-align: right;\">\n",
       "      <th></th>\n",
       "      <th>visitor_id</th>\n",
       "      <th>orders</th>\n",
       "    </tr>\n",
       "  </thead>\n",
       "  <tbody>\n",
       "    <tr>\n",
       "      <th>0</th>\n",
       "      <td>11685486</td>\n",
       "      <td>1</td>\n",
       "    </tr>\n",
       "    <tr>\n",
       "      <th>1</th>\n",
       "      <td>54447517</td>\n",
       "      <td>1</td>\n",
       "    </tr>\n",
       "    <tr>\n",
       "      <th>2</th>\n",
       "      <td>66685450</td>\n",
       "      <td>1</td>\n",
       "    </tr>\n",
       "    <tr>\n",
       "      <th>3</th>\n",
       "      <td>78758296</td>\n",
       "      <td>1</td>\n",
       "    </tr>\n",
       "    <tr>\n",
       "      <th>4</th>\n",
       "      <td>85103373</td>\n",
       "      <td>1</td>\n",
       "    </tr>\n",
       "  </tbody>\n",
       "</table>\n",
       "</div>"
      ],
      "text/plain": [
       "   visitor_id  orders\n",
       "0    11685486       1\n",
       "1    54447517       1\n",
       "2    66685450       1\n",
       "3    78758296       1\n",
       "4    85103373       1"
      ]
     },
     "metadata": {},
     "output_type": "display_data"
    },
    {
     "data": {
      "text/html": [
       "<div>\n",
       "<style scoped>\n",
       "    .dataframe tbody tr th:only-of-type {\n",
       "        vertical-align: middle;\n",
       "    }\n",
       "\n",
       "    .dataframe tbody tr th {\n",
       "        vertical-align: top;\n",
       "    }\n",
       "\n",
       "    .dataframe thead th {\n",
       "        text-align: right;\n",
       "    }\n",
       "</style>\n",
       "<table border=\"1\" class=\"dataframe\">\n",
       "  <thead>\n",
       "    <tr style=\"text-align: right;\">\n",
       "      <th></th>\n",
       "      <th>visitor_id</th>\n",
       "      <th>orders</th>\n",
       "    </tr>\n",
       "  </thead>\n",
       "  <tbody>\n",
       "    <tr>\n",
       "      <th>0</th>\n",
       "      <td>5114589</td>\n",
       "      <td>1</td>\n",
       "    </tr>\n",
       "    <tr>\n",
       "      <th>1</th>\n",
       "      <td>6958315</td>\n",
       "      <td>1</td>\n",
       "    </tr>\n",
       "    <tr>\n",
       "      <th>2</th>\n",
       "      <td>39475350</td>\n",
       "      <td>1</td>\n",
       "    </tr>\n",
       "    <tr>\n",
       "      <th>3</th>\n",
       "      <td>47206413</td>\n",
       "      <td>1</td>\n",
       "    </tr>\n",
       "    <tr>\n",
       "      <th>4</th>\n",
       "      <td>48147722</td>\n",
       "      <td>1</td>\n",
       "    </tr>\n",
       "  </tbody>\n",
       "</table>\n",
       "</div>"
      ],
      "text/plain": [
       "   visitor_id  orders\n",
       "0     5114589       1\n",
       "1     6958315       1\n",
       "2    39475350       1\n",
       "3    47206413       1\n",
       "4    48147722       1"
      ]
     },
     "metadata": {},
     "output_type": "display_data"
    }
   ],
   "source": [
    "# количество заказов по пользователям группы A\n",
    "ordersByUsersA = (\n",
    "    clear_orders[orders['group'] == 'A']\n",
    "    .groupby('visitor_id', as_index=False)\n",
    "    .agg({'transaction_id': pd.Series.nunique})\n",
    ")\n",
    "ordersByUsersA.columns = ['visitor_id', 'orders']\n",
    "\n",
    "# количество заказов по пользователям группы B\n",
    "ordersByUsersB = (\n",
    "    clear_orders[orders['group'] == 'B']\n",
    "    .groupby('visitor_id', as_index=False)\n",
    "    .agg({'transaction_id': pd.Series.nunique})\n",
    ")\n",
    "ordersByUsersB.columns = ['visitor_id', 'orders']\n",
    "\n",
    "display(ordersByUsersA.head())\n",
    "display(ordersByUsersB.head())"
   ]
  },
  {
   "cell_type": "markdown",
   "metadata": {},
   "source": [
    "Подготовим выборки к проверке критерием Манна-Уитни.\n",
    "\n",
    "Объявим переменные `sampleA` и `sampleB`, в которых пользователям из разных групп будет соответствовать количество заказов. Тем, кто ничего не заказал, будут соответствовать нули. \n",
    "\n",
    "Переменная `sampleA` должна состоять из двух частей:\n",
    "1. Список с количеством заказов для каждого из пользователей: `ordersByUsersA['orders']`.\n",
    "2. Нули для пользователей, которые ничего не заказывали. Их количество равно разнице между суммой посетителей и количеством записей о заказах: `data['visitorsPerDateA'].sum() - len(ordersByUsersA['orders'])`. \n",
    "\n",
    "Создадим объект `pd.Series` нужной длины, список индексов создадим функцией `np.arange()` и объеденим последовательности функцией `pd.concat()`."
   ]
  },
  {
   "cell_type": "code",
   "execution_count": 28,
   "metadata": {},
   "outputs": [],
   "source": [
    "sampleA = pd.concat([\n",
    "    ordersByUsersA['orders'],\n",
    "    pd.Series(0, index=np.arange(\n",
    "        data['visitorsPerDateA'].sum() - len(ordersByUsersA['orders'])\n",
    "    ), name='orders')],axis=0)\n",
    "\n",
    "sampleB = pd.concat([\n",
    "    ordersByUsersB['orders'],\n",
    "    pd.Series(0, index=np.arange(\n",
    "        data['visitorsPerDateB'].sum() - len(ordersByUsersB['orders'])\n",
    "    ), name='orders')],axis=0)"
   ]
  },
  {
   "cell_type": "markdown",
   "metadata": {},
   "source": [
    "Проверим гипотезы:\n",
    "* Нулевая гипотеза - между группами А и B нет значимой разницы в конверсии.\n",
    "* Альтернативная гипотеза - результат группы В выше группы А.\n",
    "\n",
    "Применим критерий `mannwhitneyu` и отформатируем `p-value`, округлив его до трёх знаков после запятой.\n",
    "\n",
    "Таким образом в `sampleA` и `sampleB` сохранена выборка, где каждый элемент — число заказов определённого пользователя, в том числе ноль. Число элементов — это количество пользователей, сумма всех элементов — количество заказов. Чтобы получить количество заказов в группе, поделим сумму заказов на число пользователей — найдём среднее в выборкам методом `mean()`."
   ]
  },
  {
   "cell_type": "code",
   "execution_count": 29,
   "metadata": {},
   "outputs": [
    {
     "name": "stdout",
     "output_type": "stream",
     "text": [
      "0.011\n",
      "0.160\n"
     ]
    }
   ],
   "source": [
    "print(\"{0:.3f}\".format(stats.mannwhitneyu(sampleA, sampleB)[1]))\n",
    "\n",
    "print(\"{0:.3f}\".format(sampleB.mean() / sampleA.mean() - 1))"
   ]
  },
  {
   "cell_type": "markdown",
   "metadata": {},
   "source": [
    "По \"сырым\" данным различие в количестве заказов групп A и B значимое.\n",
    "\n",
    "Первое число — `p-value = 0.011` меньше 0.05. Значит, нулевую гипотезу о том, что статистически значимых различий в конверсии между группами нет, отвергаем. Относительный выйгрыш группы B равен 16%.\n",
    "\n",
    "\n",
    "Чтобы рассчитать статистическую значимость различий в среднем чеке между сегментами, передадим критерию `mannwhitneyu()` данные о выручке с заказов.\n",
    "\n",
    "Найдём относительные различия в среднем чеке между группами. Проверим следующие гипотезы:\n",
    "* Нулевая гипотеза - между группами А и B нет значимой разницы в среднем чеке.\n",
    "* Альтернативная гипотеза - результат группы В выше группы А."
   ]
  },
  {
   "cell_type": "code",
   "execution_count": 30,
   "metadata": {
    "scrolled": true
   },
   "outputs": [
    {
     "name": "stdout",
     "output_type": "stream",
     "text": [
      "0.829\n",
      "0.287\n"
     ]
    }
   ],
   "source": [
    "print('{0:.3f}'.format(stats.mannwhitneyu(\n",
    "    clear_orders.query('group == \"A\"')['revenue'], \n",
    "    clear_orders.query('group == \"B\"')['revenue'])[1]))\n",
    "print('{0:.3f}'.format(\n",
    "    clear_orders.query('group == \"B\"')['revenue'].mean()/\n",
    "    clear_orders.query('group == \"A\"')['revenue'].mean()-1))"
   ]
  },
  {
   "cell_type": "markdown",
   "metadata": {},
   "source": [
    "`P-value` больше 0,8. Значит, причин отвергать нулевую гипотезу и считать, что в среднем чеке есть различия, нет. Однако, средний чек группы B значительно выше среднего чека группы A, более чем на 28%.\n",
    "\n",
    "Расчитаем также медиану для среднего чека, чтобы посмотреть почему тест говорит, что различий нет, а среднее так сильно отличается."
   ]
  },
  {
   "cell_type": "code",
   "execution_count": 31,
   "metadata": {},
   "outputs": [
    {
     "name": "stdout",
     "output_type": "stream",
     "text": [
      "-0.062\n"
     ]
    }
   ],
   "source": [
    "print('{0:.3f}'.format(\n",
    "    clear_orders.query('group == \"B\"')['revenue'].median()/\n",
    "    clear_orders.query('group == \"A\"')['revenue'].median()-1))"
   ]
  },
  {
   "cell_type": "markdown",
   "metadata": {},
   "source": [
    "Медианное значение среднего чека для группы B вообще меньше группы A на 6%. Поэтому тест и не показал статичтически значимых различий между групами.\n",
    "\n",
    "### Cтатистическая значимость различий между группами по «очищенным» данным\n",
    "\n",
    "В предыдущих пунтах были найдена 95-й и 99-й перцентили количесва заказов и средних чеков.\n",
    "\n",
    "Примем за аномальных пользователей тех, кто совершил от 4 заказов или совершил заказ дороже 50 000 рублей. Так мы уберём от чуть больше 1% пользователей с дорогими заказами. А пользователей с наибольшим числом заказов уже и так очистили при [проверке разбиения пользователей на группы](#duplicates_users), сохранили в переменной `clear_orders`, но на всякий случай повторим условие количесва заказов.\n",
    "\n",
    "Сделаем срез пользователей, совершивших заказы дороже 20 000 — `abnormalUsers`. Узнаем, сколько всего аномальных пользователей методом `shape()`."
   ]
  },
  {
   "cell_type": "code",
   "execution_count": 32,
   "metadata": {},
   "outputs": [
    {
     "name": "stdout",
     "output_type": "stream",
     "text": [
      "1099     148427295\n",
      "949      887908475\n",
      "744      888512513\n",
      "1103    1164614297\n",
      "1136    1307669133\n",
      "Name: visitor_id, dtype: int64\n",
      "(9,)\n"
     ]
    }
   ],
   "source": [
    "# пользователи с большим количеством заказов\n",
    "usersWithManyOrders = pd.concat(\n",
    "    [\n",
    "        ordersByUsersA.query('orders >= @orders_limit')['visitor_id'],\n",
    "        ordersByUsersB.query('orders >= @orders_limit')['visitor_id'],\n",
    "    ],\n",
    "    axis=0,\n",
    ")\n",
    "\n",
    "# пользователи с дорогими заказами\n",
    "usersWithExpensiveOrders = clear_orders.query('revenue > @revenue_limit')['visitor_id']\n",
    "\n",
    "abnormalUsers = (\n",
    "    pd.concat([usersWithManyOrders, usersWithExpensiveOrders], axis=0)\n",
    "    .drop_duplicates()\n",
    "    .sort_values()\n",
    ")\n",
    "print(abnormalUsers.head(5))\n",
    "print(abnormalUsers.shape) "
   ]
  },
  {
   "cell_type": "markdown",
   "metadata": {},
   "source": [
    "Всего 9 аномальных пользователей. \n",
    "\n",
    "Узнаем, как их действия повлияли на результаты теста. Посчитаем статистическую значимость различий в конверсии между группами теста по очищенным данным. Все действия выполним по аналогии с \"сырыми\" данными. Создадим переменные `sampleAFiltered` и `sampleBFiltered`.\n",
    "\n",
    "Проверим гипотезы по отфильтрованным данным."
   ]
  },
  {
   "cell_type": "code",
   "execution_count": 33,
   "metadata": {},
   "outputs": [
    {
     "name": "stdout",
     "output_type": "stream",
     "text": [
      "0.010\n",
      "0.164\n"
     ]
    }
   ],
   "source": [
    "sampleAFiltered = pd.concat([\n",
    "    ordersByUsersA[\n",
    "        np.logical_not(ordersByUsersA['visitor_id'].isin(abnormalUsers))\n",
    "    ]['orders'],\n",
    "    pd.Series(\n",
    "        0,\n",
    "        index=np.arange(data['visitorsPerDateA'].sum() - len(ordersByUsersA['orders'])),\n",
    "        name='orders',\n",
    "    ),\n",
    "], axis=0,)\n",
    "\n",
    "sampleBFiltered = pd.concat([\n",
    "    ordersByUsersB[\n",
    "        np.logical_not(ordersByUsersB['visitor_id'].isin(abnormalUsers))\n",
    "    ]['orders'],\n",
    "    pd.Series(\n",
    "        0,\n",
    "        index=np.arange(data['visitorsPerDateB'].sum() - len(ordersByUsersB['orders'])),\n",
    "            name='orders',\n",
    "    ),\n",
    "], axis=0,)\n",
    "\n",
    "print('{0:.3f}'.format(stats.mannwhitneyu(sampleAFiltered, sampleBFiltered)[1]))\n",
    "print('{0:.3f}'.format(sampleBFiltered.mean()/sampleAFiltered.mean()-1)) "
   ]
  },
  {
   "cell_type": "markdown",
   "metadata": {},
   "source": [
    "Результаты по количеству заказов практически не изменились. Произошло ли что-нибудь с результатами по среднему чеку?"
   ]
  },
  {
   "cell_type": "code",
   "execution_count": 34,
   "metadata": {
    "scrolled": true
   },
   "outputs": [
    {
     "name": "stdout",
     "output_type": "stream",
     "text": [
      "0.901\n",
      "-0.03163\n"
     ]
    }
   ],
   "source": [
    "print(\n",
    "    '{0:.3f}'.format(\n",
    "        stats.mannwhitneyu(\n",
    "            clear_orders[\n",
    "                np.logical_and(\n",
    "                    clear_orders['group'] == 'A',\n",
    "                    np.logical_not(clear_orders['visitor_id'].isin(abnormalUsers)),\n",
    "                )\n",
    "            ]['revenue'],\n",
    "            clear_orders[\n",
    "                np.logical_and(\n",
    "                    clear_orders['group'] == 'B',\n",
    "                    np.logical_not(clear_orders['visitor_id'].isin(abnormalUsers)),\n",
    "                )\n",
    "            ]['revenue'],\n",
    "        )[1]\n",
    "    )\n",
    ")\n",
    "\n",
    "print(\n",
    "    \"{0:.5f}\".format(\n",
    "        clear_orders[\n",
    "            np.logical_and(\n",
    "                clear_orders['group'] == 'B',\n",
    "                np.logical_not(clear_orders['visitor_id'].isin(abnormalUsers)),\n",
    "            )\n",
    "        ]['revenue'].mean()\n",
    "        / clear_orders[\n",
    "            np.logical_and(\n",
    "                clear_orders['group'] == 'A',\n",
    "                np.logical_not(clear_orders['visitor_id'].isin(abnormalUsers)),\n",
    "            )\n",
    "        ]['revenue'].mean()\n",
    "        - 1\n",
    "    )\n",
    ")"
   ]
  },
  {
   "cell_type": "markdown",
   "metadata": {},
   "source": [
    "`P-value` увеличился, он становится близок к 1, следовательно нулевую гипотезу не отвергаем. Полагать, что средние чеки групп различаются, не стоит. \n",
    "\n",
    "Если по \"сырым\" данным средний чек группы B был выше группы A на 28%, то по отфильтрованным данным стал меньше группы A на 3%.\n",
    "\n",
    "Аномалии достаточно сильно влияли на результаты A/B-теста!\n",
    "\n",
    "### Вывод\n",
    "\n",
    "По итогам A/B-теста имеющиеся факты:\n",
    "1. Есть статистически значимое различие по конверсии между группами и по «сырым», и по данным после фильтрации аномалий;\n",
    "2. Средняя конверсия по «сырым» и «очищенным» данным группы B выше группы А на 16%;\n",
    "3. Нет статистически значимого различия по среднему чеку между группами ни по «сырым», ни по данным после фильтрации аномалий;\n",
    "4. Средний чек по «сырым» данным группы B значительно выше среднего чека группы A, на 29%, по «фильтрованным» данным ниже на 3%, но значимости у этого различия нет;\n",
    "6. [График различия кумулятивной конверсии между группами](#cumulative_conversion) показывает, что результаты группы B лучше группы A, график идет вверх через несколько дней после начала теста и остается выше 0.12;\n",
    "7. [График различия кумулятивного среднего чека между группами](#cumulative_revenue) сильно скачет и явно не говорит о том, какая группа лучше; "
   ]
  },
  {
   "cell_type": "markdown",
   "metadata": {},
   "source": [
    "## Решение по результу теста\n",
    "\n",
    "Мы загрузили данные и подготовили их к анализу: переименовали столбцы, привели данные к нужным типам, проверили таблицы на пропуски и дубликаты. Тажке была осуществлена проверка на разделение пользователей по группам, в результате которой мы отфильтровали 5% пользователей, которые входили в группы A и B одновременно.\n",
    "\n",
    "При анализе A/B теста были построены графики по группам кумулятивной выручки, кумулятивного среднего чека, относительного изменения кумулятивного среднего чека, кумулятивной конверсии, относительного изменения кумулятивной конверсии. По графикам группа B лидирует по показателям у группы A. \n",
    "\n",
    "Для расчета пороговых значений для фильтрации аномалий построены точечные графики и посчитаны 95 и 99 перцентили для конверсии и стоимостей заказов. В качестве пороговых значений выбраны количество заказов от 4, стоимость от 50 000 рублей.\n",
    "\n",
    "Были проведены тесты статистической значимости для конверсии и среднего чека по группам по «сырым» и «фильтрованным» (по расчитаным пороговым значениями) данным.\n",
    "\n",
    "**Результат A/B-теста:**\n",
    "\n",
    "Есть статистически значимое различие по конверсии между группами и по «сырым», и по данным после фильтрации аномалий. Конверсия группы В выше группы A как минимум на 16%. Cтатистически значимого различия по среднему чеку между группами нет. \n",
    "\n",
    "То есть количество заказов у группы B больше, чем у группы A, но средний чек примерно такой же, пользователи не стали совершать заказы на бОльшую сумму.\n",
    "\n",
    "Решением является остановка теста, он прошел успешно, зафиксируем победу группы B."
   ]
  },
  {
   "cell_type": "code",
   "execution_count": null,
   "metadata": {},
   "outputs": [],
   "source": []
  }
 ],
 "metadata": {
  "ExecuteTimeLog": [
   {
    "duration": 47,
    "start_time": "2022-03-18T14:38:50.301Z"
   },
   {
    "duration": 778,
    "start_time": "2022-03-18T14:42:18.892Z"
   },
   {
    "duration": 52,
    "start_time": "2022-03-18T14:42:42.883Z"
   },
   {
    "duration": 1346,
    "start_time": "2022-03-18T17:40:08.616Z"
   },
   {
    "duration": 7,
    "start_time": "2022-03-18T18:01:43.050Z"
   },
   {
    "duration": 5,
    "start_time": "2022-03-18T18:04:50.055Z"
   },
   {
    "duration": 29,
    "start_time": "2022-03-18T18:06:53.964Z"
   },
   {
    "duration": 628,
    "start_time": "2022-03-18T18:23:29.638Z"
   },
   {
    "duration": 507,
    "start_time": "2022-03-18T18:24:13.897Z"
   },
   {
    "duration": 5,
    "start_time": "2022-03-18T18:24:15.102Z"
   },
   {
    "duration": 28,
    "start_time": "2022-03-18T18:24:15.536Z"
   },
   {
    "duration": 558,
    "start_time": "2022-03-18T18:24:15.890Z"
   },
   {
    "duration": 545,
    "start_time": "2022-03-18T18:24:34.896Z"
   },
   {
    "duration": 6,
    "start_time": "2022-03-18T18:25:02.627Z"
   },
   {
    "duration": 13,
    "start_time": "2022-03-18T18:25:06.618Z"
   },
   {
    "duration": 8,
    "start_time": "2022-03-18T18:25:16.110Z"
   },
   {
    "duration": 10,
    "start_time": "2022-03-18T18:25:19.902Z"
   },
   {
    "duration": 596,
    "start_time": "2022-03-18T18:25:54.849Z"
   },
   {
    "duration": 1261,
    "start_time": "2022-03-18T18:26:10.710Z"
   },
   {
    "duration": 5,
    "start_time": "2022-03-18T18:26:11.974Z"
   },
   {
    "duration": 33,
    "start_time": "2022-03-18T18:26:11.981Z"
   },
   {
    "duration": 18,
    "start_time": "2022-03-18T18:26:12.016Z"
   },
   {
    "duration": 8,
    "start_time": "2022-03-18T18:26:44.726Z"
   },
   {
    "duration": 6,
    "start_time": "2022-03-18T18:27:00.169Z"
   },
   {
    "duration": 9,
    "start_time": "2022-03-18T18:27:08.262Z"
   },
   {
    "duration": 1158,
    "start_time": "2022-03-18T18:36:06.215Z"
   },
   {
    "duration": 5,
    "start_time": "2022-03-18T18:36:07.375Z"
   },
   {
    "duration": 29,
    "start_time": "2022-03-18T18:36:07.381Z"
   },
   {
    "duration": 15,
    "start_time": "2022-03-18T18:36:07.413Z"
   },
   {
    "duration": 12,
    "start_time": "2022-03-18T18:36:07.429Z"
   },
   {
    "duration": 10,
    "start_time": "2022-03-18T18:40:36.499Z"
   },
   {
    "duration": 2262,
    "start_time": "2022-03-18T19:19:11.550Z"
   },
   {
    "duration": 11,
    "start_time": "2022-03-18T19:19:19.186Z"
   },
   {
    "duration": 19,
    "start_time": "2022-03-18T19:19:57.601Z"
   },
   {
    "duration": 12,
    "start_time": "2022-03-18T19:20:08.948Z"
   },
   {
    "duration": 12,
    "start_time": "2022-03-18T19:30:22.354Z"
   },
   {
    "duration": 13,
    "start_time": "2022-03-18T19:34:23.518Z"
   },
   {
    "duration": 14,
    "start_time": "2022-03-18T19:34:33.587Z"
   },
   {
    "duration": 14,
    "start_time": "2022-03-18T19:35:07.358Z"
   },
   {
    "duration": 1238,
    "start_time": "2022-03-18T19:45:55.748Z"
   },
   {
    "duration": 5,
    "start_time": "2022-03-18T19:45:56.988Z"
   },
   {
    "duration": 31,
    "start_time": "2022-03-18T19:45:56.995Z"
   },
   {
    "duration": 14,
    "start_time": "2022-03-18T19:45:57.029Z"
   },
   {
    "duration": 12,
    "start_time": "2022-03-18T19:45:57.045Z"
   },
   {
    "duration": 15,
    "start_time": "2022-03-18T19:45:57.059Z"
   },
   {
    "duration": 36,
    "start_time": "2022-03-18T19:45:57.076Z"
   },
   {
    "duration": 46,
    "start_time": "2022-03-19T08:00:48.217Z"
   },
   {
    "duration": 1258,
    "start_time": "2022-03-19T08:01:01.501Z"
   },
   {
    "duration": 4,
    "start_time": "2022-03-19T08:01:02.761Z"
   },
   {
    "duration": 27,
    "start_time": "2022-03-19T08:01:02.767Z"
   },
   {
    "duration": 13,
    "start_time": "2022-03-19T08:01:02.796Z"
   },
   {
    "duration": 9,
    "start_time": "2022-03-19T08:01:02.811Z"
   },
   {
    "duration": 14,
    "start_time": "2022-03-19T08:01:02.821Z"
   },
   {
    "duration": 28,
    "start_time": "2022-03-19T08:01:02.837Z"
   },
   {
    "duration": 9,
    "start_time": "2022-03-19T08:01:02.866Z"
   },
   {
    "duration": 13,
    "start_time": "2022-03-19T08:01:12.086Z"
   },
   {
    "duration": 11,
    "start_time": "2022-03-19T08:01:33.316Z"
   },
   {
    "duration": 13,
    "start_time": "2022-03-19T08:01:42.776Z"
   },
   {
    "duration": 114,
    "start_time": "2022-03-19T08:36:37.650Z"
   },
   {
    "duration": 27,
    "start_time": "2022-03-19T08:37:10.860Z"
   },
   {
    "duration": 276,
    "start_time": "2022-03-19T08:38:24.898Z"
   },
   {
    "duration": 279,
    "start_time": "2022-03-19T08:38:44.978Z"
   },
   {
    "duration": 262,
    "start_time": "2022-03-19T08:47:39.527Z"
   },
   {
    "duration": 261,
    "start_time": "2022-03-19T08:50:27.770Z"
   },
   {
    "duration": 266,
    "start_time": "2022-03-19T08:51:22.040Z"
   },
   {
    "duration": 254,
    "start_time": "2022-03-19T08:57:10.067Z"
   },
   {
    "duration": 165,
    "start_time": "2022-03-19T08:57:38.601Z"
   },
   {
    "duration": 171,
    "start_time": "2022-03-19T09:04:00.008Z"
   },
   {
    "duration": 167,
    "start_time": "2022-03-19T09:04:46.718Z"
   },
   {
    "duration": 160,
    "start_time": "2022-03-19T09:06:06.125Z"
   },
   {
    "duration": 163,
    "start_time": "2022-03-19T09:06:11.444Z"
   },
   {
    "duration": 170,
    "start_time": "2022-03-19T09:06:27.270Z"
   },
   {
    "duration": 195,
    "start_time": "2022-03-19T09:07:49.470Z"
   },
   {
    "duration": 165,
    "start_time": "2022-03-19T09:07:57.892Z"
   },
   {
    "duration": 76,
    "start_time": "2022-03-19T14:44:10.521Z"
   },
   {
    "duration": 1895,
    "start_time": "2022-03-19T14:44:15.803Z"
   },
   {
    "duration": 7,
    "start_time": "2022-03-19T14:44:17.701Z"
   },
   {
    "duration": 47,
    "start_time": "2022-03-19T14:44:17.710Z"
   },
   {
    "duration": 38,
    "start_time": "2022-03-19T14:44:17.760Z"
   },
   {
    "duration": 17,
    "start_time": "2022-03-19T14:44:17.800Z"
   },
   {
    "duration": 20,
    "start_time": "2022-03-19T14:44:17.820Z"
   },
   {
    "duration": 54,
    "start_time": "2022-03-19T14:44:17.843Z"
   },
   {
    "duration": 21,
    "start_time": "2022-03-19T14:44:17.899Z"
   },
   {
    "duration": 507,
    "start_time": "2022-03-19T14:44:17.922Z"
   },
   {
    "duration": 1292,
    "start_time": "2022-03-19T14:44:18.432Z"
   },
   {
    "duration": 339,
    "start_time": "2022-03-19T14:44:58.694Z"
   },
   {
    "duration": 474,
    "start_time": "2022-03-19T14:47:39.546Z"
   },
   {
    "duration": 345,
    "start_time": "2022-03-19T14:53:56.092Z"
   },
   {
    "duration": 338,
    "start_time": "2022-03-19T14:55:23.656Z"
   },
   {
    "duration": 319,
    "start_time": "2022-03-19T14:55:43.617Z"
   },
   {
    "duration": 350,
    "start_time": "2022-03-19T14:59:17.824Z"
   },
   {
    "duration": 336,
    "start_time": "2022-03-19T14:59:38.780Z"
   },
   {
    "duration": 508,
    "start_time": "2022-03-19T15:07:19.854Z"
   },
   {
    "duration": 508,
    "start_time": "2022-03-19T15:07:36.731Z"
   },
   {
    "duration": 427,
    "start_time": "2022-03-19T15:08:20.698Z"
   },
   {
    "duration": 547,
    "start_time": "2022-03-19T15:08:23.394Z"
   },
   {
    "duration": 441,
    "start_time": "2022-03-19T15:11:28.833Z"
   },
   {
    "duration": 528,
    "start_time": "2022-03-19T15:13:23.781Z"
   },
   {
    "duration": 451,
    "start_time": "2022-03-19T15:13:33.068Z"
   },
   {
    "duration": 413,
    "start_time": "2022-03-19T15:13:39.286Z"
   },
   {
    "duration": 302,
    "start_time": "2022-03-19T15:22:09.438Z"
   },
   {
    "duration": 354,
    "start_time": "2022-03-19T15:23:20.053Z"
   },
   {
    "duration": 371,
    "start_time": "2022-03-19T15:23:27.285Z"
   },
   {
    "duration": 577,
    "start_time": "2022-03-19T16:45:55.060Z"
   },
   {
    "duration": 612,
    "start_time": "2022-03-19T16:46:10.496Z"
   },
   {
    "duration": 513,
    "start_time": "2022-03-19T16:46:15.190Z"
   },
   {
    "duration": 625,
    "start_time": "2022-03-19T16:48:47.023Z"
   },
   {
    "duration": 396,
    "start_time": "2022-03-19T16:49:01.598Z"
   },
   {
    "duration": 480,
    "start_time": "2022-03-19T16:56:49.233Z"
   },
   {
    "duration": 443,
    "start_time": "2022-03-19T16:57:17.518Z"
   },
   {
    "duration": 436,
    "start_time": "2022-03-19T16:57:26.189Z"
   },
   {
    "duration": 475,
    "start_time": "2022-03-19T16:57:28.870Z"
   },
   {
    "duration": 455,
    "start_time": "2022-03-19T16:57:35.989Z"
   },
   {
    "duration": 468,
    "start_time": "2022-03-19T16:57:43.071Z"
   },
   {
    "duration": 72,
    "start_time": "2022-03-19T16:59:22.637Z"
   },
   {
    "duration": 71,
    "start_time": "2022-03-19T16:59:38.427Z"
   },
   {
    "duration": 487,
    "start_time": "2022-03-19T17:00:08.372Z"
   },
   {
    "duration": 362,
    "start_time": "2022-03-19T17:00:11.234Z"
   },
   {
    "duration": 359,
    "start_time": "2022-03-19T17:00:52.032Z"
   },
   {
    "duration": 401,
    "start_time": "2022-03-19T17:00:54.972Z"
   },
   {
    "duration": 365,
    "start_time": "2022-03-19T17:01:47.586Z"
   },
   {
    "duration": 20,
    "start_time": "2022-03-19T17:19:39.839Z"
   },
   {
    "duration": 479,
    "start_time": "2022-03-19T17:22:45.683Z"
   },
   {
    "duration": 470,
    "start_time": "2022-03-19T17:23:18.470Z"
   },
   {
    "duration": 471,
    "start_time": "2022-03-19T17:23:54.721Z"
   },
   {
    "duration": 448,
    "start_time": "2022-03-19T17:24:53.015Z"
   },
   {
    "duration": 525,
    "start_time": "2022-03-19T17:24:58.184Z"
   },
   {
    "duration": 373,
    "start_time": "2022-03-19T17:28:29.211Z"
   },
   {
    "duration": 312,
    "start_time": "2022-03-19T17:45:57.478Z"
   },
   {
    "duration": 288,
    "start_time": "2022-03-19T17:48:17.816Z"
   },
   {
    "duration": 289,
    "start_time": "2022-03-19T17:50:35.584Z"
   },
   {
    "duration": 7,
    "start_time": "2022-03-19T17:58:56.596Z"
   },
   {
    "duration": 1496,
    "start_time": "2022-03-19T19:03:17.163Z"
   },
   {
    "duration": 6,
    "start_time": "2022-03-19T19:03:18.662Z"
   },
   {
    "duration": 41,
    "start_time": "2022-03-19T19:03:18.670Z"
   },
   {
    "duration": 28,
    "start_time": "2022-03-19T19:03:18.713Z"
   },
   {
    "duration": 14,
    "start_time": "2022-03-19T19:03:18.744Z"
   },
   {
    "duration": 36,
    "start_time": "2022-03-19T19:03:18.761Z"
   },
   {
    "duration": 20,
    "start_time": "2022-03-19T19:03:18.799Z"
   },
   {
    "duration": 24,
    "start_time": "2022-03-19T19:03:18.822Z"
   },
   {
    "duration": 511,
    "start_time": "2022-03-19T19:03:18.849Z"
   },
   {
    "duration": 755,
    "start_time": "2022-03-19T19:03:19.363Z"
   },
   {
    "duration": 763,
    "start_time": "2022-03-19T19:03:20.121Z"
   },
   {
    "duration": 701,
    "start_time": "2022-03-19T19:03:20.886Z"
   },
   {
    "duration": 709,
    "start_time": "2022-03-19T19:03:21.589Z"
   },
   {
    "duration": 710,
    "start_time": "2022-03-19T19:03:22.300Z"
   },
   {
    "duration": 511,
    "start_time": "2022-03-19T19:03:23.013Z"
   },
   {
    "duration": 394,
    "start_time": "2022-03-19T19:03:23.526Z"
   },
   {
    "duration": 6,
    "start_time": "2022-03-19T19:03:23.922Z"
   },
   {
    "duration": 267,
    "start_time": "2022-03-19T19:25:26.385Z"
   },
   {
    "duration": 145,
    "start_time": "2022-03-19T19:43:09.538Z"
   },
   {
    "duration": 13,
    "start_time": "2022-03-19T19:43:18.676Z"
   },
   {
    "duration": 12,
    "start_time": "2022-03-19T19:43:22.416Z"
   },
   {
    "duration": 208,
    "start_time": "2022-03-19T19:43:50.231Z"
   },
   {
    "duration": 218,
    "start_time": "2022-03-19T20:00:53.376Z"
   },
   {
    "duration": 212,
    "start_time": "2022-03-19T20:02:07.940Z"
   },
   {
    "duration": 313,
    "start_time": "2022-03-19T20:02:12.922Z"
   },
   {
    "duration": 216,
    "start_time": "2022-03-19T20:02:18.681Z"
   },
   {
    "duration": 237,
    "start_time": "2022-03-19T20:02:24.481Z"
   },
   {
    "duration": 7,
    "start_time": "2022-03-19T20:04:26.240Z"
   },
   {
    "duration": 1541,
    "start_time": "2022-03-19T20:18:10.221Z"
   },
   {
    "duration": 6,
    "start_time": "2022-03-19T20:18:11.764Z"
   },
   {
    "duration": 45,
    "start_time": "2022-03-19T20:18:11.772Z"
   },
   {
    "duration": 21,
    "start_time": "2022-03-19T20:18:11.820Z"
   },
   {
    "duration": 20,
    "start_time": "2022-03-19T20:18:11.843Z"
   },
   {
    "duration": 37,
    "start_time": "2022-03-19T20:18:11.865Z"
   },
   {
    "duration": 24,
    "start_time": "2022-03-19T20:18:11.904Z"
   },
   {
    "duration": 30,
    "start_time": "2022-03-19T20:18:11.930Z"
   },
   {
    "duration": 510,
    "start_time": "2022-03-19T20:18:11.962Z"
   },
   {
    "duration": 510,
    "start_time": "2022-03-19T20:18:12.476Z"
   },
   {
    "duration": 349,
    "start_time": "2022-03-19T20:18:12.988Z"
   },
   {
    "duration": 457,
    "start_time": "2022-03-19T20:18:13.340Z"
   },
   {
    "duration": 391,
    "start_time": "2022-03-19T20:18:13.800Z"
   },
   {
    "duration": 412,
    "start_time": "2022-03-19T20:18:14.193Z"
   },
   {
    "duration": 267,
    "start_time": "2022-03-19T20:18:14.607Z"
   },
   {
    "duration": 197,
    "start_time": "2022-03-19T20:18:14.876Z"
   },
   {
    "duration": 12,
    "start_time": "2022-03-19T20:18:15.075Z"
   },
   {
    "duration": 226,
    "start_time": "2022-03-19T20:18:15.089Z"
   },
   {
    "duration": 5,
    "start_time": "2022-03-19T20:18:15.317Z"
   },
   {
    "duration": 52,
    "start_time": "2022-03-20T06:45:52.359Z"
   },
   {
    "duration": 1316,
    "start_time": "2022-03-20T06:46:01.515Z"
   },
   {
    "duration": 5,
    "start_time": "2022-03-20T06:46:02.832Z"
   },
   {
    "duration": 31,
    "start_time": "2022-03-20T06:46:02.839Z"
   },
   {
    "duration": 14,
    "start_time": "2022-03-20T06:46:02.872Z"
   },
   {
    "duration": 10,
    "start_time": "2022-03-20T06:46:02.887Z"
   },
   {
    "duration": 15,
    "start_time": "2022-03-20T06:46:02.899Z"
   },
   {
    "duration": 33,
    "start_time": "2022-03-20T06:46:02.915Z"
   },
   {
    "duration": 21,
    "start_time": "2022-03-20T06:46:02.950Z"
   },
   {
    "duration": 582,
    "start_time": "2022-03-20T06:46:02.973Z"
   },
   {
    "duration": 585,
    "start_time": "2022-03-20T06:46:03.558Z"
   },
   {
    "duration": 307,
    "start_time": "2022-03-20T06:46:04.145Z"
   },
   {
    "duration": 374,
    "start_time": "2022-03-20T06:46:04.453Z"
   },
   {
    "duration": 208,
    "start_time": "2022-03-20T06:46:04.829Z"
   },
   {
    "duration": 335,
    "start_time": "2022-03-20T06:46:05.039Z"
   },
   {
    "duration": 117,
    "start_time": "2022-03-20T06:46:05.377Z"
   },
   {
    "duration": 107,
    "start_time": "2022-03-20T06:46:05.496Z"
   },
   {
    "duration": 4,
    "start_time": "2022-03-20T06:46:05.605Z"
   },
   {
    "duration": 134,
    "start_time": "2022-03-20T06:46:05.610Z"
   },
   {
    "duration": 4,
    "start_time": "2022-03-20T06:46:05.746Z"
   },
   {
    "duration": 194,
    "start_time": "2022-03-20T06:46:05.751Z"
   },
   {
    "duration": 216,
    "start_time": "2022-03-20T06:46:59.297Z"
   },
   {
    "duration": 244,
    "start_time": "2022-03-20T06:47:25.113Z"
   },
   {
    "duration": 218,
    "start_time": "2022-03-20T06:49:06.379Z"
   },
   {
    "duration": 218,
    "start_time": "2022-03-20T06:57:38.489Z"
   },
   {
    "duration": 224,
    "start_time": "2022-03-20T06:58:23.946Z"
   },
   {
    "duration": 121,
    "start_time": "2022-03-20T07:04:42.789Z"
   },
   {
    "duration": 138,
    "start_time": "2022-03-20T07:04:46.854Z"
   },
   {
    "duration": 5,
    "start_time": "2022-03-20T07:27:18.747Z"
   },
   {
    "duration": 5,
    "start_time": "2022-03-20T07:27:28.471Z"
   },
   {
    "duration": 68,
    "start_time": "2022-03-20T07:28:28.048Z"
   },
   {
    "duration": 60,
    "start_time": "2022-03-20T07:29:05.507Z"
   },
   {
    "duration": 67,
    "start_time": "2022-03-20T07:29:08.976Z"
   },
   {
    "duration": 74,
    "start_time": "2022-03-20T07:29:27.841Z"
   },
   {
    "duration": 64,
    "start_time": "2022-03-20T07:29:36.270Z"
   },
   {
    "duration": 63,
    "start_time": "2022-03-20T07:30:15.972Z"
   },
   {
    "duration": 64,
    "start_time": "2022-03-20T07:30:46.582Z"
   },
   {
    "duration": 74,
    "start_time": "2022-03-20T07:33:05.805Z"
   },
   {
    "duration": 72,
    "start_time": "2022-03-20T07:33:17.085Z"
   },
   {
    "duration": 406,
    "start_time": "2022-03-20T07:35:45.797Z"
   },
   {
    "duration": 66,
    "start_time": "2022-03-20T07:36:03.851Z"
   },
   {
    "duration": 71,
    "start_time": "2022-03-20T07:37:37.615Z"
   },
   {
    "duration": 74,
    "start_time": "2022-03-20T07:37:43.213Z"
   },
   {
    "duration": 68,
    "start_time": "2022-03-20T07:37:46.953Z"
   },
   {
    "duration": 69,
    "start_time": "2022-03-20T07:37:56.888Z"
   },
   {
    "duration": 4,
    "start_time": "2022-03-20T07:43:13.424Z"
   },
   {
    "duration": 101,
    "start_time": "2022-03-20T07:43:54.401Z"
   },
   {
    "duration": 80,
    "start_time": "2022-03-20T07:44:46.985Z"
   },
   {
    "duration": 4,
    "start_time": "2022-03-20T07:44:55.338Z"
   },
   {
    "duration": 13,
    "start_time": "2022-03-20T07:49:19.149Z"
   },
   {
    "duration": 16,
    "start_time": "2022-03-20T07:51:08.235Z"
   },
   {
    "duration": 1170,
    "start_time": "2022-03-20T07:52:50.501Z"
   },
   {
    "duration": 4,
    "start_time": "2022-03-20T07:52:51.673Z"
   },
   {
    "duration": 29,
    "start_time": "2022-03-20T07:52:51.678Z"
   },
   {
    "duration": 15,
    "start_time": "2022-03-20T07:52:51.709Z"
   },
   {
    "duration": 26,
    "start_time": "2022-03-20T07:52:51.726Z"
   },
   {
    "duration": 84,
    "start_time": "2022-03-20T07:52:51.754Z"
   },
   {
    "duration": 5,
    "start_time": "2022-03-20T07:52:51.840Z"
   },
   {
    "duration": 15,
    "start_time": "2022-03-20T07:52:51.846Z"
   },
   {
    "duration": 12,
    "start_time": "2022-03-20T07:52:51.863Z"
   },
   {
    "duration": 11,
    "start_time": "2022-03-20T07:52:51.878Z"
   },
   {
    "duration": 13,
    "start_time": "2022-03-20T07:52:51.891Z"
   },
   {
    "duration": 268,
    "start_time": "2022-03-20T07:52:51.937Z"
   },
   {
    "duration": 275,
    "start_time": "2022-03-20T07:52:52.206Z"
   },
   {
    "duration": 203,
    "start_time": "2022-03-20T07:52:52.483Z"
   },
   {
    "duration": 258,
    "start_time": "2022-03-20T07:52:52.687Z"
   },
   {
    "duration": 211,
    "start_time": "2022-03-20T07:52:52.947Z"
   },
   {
    "duration": 279,
    "start_time": "2022-03-20T07:52:53.159Z"
   },
   {
    "duration": 129,
    "start_time": "2022-03-20T07:52:53.439Z"
   },
   {
    "duration": 139,
    "start_time": "2022-03-20T07:52:53.569Z"
   },
   {
    "duration": 3,
    "start_time": "2022-03-20T07:52:53.710Z"
   },
   {
    "duration": 128,
    "start_time": "2022-03-20T07:52:53.715Z"
   },
   {
    "duration": 4,
    "start_time": "2022-03-20T07:52:53.844Z"
   },
   {
    "duration": 249,
    "start_time": "2022-03-20T07:52:53.857Z"
   },
   {
    "duration": 130,
    "start_time": "2022-03-20T07:52:54.108Z"
   },
   {
    "duration": 66,
    "start_time": "2022-03-20T07:56:15.084Z"
   },
   {
    "duration": 1116,
    "start_time": "2022-03-20T07:56:29.845Z"
   },
   {
    "duration": 4,
    "start_time": "2022-03-20T07:56:30.963Z"
   },
   {
    "duration": 35,
    "start_time": "2022-03-20T07:56:30.968Z"
   },
   {
    "duration": 12,
    "start_time": "2022-03-20T07:56:31.005Z"
   },
   {
    "duration": 21,
    "start_time": "2022-03-20T07:56:31.019Z"
   },
   {
    "duration": 81,
    "start_time": "2022-03-20T07:56:31.042Z"
   },
   {
    "duration": 4,
    "start_time": "2022-03-20T07:56:31.125Z"
   },
   {
    "duration": 19,
    "start_time": "2022-03-20T07:56:31.137Z"
   },
   {
    "duration": 11,
    "start_time": "2022-03-20T07:56:31.158Z"
   },
   {
    "duration": 20,
    "start_time": "2022-03-20T07:56:31.171Z"
   },
   {
    "duration": 16,
    "start_time": "2022-03-20T07:56:31.193Z"
   },
   {
    "duration": 280,
    "start_time": "2022-03-20T07:56:31.210Z"
   },
   {
    "duration": 283,
    "start_time": "2022-03-20T07:56:31.492Z"
   },
   {
    "duration": 214,
    "start_time": "2022-03-20T07:56:31.778Z"
   },
   {
    "duration": 467,
    "start_time": "2022-03-20T07:56:31.995Z"
   },
   {
    "duration": 421,
    "start_time": "2022-03-20T07:56:32.464Z"
   },
   {
    "duration": 407,
    "start_time": "2022-03-20T07:56:32.937Z"
   },
   {
    "duration": 235,
    "start_time": "2022-03-20T07:56:33.345Z"
   },
   {
    "duration": 204,
    "start_time": "2022-03-20T07:56:33.582Z"
   },
   {
    "duration": 4,
    "start_time": "2022-03-20T07:56:33.787Z"
   },
   {
    "duration": 122,
    "start_time": "2022-03-20T07:56:33.793Z"
   },
   {
    "duration": 4,
    "start_time": "2022-03-20T07:56:33.916Z"
   },
   {
    "duration": 237,
    "start_time": "2022-03-20T07:56:33.922Z"
   },
   {
    "duration": 125,
    "start_time": "2022-03-20T07:56:34.161Z"
   },
   {
    "duration": 1088,
    "start_time": "2022-03-20T07:56:49.269Z"
   },
   {
    "duration": 3,
    "start_time": "2022-03-20T07:56:50.359Z"
   },
   {
    "duration": 35,
    "start_time": "2022-03-20T07:56:50.364Z"
   },
   {
    "duration": 12,
    "start_time": "2022-03-20T07:56:50.401Z"
   },
   {
    "duration": 13,
    "start_time": "2022-03-20T07:56:50.414Z"
   },
   {
    "duration": 86,
    "start_time": "2022-03-20T07:56:50.428Z"
   },
   {
    "duration": 26,
    "start_time": "2022-03-20T07:56:50.515Z"
   },
   {
    "duration": 26,
    "start_time": "2022-03-20T07:56:50.542Z"
   },
   {
    "duration": 15,
    "start_time": "2022-03-20T07:56:50.570Z"
   },
   {
    "duration": 18,
    "start_time": "2022-03-20T07:56:50.588Z"
   },
   {
    "duration": 15,
    "start_time": "2022-03-20T07:56:50.608Z"
   },
   {
    "duration": 270,
    "start_time": "2022-03-20T07:56:50.624Z"
   },
   {
    "duration": 377,
    "start_time": "2022-03-20T07:56:50.895Z"
   },
   {
    "duration": 394,
    "start_time": "2022-03-20T07:56:51.273Z"
   },
   {
    "duration": 415,
    "start_time": "2022-03-20T07:56:51.669Z"
   },
   {
    "duration": 358,
    "start_time": "2022-03-20T07:56:52.138Z"
   },
   {
    "duration": 316,
    "start_time": "2022-03-20T07:56:52.497Z"
   },
   {
    "duration": 119,
    "start_time": "2022-03-20T07:56:52.814Z"
   },
   {
    "duration": 132,
    "start_time": "2022-03-20T07:56:52.937Z"
   },
   {
    "duration": 5,
    "start_time": "2022-03-20T07:56:53.071Z"
   },
   {
    "duration": 128,
    "start_time": "2022-03-20T07:56:53.077Z"
   },
   {
    "duration": 4,
    "start_time": "2022-03-20T07:56:53.207Z"
   },
   {
    "duration": 232,
    "start_time": "2022-03-20T07:56:53.213Z"
   },
   {
    "duration": 115,
    "start_time": "2022-03-20T07:56:53.447Z"
   },
   {
    "duration": 126,
    "start_time": "2022-03-20T08:15:34.250Z"
   },
   {
    "duration": 91,
    "start_time": "2022-03-20T08:21:34.475Z"
   },
   {
    "duration": 1148,
    "start_time": "2022-03-20T08:21:46.665Z"
   },
   {
    "duration": 4,
    "start_time": "2022-03-20T08:21:47.814Z"
   },
   {
    "duration": 32,
    "start_time": "2022-03-20T08:21:47.820Z"
   },
   {
    "duration": 17,
    "start_time": "2022-03-20T08:21:47.854Z"
   },
   {
    "duration": 11,
    "start_time": "2022-03-20T08:21:47.873Z"
   },
   {
    "duration": 81,
    "start_time": "2022-03-20T08:21:47.885Z"
   },
   {
    "duration": 4,
    "start_time": "2022-03-20T08:21:47.968Z"
   },
   {
    "duration": 17,
    "start_time": "2022-03-20T08:21:47.973Z"
   },
   {
    "duration": 18,
    "start_time": "2022-03-20T08:21:47.992Z"
   },
   {
    "duration": 34,
    "start_time": "2022-03-20T08:21:48.013Z"
   },
   {
    "duration": 24,
    "start_time": "2022-03-20T08:21:48.049Z"
   },
   {
    "duration": 286,
    "start_time": "2022-03-20T08:21:48.075Z"
   },
   {
    "duration": 282,
    "start_time": "2022-03-20T08:21:48.363Z"
   },
   {
    "duration": 303,
    "start_time": "2022-03-20T08:21:48.649Z"
   },
   {
    "duration": 515,
    "start_time": "2022-03-20T08:21:48.955Z"
   },
   {
    "duration": 469,
    "start_time": "2022-03-20T08:21:49.472Z"
   },
   {
    "duration": 405,
    "start_time": "2022-03-20T08:21:49.942Z"
   },
   {
    "duration": 514,
    "start_time": "2022-03-20T08:21:50.349Z"
   },
   {
    "duration": 278,
    "start_time": "2022-03-20T08:21:50.864Z"
   },
   {
    "duration": 502,
    "start_time": "2022-03-20T08:21:51.144Z"
   },
   {
    "duration": 4,
    "start_time": "2022-03-20T08:21:51.648Z"
   },
   {
    "duration": 222,
    "start_time": "2022-03-20T08:21:51.653Z"
   },
   {
    "duration": 4,
    "start_time": "2022-03-20T08:21:51.876Z"
   },
   {
    "duration": 266,
    "start_time": "2022-03-20T08:21:51.882Z"
   },
   {
    "duration": 160,
    "start_time": "2022-03-20T08:21:52.150Z"
   },
   {
    "duration": 266,
    "start_time": "2022-03-20T08:22:17.946Z"
   },
   {
    "duration": 240,
    "start_time": "2022-03-20T08:22:27.667Z"
   },
   {
    "duration": 193,
    "start_time": "2022-03-20T08:24:40.013Z"
   },
   {
    "duration": 186,
    "start_time": "2022-03-20T08:24:54.306Z"
   },
   {
    "duration": 133,
    "start_time": "2022-03-20T08:25:02.035Z"
   },
   {
    "duration": 105,
    "start_time": "2022-03-20T08:25:17.913Z"
   },
   {
    "duration": 102,
    "start_time": "2022-03-20T08:29:14.751Z"
   },
   {
    "duration": 108,
    "start_time": "2022-03-20T08:31:28.494Z"
   },
   {
    "duration": 129,
    "start_time": "2022-03-20T08:31:35.339Z"
   },
   {
    "duration": 346,
    "start_time": "2022-03-20T08:34:14.961Z"
   },
   {
    "duration": 371,
    "start_time": "2022-03-20T08:34:32.721Z"
   },
   {
    "duration": 388,
    "start_time": "2022-03-20T08:35:22.072Z"
   },
   {
    "duration": 171,
    "start_time": "2022-03-20T08:35:28.449Z"
   },
   {
    "duration": 160,
    "start_time": "2022-03-20T08:35:34.212Z"
   },
   {
    "duration": 101,
    "start_time": "2022-03-20T08:36:22.519Z"
   },
   {
    "duration": 168,
    "start_time": "2022-03-20T08:36:27.038Z"
   },
   {
    "duration": 166,
    "start_time": "2022-03-20T08:37:13.763Z"
   },
   {
    "duration": 255,
    "start_time": "2022-03-20T08:39:02.931Z"
   },
   {
    "duration": 205,
    "start_time": "2022-03-20T08:39:12.858Z"
   },
   {
    "duration": 201,
    "start_time": "2022-03-20T08:39:26.791Z"
   },
   {
    "duration": 224,
    "start_time": "2022-03-20T08:39:31.301Z"
   },
   {
    "duration": 234,
    "start_time": "2022-03-20T08:39:35.197Z"
   },
   {
    "duration": 4,
    "start_time": "2022-03-20T08:43:31.622Z"
   },
   {
    "duration": 5,
    "start_time": "2022-03-20T08:52:05.437Z"
   },
   {
    "duration": 4,
    "start_time": "2022-03-20T08:55:11.187Z"
   },
   {
    "duration": 215,
    "start_time": "2022-03-20T08:56:03.812Z"
   },
   {
    "duration": 5,
    "start_time": "2022-03-20T08:57:02.134Z"
   },
   {
    "duration": 367,
    "start_time": "2022-03-20T09:00:02.345Z"
   },
   {
    "duration": 224,
    "start_time": "2022-03-20T09:00:13.337Z"
   },
   {
    "duration": 223,
    "start_time": "2022-03-20T09:00:31.082Z"
   },
   {
    "duration": 9,
    "start_time": "2022-03-20T09:02:17.541Z"
   },
   {
    "duration": 4,
    "start_time": "2022-03-20T09:02:21.608Z"
   },
   {
    "duration": 5,
    "start_time": "2022-03-20T09:04:28.806Z"
   },
   {
    "duration": 1149,
    "start_time": "2022-03-20T09:04:36.726Z"
   },
   {
    "duration": 4,
    "start_time": "2022-03-20T09:04:37.877Z"
   },
   {
    "duration": 26,
    "start_time": "2022-03-20T09:04:37.883Z"
   },
   {
    "duration": 13,
    "start_time": "2022-03-20T09:04:37.911Z"
   },
   {
    "duration": 16,
    "start_time": "2022-03-20T09:04:37.926Z"
   },
   {
    "duration": 73,
    "start_time": "2022-03-20T09:04:37.944Z"
   },
   {
    "duration": 21,
    "start_time": "2022-03-20T09:04:38.019Z"
   },
   {
    "duration": 22,
    "start_time": "2022-03-20T09:04:38.042Z"
   },
   {
    "duration": 15,
    "start_time": "2022-03-20T09:04:38.066Z"
   },
   {
    "duration": 14,
    "start_time": "2022-03-20T09:04:38.084Z"
   },
   {
    "duration": 15,
    "start_time": "2022-03-20T09:04:38.100Z"
   },
   {
    "duration": 300,
    "start_time": "2022-03-20T09:04:38.117Z"
   },
   {
    "duration": 294,
    "start_time": "2022-03-20T09:04:38.418Z"
   },
   {
    "duration": 209,
    "start_time": "2022-03-20T09:04:38.714Z"
   },
   {
    "duration": 298,
    "start_time": "2022-03-20T09:04:38.925Z"
   },
   {
    "duration": 213,
    "start_time": "2022-03-20T09:04:39.237Z"
   },
   {
    "duration": 295,
    "start_time": "2022-03-20T09:04:39.451Z"
   },
   {
    "duration": 267,
    "start_time": "2022-03-20T09:04:39.748Z"
   },
   {
    "duration": 247,
    "start_time": "2022-03-20T09:04:40.017Z"
   },
   {
    "duration": 4,
    "start_time": "2022-03-20T09:04:40.266Z"
   },
   {
    "duration": 234,
    "start_time": "2022-03-20T09:04:40.272Z"
   },
   {
    "duration": 5,
    "start_time": "2022-03-20T09:04:40.507Z"
   },
   {
    "duration": 252,
    "start_time": "2022-03-20T09:04:40.513Z"
   },
   {
    "duration": 162,
    "start_time": "2022-03-20T09:04:40.766Z"
   },
   {
    "duration": 237,
    "start_time": "2022-03-20T09:05:31.473Z"
   },
   {
    "duration": 129,
    "start_time": "2022-03-20T09:05:42.238Z"
   },
   {
    "duration": 206,
    "start_time": "2022-03-20T09:35:24.059Z"
   },
   {
    "duration": 4,
    "start_time": "2022-03-20T09:35:31.395Z"
   },
   {
    "duration": 125,
    "start_time": "2022-03-20T09:37:20.557Z"
   },
   {
    "duration": 133,
    "start_time": "2022-03-20T09:37:25.794Z"
   },
   {
    "duration": 10,
    "start_time": "2022-03-20T09:52:40.740Z"
   },
   {
    "duration": 140,
    "start_time": "2022-03-20T09:53:36.271Z"
   },
   {
    "duration": 137,
    "start_time": "2022-03-20T09:55:16.938Z"
   },
   {
    "duration": 9,
    "start_time": "2022-03-20T10:01:13.772Z"
   },
   {
    "duration": 10,
    "start_time": "2022-03-20T10:04:03.967Z"
   },
   {
    "duration": 23,
    "start_time": "2022-03-20T10:11:28.826Z"
   },
   {
    "duration": 6,
    "start_time": "2022-03-20T10:11:32.146Z"
   },
   {
    "duration": 21,
    "start_time": "2022-03-20T10:11:54.728Z"
   },
   {
    "duration": 15,
    "start_time": "2022-03-20T10:18:57.028Z"
   },
   {
    "duration": 7,
    "start_time": "2022-03-20T10:37:00.968Z"
   },
   {
    "duration": 7,
    "start_time": "2022-03-20T10:37:08.272Z"
   },
   {
    "duration": 172,
    "start_time": "2022-03-20T10:38:20.918Z"
   },
   {
    "duration": 4,
    "start_time": "2022-03-20T10:40:07.687Z"
   },
   {
    "duration": 7,
    "start_time": "2022-03-20T10:40:31.523Z"
   },
   {
    "duration": 13,
    "start_time": "2022-03-20T10:53:02.151Z"
   },
   {
    "duration": 26,
    "start_time": "2022-03-20T10:59:56.629Z"
   },
   {
    "duration": 13,
    "start_time": "2022-03-20T11:22:50.910Z"
   },
   {
    "duration": 25,
    "start_time": "2022-03-20T11:26:21.714Z"
   },
   {
    "duration": 101,
    "start_time": "2022-03-20T11:27:30.328Z"
   },
   {
    "duration": 13,
    "start_time": "2022-03-20T11:29:18.518Z"
   },
   {
    "duration": 1127,
    "start_time": "2022-03-20T12:54:24.966Z"
   },
   {
    "duration": 4,
    "start_time": "2022-03-20T12:54:26.095Z"
   },
   {
    "duration": 26,
    "start_time": "2022-03-20T12:54:26.101Z"
   },
   {
    "duration": 21,
    "start_time": "2022-03-20T12:54:26.129Z"
   },
   {
    "duration": 11,
    "start_time": "2022-03-20T12:54:26.152Z"
   },
   {
    "duration": 84,
    "start_time": "2022-03-20T12:54:26.165Z"
   },
   {
    "duration": 6,
    "start_time": "2022-03-20T12:54:26.251Z"
   },
   {
    "duration": 14,
    "start_time": "2022-03-20T12:54:26.258Z"
   },
   {
    "duration": 10,
    "start_time": "2022-03-20T12:54:26.274Z"
   },
   {
    "duration": 13,
    "start_time": "2022-03-20T12:54:26.286Z"
   },
   {
    "duration": 16,
    "start_time": "2022-03-20T12:54:26.301Z"
   },
   {
    "duration": 313,
    "start_time": "2022-03-20T12:54:26.318Z"
   },
   {
    "duration": 286,
    "start_time": "2022-03-20T12:54:26.633Z"
   },
   {
    "duration": 234,
    "start_time": "2022-03-20T12:54:26.921Z"
   },
   {
    "duration": 315,
    "start_time": "2022-03-20T12:54:27.156Z"
   },
   {
    "duration": 226,
    "start_time": "2022-03-20T12:54:27.473Z"
   },
   {
    "duration": 464,
    "start_time": "2022-03-20T12:54:27.701Z"
   },
   {
    "duration": 678,
    "start_time": "2022-03-20T12:54:28.166Z"
   },
   {
    "duration": 595,
    "start_time": "2022-03-20T12:54:28.846Z"
   },
   {
    "duration": 4,
    "start_time": "2022-03-20T12:54:29.446Z"
   },
   {
    "duration": 453,
    "start_time": "2022-03-20T12:54:29.453Z"
   },
   {
    "duration": 38,
    "start_time": "2022-03-20T12:54:29.908Z"
   },
   {
    "duration": 248,
    "start_time": "2022-03-20T12:54:29.948Z"
   },
   {
    "duration": 139,
    "start_time": "2022-03-20T12:54:30.198Z"
   },
   {
    "duration": 7,
    "start_time": "2022-03-20T12:54:30.339Z"
   },
   {
    "duration": 37,
    "start_time": "2022-03-20T12:54:30.347Z"
   },
   {
    "duration": 14,
    "start_time": "2022-03-20T12:54:30.386Z"
   },
   {
    "duration": 16,
    "start_time": "2022-03-20T12:54:30.403Z"
   },
   {
    "duration": 51,
    "start_time": "2022-03-20T12:54:30.421Z"
   },
   {
    "duration": 13,
    "start_time": "2022-03-20T12:54:30.474Z"
   },
   {
    "duration": 14,
    "start_time": "2022-03-20T12:56:26.636Z"
   },
   {
    "duration": 27,
    "start_time": "2022-03-20T12:56:30.273Z"
   },
   {
    "duration": 17,
    "start_time": "2022-03-20T12:56:33.823Z"
   },
   {
    "duration": 14,
    "start_time": "2022-03-20T12:56:43.999Z"
   },
   {
    "duration": 28,
    "start_time": "2022-03-20T13:12:04.870Z"
   },
   {
    "duration": 15,
    "start_time": "2022-03-20T13:12:09.876Z"
   },
   {
    "duration": 295,
    "start_time": "2022-03-20T13:21:16.079Z"
   },
   {
    "duration": 426,
    "start_time": "2022-03-20T13:21:25.428Z"
   },
   {
    "duration": 282,
    "start_time": "2022-03-20T13:21:29.081Z"
   },
   {
    "duration": 1179,
    "start_time": "2022-03-20T13:31:27.336Z"
   },
   {
    "duration": 4,
    "start_time": "2022-03-20T13:31:28.518Z"
   },
   {
    "duration": 64,
    "start_time": "2022-03-20T13:31:28.524Z"
   },
   {
    "duration": 13,
    "start_time": "2022-03-20T13:31:28.591Z"
   },
   {
    "duration": 13,
    "start_time": "2022-03-20T13:31:28.606Z"
   },
   {
    "duration": 108,
    "start_time": "2022-03-20T13:31:28.621Z"
   },
   {
    "duration": 5,
    "start_time": "2022-03-20T13:31:28.731Z"
   },
   {
    "duration": 43,
    "start_time": "2022-03-20T13:31:28.738Z"
   },
   {
    "duration": 19,
    "start_time": "2022-03-20T13:31:28.782Z"
   },
   {
    "duration": 28,
    "start_time": "2022-03-20T13:31:28.804Z"
   },
   {
    "duration": 45,
    "start_time": "2022-03-20T13:31:28.834Z"
   },
   {
    "duration": 276,
    "start_time": "2022-03-20T13:31:28.881Z"
   },
   {
    "duration": 290,
    "start_time": "2022-03-20T13:31:29.159Z"
   },
   {
    "duration": 211,
    "start_time": "2022-03-20T13:31:29.450Z"
   },
   {
    "duration": 308,
    "start_time": "2022-03-20T13:31:29.663Z"
   },
   {
    "duration": 218,
    "start_time": "2022-03-20T13:31:29.973Z"
   },
   {
    "duration": 295,
    "start_time": "2022-03-20T13:31:30.193Z"
   },
   {
    "duration": 236,
    "start_time": "2022-03-20T13:31:30.490Z"
   },
   {
    "duration": 261,
    "start_time": "2022-03-20T13:31:30.728Z"
   },
   {
    "duration": 5,
    "start_time": "2022-03-20T13:31:30.991Z"
   },
   {
    "duration": 313,
    "start_time": "2022-03-20T13:31:30.997Z"
   },
   {
    "duration": 5,
    "start_time": "2022-03-20T13:31:31.312Z"
   },
   {
    "duration": 249,
    "start_time": "2022-03-20T13:31:31.318Z"
   },
   {
    "duration": 150,
    "start_time": "2022-03-20T13:31:31.569Z"
   },
   {
    "duration": 7,
    "start_time": "2022-03-20T13:31:31.721Z"
   },
   {
    "duration": 38,
    "start_time": "2022-03-20T13:31:31.737Z"
   },
   {
    "duration": 18,
    "start_time": "2022-03-20T13:31:31.777Z"
   },
   {
    "duration": 15,
    "start_time": "2022-03-20T13:31:31.798Z"
   },
   {
    "duration": 50,
    "start_time": "2022-03-20T13:31:31.815Z"
   },
   {
    "duration": 14,
    "start_time": "2022-03-20T13:31:31.867Z"
   },
   {
    "duration": 9,
    "start_time": "2022-03-20T13:37:39.425Z"
   },
   {
    "duration": 9,
    "start_time": "2022-03-20T14:06:37.359Z"
   },
   {
    "duration": 1153,
    "start_time": "2022-03-20T14:12:02.923Z"
   },
   {
    "duration": 4,
    "start_time": "2022-03-20T14:12:04.078Z"
   },
   {
    "duration": 26,
    "start_time": "2022-03-20T14:12:04.084Z"
   },
   {
    "duration": 13,
    "start_time": "2022-03-20T14:12:04.112Z"
   },
   {
    "duration": 14,
    "start_time": "2022-03-20T14:12:04.127Z"
   },
   {
    "duration": 73,
    "start_time": "2022-03-20T14:12:04.142Z"
   },
   {
    "duration": 5,
    "start_time": "2022-03-20T14:12:04.216Z"
   },
   {
    "duration": 11,
    "start_time": "2022-03-20T14:12:04.238Z"
   },
   {
    "duration": 12,
    "start_time": "2022-03-20T14:12:04.250Z"
   },
   {
    "duration": 13,
    "start_time": "2022-03-20T14:12:04.264Z"
   },
   {
    "duration": 21,
    "start_time": "2022-03-20T14:12:04.279Z"
   },
   {
    "duration": 292,
    "start_time": "2022-03-20T14:12:04.301Z"
   },
   {
    "duration": 289,
    "start_time": "2022-03-20T14:12:04.595Z"
   },
   {
    "duration": 207,
    "start_time": "2022-03-20T14:12:04.886Z"
   },
   {
    "duration": 282,
    "start_time": "2022-03-20T14:12:05.095Z"
   },
   {
    "duration": 209,
    "start_time": "2022-03-20T14:12:05.378Z"
   },
   {
    "duration": 268,
    "start_time": "2022-03-20T14:12:05.589Z"
   },
   {
    "duration": 238,
    "start_time": "2022-03-20T14:12:05.859Z"
   },
   {
    "duration": 232,
    "start_time": "2022-03-20T14:12:06.099Z"
   },
   {
    "duration": 4,
    "start_time": "2022-03-20T14:12:06.332Z"
   },
   {
    "duration": 226,
    "start_time": "2022-03-20T14:12:06.338Z"
   },
   {
    "duration": 4,
    "start_time": "2022-03-20T14:12:06.565Z"
   },
   {
    "duration": 302,
    "start_time": "2022-03-20T14:12:06.571Z"
   },
   {
    "duration": 276,
    "start_time": "2022-03-20T14:12:06.874Z"
   },
   {
    "duration": 5,
    "start_time": "2022-03-20T14:12:07.152Z"
   },
   {
    "duration": 22,
    "start_time": "2022-03-20T14:12:07.159Z"
   },
   {
    "duration": 69,
    "start_time": "2022-03-20T14:12:07.183Z"
   },
   {
    "duration": 10,
    "start_time": "2022-03-20T14:12:07.256Z"
   },
   {
    "duration": 11,
    "start_time": "2022-03-20T14:12:07.268Z"
   },
   {
    "duration": 81,
    "start_time": "2022-03-20T14:12:07.280Z"
   },
   {
    "duration": 13,
    "start_time": "2022-03-20T14:12:07.362Z"
   },
   {
    "duration": 1795,
    "start_time": "2022-03-21T11:33:48.862Z"
   },
   {
    "duration": 7,
    "start_time": "2022-03-21T11:35:44.387Z"
   },
   {
    "duration": 39,
    "start_time": "2022-03-21T11:35:44.925Z"
   },
   {
    "duration": 21,
    "start_time": "2022-03-21T11:35:45.711Z"
   },
   {
    "duration": 11,
    "start_time": "2022-03-21T11:35:46.371Z"
   },
   {
    "duration": 153,
    "start_time": "2022-03-21T11:35:47.376Z"
   },
   {
    "duration": 7,
    "start_time": "2022-03-21T11:35:48.387Z"
   },
   {
    "duration": 26,
    "start_time": "2022-03-21T11:35:49.168Z"
   },
   {
    "duration": 17,
    "start_time": "2022-03-21T11:35:52.316Z"
   },
   {
    "duration": 17,
    "start_time": "2022-03-21T11:36:13.911Z"
   },
   {
    "duration": 16,
    "start_time": "2022-03-21T11:36:42.026Z"
   },
   {
    "duration": 19,
    "start_time": "2022-03-21T11:36:47.602Z"
   },
   {
    "duration": 21,
    "start_time": "2022-03-21T11:36:55.707Z"
   },
   {
    "duration": 464,
    "start_time": "2022-03-21T11:36:58.435Z"
   },
   {
    "duration": 481,
    "start_time": "2022-03-21T11:36:58.918Z"
   },
   {
    "duration": 347,
    "start_time": "2022-03-21T11:36:59.832Z"
   },
   {
    "duration": 429,
    "start_time": "2022-03-21T11:37:08.152Z"
   },
   {
    "duration": 339,
    "start_time": "2022-03-21T11:37:09.584Z"
   },
   {
    "duration": 367,
    "start_time": "2022-03-21T11:37:10.567Z"
   },
   {
    "duration": 516,
    "start_time": "2022-03-21T11:37:24.714Z"
   },
   {
    "duration": 397,
    "start_time": "2022-03-21T11:37:25.795Z"
   },
   {
    "duration": 7,
    "start_time": "2022-03-21T11:37:27.348Z"
   },
   {
    "duration": 378,
    "start_time": "2022-03-21T11:37:28.502Z"
   },
   {
    "duration": 6,
    "start_time": "2022-03-21T11:41:29.419Z"
   },
   {
    "duration": 5,
    "start_time": "2022-03-21T11:41:37.551Z"
   },
   {
    "duration": 7,
    "start_time": "2022-03-21T11:41:42.445Z"
   },
   {
    "duration": 6,
    "start_time": "2022-03-21T11:45:23.372Z"
   },
   {
    "duration": 6,
    "start_time": "2022-03-21T11:45:41.736Z"
   },
   {
    "duration": 6,
    "start_time": "2022-03-21T11:45:42.839Z"
   },
   {
    "duration": 3,
    "start_time": "2022-03-21T11:48:28.871Z"
   },
   {
    "duration": 7,
    "start_time": "2022-03-21T11:48:43.792Z"
   },
   {
    "duration": 6,
    "start_time": "2022-03-21T11:48:44.576Z"
   },
   {
    "duration": 3,
    "start_time": "2022-03-21T11:48:47.540Z"
   },
   {
    "duration": 414,
    "start_time": "2022-03-21T11:48:50.333Z"
   },
   {
    "duration": 3,
    "start_time": "2022-03-21T11:50:49.449Z"
   },
   {
    "duration": 388,
    "start_time": "2022-03-21T11:50:50.639Z"
   },
   {
    "duration": 7,
    "start_time": "2022-03-21T11:50:56.120Z"
   },
   {
    "duration": 3,
    "start_time": "2022-03-21T11:51:03.816Z"
   },
   {
    "duration": 462,
    "start_time": "2022-03-21T11:51:10.869Z"
   },
   {
    "duration": 273,
    "start_time": "2022-03-21T11:51:11.586Z"
   },
   {
    "duration": 9,
    "start_time": "2022-03-21T11:51:12.303Z"
   },
   {
    "duration": 30,
    "start_time": "2022-03-21T11:51:16.987Z"
   },
   {
    "duration": 22,
    "start_time": "2022-03-21T11:51:18.471Z"
   },
   {
    "duration": 14,
    "start_time": "2022-03-21T11:51:19.440Z"
   },
   {
    "duration": 17,
    "start_time": "2022-03-21T11:51:25.970Z"
   },
   {
    "duration": 19,
    "start_time": "2022-03-21T11:51:55.036Z"
   },
   {
    "duration": 37,
    "start_time": "2022-03-21T11:54:19.660Z"
   },
   {
    "duration": 21,
    "start_time": "2022-03-21T11:54:54.924Z"
   },
   {
    "duration": 1534,
    "start_time": "2022-03-21T11:57:45.417Z"
   },
   {
    "duration": 6,
    "start_time": "2022-03-21T11:57:46.955Z"
   },
   {
    "duration": 54,
    "start_time": "2022-03-21T11:57:46.963Z"
   },
   {
    "duration": 26,
    "start_time": "2022-03-21T11:57:47.019Z"
   },
   {
    "duration": 23,
    "start_time": "2022-03-21T11:57:47.048Z"
   },
   {
    "duration": 169,
    "start_time": "2022-03-21T11:57:47.073Z"
   },
   {
    "duration": 6,
    "start_time": "2022-03-21T11:57:47.244Z"
   },
   {
    "duration": 29,
    "start_time": "2022-03-21T11:57:47.252Z"
   },
   {
    "duration": 30,
    "start_time": "2022-03-21T11:57:47.283Z"
   },
   {
    "duration": 32,
    "start_time": "2022-03-21T11:57:47.317Z"
   },
   {
    "duration": 41,
    "start_time": "2022-03-21T11:57:47.352Z"
   },
   {
    "duration": 485,
    "start_time": "2022-03-21T11:57:47.395Z"
   },
   {
    "duration": 511,
    "start_time": "2022-03-21T11:57:47.883Z"
   },
   {
    "duration": 359,
    "start_time": "2022-03-21T11:57:48.396Z"
   },
   {
    "duration": 415,
    "start_time": "2022-03-21T11:57:48.757Z"
   },
   {
    "duration": 369,
    "start_time": "2022-03-21T11:57:49.174Z"
   },
   {
    "duration": 428,
    "start_time": "2022-03-21T11:57:49.545Z"
   },
   {
    "duration": 577,
    "start_time": "2022-03-21T11:57:49.975Z"
   },
   {
    "duration": 399,
    "start_time": "2022-03-21T11:57:50.555Z"
   },
   {
    "duration": 6,
    "start_time": "2022-03-21T11:57:50.956Z"
   },
   {
    "duration": 10,
    "start_time": "2022-03-21T11:57:50.964Z"
   },
   {
    "duration": 411,
    "start_time": "2022-03-21T11:57:50.976Z"
   },
   {
    "duration": 7,
    "start_time": "2022-03-21T11:57:51.390Z"
   },
   {
    "duration": 15,
    "start_time": "2022-03-21T11:57:51.400Z"
   },
   {
    "duration": 26,
    "start_time": "2022-03-21T11:57:51.417Z"
   },
   {
    "duration": 442,
    "start_time": "2022-03-21T11:57:51.446Z"
   },
   {
    "duration": 279,
    "start_time": "2022-03-21T11:57:51.891Z"
   },
   {
    "duration": 9,
    "start_time": "2022-03-21T11:57:52.175Z"
   },
   {
    "duration": 56,
    "start_time": "2022-03-21T11:57:52.187Z"
   },
   {
    "duration": 20,
    "start_time": "2022-03-21T11:57:52.246Z"
   },
   {
    "duration": 11,
    "start_time": "2022-03-21T11:57:52.268Z"
   },
   {
    "duration": 19,
    "start_time": "2022-03-21T11:57:52.281Z"
   },
   {
    "duration": 69,
    "start_time": "2022-03-21T11:57:52.302Z"
   },
   {
    "duration": 19,
    "start_time": "2022-03-21T11:57:52.373Z"
   },
   {
    "duration": 1640,
    "start_time": "2022-05-18T07:25:53.582Z"
   },
   {
    "duration": 11,
    "start_time": "2022-05-18T07:25:55.225Z"
   },
   {
    "duration": 51,
    "start_time": "2022-05-18T07:25:55.238Z"
   },
   {
    "duration": 14,
    "start_time": "2022-05-18T07:25:55.292Z"
   },
   {
    "duration": 27,
    "start_time": "2022-05-18T07:25:55.308Z"
   },
   {
    "duration": 131,
    "start_time": "2022-05-18T07:25:55.337Z"
   },
   {
    "duration": 6,
    "start_time": "2022-05-18T07:25:55.470Z"
   },
   {
    "duration": 21,
    "start_time": "2022-05-18T07:25:55.477Z"
   },
   {
    "duration": 30,
    "start_time": "2022-05-18T07:25:55.501Z"
   },
   {
    "duration": 43,
    "start_time": "2022-05-18T07:25:55.533Z"
   },
   {
    "duration": 33,
    "start_time": "2022-05-18T07:25:55.577Z"
   },
   {
    "duration": 376,
    "start_time": "2022-05-18T07:25:55.612Z"
   },
   {
    "duration": 417,
    "start_time": "2022-05-18T07:25:55.990Z"
   },
   {
    "duration": 364,
    "start_time": "2022-05-18T07:25:56.410Z"
   },
   {
    "duration": 322,
    "start_time": "2022-05-18T07:25:56.776Z"
   },
   {
    "duration": 276,
    "start_time": "2022-05-18T07:25:57.100Z"
   },
   {
    "duration": 311,
    "start_time": "2022-05-18T07:25:57.378Z"
   },
   {
    "duration": 303,
    "start_time": "2022-05-18T07:25:57.690Z"
   },
   {
    "duration": 288,
    "start_time": "2022-05-18T07:25:57.994Z"
   },
   {
    "duration": 5,
    "start_time": "2022-05-18T07:25:58.283Z"
   },
   {
    "duration": 8,
    "start_time": "2022-05-18T07:25:58.289Z"
   },
   {
    "duration": 286,
    "start_time": "2022-05-18T07:25:58.298Z"
   },
   {
    "duration": 4,
    "start_time": "2022-05-18T07:25:58.586Z"
   },
   {
    "duration": 6,
    "start_time": "2022-05-18T07:25:58.592Z"
   },
   {
    "duration": 5,
    "start_time": "2022-05-18T07:25:58.599Z"
   },
   {
    "duration": 282,
    "start_time": "2022-05-18T07:25:58.606Z"
   },
   {
    "duration": 153,
    "start_time": "2022-05-18T07:25:58.889Z"
   },
   {
    "duration": 9,
    "start_time": "2022-05-18T07:25:59.044Z"
   },
   {
    "duration": 38,
    "start_time": "2022-05-18T07:25:59.055Z"
   },
   {
    "duration": 38,
    "start_time": "2022-05-18T07:25:59.095Z"
   },
   {
    "duration": 14,
    "start_time": "2022-05-18T07:25:59.135Z"
   },
   {
    "duration": 27,
    "start_time": "2022-05-18T07:25:59.151Z"
   },
   {
    "duration": 69,
    "start_time": "2022-05-18T07:25:59.180Z"
   },
   {
    "duration": 13,
    "start_time": "2022-05-18T07:25:59.252Z"
   },
   {
    "duration": 1303,
    "start_time": "2022-05-18T08:03:54.986Z"
   },
   {
    "duration": 4,
    "start_time": "2022-05-18T08:03:56.291Z"
   },
   {
    "duration": 38,
    "start_time": "2022-05-18T08:03:56.297Z"
   },
   {
    "duration": 46,
    "start_time": "2022-05-18T08:03:56.339Z"
   },
   {
    "duration": 25,
    "start_time": "2022-05-18T08:03:56.387Z"
   },
   {
    "duration": 96,
    "start_time": "2022-05-18T08:03:56.414Z"
   },
   {
    "duration": 4,
    "start_time": "2022-05-18T08:03:56.512Z"
   },
   {
    "duration": 17,
    "start_time": "2022-05-18T08:03:56.530Z"
   },
   {
    "duration": 33,
    "start_time": "2022-05-18T08:03:56.549Z"
   },
   {
    "duration": 16,
    "start_time": "2022-05-18T08:03:56.584Z"
   },
   {
    "duration": 15,
    "start_time": "2022-05-18T08:03:56.602Z"
   },
   {
    "duration": 329,
    "start_time": "2022-05-18T08:03:56.618Z"
   },
   {
    "duration": 396,
    "start_time": "2022-05-18T08:03:56.948Z"
   },
   {
    "duration": 348,
    "start_time": "2022-05-18T08:03:57.347Z"
   },
   {
    "duration": 354,
    "start_time": "2022-05-18T08:03:57.697Z"
   },
   {
    "duration": 245,
    "start_time": "2022-05-18T08:03:58.056Z"
   },
   {
    "duration": 368,
    "start_time": "2022-05-18T08:03:58.303Z"
   },
   {
    "duration": 318,
    "start_time": "2022-05-18T08:03:58.673Z"
   },
   {
    "duration": 313,
    "start_time": "2022-05-18T08:03:58.993Z"
   },
   {
    "duration": 6,
    "start_time": "2022-05-18T08:03:59.307Z"
   },
   {
    "duration": 17,
    "start_time": "2022-05-18T08:03:59.314Z"
   },
   {
    "duration": 320,
    "start_time": "2022-05-18T08:03:59.333Z"
   },
   {
    "duration": 6,
    "start_time": "2022-05-18T08:03:59.655Z"
   },
   {
    "duration": 12,
    "start_time": "2022-05-18T08:03:59.663Z"
   },
   {
    "duration": 4,
    "start_time": "2022-05-18T08:03:59.677Z"
   },
   {
    "duration": 275,
    "start_time": "2022-05-18T08:03:59.682Z"
   },
   {
    "duration": 150,
    "start_time": "2022-05-18T08:03:59.959Z"
   },
   {
    "duration": 5,
    "start_time": "2022-05-18T08:04:00.111Z"
   },
   {
    "duration": 71,
    "start_time": "2022-05-18T08:04:00.118Z"
   },
   {
    "duration": 16,
    "start_time": "2022-05-18T08:04:00.191Z"
   },
   {
    "duration": 15,
    "start_time": "2022-05-18T08:04:00.209Z"
   },
   {
    "duration": 108,
    "start_time": "2022-05-18T08:04:00.229Z"
   },
   {
    "duration": 71,
    "start_time": "2022-05-18T08:04:00.339Z"
   },
   {
    "duration": 30,
    "start_time": "2022-05-18T08:04:00.412Z"
   }
  ],
  "kernelspec": {
   "display_name": "Python 3 (ipykernel)",
   "language": "python",
   "name": "python3"
  },
  "language_info": {
   "codemirror_mode": {
    "name": "ipython",
    "version": 3
   },
   "file_extension": ".py",
   "mimetype": "text/x-python",
   "name": "python",
   "nbconvert_exporter": "python",
   "pygments_lexer": "ipython3",
   "version": "3.9.12"
  },
  "toc": {
   "base_numbering": 1,
   "nav_menu": {},
   "number_sections": true,
   "sideBar": true,
   "skip_h1_title": true,
   "title_cell": "Содержание",
   "title_sidebar": "Содержание",
   "toc_cell": true,
   "toc_position": {
    "height": "calc(100% - 180px)",
    "left": "10px",
    "top": "150px",
    "width": "244.156px"
   },
   "toc_section_display": true,
   "toc_window_display": true
  }
 },
 "nbformat": 4,
 "nbformat_minor": 2
}
