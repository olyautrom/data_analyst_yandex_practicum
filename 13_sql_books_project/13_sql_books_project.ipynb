{
 "cells": [
  {
   "cell_type": "markdown",
   "id": "f01cb27b",
   "metadata": {
    "toc": true
   },
   "source": [
    "<h1>Содержание<span class=\"tocSkip\"></span></h1>\n",
    "<div class=\"toc\"><ul class=\"toc-item\"><li><span><a href=\"#Загрузка-и-изучение-данных\" data-toc-modified-id=\"Загрузка-и-изучение-данных-1\"><span class=\"toc-item-num\">1&nbsp;&nbsp;</span>Загрузка и изучение данных</a></span></li><li><span><a href=\"#Запрос-1.-Число-книг,-вышедших-после-1-января-2000-год\" data-toc-modified-id=\"Запрос-1.-Число-книг,-вышедших-после-1-января-2000-год-2\"><span class=\"toc-item-num\">2&nbsp;&nbsp;</span>Запрос 1. Число книг, вышедших после 1 января 2000 год</a></span></li><li><span><a href=\"#Запрос-2.-Количество-обзоров-и-средняя-оценка-для-каждой-книги\" data-toc-modified-id=\"Запрос-2.-Количество-обзоров-и-средняя-оценка-для-каждой-книги-3\"><span class=\"toc-item-num\">3&nbsp;&nbsp;</span>Запрос 2. Количество обзоров и средняя оценка для каждой книги</a></span></li><li><span><a href=\"#Запрос-3.-Издательство-с-наибольшим-числом-книг\" data-toc-modified-id=\"Запрос-3.-Издательство-с-наибольшим-числом-книг-4\"><span class=\"toc-item-num\">4&nbsp;&nbsp;</span>Запрос 3. Издательство с наибольшим числом книг</a></span></li><li><span><a href=\"#Запрос-4.-Автор-с-самой-высокой-средней-оценкой-книг,-у-которых-от-50-оценок\" data-toc-modified-id=\"Запрос-4.-Автор-с-самой-высокой-средней-оценкой-книг,-у-которых-от-50-оценок-5\"><span class=\"toc-item-num\">5&nbsp;&nbsp;</span>Запрос 4. Автор с самой высокой средней оценкой книг, у которых от 50 оценок</a></span></li><li><span><a href=\"#Запрос-5.-Среднее-количество-обзоров-от-пользователей,-которые-поставили-больше-50-оценок\" data-toc-modified-id=\"Запрос-5.-Среднее-количество-обзоров-от-пользователей,-которые-поставили-больше-50-оценок-6\"><span class=\"toc-item-num\">6&nbsp;&nbsp;</span>Запрос 5. Среднее количество обзоров от пользователей, которые поставили больше 50 оценок</a></span></li><li><span><a href=\"#Выводы-по-заданиям\" data-toc-modified-id=\"Выводы-по-заданиям-7\"><span class=\"toc-item-num\">7&nbsp;&nbsp;</span>Выводы по заданиям</a></span></li></ul></div>"
   ]
  },
  {
   "cell_type": "markdown",
   "id": "1a253de4",
   "metadata": {},
   "source": [
    "# SQL \n",
    "\n",
    "Коронавирус застал мир врасплох, изменив привычный порядок вещей. В свободное время жители городов больше не выходят на улицу, не посещают кафе и торговые центры. Зато стало больше времени для книг. Это заметили стартаперы — и бросились создавать приложения для тех, кто любит читать.\n",
    "\n",
    "Компания решила быть на волне и купила крупный сервис для чтения книг по подписке. Первая задача как аналитика — проанализировать базу данных. В ней — информация о книгах, издательствах, авторах, а также пользовательские обзоры книг. Эти данные помогут сформулировать ценностное предложение для нового продукта.\n",
    "\n",
    "**Описание данных:**\n",
    "\n",
    "Таблица `books` содержит данные о книгах:\n",
    "\n",
    "- `book_id` — идентификатор книги;\n",
    "- `author_id` — идентификатор автора;\n",
    "- `title` — название книги;\n",
    "- `num_pages` — количество страниц;\n",
    "- `publication_date` — дата публикации книги;\n",
    "- `publisher_id` — идентификатор издателя.\n",
    "\n",
    "Таблица `authors` содержит данные об авторах:\n",
    "\n",
    "- `author_id` — идентификатор автора;\n",
    "- `author` — имя автора.\n",
    "\n",
    "Таблица `publishers` содержит данные об издательствах:\n",
    "\n",
    "- `publisher_id` — идентификатор издательства;\n",
    "- `publisher` — название издательства;\n",
    "\n",
    "Таблица `ratings` содержит данные о пользовательских оценках книг:\n",
    "\n",
    "- `rating_id` — идентификатор оценки;\n",
    "- `book_id` — идентификатор книги;\n",
    "- `username` — имя пользователя, оставившего оценку;\n",
    "- `rating` — оценка книги.\n",
    "\n",
    "Таблица `reviews` содержит данные о пользовательских обзорах на книги:\n",
    "\n",
    "- `review_id` — идентификатор обзора;\n",
    "- `book_id` — идентификатор книги;\n",
    "- `username` — имя пользователя, написавшего обзор;\n",
    "- `text` — текст обзора."
   ]
  },
  {
   "cell_type": "markdown",
   "id": "09cf0126",
   "metadata": {},
   "source": [
    "**Схема базы данных:**\n",
    "\n",
    "![title](Untitled_(33).png)"
   ]
  },
  {
   "cell_type": "markdown",
   "id": "c9f42f5a",
   "metadata": {},
   "source": [
    "**Задания:**\n",
    "- Посчитать, сколько книг вышло после 1 января 2000 года;\n",
    "- Для каждой книги посчитать количество обзоров и среднюю оценку;\n",
    "- Определить издательство, которое выпустило наибольшее число книг толще 50 страниц — так мы исключим из анализа брошюры;\n",
    "- Определить автора с самой высокой средней оценкой книг — учитывать только книги с 50 и более оценками;\n",
    "- Посчитать среднее количество обзоров от пользователей, которые поставили больше 50 оценок."
   ]
  },
  {
   "cell_type": "markdown",
   "id": "b11de88a",
   "metadata": {},
   "source": [
    "## Загрузка и изучение данных\n",
    "\n",
    "Импортируем нужные для проекта библиотеки, установим параметры для подключения к БД, сохраним коннектор `engine`."
   ]
  },
  {
   "cell_type": "code",
   "execution_count": 1,
   "id": "d63cdf43",
   "metadata": {},
   "outputs": [],
   "source": [
    "# импортируем библиотеки\n",
    "import pandas as pd\n",
    "import matplotlib.pyplot as plt\n",
    "import seaborn as sns\n",
    "from sqlalchemy import create_engine\n",
    "\n",
    "# устанавливаем параметры\n",
    "db_config = {'user': '', # имя пользователя\n",
    "'pwd': '', # пароль\n",
    "'host': '',\n",
    "'port': , # порт подключения\n",
    "'db': ''} # название базы данных\n",
    "connection_string = 'postgresql://{}:{}@{}:{}/{}'.format(db_config['user'],\n",
    " db_config['pwd'],\n",
    " db_config['host'],\n",
    " db_config['port'],\n",
    " db_config['db'])\n",
    "# сохраняем коннектор\n",
    "engine = create_engine(connection_string, connect_args={'sslmode':'require'})"
   ]
  },
  {
   "cell_type": "markdown",
   "id": "a8d5e268",
   "metadata": {},
   "source": [
    "В базе данных есть следующие таблицы:\n",
    "* `books` - данные о книгах\n",
    "* `authors` - данные об авторах\n",
    "* `publishers` - данные об издательствах\n",
    "* `ratings` - данные о пользовательских оценках книг\n",
    "* `reviews` - данные о пользовательских обзорах на книги\n",
    "\n",
    "Для ознакомления с данными выведем первые 5 строк таблиц и информацию о них. SQL-запросы используем через метод `pd.io.sql.read_sql`."
   ]
  },
  {
   "cell_type": "code",
   "execution_count": 2,
   "id": "9c7987d6",
   "metadata": {
    "scrolled": false
   },
   "outputs": [
    {
     "data": {
      "text/html": [
       "<div>\n",
       "<style scoped>\n",
       "    .dataframe tbody tr th:only-of-type {\n",
       "        vertical-align: middle;\n",
       "    }\n",
       "\n",
       "    .dataframe tbody tr th {\n",
       "        vertical-align: top;\n",
       "    }\n",
       "\n",
       "    .dataframe thead th {\n",
       "        text-align: right;\n",
       "    }\n",
       "</style>\n",
       "<table border=\"1\" class=\"dataframe\">\n",
       "  <thead>\n",
       "    <tr style=\"text-align: right;\">\n",
       "      <th></th>\n",
       "      <th>book_id</th>\n",
       "      <th>author_id</th>\n",
       "      <th>title</th>\n",
       "      <th>num_pages</th>\n",
       "      <th>publication_date</th>\n",
       "      <th>publisher_id</th>\n",
       "    </tr>\n",
       "  </thead>\n",
       "  <tbody>\n",
       "    <tr>\n",
       "      <th>0</th>\n",
       "      <td>1</td>\n",
       "      <td>546</td>\n",
       "      <td>'Salem's Lot</td>\n",
       "      <td>594</td>\n",
       "      <td>2005-11-01</td>\n",
       "      <td>93</td>\n",
       "    </tr>\n",
       "    <tr>\n",
       "      <th>1</th>\n",
       "      <td>2</td>\n",
       "      <td>465</td>\n",
       "      <td>1 000 Places to See Before You Die</td>\n",
       "      <td>992</td>\n",
       "      <td>2003-05-22</td>\n",
       "      <td>336</td>\n",
       "    </tr>\n",
       "    <tr>\n",
       "      <th>2</th>\n",
       "      <td>3</td>\n",
       "      <td>407</td>\n",
       "      <td>13 Little Blue Envelopes (Little Blue Envelope...</td>\n",
       "      <td>322</td>\n",
       "      <td>2010-12-21</td>\n",
       "      <td>135</td>\n",
       "    </tr>\n",
       "    <tr>\n",
       "      <th>3</th>\n",
       "      <td>4</td>\n",
       "      <td>82</td>\n",
       "      <td>1491: New Revelations of the Americas Before C...</td>\n",
       "      <td>541</td>\n",
       "      <td>2006-10-10</td>\n",
       "      <td>309</td>\n",
       "    </tr>\n",
       "    <tr>\n",
       "      <th>4</th>\n",
       "      <td>5</td>\n",
       "      <td>125</td>\n",
       "      <td>1776</td>\n",
       "      <td>386</td>\n",
       "      <td>2006-07-04</td>\n",
       "      <td>268</td>\n",
       "    </tr>\n",
       "  </tbody>\n",
       "</table>\n",
       "</div>"
      ],
      "text/plain": [
       "   book_id  author_id                                              title  \\\n",
       "0        1        546                                       'Salem's Lot   \n",
       "1        2        465                 1 000 Places to See Before You Die   \n",
       "2        3        407  13 Little Blue Envelopes (Little Blue Envelope...   \n",
       "3        4         82  1491: New Revelations of the Americas Before C...   \n",
       "4        5        125                                               1776   \n",
       "\n",
       "   num_pages publication_date  publisher_id  \n",
       "0        594       2005-11-01            93  \n",
       "1        992       2003-05-22           336  \n",
       "2        322       2010-12-21           135  \n",
       "3        541       2006-10-10           309  \n",
       "4        386       2006-07-04           268  "
      ]
     },
     "metadata": {},
     "output_type": "display_data"
    },
    {
     "name": "stdout",
     "output_type": "stream",
     "text": [
      "<class 'pandas.core.frame.DataFrame'>\n",
      "RangeIndex: 1000 entries, 0 to 999\n",
      "Data columns (total 6 columns):\n",
      " #   Column            Non-Null Count  Dtype \n",
      "---  ------            --------------  ----- \n",
      " 0   book_id           1000 non-null   int64 \n",
      " 1   author_id         1000 non-null   int64 \n",
      " 2   title             1000 non-null   object\n",
      " 3   num_pages         1000 non-null   int64 \n",
      " 4   publication_date  1000 non-null   object\n",
      " 5   publisher_id      1000 non-null   int64 \n",
      "dtypes: int64(4), object(2)\n",
      "memory usage: 47.0+ KB\n"
     ]
    },
    {
     "data": {
      "text/html": [
       "<div>\n",
       "<style scoped>\n",
       "    .dataframe tbody tr th:only-of-type {\n",
       "        vertical-align: middle;\n",
       "    }\n",
       "\n",
       "    .dataframe tbody tr th {\n",
       "        vertical-align: top;\n",
       "    }\n",
       "\n",
       "    .dataframe thead th {\n",
       "        text-align: right;\n",
       "    }\n",
       "</style>\n",
       "<table border=\"1\" class=\"dataframe\">\n",
       "  <thead>\n",
       "    <tr style=\"text-align: right;\">\n",
       "      <th></th>\n",
       "      <th>author_id</th>\n",
       "      <th>author</th>\n",
       "    </tr>\n",
       "  </thead>\n",
       "  <tbody>\n",
       "    <tr>\n",
       "      <th>0</th>\n",
       "      <td>1</td>\n",
       "      <td>A.S. Byatt</td>\n",
       "    </tr>\n",
       "    <tr>\n",
       "      <th>1</th>\n",
       "      <td>2</td>\n",
       "      <td>Aesop/Laura Harris/Laura Gibbs</td>\n",
       "    </tr>\n",
       "    <tr>\n",
       "      <th>2</th>\n",
       "      <td>3</td>\n",
       "      <td>Agatha Christie</td>\n",
       "    </tr>\n",
       "    <tr>\n",
       "      <th>3</th>\n",
       "      <td>4</td>\n",
       "      <td>Alan Brennert</td>\n",
       "    </tr>\n",
       "    <tr>\n",
       "      <th>4</th>\n",
       "      <td>5</td>\n",
       "      <td>Alan Moore/David   Lloyd</td>\n",
       "    </tr>\n",
       "  </tbody>\n",
       "</table>\n",
       "</div>"
      ],
      "text/plain": [
       "   author_id                          author\n",
       "0          1                      A.S. Byatt\n",
       "1          2  Aesop/Laura Harris/Laura Gibbs\n",
       "2          3                 Agatha Christie\n",
       "3          4                   Alan Brennert\n",
       "4          5        Alan Moore/David   Lloyd"
      ]
     },
     "metadata": {},
     "output_type": "display_data"
    },
    {
     "name": "stdout",
     "output_type": "stream",
     "text": [
      "<class 'pandas.core.frame.DataFrame'>\n",
      "RangeIndex: 636 entries, 0 to 635\n",
      "Data columns (total 2 columns):\n",
      " #   Column     Non-Null Count  Dtype \n",
      "---  ------     --------------  ----- \n",
      " 0   author_id  636 non-null    int64 \n",
      " 1   author     636 non-null    object\n",
      "dtypes: int64(1), object(1)\n",
      "memory usage: 10.1+ KB\n"
     ]
    },
    {
     "data": {
      "text/html": [
       "<div>\n",
       "<style scoped>\n",
       "    .dataframe tbody tr th:only-of-type {\n",
       "        vertical-align: middle;\n",
       "    }\n",
       "\n",
       "    .dataframe tbody tr th {\n",
       "        vertical-align: top;\n",
       "    }\n",
       "\n",
       "    .dataframe thead th {\n",
       "        text-align: right;\n",
       "    }\n",
       "</style>\n",
       "<table border=\"1\" class=\"dataframe\">\n",
       "  <thead>\n",
       "    <tr style=\"text-align: right;\">\n",
       "      <th></th>\n",
       "      <th>publisher_id</th>\n",
       "      <th>publisher</th>\n",
       "    </tr>\n",
       "  </thead>\n",
       "  <tbody>\n",
       "    <tr>\n",
       "      <th>0</th>\n",
       "      <td>1</td>\n",
       "      <td>Ace</td>\n",
       "    </tr>\n",
       "    <tr>\n",
       "      <th>1</th>\n",
       "      <td>2</td>\n",
       "      <td>Ace Book</td>\n",
       "    </tr>\n",
       "    <tr>\n",
       "      <th>2</th>\n",
       "      <td>3</td>\n",
       "      <td>Ace Books</td>\n",
       "    </tr>\n",
       "    <tr>\n",
       "      <th>3</th>\n",
       "      <td>4</td>\n",
       "      <td>Ace Hardcover</td>\n",
       "    </tr>\n",
       "    <tr>\n",
       "      <th>4</th>\n",
       "      <td>5</td>\n",
       "      <td>Addison Wesley Publishing Company</td>\n",
       "    </tr>\n",
       "  </tbody>\n",
       "</table>\n",
       "</div>"
      ],
      "text/plain": [
       "   publisher_id                          publisher\n",
       "0             1                                Ace\n",
       "1             2                           Ace Book\n",
       "2             3                          Ace Books\n",
       "3             4                      Ace Hardcover\n",
       "4             5  Addison Wesley Publishing Company"
      ]
     },
     "metadata": {},
     "output_type": "display_data"
    },
    {
     "name": "stdout",
     "output_type": "stream",
     "text": [
      "<class 'pandas.core.frame.DataFrame'>\n",
      "RangeIndex: 340 entries, 0 to 339\n",
      "Data columns (total 2 columns):\n",
      " #   Column        Non-Null Count  Dtype \n",
      "---  ------        --------------  ----- \n",
      " 0   publisher_id  340 non-null    int64 \n",
      " 1   publisher     340 non-null    object\n",
      "dtypes: int64(1), object(1)\n",
      "memory usage: 5.4+ KB\n"
     ]
    },
    {
     "data": {
      "text/html": [
       "<div>\n",
       "<style scoped>\n",
       "    .dataframe tbody tr th:only-of-type {\n",
       "        vertical-align: middle;\n",
       "    }\n",
       "\n",
       "    .dataframe tbody tr th {\n",
       "        vertical-align: top;\n",
       "    }\n",
       "\n",
       "    .dataframe thead th {\n",
       "        text-align: right;\n",
       "    }\n",
       "</style>\n",
       "<table border=\"1\" class=\"dataframe\">\n",
       "  <thead>\n",
       "    <tr style=\"text-align: right;\">\n",
       "      <th></th>\n",
       "      <th>rating_id</th>\n",
       "      <th>book_id</th>\n",
       "      <th>username</th>\n",
       "      <th>rating</th>\n",
       "    </tr>\n",
       "  </thead>\n",
       "  <tbody>\n",
       "    <tr>\n",
       "      <th>0</th>\n",
       "      <td>1</td>\n",
       "      <td>1</td>\n",
       "      <td>ryanfranco</td>\n",
       "      <td>4</td>\n",
       "    </tr>\n",
       "    <tr>\n",
       "      <th>1</th>\n",
       "      <td>2</td>\n",
       "      <td>1</td>\n",
       "      <td>grantpatricia</td>\n",
       "      <td>2</td>\n",
       "    </tr>\n",
       "    <tr>\n",
       "      <th>2</th>\n",
       "      <td>3</td>\n",
       "      <td>1</td>\n",
       "      <td>brandtandrea</td>\n",
       "      <td>5</td>\n",
       "    </tr>\n",
       "    <tr>\n",
       "      <th>3</th>\n",
       "      <td>4</td>\n",
       "      <td>2</td>\n",
       "      <td>lorichen</td>\n",
       "      <td>3</td>\n",
       "    </tr>\n",
       "    <tr>\n",
       "      <th>4</th>\n",
       "      <td>5</td>\n",
       "      <td>2</td>\n",
       "      <td>mariokeller</td>\n",
       "      <td>2</td>\n",
       "    </tr>\n",
       "  </tbody>\n",
       "</table>\n",
       "</div>"
      ],
      "text/plain": [
       "   rating_id  book_id       username  rating\n",
       "0          1        1     ryanfranco       4\n",
       "1          2        1  grantpatricia       2\n",
       "2          3        1   brandtandrea       5\n",
       "3          4        2       lorichen       3\n",
       "4          5        2    mariokeller       2"
      ]
     },
     "metadata": {},
     "output_type": "display_data"
    },
    {
     "name": "stdout",
     "output_type": "stream",
     "text": [
      "<class 'pandas.core.frame.DataFrame'>\n",
      "RangeIndex: 6456 entries, 0 to 6455\n",
      "Data columns (total 4 columns):\n",
      " #   Column     Non-Null Count  Dtype \n",
      "---  ------     --------------  ----- \n",
      " 0   rating_id  6456 non-null   int64 \n",
      " 1   book_id    6456 non-null   int64 \n",
      " 2   username   6456 non-null   object\n",
      " 3   rating     6456 non-null   int64 \n",
      "dtypes: int64(3), object(1)\n",
      "memory usage: 201.9+ KB\n"
     ]
    },
    {
     "data": {
      "text/html": [
       "<div>\n",
       "<style scoped>\n",
       "    .dataframe tbody tr th:only-of-type {\n",
       "        vertical-align: middle;\n",
       "    }\n",
       "\n",
       "    .dataframe tbody tr th {\n",
       "        vertical-align: top;\n",
       "    }\n",
       "\n",
       "    .dataframe thead th {\n",
       "        text-align: right;\n",
       "    }\n",
       "</style>\n",
       "<table border=\"1\" class=\"dataframe\">\n",
       "  <thead>\n",
       "    <tr style=\"text-align: right;\">\n",
       "      <th></th>\n",
       "      <th>review_id</th>\n",
       "      <th>book_id</th>\n",
       "      <th>username</th>\n",
       "      <th>text</th>\n",
       "    </tr>\n",
       "  </thead>\n",
       "  <tbody>\n",
       "    <tr>\n",
       "      <th>0</th>\n",
       "      <td>1</td>\n",
       "      <td>1</td>\n",
       "      <td>brandtandrea</td>\n",
       "      <td>Mention society tell send professor analysis. ...</td>\n",
       "    </tr>\n",
       "    <tr>\n",
       "      <th>1</th>\n",
       "      <td>2</td>\n",
       "      <td>1</td>\n",
       "      <td>ryanfranco</td>\n",
       "      <td>Foot glass pretty audience hit themselves. Amo...</td>\n",
       "    </tr>\n",
       "    <tr>\n",
       "      <th>2</th>\n",
       "      <td>3</td>\n",
       "      <td>2</td>\n",
       "      <td>lorichen</td>\n",
       "      <td>Listen treat keep worry. Miss husband tax but ...</td>\n",
       "    </tr>\n",
       "    <tr>\n",
       "      <th>3</th>\n",
       "      <td>4</td>\n",
       "      <td>3</td>\n",
       "      <td>johnsonamanda</td>\n",
       "      <td>Finally month interesting blue could nature cu...</td>\n",
       "    </tr>\n",
       "    <tr>\n",
       "      <th>4</th>\n",
       "      <td>5</td>\n",
       "      <td>3</td>\n",
       "      <td>scotttamara</td>\n",
       "      <td>Nation purpose heavy give wait song will. List...</td>\n",
       "    </tr>\n",
       "  </tbody>\n",
       "</table>\n",
       "</div>"
      ],
      "text/plain": [
       "   review_id  book_id       username  \\\n",
       "0          1        1   brandtandrea   \n",
       "1          2        1     ryanfranco   \n",
       "2          3        2       lorichen   \n",
       "3          4        3  johnsonamanda   \n",
       "4          5        3    scotttamara   \n",
       "\n",
       "                                                text  \n",
       "0  Mention society tell send professor analysis. ...  \n",
       "1  Foot glass pretty audience hit themselves. Amo...  \n",
       "2  Listen treat keep worry. Miss husband tax but ...  \n",
       "3  Finally month interesting blue could nature cu...  \n",
       "4  Nation purpose heavy give wait song will. List...  "
      ]
     },
     "metadata": {},
     "output_type": "display_data"
    },
    {
     "name": "stdout",
     "output_type": "stream",
     "text": [
      "<class 'pandas.core.frame.DataFrame'>\n",
      "RangeIndex: 2793 entries, 0 to 2792\n",
      "Data columns (total 4 columns):\n",
      " #   Column     Non-Null Count  Dtype \n",
      "---  ------     --------------  ----- \n",
      " 0   review_id  2793 non-null   int64 \n",
      " 1   book_id    2793 non-null   int64 \n",
      " 2   username   2793 non-null   object\n",
      " 3   text       2793 non-null   object\n",
      "dtypes: int64(2), object(2)\n",
      "memory usage: 87.4+ KB\n"
     ]
    }
   ],
   "source": [
    "# запросы всего содержимого таблиц\n",
    "books = pd.io.sql.read_sql('''SELECT * FROM books''', con=engine)\n",
    "authors = pd.io.sql.read_sql('''SELECT * FROM authors''', con=engine)\n",
    "publishers = pd.io.sql.read_sql('''SELECT * FROM publishers''', con=engine)\n",
    "ratings = pd.io.sql.read_sql('''SELECT * FROM ratings''', con=engine)\n",
    "reviews = pd.io.sql.read_sql('''SELECT * FROM reviews''', con=engine)\n",
    "# вывод информации\n",
    "for data in [books, authors, publishers, ratings, reviews]:\n",
    "    display(data.head())\n",
    "    data.info()"
   ]
  },
  {
   "cell_type": "markdown",
   "id": "2f5a49db",
   "metadata": {},
   "source": [
    "В таблице `books` - данные о 1000 книг, без пропущенных значений. Есть информация о id книги, автора и издателя, названии, числе страниц, дате публикации. В таблице `authors` всего 636 автора, 2 столбца: id автора и его имя. В таблице `publishers` данные о 340 издательствах: id и название.  В `ratings` 6456 строк и 4 столбца: id оценки и книги, имя пользователя, оценка. В таблице `reviews` 2793 обзора, содержится информация о id обзора и книги, имя пользователя и текст обзора."
   ]
  },
  {
   "cell_type": "markdown",
   "id": "56989856",
   "metadata": {},
   "source": [
    "## Запрос 1. Число книг, вышедших после 1 января 2000 год\n",
    "\n",
    "Посчитаем, сколько книг вышло после 1 января 2000 года."
   ]
  },
  {
   "cell_type": "code",
   "execution_count": 3,
   "id": "90df2fb2",
   "metadata": {
    "scrolled": false
   },
   "outputs": [
    {
     "data": {
      "text/html": [
       "<div>\n",
       "<style scoped>\n",
       "    .dataframe tbody tr th:only-of-type {\n",
       "        vertical-align: middle;\n",
       "    }\n",
       "\n",
       "    .dataframe tbody tr th {\n",
       "        vertical-align: top;\n",
       "    }\n",
       "\n",
       "    .dataframe thead th {\n",
       "        text-align: right;\n",
       "    }\n",
       "</style>\n",
       "<table border=\"1\" class=\"dataframe\">\n",
       "  <thead>\n",
       "    <tr style=\"text-align: right;\">\n",
       "      <th></th>\n",
       "      <th>count</th>\n",
       "    </tr>\n",
       "  </thead>\n",
       "  <tbody>\n",
       "    <tr>\n",
       "      <th>0</th>\n",
       "      <td>821</td>\n",
       "    </tr>\n",
       "  </tbody>\n",
       "</table>\n",
       "</div>"
      ],
      "text/plain": [
       "   count\n",
       "0    821"
      ]
     },
     "metadata": {},
     "output_type": "display_data"
    }
   ],
   "source": [
    "# запрос 1\n",
    "request_1 = pd.io.sql.read_sql(\n",
    "    '''\n",
    "    SELECT COUNT(DISTINCT book_id)\n",
    "    FROM books\n",
    "    WHERE publication_date >= '2000-01-01'\n",
    "    '''\n",
    "    , con=engine)\n",
    "\n",
    "#вывод информации о таблице\n",
    "display(request_1)"
   ]
  },
  {
   "cell_type": "markdown",
   "id": "ed8a53de",
   "metadata": {},
   "source": [
    "Число книг, вышедших c 1 января 2000 года - 821, когда всего в БД их 1000. То есть больше 80% книг вышли после этой даты."
   ]
  },
  {
   "cell_type": "markdown",
   "id": "4fe5d811",
   "metadata": {},
   "source": [
    "## Запрос 2. Количество обзоров и средняя оценка для каждой книги\n",
    "\n",
    "Для каждой книги нужно посчитать количество обзоров и среднюю оценку. Для решения этой задачи присоеденим к таблице `books` таблицы `ratings и reviews` методом `LEFT JOIN` по полю `book_id`. Посчитаем среднюю оценку, количество обзоров, отсортируем полученную таблицу по убыванию оценки и выведем на экран."
   ]
  },
  {
   "cell_type": "code",
   "execution_count": 4,
   "id": "069f0fd4",
   "metadata": {
    "scrolled": false
   },
   "outputs": [
    {
     "data": {
      "text/html": [
       "<div>\n",
       "<style scoped>\n",
       "    .dataframe tbody tr th:only-of-type {\n",
       "        vertical-align: middle;\n",
       "    }\n",
       "\n",
       "    .dataframe tbody tr th {\n",
       "        vertical-align: top;\n",
       "    }\n",
       "\n",
       "    .dataframe thead th {\n",
       "        text-align: right;\n",
       "    }\n",
       "</style>\n",
       "<table border=\"1\" class=\"dataframe\">\n",
       "  <thead>\n",
       "    <tr style=\"text-align: right;\">\n",
       "      <th></th>\n",
       "      <th>book_id</th>\n",
       "      <th>title</th>\n",
       "      <th>avg_rating</th>\n",
       "      <th>count_review</th>\n",
       "    </tr>\n",
       "  </thead>\n",
       "  <tbody>\n",
       "    <tr>\n",
       "      <th>0</th>\n",
       "      <td>86</td>\n",
       "      <td>Arrows of the Queen (Heralds of Valdemar  #1)</td>\n",
       "      <td>5.00</td>\n",
       "      <td>2</td>\n",
       "    </tr>\n",
       "    <tr>\n",
       "      <th>1</th>\n",
       "      <td>901</td>\n",
       "      <td>The Walking Dead  Book One (The Walking Dead #...</td>\n",
       "      <td>5.00</td>\n",
       "      <td>2</td>\n",
       "    </tr>\n",
       "    <tr>\n",
       "      <th>2</th>\n",
       "      <td>390</td>\n",
       "      <td>Light in August</td>\n",
       "      <td>5.00</td>\n",
       "      <td>2</td>\n",
       "    </tr>\n",
       "    <tr>\n",
       "      <th>3</th>\n",
       "      <td>972</td>\n",
       "      <td>Wherever You Go  There You Are: Mindfulness Me...</td>\n",
       "      <td>5.00</td>\n",
       "      <td>2</td>\n",
       "    </tr>\n",
       "    <tr>\n",
       "      <th>4</th>\n",
       "      <td>136</td>\n",
       "      <td>Captivating: Unveiling the Mystery of a Woman'...</td>\n",
       "      <td>5.00</td>\n",
       "      <td>2</td>\n",
       "    </tr>\n",
       "    <tr>\n",
       "      <th>...</th>\n",
       "      <td>...</td>\n",
       "      <td>...</td>\n",
       "      <td>...</td>\n",
       "      <td>...</td>\n",
       "    </tr>\n",
       "    <tr>\n",
       "      <th>995</th>\n",
       "      <td>915</td>\n",
       "      <td>The World Is Flat: A Brief History of the Twen...</td>\n",
       "      <td>2.25</td>\n",
       "      <td>3</td>\n",
       "    </tr>\n",
       "    <tr>\n",
       "      <th>996</th>\n",
       "      <td>316</td>\n",
       "      <td>His Excellency: George Washington</td>\n",
       "      <td>2.00</td>\n",
       "      <td>2</td>\n",
       "    </tr>\n",
       "    <tr>\n",
       "      <th>997</th>\n",
       "      <td>202</td>\n",
       "      <td>Drowning Ruth</td>\n",
       "      <td>2.00</td>\n",
       "      <td>3</td>\n",
       "    </tr>\n",
       "    <tr>\n",
       "      <th>998</th>\n",
       "      <td>371</td>\n",
       "      <td>Junky</td>\n",
       "      <td>2.00</td>\n",
       "      <td>2</td>\n",
       "    </tr>\n",
       "    <tr>\n",
       "      <th>999</th>\n",
       "      <td>303</td>\n",
       "      <td>Harvesting the Heart</td>\n",
       "      <td>1.50</td>\n",
       "      <td>2</td>\n",
       "    </tr>\n",
       "  </tbody>\n",
       "</table>\n",
       "<p>1000 rows × 4 columns</p>\n",
       "</div>"
      ],
      "text/plain": [
       "     book_id                                              title  avg_rating  \\\n",
       "0         86      Arrows of the Queen (Heralds of Valdemar  #1)        5.00   \n",
       "1        901  The Walking Dead  Book One (The Walking Dead #...        5.00   \n",
       "2        390                                    Light in August        5.00   \n",
       "3        972  Wherever You Go  There You Are: Mindfulness Me...        5.00   \n",
       "4        136  Captivating: Unveiling the Mystery of a Woman'...        5.00   \n",
       "..       ...                                                ...         ...   \n",
       "995      915  The World Is Flat: A Brief History of the Twen...        2.25   \n",
       "996      316                  His Excellency: George Washington        2.00   \n",
       "997      202                                      Drowning Ruth        2.00   \n",
       "998      371                                              Junky        2.00   \n",
       "999      303                               Harvesting the Heart        1.50   \n",
       "\n",
       "     count_review  \n",
       "0               2  \n",
       "1               2  \n",
       "2               2  \n",
       "3               2  \n",
       "4               2  \n",
       "..            ...  \n",
       "995             3  \n",
       "996             2  \n",
       "997             3  \n",
       "998             2  \n",
       "999             2  \n",
       "\n",
       "[1000 rows x 4 columns]"
      ]
     },
     "metadata": {},
     "output_type": "display_data"
    }
   ],
   "source": [
    "# запрос 2\n",
    "request_2 = pd.io.sql.read_sql(\n",
    "    '''\n",
    "    SELECT b.book_id, b.title, AVG(r.rating) as avg_rating, COUNT(DISTINCT rv.review_id) as count_review\n",
    "    FROM books AS b\n",
    "    LEFT JOIN ratings r ON r.book_id = b.book_id\n",
    "    LEFT JOIN reviews rv ON rv.book_id = b.book_id\n",
    "    GROUP BY b.book_id\n",
    "    ORDER BY AVG(r.rating) DESC\n",
    "    '''\n",
    "    , con=engine)\n",
    "\n",
    "#вывод таблицы\n",
    "display(request_2)"
   ]
  },
  {
   "cell_type": "markdown",
   "id": "6e6dd7f7",
   "metadata": {},
   "source": [
    "Посмотрим на распредление числовых характеристик средней оценки и количества обзоров  помощью гисторамм и метода `describe()`."
   ]
  },
  {
   "cell_type": "code",
   "execution_count": 5,
   "id": "29432228",
   "metadata": {
    "scrolled": false
   },
   "outputs": [
    {
     "data": {
      "image/png": "[encoded data removed]",
      "text/plain": [
       "<Figure size 576x432 with 1 Axes>"
      ]
     },
     "metadata": {
      "needs_background": "light"
     },
     "output_type": "display_data"
    },
    {
     "name": "stdout",
     "output_type": "stream",
     "text": [
      "Распределение avg_rating:\n",
      "count    1000.000000\n",
      "mean        3.898973\n",
      "std         0.562376\n",
      "min         1.500000\n",
      "25%         3.500000\n",
      "50%         4.000000\n",
      "75%         4.333333\n",
      "max         5.000000\n",
      "Name: avg_rating, dtype: float64\n"
     ]
    },
    {
     "data": {
      "image/png": "[encoded data removed]",
      "text/plain": [
       "<Figure size 576x432 with 1 Axes>"
      ]
     },
     "metadata": {
      "needs_background": "light"
     },
     "output_type": "display_data"
    },
    {
     "name": "stdout",
     "output_type": "stream",
     "text": [
      "Распределение count_review:\n",
      "count    1000.000000\n",
      "mean        2.793000\n",
      "std         1.074852\n",
      "min         0.000000\n",
      "25%         2.000000\n",
      "50%         3.000000\n",
      "75%         3.000000\n",
      "max         7.000000\n",
      "Name: count_review, dtype: float64\n"
     ]
    }
   ],
   "source": [
    "for column in ['avg_rating', 'count_review']:\n",
    "    request_2[column].hist(figsize=(8,6), bins=20)\n",
    "    plt.title(f'Распределение {column}:')\n",
    "    plt.show()\n",
    "    print(f'Распределение {column}:')\n",
    "    print(request_2[column].describe())"
   ]
  },
  {
   "cell_type": "markdown",
   "id": "2fb6b94f",
   "metadata": {},
   "source": [
    "Число средних оценок и обзоров 1000, то есть у каждой книги есть хотя бы одна оценка и обзор. Средняя оценка 3.9, медианная - 4. Среднее число обзоров на книгу 2.8, медианное - 3, максимальное - 7."
   ]
  },
  {
   "cell_type": "markdown",
   "id": "783283bb",
   "metadata": {},
   "source": [
    "## Запрос 3. Издательство с наибольшим числом книг\n",
    "\n",
    "Определить издательство, которое выпустило наибольшее число книг толще 50 страниц — так мы исключим из анализа брошюры.\n",
    "\n",
    "Сначала сделаем запрос с группировкой по издательтвам, с количеством книг, в которых больше 50 страниц, присоеденим к нему названия издательств. Отсортируем таблицу по убыванию количества книг, введем лимит в одну строку."
   ]
  },
  {
   "cell_type": "code",
   "execution_count": 6,
   "id": "232c1f60",
   "metadata": {},
   "outputs": [
    {
     "data": {
      "text/html": [
       "<div>\n",
       "<style scoped>\n",
       "    .dataframe tbody tr th:only-of-type {\n",
       "        vertical-align: middle;\n",
       "    }\n",
       "\n",
       "    .dataframe tbody tr th {\n",
       "        vertical-align: top;\n",
       "    }\n",
       "\n",
       "    .dataframe thead th {\n",
       "        text-align: right;\n",
       "    }\n",
       "</style>\n",
       "<table border=\"1\" class=\"dataframe\">\n",
       "  <thead>\n",
       "    <tr style=\"text-align: right;\">\n",
       "      <th></th>\n",
       "      <th>publisher_id</th>\n",
       "      <th>publisher</th>\n",
       "      <th>count_books</th>\n",
       "    </tr>\n",
       "  </thead>\n",
       "  <tbody>\n",
       "    <tr>\n",
       "      <th>0</th>\n",
       "      <td>212</td>\n",
       "      <td>Penguin Books</td>\n",
       "      <td>42</td>\n",
       "    </tr>\n",
       "  </tbody>\n",
       "</table>\n",
       "</div>"
      ],
      "text/plain": [
       "   publisher_id      publisher  count_books\n",
       "0           212  Penguin Books           42"
      ]
     },
     "metadata": {},
     "output_type": "display_data"
    }
   ],
   "source": [
    "# запрос 3\n",
    "request_3 = pd.io.sql.read_sql(\n",
    "    '''\n",
    "    SELECT b.publisher_id, p.publisher, count_books\n",
    "    FROM (SELECT publisher_id, COUNT(book_id) AS count_books\n",
    "    FROM books\n",
    "    WHERE num_pages > 50\n",
    "    GROUP BY publisher_id) AS b\n",
    "    LEFT JOIN publishers AS p ON b.publisher_id = p.publisher_id\n",
    "    ORDER BY count_books DESC\n",
    "    LIMIT 1\n",
    "    '''\n",
    "    , con=engine)\n",
    "\n",
    "#вывод таблицы\n",
    "display(request_3)"
   ]
  },
  {
   "cell_type": "markdown",
   "id": "78362acd",
   "metadata": {},
   "source": [
    "Издательство \"Penguin Books\" выпустило больше всего книг толще 50 страниц - 42 книги."
   ]
  },
  {
   "cell_type": "markdown",
   "id": "62daa6e0",
   "metadata": {},
   "source": [
    "## Запрос 4. Автор с самой высокой средней оценкой книг, у которых от 50 оценок\n",
    "\n",
    "Определим автора с самой высокой средней оценкой книг, учитывать будем только книги с 50 и более оценками.\n",
    "\n",
    "Напишем запрос с расчеттом средней оценки `mean_rating` и количеством оценок, сгруппируем данные по книгам `book_id`, отберем книги с количесвом оценок больше 50. Присоеденим к результату запроса таблицы `books` и `authors`, сгруппируем данные по автору, посчитем суммарное количество оченок и среднюю оценку, отсортируем по убыванию оценки и оставим первую запись. Выведем запись с полученным автором на экран."
   ]
  },
  {
   "cell_type": "code",
   "execution_count": 7,
   "id": "c6d9dcc2",
   "metadata": {
    "scrolled": true
   },
   "outputs": [
    {
     "data": {
      "text/html": [
       "<div>\n",
       "<style scoped>\n",
       "    .dataframe tbody tr th:only-of-type {\n",
       "        vertical-align: middle;\n",
       "    }\n",
       "\n",
       "    .dataframe tbody tr th {\n",
       "        vertical-align: top;\n",
       "    }\n",
       "\n",
       "    .dataframe thead th {\n",
       "        text-align: right;\n",
       "    }\n",
       "</style>\n",
       "<table border=\"1\" class=\"dataframe\">\n",
       "  <thead>\n",
       "    <tr style=\"text-align: right;\">\n",
       "      <th></th>\n",
       "      <th>author_id</th>\n",
       "      <th>author</th>\n",
       "      <th>count_rating</th>\n",
       "      <th>mean_rating</th>\n",
       "    </tr>\n",
       "  </thead>\n",
       "  <tbody>\n",
       "    <tr>\n",
       "      <th>0</th>\n",
       "      <td>236</td>\n",
       "      <td>J.K. Rowling/Mary GrandPré</td>\n",
       "      <td>310.0</td>\n",
       "      <td>4.283844</td>\n",
       "    </tr>\n",
       "  </tbody>\n",
       "</table>\n",
       "</div>"
      ],
      "text/plain": [
       "   author_id                      author  count_rating  mean_rating\n",
       "0        236  J.K. Rowling/Mary GrandPré         310.0     4.283844"
      ]
     },
     "metadata": {},
     "output_type": "display_data"
    }
   ],
   "source": [
    "# запрос 4\n",
    "request_4 = pd.io.sql.read_sql(\n",
    "    '''\n",
    "    SELECT a.author_id, a.author, SUM(count_rating) AS count_rating, AVG(mean_rating) AS mean_rating\n",
    "    FROM (SELECT book_id, AVG(rating) AS mean_rating, COUNT(rating_id) AS count_rating\n",
    "    FROM ratings\n",
    "    GROUP BY book_id\n",
    "    HAVING COUNT(rating_id) >= 50) AS r\n",
    "    LEFT JOIN books AS b ON b.book_id = r.book_id\n",
    "    LEFT JOIN authors AS a ON a.author_id = b.author_id\n",
    "    GROUP BY a.author_id\n",
    "    ORDER BY mean_rating DESC\n",
    "    LIMIT 1\n",
    "    '''\n",
    "    , con=engine)\n",
    "\n",
    "#вывод таблицы\n",
    "display(request_4)"
   ]
  },
  {
   "cell_type": "markdown",
   "id": "b2f72abe",
   "metadata": {},
   "source": [
    "Автор с самой высокой средней оценкой книг, у которых больше 50 оценок - J.K. Rowling/Mary GrandPré. Количество оценок у всех его книг 310, средняя оценка книг автора - 4.28."
   ]
  },
  {
   "cell_type": "markdown",
   "id": "6a242b2f",
   "metadata": {},
   "source": [
    "## Запрос 5. Среднее количество обзоров от пользователей, которые поставили больше 50 оценок\n",
    "\n",
    "Посчитаем среднее количество обзоров от пользователей, которые поставили больше 50 оценок.\n",
    "\n",
    "Сначала напишем запрос на имя пользователей из таблицы `ratings`, у которых число оценок больше 50. Полученные имена передадим в качестве условия `WHERE username IN`. Посчитаем по пользователем число обзоров, передадим полученную таблицу в `FROM`, а затем по ним посчитаем среднее."
   ]
  },
  {
   "cell_type": "code",
   "execution_count": 8,
   "id": "b9e91a55",
   "metadata": {},
   "outputs": [
    {
     "data": {
      "text/html": [
       "<div>\n",
       "<style scoped>\n",
       "    .dataframe tbody tr th:only-of-type {\n",
       "        vertical-align: middle;\n",
       "    }\n",
       "\n",
       "    .dataframe tbody tr th {\n",
       "        vertical-align: top;\n",
       "    }\n",
       "\n",
       "    .dataframe thead th {\n",
       "        text-align: right;\n",
       "    }\n",
       "</style>\n",
       "<table border=\"1\" class=\"dataframe\">\n",
       "  <thead>\n",
       "    <tr style=\"text-align: right;\">\n",
       "      <th></th>\n",
       "      <th>avg</th>\n",
       "    </tr>\n",
       "  </thead>\n",
       "  <tbody>\n",
       "    <tr>\n",
       "      <th>0</th>\n",
       "      <td>24.333333</td>\n",
       "    </tr>\n",
       "  </tbody>\n",
       "</table>\n",
       "</div>"
      ],
      "text/plain": [
       "         avg\n",
       "0  24.333333"
      ]
     },
     "metadata": {},
     "output_type": "display_data"
    }
   ],
   "source": [
    "# запрос 4\n",
    "request_4 = pd.io.sql.read_sql(\n",
    "    '''\n",
    "    SELECT AVG(count_review)\n",
    "    FROM (SELECT username, COUNT(review_id) AS count_review\n",
    "    FROM reviews\n",
    "    WHERE username IN (SELECT username\n",
    "    FROM ratings\n",
    "    GROUP BY username\n",
    "    HAVING COUNT(rating_id) > 50)\n",
    "    GROUP BY username) AS r\n",
    "    '''\n",
    "    , con=engine)\n",
    "\n",
    "#вывод таблицы\n",
    "display(request_4)"
   ]
  },
  {
   "cell_type": "markdown",
   "id": "71df5039",
   "metadata": {},
   "source": [
    "Среднее количество обзоров от пользователей, которые поставили больше 50 оценок - 24. Среднее число обзоров таких пользователей как минимум в 2 раза меньше чем число оценок (от 50), но это цифра все равно достаточно большая."
   ]
  },
  {
   "cell_type": "markdown",
   "id": "83d3f3eb",
   "metadata": {},
   "source": [
    "## Выводы по заданиям\n",
    "\n",
    "1. C 1 января 2000 года вышла 821 книга;\n",
    "2. Для каждой книги посчитано количество обзоров и средняя оценка. Средняя оценка 3.9. Количество обзоров - 994, среднее число обзоров на книгу 2.8, максимальное - 7;\n",
    "3. Издательство, которое выпустило наибольшее число книг толще 50 страниц (так мы исключили из анализа брошюры) - \"Penguin Books\", 42 книги;\n",
    "4. Автор с самой высокой средней оценкой книг (учитывая только книги с 50 и более оценками) - J.K. Rowling/Mary GrandPré. Количество оценок у всех его книг 310, средняя оценка книг автора - 4.28.\n",
    "5. Среднее количество обзоров от пользователей, которые поставили больше 50 оценок - 24."
   ]
  },
  {
   "cell_type": "code",
   "execution_count": null,
   "id": "2823e367",
   "metadata": {},
   "outputs": [],
   "source": []
  }
 ],
 "metadata": {
  "ExecuteTimeLog": [
   {
    "duration": 1296,
    "start_time": "2022-06-01T06:28:49.464Z"
   },
   {
    "duration": 619,
    "start_time": "2022-06-01T06:28:50.763Z"
   },
   {
    "duration": 72,
    "start_time": "2022-06-01T06:28:51.384Z"
   },
   {
    "duration": 84,
    "start_time": "2022-06-01T06:28:51.459Z"
   },
   {
    "duration": 4,
    "start_time": "2022-06-01T06:28:51.544Z"
   },
   {
    "duration": 320,
    "start_time": "2022-06-01T06:28:51.549Z"
   },
   {
    "duration": 73,
    "start_time": "2022-06-01T06:28:51.871Z"
   },
   {
    "duration": 75,
    "start_time": "2022-06-01T06:28:51.945Z"
   },
   {
    "duration": 74,
    "start_time": "2022-06-01T06:28:52.022Z"
   },
   {
    "duration": 57,
    "start_time": "2022-06-01T20:22:35.135Z"
   },
   {
    "duration": 1525,
    "start_time": "2022-06-01T20:22:40.579Z"
   },
   {
    "duration": 643,
    "start_time": "2022-06-01T20:22:42.107Z"
   },
   {
    "duration": 71,
    "start_time": "2022-06-01T20:22:42.751Z"
   },
   {
    "duration": 82,
    "start_time": "2022-06-01T20:22:42.825Z"
   },
   {
    "duration": 4,
    "start_time": "2022-06-01T20:22:42.910Z"
   },
   {
    "duration": 342,
    "start_time": "2022-06-01T20:22:42.916Z"
   },
   {
    "duration": 81,
    "start_time": "2022-06-01T20:22:43.260Z"
   },
   {
    "duration": 75,
    "start_time": "2022-06-01T20:22:43.343Z"
   },
   {
    "duration": 72,
    "start_time": "2022-06-01T20:22:43.420Z"
   },
   {
    "duration": 103,
    "start_time": "2022-06-01T20:23:05.824Z"
   },
   {
    "duration": 102,
    "start_time": "2022-06-01T20:23:13.457Z"
   },
   {
    "duration": 73,
    "start_time": "2022-06-01T20:32:57.078Z"
   },
   {
    "duration": 74,
    "start_time": "2022-06-01T20:32:59.907Z"
   },
   {
    "duration": 1423,
    "start_time": "2022-06-02T07:41:09.294Z"
   },
   {
    "duration": 641,
    "start_time": "2022-06-02T07:41:10.719Z"
   },
   {
    "duration": 78,
    "start_time": "2022-06-02T07:41:11.363Z"
   },
   {
    "duration": 101,
    "start_time": "2022-06-02T07:41:11.443Z"
   },
   {
    "duration": 6,
    "start_time": "2022-06-02T07:41:11.546Z"
   },
   {
    "duration": 360,
    "start_time": "2022-06-02T07:41:11.561Z"
   },
   {
    "duration": 80,
    "start_time": "2022-06-02T07:41:11.923Z"
   },
   {
    "duration": 78,
    "start_time": "2022-06-02T07:41:12.005Z"
   },
   {
    "duration": 75,
    "start_time": "2022-06-02T07:41:12.084Z"
   },
   {
    "duration": 71,
    "start_time": "2022-06-02T07:41:47.769Z"
   },
   {
    "duration": 73,
    "start_time": "2022-06-02T07:41:59.965Z"
   },
   {
    "duration": 32,
    "start_time": "2022-06-02T07:43:22.388Z"
   },
   {
    "duration": 32,
    "start_time": "2022-06-02T07:43:26.251Z"
   },
   {
    "duration": 112,
    "start_time": "2022-06-02T07:51:37.104Z"
   },
   {
    "duration": 3,
    "start_time": "2022-06-02T07:51:42.399Z"
   },
   {
    "duration": 608,
    "start_time": "2022-06-02T07:51:43.662Z"
   },
   {
    "duration": 277,
    "start_time": "2022-06-02T07:51:59.145Z"
   },
   {
    "duration": 107,
    "start_time": "2022-06-02T07:55:05.741Z"
   },
   {
    "duration": 3,
    "start_time": "2022-06-02T07:55:25.321Z"
   },
   {
    "duration": 345,
    "start_time": "2022-06-02T07:55:26.323Z"
   },
   {
    "duration": 107,
    "start_time": "2022-06-02T07:55:40.582Z"
   },
   {
    "duration": 266,
    "start_time": "2022-06-02T07:55:44.402Z"
   },
   {
    "duration": 1255,
    "start_time": "2022-06-02T07:57:07.275Z"
   },
   {
    "duration": 631,
    "start_time": "2022-06-02T07:57:08.532Z"
   },
   {
    "duration": 73,
    "start_time": "2022-06-02T07:57:09.165Z"
   },
   {
    "duration": 89,
    "start_time": "2022-06-02T07:57:09.240Z"
   },
   {
    "duration": 277,
    "start_time": "2022-06-02T07:57:09.330Z"
   },
   {
    "duration": 79,
    "start_time": "2022-06-02T07:57:09.609Z"
   },
   {
    "duration": 74,
    "start_time": "2022-06-02T07:57:09.690Z"
   },
   {
    "duration": 72,
    "start_time": "2022-06-02T07:57:09.765Z"
   },
   {
    "duration": 1259,
    "start_time": "2022-06-02T07:58:05.696Z"
   },
   {
    "duration": 607,
    "start_time": "2022-06-02T07:58:06.957Z"
   },
   {
    "duration": 68,
    "start_time": "2022-06-02T07:58:07.565Z"
   },
   {
    "duration": 87,
    "start_time": "2022-06-02T07:58:07.635Z"
   },
   {
    "duration": 281,
    "start_time": "2022-06-02T07:58:07.724Z"
   },
   {
    "duration": 68,
    "start_time": "2022-06-02T07:58:08.007Z"
   },
   {
    "duration": 74,
    "start_time": "2022-06-02T07:58:08.076Z"
   },
   {
    "duration": 70,
    "start_time": "2022-06-02T07:58:08.151Z"
   },
   {
    "duration": 1171,
    "start_time": "2022-06-02T07:59:24.083Z"
   },
   {
    "duration": 623,
    "start_time": "2022-06-02T07:59:25.256Z"
   },
   {
    "duration": 71,
    "start_time": "2022-06-02T07:59:25.883Z"
   },
   {
    "duration": 87,
    "start_time": "2022-06-02T07:59:25.956Z"
   },
   {
    "duration": 327,
    "start_time": "2022-06-02T07:59:26.044Z"
   },
   {
    "duration": 72,
    "start_time": "2022-06-02T07:59:26.373Z"
   },
   {
    "duration": 75,
    "start_time": "2022-06-02T07:59:26.455Z"
   },
   {
    "duration": 74,
    "start_time": "2022-06-02T07:59:26.531Z"
   }
  ],
  "kernelspec": {
   "display_name": "Python 3 (ipykernel)",
   "language": "python",
   "name": "python3"
  },
  "language_info": {
   "codemirror_mode": {
    "name": "ipython",
    "version": 3
   },
   "file_extension": ".py",
   "mimetype": "text/x-python",
   "name": "python",
   "nbconvert_exporter": "python",
   "pygments_lexer": "ipython3",
   "version": "3.9.12"
  },
  "toc": {
   "base_numbering": 1,
   "nav_menu": {},
   "number_sections": true,
   "sideBar": true,
   "skip_h1_title": true,
   "title_cell": "Содержание",
   "title_sidebar": "Содержание",
   "toc_cell": true,
   "toc_position": {},
   "toc_section_display": true,
   "toc_window_display": false
  }
 },
 "nbformat": 4,
 "nbformat_minor": 5
}
